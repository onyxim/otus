{
 "cells": [
  {
   "cell_type": "markdown",
   "metadata": {},
   "source": [
    "# #2. Internals"
   ]
  },
  {
   "cell_type": "markdown",
   "metadata": {},
   "source": [
    "0. [Motivation](#Motivation)\n",
    "1. [Execution](#Execution)\n",
    "    1. [Compiled or interpreted](#Compiled-or-interpreted)\n",
    "    2. [.pyc](#.pyc)\n",
    "2. [CPython](#CPython)\n",
    "    1. [Source structure](#Source-structure)\n",
    "    2. [Simple program](#Simple-program)\n",
    "    3. [Object](#Object)\n",
    "    4. [Eval loop](#Eval-loop)\n",
    "    5. [Code objects](#Code-objects)\n",
    "    6. [Frames](#Frames)\n",
    "3. [Objects](#Objects)\n",
    "    1. [Integer](#Integer)\n",
    "    2. [String](#String)\n",
    "    3. [List](#List)\n",
    "    4. [Dict](#Dict)\n",
    "4. [Memory](#Memory)\n",
    "    1. [Model](#Model)\n",
    "    2. [Allocator](#Allocator)\n",
    "    3. [Garbage collector](#Garbage-collector)\n",
    "        1. [Reference counting](#Reference-counting)\n",
    "        2. [Circular references](#Circular-references)\n",
    "5. [GIL](#GIL)"
   ]
  },
  {
   "cell_type": "markdown",
   "metadata": {},
   "source": [
    "## Motivation"
   ]
  },
  {
   "cell_type": "markdown",
   "metadata": {},
   "source": [
    "__Goal__"
   ]
  },
  {
   "cell_type": "markdown",
   "metadata": {},
   "source": [
    "Получить представление о принципах работы интерпретатора языка и сделать выводы о том, как особенности его устройства будут влиять на написание и исполнение кода"
   ]
  },
  {
   "cell_type": "markdown",
   "metadata": {},
   "source": [
    "__Homework__"
   ]
  },
  {
   "cell_type": "markdown",
   "metadata": {},
   "source": [
    "* `LOAD_OTUS` opcode\n",
    "* `i++`\n",
    "* `until`"
   ]
  },
  {
   "cell_type": "markdown",
   "metadata": {},
   "source": [
    "## Execution"
   ]
  },
  {
   "cell_type": "markdown",
   "metadata": {},
   "source": [
    "#### Compiled or interpreted"
   ]
  },
  {
   "cell_type": "markdown",
   "metadata": {
    "collapsed": true
   },
   "source": [
    "* Implementation dependent\n",
    "    * CPython: default\n",
    "* CPython is interptreted\n",
    "    * \"compiles\" to bytecode\n",
    "    * interpretes bytecode\n",
    "    * CPython = compiler + VM\n",
    "* Python Virtual machine (PVM)\n",
    "    * simple stack machine\n",
    "* Machine code v.s bytecode\n",
    "    * machine code is faster\n",
    "    * bytecode is portable\n",
    "* Alternative VMs\n",
    "    * Cython, Jython, IronPython\n",
    "    * Why?\n",
    "    "
   ]
  },
  {
   "cell_type": "code",
   "execution_count": null,
   "metadata": {
    "collapsed": true
   },
   "outputs": [],
   "source": [
    "Jython 2.1b1 on java1.4.0-beta3 (JIT: null)\n",
    "Type \"copyright\", \"credits\" or \"license\" for more information.\n",
    ">>> from com.ziclix.python.sql import zxJDBC\n",
    ">>> d, u, p, v = \"jdbc:mysql://localhost/test\", None, None,\n",
    "\"org.gjt.mm.mysql.Driver\"\n",
    ">>> db = zxJDBC.connect(d, u, p, v)\n",
    " optionally\n",
    ">>> db = zxJDBC.connect(d, u, p, v, CHARSET='iso_1')\n",
    ">>>"
   ]
  },
  {
   "cell_type": "markdown",
   "metadata": {},
   "source": [
    "![bytecode](https://uploads.toptal.io/blog/image/127/toptal-blog-C.png)"
   ]
  },
  {
   "cell_type": "markdown",
   "metadata": {},
   "source": [
    "* Optimizations\n",
    "    * -O\n",
    "        * asserts\n",
    "    * -OO\n",
    "        * docstring\n",
    "    * .pyc\n",
    "        * startup speed optimization\n",
    "    * .pyo\n",
    "        * .pyc with -O"
   ]
  },
  {
   "cell_type": "markdown",
   "metadata": {},
   "source": [
    "#### .pyc"
   ]
  },
  {
   "cell_type": "markdown",
   "metadata": {},
   "source": [
    "* platform independent\n",
    "* version sensitive\n",
    "* structure\n",
    "    * magic\n",
    "    * mtime\n",
    "    * code object"
   ]
  },
  {
   "cell_type": "code",
   "execution_count": 25,
   "metadata": {},
   "outputs": [
    {
     "name": "stdout",
     "output_type": "stream",
     "text": [
      "<code object <module> at 0x1109b46b0, file \"\", line 1>\n"
     ]
    },
    {
     "data": {
      "text/plain": [
       "6"
      ]
     },
     "execution_count": 25,
     "metadata": {},
     "output_type": "execute_result"
    }
   ],
   "source": [
    "# everything is code object!\n",
    "print compile('sum([1, 2, 3])', '', 'single')\n",
    "exec compile('sum([1, 2, 3])', '', 'single')"
   ]
  },
  {
   "cell_type": "code",
   "execution_count": null,
   "metadata": {},
   "outputs": [],
   "source": [
    "# %load simple_code.py\n",
    "def f(a, b):\n",
    "    if a or b:\n",
    "        print \"Hello\", a\n",
    "\n",
    "a, b = 1, 0\n",
    "f(a, b)\n"
   ]
  },
  {
   "cell_type": "code",
   "execution_count": 2,
   "metadata": {},
   "outputs": [
    {
     "name": "stdout",
     "output_type": "stream",
     "text": [
      "magic 03f30d0a\n",
      "moddate 41e25b59 (Tue Jul  4 21:45:21 2017)\n",
      "code\n",
      "   argcount 0\n",
      "   nlocals 0\n",
      "   stacksize 2\n",
      "   flags 0040\n",
      "   code\n",
      "      6404005c02005a00005a0100650000731800650100722400640200476500\n",
      "      0047486e000064030053\n",
      "  1           0 LOAD_CONST               4 ((1, 0))\n",
      "              3 UNPACK_SEQUENCE          2\n",
      "              6 STORE_NAME               0 (a)\n",
      "              9 STORE_NAME               1 (b)\n",
      "\n",
      "  2          12 LOAD_NAME                0 (a)\n",
      "             15 POP_JUMP_IF_TRUE        24\n",
      "             18 LOAD_NAME                1 (b)\n",
      "             21 POP_JUMP_IF_FALSE       36\n",
      "\n",
      "  3     >>   24 LOAD_CONST               2 ('Hello')\n",
      "             27 PRINT_ITEM          \n",
      "             28 LOAD_NAME                0 (a)\n",
      "             31 PRINT_ITEM          \n",
      "             32 PRINT_NEWLINE       \n",
      "             33 JUMP_FORWARD             0 (to 36)\n",
      "        >>   36 LOAD_CONST               3 (None)\n",
      "             39 RETURN_VALUE        \n",
      "   consts\n",
      "      1\n",
      "      0\n",
      "      'Hello'\n",
      "      None\n",
      "      (1, 0)\n",
      "   names ('a', 'b')\n",
      "   varnames ()\n",
      "   freevars ()\n",
      "   cellvars ()\n",
      "   filename 'simple_code.py'\n",
      "   name '<module>'\n",
      "   firstlineno 1\n",
      "   lnotab 0c010c01\n"
     ]
    }
   ],
   "source": [
    "import dis, marshal, struct, sys, time, types\n",
    "\n",
    "def show_file(fname):\n",
    "    f = open(fname, \"rb\")\n",
    "    magic = f.read(4)\n",
    "    moddate = f.read(4)\n",
    "    modtime = time.asctime(time.localtime(struct.unpack('I', moddate)[0]))\n",
    "    print \"magic %s\" % (magic.encode('hex'))\n",
    "    print \"moddate %s (%s)\" % (moddate.encode('hex'), modtime)\n",
    "    code = marshal.load(f)\n",
    "    show_code(code)\n",
    "     \n",
    "def show_code(code, indent=''):\n",
    "    print \"%scode\" % indent\n",
    "    indent += '   '\n",
    "    print \"%sargcount %d\" % (indent, code.co_argcount)\n",
    "    print \"%snlocals %d\" % (indent, code.co_nlocals)\n",
    "    print \"%sstacksize %d\" % (indent, code.co_stacksize)\n",
    "    print \"%sflags %04x\" % (indent, code.co_flags)\n",
    "    show_hex(\"code\", code.co_code, indent=indent)\n",
    "    dis.disassemble(code)\n",
    "    print \"%sconsts\" % indent\n",
    "    for const in code.co_consts:\n",
    "        if type(const) == types.CodeType:\n",
    "            show_code(const, indent+'   ')\n",
    "        else:\n",
    "            print \"   %s%r\" % (indent, const)\n",
    "    print \"%snames %r\" % (indent, code.co_names)\n",
    "    print \"%svarnames %r\" % (indent, code.co_varnames)\n",
    "    print \"%sfreevars %r\" % (indent, code.co_freevars)\n",
    "    print \"%scellvars %r\" % (indent, code.co_cellvars)\n",
    "    print \"%sfilename %r\" % (indent, code.co_filename)\n",
    "    print \"%sname %r\" % (indent, code.co_name)\n",
    "    print \"%sfirstlineno %d\" % (indent, code.co_firstlineno)\n",
    "    show_hex(\"lnotab\", code.co_lnotab, indent=indent)\n",
    "     \n",
    "def show_hex(label, h, indent):\n",
    "    h = h.encode('hex')\n",
    "    if len(h) < 60:\n",
    "        print \"%s%s %s\" % (indent, label, h)\n",
    "    else:\n",
    "        print \"%s%s\" % (indent, label)\n",
    "        for i in range(0, len(h), 60):\n",
    "            print \"%s   %s\" % (indent, h[i:i+60])\n",
    "\n",
    "show_file(\"simple_code.pyc\")"
   ]
  },
  {
   "cell_type": "markdown",
   "metadata": {},
   "source": [
    "### References"
   ]
  },
  {
   "cell_type": "markdown",
   "metadata": {},
   "source": [
    "* http://pclib.github.io/safari/program/learning-python/Text/ch02s02.html\n",
    "* https://twitter.com/hynek/status/587336939239419904\n",
    "* https://www3.hhu.de/stups/downloads/pdf/BoCuFiRi09_246.pdf\n",
    "* https://hacks.mozilla.org/2017/02/a-crash-course-in-just-in-time-jit-compilers/\n",
    "* https://docs.python.org/2/reference/executionmodel.html\n",
    "* https://docs.python.org/2/library/inspect.html\n",
    "* https://nedbatchelder.com/blog/200804/the_structure_of_pyc_files.html"
   ]
  },
  {
   "cell_type": "markdown",
   "metadata": {},
   "source": [
    "### Summary"
   ]
  },
  {
   "cell_type": "markdown",
   "metadata": {},
   "source": [
    "* CPython (default implementation) is interpreted\n",
    "* There are alternative VMs\n",
    "* JIT is powerfull but not always help\n",
    "* Python does some evaluation at definition time: function, classes\n",
    "* Python optimizations are not very useful"
   ]
  },
  {
   "cell_type": "markdown",
   "metadata": {},
   "source": [
    "## CPython"
   ]
  },
  {
   "cell_type": "markdown",
   "metadata": {},
   "source": [
    "#### Source structure"
   ]
  },
  {
   "cell_type": "code",
   "execution_count": 76,
   "metadata": {},
   "outputs": [
    {
     "name": "stdout",
     "output_type": "stream",
     "text": [
      "env: SOURCE=/Users/s.stupnikov/Coding/src/python2.7.13\n"
     ]
    }
   ],
   "source": [
    "%env SOURCE /Users/s.stupnikov/Coding/src/python2.7.13"
   ]
  },
  {
   "cell_type": "code",
   "execution_count": 27,
   "metadata": {},
   "outputs": [
    {
     "data": {
      "text/plain": [
       "['aclocal.m4',\n",
       " 'config.guess',\n",
       " 'config.sub',\n",
       " 'configure',\n",
       " 'configure.ac',\n",
       " 'Doc',\n",
       " 'Grammar',\n",
       " 'Include',\n",
       " 'install-sh',\n",
       " 'Lib',\n",
       " 'LICENSE',\n",
       " 'Mac',\n",
       " 'Makefile.pre.in',\n",
       " 'Misc',\n",
       " 'Modules',\n",
       " 'Objects',\n",
       " 'Parser',\n",
       " 'PC',\n",
       " 'PCbuild',\n",
       " 'Programs',\n",
       " 'pyconfig.h.in',\n",
       " 'Python',\n",
       " 'README.rst',\n",
       " 'setup.py',\n",
       " 'Tools']"
      ]
     },
     "execution_count": 27,
     "metadata": {},
     "output_type": "execute_result"
    }
   ],
   "source": [
    "import os\n",
    "[n for n in os.listdir(\"/Users/s.stupnikov/Coding/src/python2.7.13\") if not n.startswith(\".\")]"
   ]
  },
  {
   "cell_type": "markdown",
   "metadata": {},
   "source": [
    "* Include - public interfaces (python-devel)\n",
    "* Lib - Python portion of stdlib\n",
    "* Modules - C portion of stdlib\n",
    "* Objects - tuples, lists, PyObject, etc.\n",
    "* Python - Python itself"
   ]
  },
  {
   "cell_type": "markdown",
   "metadata": {},
   "source": [
    "#### Simple program"
   ]
  },
  {
   "cell_type": "code",
   "execution_count": 71,
   "metadata": {},
   "outputs": [],
   "source": [
    "# ! - run shell command\n",
    "! python -c 'sum([1, 2, 3]) + 42'"
   ]
  },
  {
   "cell_type": "markdown",
   "metadata": {},
   "source": [
    "![exec](https://image.slidesharecdn.com/pythonandrubyvms-130419074705-phpapp01/95/python-and-ruby-vms-6-638.jpg?cb=1366628384)"
   ]
  },
  {
   "cell_type": "markdown",
   "metadata": {},
   "source": [
    "* ./Modules/python.c: main\n",
    "* ./Modules/main.c: Py_Main\n",
    "    * parse arguments\n",
    "    * see if environment variables should affect behaviour\n",
    "    * etc.\n",
    "* ./Python/pythonrun.c: Py_Initialize - assembles interpreter\n",
    "    * interpreter state\n",
    "    * thread state\n",
    "    * sys\n",
    "    * builtins\n",
    "* ./Python/pythonrun.c: PyRun_SimpleStringFlags - called with `-c`\n",
    "    * \\__main\\__\n",
    "* ./Parser/pgen.c\n",
    "    * tokenize\n",
    "    * Concrete Syntax Tree (CST) (parse tree)\n",
    "* Python/ast.c\n",
    "    * CST to Abstract Syntax Tree (AST)\n",
    "* ./Python/compile.c \n",
    "    * AST to Control Flow Graph\n",
    "    * CFG to code object \n",
    "* ./Python/pythonrun.c: run_mod, v = PyEval_EvalCode(co, globals, locals);\n",
    "    * frame object (thread state point to stack of frames)\n",
    "* ./Python/ceval.c: PyEval_EvalFrameEx.\n",
    "    * execute opcode by opcode\n",
    "* ./Python/pythonrun.c: Py_Finalize"
   ]
  },
  {
   "cell_type": "code",
   "execution_count": 4,
   "metadata": {},
   "outputs": [
    {
     "name": "stdout",
     "output_type": "stream",
     "text": [
      "[257, [267, [268, [269, [270, [327, [304, [305, [306, [307, [308, [310, [311, [312, [313, [314, [315, [316, [317, [318, [1, 'sum']], [322, [7, '('], [330, [331, [304, [305, [306, [307, [308, [310, [311, [312, [313, [314, [315, [316, [317, [318, [9, '['], [319, [304, [305, [306, [307, [308, [310, [311, [312, [313, [314, [315, [316, [317, [318, [2, '1']]]]]]]]]]]]]]], [12, ','], [304, [305, [306, [307, [308, [310, [311, [312, [313, [314, [315, [316, [317, [318, [2, '2']]]]]]]]]]]]]]], [12, ','], [304, [305, [306, [307, [308, [310, [311, [312, [313, [314, [315, [316, [317, [318, [2, '3']]]]]]]]]]]]]]]], [10, ']']]]]]]]]]]]]]]]]], [8, ')']]]]], [14, '+'], [315, [316, [317, [318, [2, '42']]]]]]]]]]]]]]]]]], [4, '']]], [4, ''], [0, '']] \n",
      "\n",
      "Expression(body=BinOp(left=Call(func=Name(id='sum', ctx=Load()), args=[List(elts=[Num(n=1), Num(n=2), Num(n=3)], ctx=Load())], keywords=[], starargs=None, kwargs=None), op=Add(), right=Num(n=42))) \n",
      "\n",
      "  1           0 LOAD_NAME                0 (sum)\n",
      "              3 LOAD_CONST               0 (1)\n",
      "              6 LOAD_CONST               1 (2)\n",
      "              9 LOAD_CONST               2 (3)\n",
      "             12 BUILD_LIST               3\n",
      "             15 CALL_FUNCTION            1\n",
      "             18 LOAD_CONST               3 (42)\n",
      "             21 BINARY_ADD          \n",
      "             22 RETURN_VALUE        \n",
      "48\n"
     ]
    }
   ],
   "source": [
    "import ast\n",
    "import dis\n",
    "import parser\n",
    "source = 'sum([1, 2, 3]) + 42'\n",
    "st = parser.suite(source)\n",
    "print  parser.st2list(st), \"\\n\"\n",
    "node = ast.parse(source, mode='eval')\n",
    "print ast.dump(node), \"\\n\"\n",
    "codeobj = compile(node, '<string>', mode='eval')\n",
    "dis.disassemble(codeobj)\n",
    "print eval(codeobj)"
   ]
  },
  {
   "cell_type": "markdown",
   "metadata": {},
   "source": [
    "* VM part of interptreter executes bytecode\n",
    "    * simple stack machine\n",
    "    * PyObject* stack - bytecode operates on objects\n",
    "        * stack frames allocated on the heap\n",
    "        * block stack\n",
    "            * store information about nested loops, try, and with statements\n",
    "    * VM knows nothing about concrete types\n",
    "    * Object know nothing about VM"
   ]
  },
  {
   "cell_type": "markdown",
   "metadata": {},
   "source": [
    "#### Object"
   ]
  },
  {
   "cell_type": "code",
   "execution_count": 150,
   "metadata": {},
   "outputs": [
    {
     "name": "stdout",
     "output_type": "stream",
     "text": [
      "typedef struct _object {\r\n",
      "    PyObject_HEAD\r\n",
      "} PyObject;\r\n"
     ]
    }
   ],
   "source": [
    "! grep -B2 \"} PyObject;\" $SOURCE/Include/object.h"
   ]
  },
  {
   "cell_type": "code",
   "execution_count": 152,
   "metadata": {},
   "outputs": [
    {
     "name": "stdout",
     "output_type": "stream",
     "text": [
      "#define PyObject_HEAD                   \\\r\n",
      "    _PyObject_HEAD_EXTRA                \\\r\n",
      "    Py_ssize_t ob_refcnt;               \\\r\n",
      "    struct _typeobject *ob_type;\r\n",
      "\r\n"
     ]
    }
   ],
   "source": [
    "! grep -A4 \"define PyObject_HEAD \" $SOURCE/Include/object.h"
   ]
  },
  {
   "cell_type": "markdown",
   "metadata": {},
   "source": [
    "* ob_refcnt\n",
    "    * reference counting, garbage collection\n",
    "    * Py_DECREF, Py_INCREF\n",
    "    * https://docs.python.org/2.7/c-api/intro.html#reference-counts\n",
    "* ob_type\n",
    "    * PyNumber_Add handles int, floats, etc\n",
    "    * https://docs.python.org/2.7/c-api/typeobj.html#type-objects"
   ]
  },
  {
   "cell_type": "code",
   "execution_count": 154,
   "metadata": {},
   "outputs": [
    {
     "name": "stdout",
     "output_type": "stream",
     "text": [
      "typedef struct _typeobject {\r\n",
      "    PyObject_VAR_HEAD\r\n",
      "    const char *tp_name; /* For printing, in format \"<module>.<name>\" */\r\n",
      "    Py_ssize_t tp_basicsize, tp_itemsize; /* For allocation */\r\n",
      "\r\n",
      "    /* Methods to implement standard operations */\r\n",
      "\r\n",
      "    destructor tp_dealloc;\r\n",
      "    printfunc tp_print;\r\n",
      "    getattrfunc tp_getattr;\r\n",
      "    setattrfunc tp_setattr;\r\n",
      "    cmpfunc tp_compare;\r\n",
      "    reprfunc tp_repr;\r\n",
      "\r\n",
      "    /* Method suites for standard classes */\r\n",
      "\r\n",
      "    PyNumberMethods *tp_as_number;\r\n",
      "    PySequenceMethods *tp_as_sequence;\r\n",
      "    PyMappingMethods *tp_as_mapping;\r\n",
      "\r\n",
      "    /* More standard operations (here for binary compatibility) */\r\n",
      "\r\n",
      "    hashfunc tp_hash;\r\n",
      "    ternaryfunc tp_call;\r\n",
      "    reprfunc tp_str;\r\n",
      "    getattrofunc tp_getattro;\r\n",
      "    setattrofunc tp_setattro;\r\n",
      "\r\n",
      "    /* Functions to access object as input/output buffer */\r\n",
      "    PyBufferProcs *tp_as_buffer;\r\n",
      "\r\n",
      "    /* Flags to define presence of optional/expanded features */\r\n",
      "    long tp_flags;\r\n",
      "\r\n",
      "    const char *tp_doc; /* Documentation string */\r\n",
      "\r\n",
      "    /* Assigned meaning in release 2.0 */\r\n",
      "    /* call function for all accessible objects */\r\n",
      "    traverseproc tp_traverse;\r\n",
      "\r\n",
      "    /* delete references to contained objects */\r\n",
      "    inquiry tp_clear;\r\n",
      "\r\n",
      "    /* Assigned meaning in release 2.1 */\r\n",
      "    /* rich comparisons */\r\n",
      "    richcmpfunc tp_richcompare;\r\n",
      "\r\n",
      "    /* weak reference enabler */\r\n",
      "    Py_ssize_t tp_weaklistoffset;\r\n",
      "\r\n",
      "    /* Added in release 2.2 */\r\n",
      "    /* Iterators */\r\n",
      "    getiterfunc tp_iter;\r\n",
      "    iternextfunc tp_iternext;\r\n",
      "\r\n",
      "    /* Attribute descriptor and subclassing stuff */\r\n",
      "    struct PyMethodDef *tp_methods;\r\n",
      "    struct PyMemberDef *tp_members;\r\n",
      "    struct PyGetSetDef *tp_getset;\r\n",
      "    struct _typeobject *tp_base;\r\n",
      "    PyObject *tp_dict;\r\n",
      "    descrgetfunc tp_descr_get;\r\n",
      "    descrsetfunc tp_descr_set;\r\n",
      "    Py_ssize_t tp_dictoffset;\r\n",
      "    initproc tp_init;\r\n",
      "    allocfunc tp_alloc;\r\n",
      "    newfunc tp_new;\r\n",
      "    freefunc tp_free; /* Low-level free-memory routine */\r\n",
      "    inquiry tp_is_gc; /* For PyObject_IS_GC */\r\n",
      "    PyObject *tp_bases;\r\n",
      "    PyObject *tp_mro; /* method resolution order */\r\n",
      "    PyObject *tp_cache;\r\n",
      "    PyObject *tp_subclasses;\r\n",
      "    PyObject *tp_weaklist;\r\n",
      "    destructor tp_del;\r\n",
      "\r\n",
      "    /* Type attribute cache version tag. Added in version 2.6 */\r\n",
      "    unsigned int tp_version_tag;\r\n",
      "\r\n",
      "#ifdef COUNT_ALLOCS\r\n",
      "    /* these must be last and never explicitly initialized */\r\n",
      "    Py_ssize_t tp_allocs;\r\n",
      "    Py_ssize_t tp_frees;\r\n",
      "    Py_ssize_t tp_maxalloc;\r\n",
      "    struct _typeobject *tp_prev;\r\n",
      "    struct _typeobject *tp_next;\r\n",
      "#endif\r\n",
      "} PyTypeObject;\r\n"
     ]
    }
   ],
   "source": [
    "! grep -B87 \"} PyTypeObject;\" $SOURCE/Include/object.h"
   ]
  },
  {
   "cell_type": "markdown",
   "metadata": {},
   "source": [
    "* new type (class) inherits slots from parent\n",
    "* type_new\n",
    "    * fixup_slot_dispatchers"
   ]
  },
  {
   "cell_type": "markdown",
   "metadata": {},
   "source": [
    "Protocols\n",
    "* Object\n",
    "* Buffer\n",
    "* Number\n",
    "* Mapping\n",
    "* Sequence"
   ]
  },
  {
   "cell_type": "markdown",
   "metadata": {},
   "source": [
    "#### Eval loop"
   ]
  },
  {
   "cell_type": "markdown",
   "metadata": {},
   "source": [
    "* PyEval_EvalFrameEx at ./Python/ceval.c\n",
    "* #define CASE_TOO_BIG"
   ]
  },
  {
   "cell_type": "markdown",
   "metadata": {},
   "source": [
    "![opcode](https://leanpub.com/site_images/insidethepythonvirtualmachine/bytcodeFormat.png)"
   ]
  },
  {
   "cell_type": "code",
   "execution_count": 158,
   "metadata": {},
   "outputs": [
    {
     "name": "stdout",
     "output_type": "stream",
     "text": [
      "        TARGET_NOARG(BINARY_ADD)\r\n",
      "        {\r\n",
      "            w = POP();\r\n",
      "            v = TOP();\r\n",
      "            if (PyInt_CheckExact(v) && PyInt_CheckExact(w)) {\r\n",
      "                /* INLINE: int + int */\r\n",
      "                register long a, b, i;\r\n",
      "                a = PyInt_AS_LONG(v);\r\n",
      "                b = PyInt_AS_LONG(w);\r\n",
      "                /* cast to avoid undefined behaviour\r\n",
      "                   on overflow */\r\n",
      "                i = (long)((unsigned long)a + b);\r\n",
      "                if ((i^a) < 0 && (i^b) < 0)\r\n",
      "                    goto slow_add;\r\n",
      "                x = PyInt_FromLong(i);\r\n",
      "            }\r\n",
      "            else if (PyString_CheckExact(v) &&\r\n",
      "                     PyString_CheckExact(w)) {\r\n",
      "                x = string_concatenate(v, w, f, next_instr);\r\n",
      "                /* string_concatenate consumed the ref to v */\r\n",
      "                goto skip_decref_vx;\r\n",
      "            }\r\n",
      "            else {\r\n",
      "              slow_add:\r\n",
      "                x = PyNumber_Add(v, w);\r\n",
      "            }\r\n",
      "            Py_DECREF(v);\r\n",
      "          skip_decref_vx:\r\n",
      "            Py_DECREF(w);\r\n",
      "            SET_TOP(x);\r\n",
      "            if (x != NULL) DISPATCH();\r\n",
      "            break;\r\n",
      "        }\r\n",
      "\r\n"
     ]
    }
   ],
   "source": [
    "! grep -A33 BINARY_ADD $SOURCE/Python/ceval.c"
   ]
  },
  {
   "cell_type": "code",
   "execution_count": null,
   "metadata": {},
   "outputs": [],
   "source": [
    "PyEval_EvalFrameEx(PyFrameObject *f, int throwflag)\n",
    "{\n",
    "    /* variable declaration and initialization stuff */\n",
    "    for (;;) {\n",
    "        /* do periodic housekeeping once in a few opcodes */\n",
    "        opcode = NEXTOP();\n",
    "        if (HAS_ARG(opcode)) oparg = NEXTARG();\n",
    "        switch (opcode) {\n",
    "            case NOP:\n",
    "                goto fast_next_opcode;\n",
    "            /* lots of more complex opcode implementations */\n",
    "            default:\n",
    "                /* become rather unhappy */\n",
    "        }\n",
    "        /* handle exceptions or runtime errors, if any */\n",
    "    }\n",
    "    /* we are finished, pop the frame stack */\n",
    "    tstate->frame = f->f_back;\n",
    "    return retval;\n",
    "}"
   ]
  },
  {
   "cell_type": "code",
   "execution_count": 159,
   "metadata": {},
   "outputs": [
    {
     "name": "stdout",
     "output_type": "stream",
     "text": [
      "PyNumber_Add(PyObject *v, PyObject *w)\r\n",
      "{\r\n",
      "    PyObject *result = binary_op1(v, w, NB_SLOT(nb_add));\r\n",
      "    if (result == Py_NotImplemented) {\r\n",
      "        PySequenceMethods *m = v->ob_type->tp_as_sequence;\r\n",
      "        Py_DECREF(result);\r\n",
      "        if (m && m->sq_concat) {\r\n",
      "            return (*m->sq_concat)(v, w);\r\n",
      "        }\r\n",
      "        result = binop_type_error(v, w, \"+\");\r\n",
      "    }\r\n",
      "    return result;\r\n",
      "}\r\n",
      "\r\n"
     ]
    }
   ],
   "source": [
    "! grep -A13 PyNumber_Add  $SOURCE/Objects/abstract.c"
   ]
  },
  {
   "cell_type": "markdown",
   "metadata": {},
   "source": [
    "* Computed-GOTOs\n",
    "    * compilers optimize “switch” statement as a single indirect branch instruction with a lookup table of addresses\n",
    "    * create an explicit jump table and place an explicit indirect jump instruction at the end of each opcode"
   ]
  },
  {
   "cell_type": "code",
   "execution_count": 160,
   "metadata": {},
   "outputs": [
    {
     "name": "stdout",
     "output_type": "stream",
     "text": [
      "static void *opcode_targets[256] = {\r\n",
      "    &&_unknown_opcode,\r\n",
      "    &&TARGET_POP_TOP,\r\n",
      "    &&TARGET_ROT_TWO,\r\n",
      "    &&TARGET_ROT_THREE,\r\n",
      "    &&TARGET_DUP_TOP,\r\n",
      "    &&TARGET_ROT_FOUR,\r\n",
      "    &&_unknown_opcode,\r\n",
      "    &&_unknown_opcode,\r\n",
      "    &&_unknown_opcode,\r\n"
     ]
    }
   ],
   "source": [
    "! head $SOURCE/Python/opcode_targets.h"
   ]
  },
  {
   "cell_type": "code",
   "execution_count": null,
   "metadata": {
    "collapsed": true
   },
   "outputs": [],
   "source": [
    "TARGET(NOP)\n",
    "    FAST_DISPATCH();"
   ]
  },
  {
   "cell_type": "code",
   "execution_count": null,
   "metadata": {
    "collapsed": true
   },
   "outputs": [],
   "source": [
    "TARGET_NOP:\n",
    "    opcode = NOP;\n",
    "    if (HAS_ARG(NOP))\n",
    "        oparg = NEXTARG();\n",
    "case NOP:\n",
    "    {\n",
    "        if (!_Py_TracingPossible) {\n",
    "            f->f_lasti = INSTR_OFFSET();\n",
    "            goto *opcode_targets[*next_instr++];\n",
    "        }\n",
    "        goto fast_next_opcode;\n",
    "    }\n"
   ]
  },
  {
   "cell_type": "markdown",
   "metadata": {},
   "source": [
    "#### Scoping"
   ]
  },
  {
   "cell_type": "markdown",
   "metadata": {},
   "source": [
    "* LOAD_NAME and STORE_NAME\n",
    "    * dictionary lookup\n",
    "* LOAD_FAST and STORE_FAST\n",
    "    * local namespace implemented with a statically sized array\n",
    "* LOAD_GLOBAL and STORE_GLOBAL\n",
    "* LOAD_DEREF and STORE_DEREF\n",
    "    * if a variable is seen to be resolved from a lexically nested function, it will not be stored and will not be accessed using the regular naming opcodes. Instead, a special object called a cell is created to store the value of the object. When various code objects (the outer function, the inner function, etc) will access this variable, the use of the *\\_DEREF opcodes will cause the cell to be accessed rather than the namespace of the accessing code object\n",
    "    * https://docs.python.org/2.7/c-api/cell.html#cell-objects"
   ]
  },
  {
   "cell_type": "code",
   "execution_count": 123,
   "metadata": {
    "collapsed": true
   },
   "outputs": [],
   "source": [
    "def LOAD_NAME(name):\n",
    "    try:\n",
    "        return current_stack_frame.locals[name]\n",
    "    except KeyError:\n",
    "        try:\n",
    "            return current_stack_frame.globals[name]\n",
    "        except KeyError:\n",
    "            try:\n",
    "                return current_stack_frame.builtins[name]\n",
    "            except KeyError:\n",
    "                raise NameError('name %r is not defined' % name)\n",
    " \n",
    "def STORE_NAME(name, value):\n",
    "    current_stack_frame.locals[name] = value"
   ]
  },
  {
   "cell_type": "code",
   "execution_count": 124,
   "metadata": {
    "scrolled": true
   },
   "outputs": [
    {
     "name": "stdout",
     "output_type": "stream",
     "text": [
      "  4           0 LOAD_CONST               1 (1)\n",
      "              3 STORE_FAST               0 (a)\n",
      "\n",
      "  5           6 LOAD_GLOBAL              0 (b)\n",
      "              9 STORE_FAST               0 (a)\n",
      "\n",
      "  6          12 LOAD_FAST                0 (a)\n",
      "             15 RETURN_VALUE        \n"
     ]
    }
   ],
   "source": [
    "import dis\n",
    "\n",
    "def func():\n",
    "    a = 1\n",
    "    a = b\n",
    "    return a\n",
    "\n",
    "dis.dis(func)"
   ]
  },
  {
   "cell_type": "code",
   "execution_count": 125,
   "metadata": {},
   "outputs": [
    {
     "name": "stdout",
     "output_type": "stream",
     "text": [
      "  7           0 LOAD_CONST               1 (42)\n",
      "              3 STORE_GLOBAL             0 (a)\n",
      "              6 LOAD_CONST               0 (None)\n",
      "              9 RETURN_VALUE        \n"
     ]
    }
   ],
   "source": [
    "import dis\n",
    "\n",
    "a = 1\n",
    "\n",
    "def func():\n",
    "    global a\n",
    "    a = 42\n",
    "\n",
    "dis.dis(func)"
   ]
  },
  {
   "cell_type": "markdown",
   "metadata": {},
   "source": [
    "#### Code objects"
   ]
  },
  {
   "cell_type": "markdown",
   "metadata": {},
   "source": [
    "Code execution in CPython is really the evaluation (interpretation) of a code object"
   ]
  },
  {
   "cell_type": "code",
   "execution_count": 118,
   "metadata": {},
   "outputs": [
    {
     "name": "stdout",
     "output_type": "stream",
     "text": [
      "<code object return42 at 0x1109b4f30, file \"<ipython-input-118-4c2b6c721258>\", line 9>\n",
      "d\u0001\u0000S\n",
      "(None, 42)\n",
      "LOAD_CONST\n",
      "1\n",
      "42\n",
      "RETURN_VALUE\n"
     ]
    }
   ],
   "source": [
    "# the opcode module has a mapping of opcode\n",
    "#  byte values to their symbolic names\n",
    "import opcode\n",
    "import struct\n",
    "unsigneg_char = struct.Struct(\"B\")\n",
    "# ord\n",
    "unpack_unsigneg_char = lambda c: unsigneg_char.unpack(c)[0]\n",
    "\n",
    "def return42(): return 42\n",
    "\n",
    "# this is the function's code object\n",
    "print return42.func_code\n",
    "\n",
    "# this is the actual bytecode\n",
    "print return42.func_code.co_code\n",
    "\n",
    "# this is the field holding constants\n",
    "print return42.func_code.co_consts\n",
    "\n",
    "# the first opcode is LOAD_CONST\n",
    "import struct\n",
    "print opcode.opname[unpack_unsigneg_char(return42.func_code.co_code[0])]\n",
    "\n",
    "# LOAD_CONST has one word as an operand\n",
    "#  let's get its value\n",
    "print unpack_unsigneg_char(return42.func_code.co_code[1]) + 256 * unpack_unsigneg_char(return42.func_code.co_code[2])\n",
    "\n",
    "# and which constant can we find in offset 1?\n",
    "print return42.func_code.co_consts[1]\n",
    "\n",
    "# finally, the next opcode\n",
    "print opcode.opname[unpack_unsigneg_char(return42.func_code.co_code[3])]\n"
   ]
  },
  {
   "cell_type": "code",
   "execution_count": 121,
   "metadata": {},
   "outputs": [
    {
     "name": "stdout",
     "output_type": "stream",
     "text": [
      "['__class__', '__cmp__', '__delattr__', '__doc__', '__eq__', '__format__', '__ge__', '__getattribute__', '__gt__', '__hash__', '__init__', '__le__', '__lt__', '__ne__', '__new__', '__reduce__', '__reduce_ex__', '__repr__', '__setattr__', '__sizeof__', '__str__', '__subclasshook__', 'co_argcount', 'co_cellvars', 'co_code', 'co_consts', 'co_filename', 'co_firstlineno', 'co_flags', 'co_freevars', 'co_lnotab', 'co_name', 'co_names', 'co_nlocals', 'co_stacksize', 'co_varnames']\n"
     ]
    }
   ],
   "source": [
    "print dir(return42.func_code)"
   ]
  },
  {
   "cell_type": "markdown",
   "metadata": {},
   "source": [
    "* co_name\n",
    "    * A name (a string) for this code object; for a function this would be the function’s name, for a class this would be the class’ name, etc. The compile builtin doesn’t let you specify this, so all code objects generated with it carry the name <module>.\n",
    "* co_filename\n",
    "    * The filename from which the code was compiled. Will be <stdin> for code entered in the interactive interpreter or whatever name is given as the second argument to compile for code objects created with compile.\n",
    "Different types of names (string tuples)\n",
    "* co_varnames\n",
    "    * A tuple containing the names of the local variables (including arguments). To parse this tuple properly you need to look at co_flags and the counter fields listed below, so you’ll know which item in the tuple is what kind of variable. In the ‘richest’ case, co_varnames contains (in order): positional argument names (including optional ones), keyword only argument names (again, both required and optional), varargs argument name (i.e., *args), kwds argument name (i.e., **kwargs), and then any other local variable names.\n",
    "* co_cellvars\n",
    "    * A tuple containing the names of local variables that are stored in cells because they are referenced by lexically nested functions.\n",
    "* co_freevars\n",
    "    * A tuple containing the names of free variables. Generally, a free variable means a variable which is referenced by an expression but isn’t defined in it. It means a variable that is referenced in this code object but was defined and will be dereferenced to a cell in another code object.\n",
    "* co_names\n",
    "\t* A tuple containing the names which aren’t covered by any of the other fields (they are not local variables, they are not free variables, etc) used by the bytecode. This includes names deemed to be in the global or builtin namespace as well as attributes (i.e., if you do foo.bar in a function, bar will be listed in its code object’s names).\n",
    "* co_firstlineno\n",
    "\t* The line offset where the code object’s source code began, relative to the module it was defined in, starting from one. In this, each input line typed in the interactive interpreter is a module of its own.\n",
    "* co_code\n",
    "\t* A string representing the sequence of bytecode instructions, contains a stream of opcodes and their operands (or rather, indexes which are used with other code object fields to represent their operands, as we saw above).\n",
    "* co_consts\n",
    "\t* A tuple containing the literals used by the bytecode.\n",
    "* co_lnotab\n",
    "\t* A string encoding the mapping from bytecode offsets to line numbers. ./Python/compile.c or ./Lib/dis.py: findlinestarts.\n",
    "* co_flags\n",
    "\t* An integer encoding a number of flags regarding the way this code object was created. The list of possible flags is listed in ./Include/code.h, as a small example: CO_NESTED, which marks a code object which was compiled from a lexically nested function. Flags also have an important role in the implementation of the \\__future\\__ mechanism."
   ]
  },
  {
   "cell_type": "markdown",
   "metadata": {},
   "source": [
    "#### Frames"
   ]
  },
  {
   "cell_type": "markdown",
   "metadata": {},
   "source": [
    "* Call stack is a stack data structure that stores information about the active subroutines of a computer program \n",
    "    * composed of stack frames\n",
    "* Stack frame corresponds to a call to a subroutine which has not yet terminated with a return"
   ]
  },
  {
   "cell_type": "code",
   "execution_count": 162,
   "metadata": {
    "scrolled": false
   },
   "outputs": [
    {
     "name": "stdout",
     "output_type": "stream",
     "text": [
      "typedef struct _frame {\r\n",
      "    PyObject_VAR_HEAD\r\n",
      "    struct _frame *f_back;\t/* previous frame, or NULL */\r\n",
      "    PyCodeObject *f_code;\t/* code segment */\r\n",
      "    PyObject *f_builtins;\t/* builtin symbol table (PyDictObject) */\r\n",
      "    PyObject *f_globals;\t/* global symbol table (PyDictObject) */\r\n",
      "    PyObject *f_locals;\t\t/* local symbol table (any mapping) */\r\n",
      "    PyObject **f_valuestack;\t/* points after the last local */\r\n",
      "    /* Next free slot in f_valuestack.  Frame creation sets to f_valuestack.\r\n",
      "       Frame evaluation usually NULLs it, but a frame that yields sets it\r\n",
      "       to the current stack top. */\r\n",
      "    PyObject **f_stacktop;\r\n",
      "    PyObject *f_trace;\t\t/* Trace function */\r\n",
      "\r\n",
      "    /* If an exception is raised in this frame, the next three are used to\r\n",
      "     * record the exception info (if any) originally in the thread state.  See\r\n",
      "     * comments before set_exc_info() -- it's not obvious.\r\n",
      "     * Invariant:  if _type is NULL, then so are _value and _traceback.\r\n",
      "     * Desired invariant:  all three are NULL, or all three are non-NULL.  That\r\n",
      "     * one isn't currently true, but \"should be\".\r\n",
      "     */\r\n",
      "    PyObject *f_exc_type, *f_exc_value, *f_exc_traceback;\r\n",
      "\r\n",
      "    PyThreadState *f_tstate;\r\n",
      "    int f_lasti;\t\t/* Last instruction if called */\r\n",
      "    /* Call PyFrame_GetLineNumber() instead of reading this field\r\n",
      "       directly.  As of 2.3 f_lineno is only valid when tracing is\r\n",
      "       active (i.e. when f_trace is set).  At other times we use\r\n",
      "       PyCode_Addr2Line to calculate the line from the current\r\n",
      "       bytecode index. */\r\n",
      "    int f_lineno;\t\t/* Current line number */\r\n",
      "    int f_iblock;\t\t/* index in f_blockstack */\r\n",
      "    PyTryBlock f_blockstack[CO_MAXBLOCKS]; /* for try and loop blocks */\r\n",
      "    PyObject *f_localsplus[1];\t/* locals+stack, dynamically sized */\r\n",
      "} PyFrameObject;\r\n"
     ]
    }
   ],
   "source": [
    "! grep -B34 \"} PyFrameObject;\" $SOURCE/Include/frameobject.h"
   ]
  },
  {
   "cell_type": "markdown",
   "metadata": {},
   "source": [
    "![pystate](https://leanpub.com/site_images/insidethepythonvirtualmachine/withframe.png)"
   ]
  },
  {
   "cell_type": "markdown",
   "metadata": {},
   "source": [
    "* every frame represents a currently-being-evaluated code object (f_code)\n",
    "* frame objects are linked to one another, thus forming a call stack of frames\n",
    "* inside each frame object in the call stack there’s a reference to two frame-specific stacks , they are the value stack and the block stack\n",
    "    * value stack - LOAD, STORE, POP, PUSH\n",
    "    * block stack - for, try"
   ]
  },
  {
   "cell_type": "code",
   "execution_count": 139,
   "metadata": {},
   "outputs": [
    {
     "name": "stdout",
     "output_type": "stream",
     "text": [
      "  2           0 SETUP_LOOP              27 (to 30)\n",
      "              3 LOAD_CONST               1 ('string')\n",
      "              6 GET_ITER            \n",
      "        >>    7 FOR_ITER                19 (to 29)\n",
      "             10 STORE_FAST               0 (c)\n",
      "\n",
      "  3          13 LOAD_GLOBAL              0 (my_global_list)\n",
      "             16 LOAD_ATTR                1 (append)\n",
      "             19 LOAD_FAST                0 (c)\n",
      "             22 CALL_FUNCTION            1\n",
      "             25 POP_TOP             \n",
      "             26 JUMP_ABSOLUTE            7\n",
      "        >>   29 POP_BLOCK           \n",
      "        >>   30 LOAD_CONST               0 (None)\n",
      "             33 RETURN_VALUE        \n"
     ]
    }
   ],
   "source": [
    "def f():\n",
    "    for c in 'string':\n",
    "        my_global_list.append(c)\n",
    "dis.dis(f)"
   ]
  },
  {
   "cell_type": "markdown",
   "metadata": {},
   "source": [
    "* Frame creation occurs whenever a code object should be evaluated\n",
    "    * a function is called\n",
    "    * a module is imported (the module’s top-level code is executed)\n",
    "    * a class is defined\n",
    "    * for every discrete command entered in the interactive interpreter\n",
    "    * when the builtins eval or exec are used\n",
    "    * when the -c switch is used "
   ]
  },
  {
   "cell_type": "markdown",
   "metadata": {},
   "source": [
    "* Optimizations (comments at Objects/frameobject.c)\n",
    "    * co_zombieframe\n",
    "    * free_list"
   ]
  },
  {
   "cell_type": "markdown",
   "metadata": {},
   "source": [
    "### References"
   ]
  },
  {
   "cell_type": "markdown",
   "metadata": {},
   "source": [
    "* https://www.python.org/dev/peps/pep-0339/\n",
    "* https://github.com/python/cpython/tree/2.7\n",
    "* https://habr.com/post/314062/\n",
    "* https://www.youtube.com/watch?v=HVUTjQzESeo\n",
    "* http://doar-e.github.io/blog/2014/04/17/deep-dive-into-pythons-vm-story-of-load_const-bug/\n",
    "* https://tech.blog.aknin.name/2010/04/02/pythons-innards-introduction/\n",
    "* http://eli.thegreenplace.net/tag/python-internals\n",
    "* http://pgbovine.net/cpython-internals.htm\n",
    "* https://late.am/post/2012/03/26/exploring-python-code-objects.html\n",
    "* http://www.ics.uci.edu/~brgallar/week9_3.html\n",
    "* https://troeger.eu/files/teaching/pythonvm08.pdf\n",
    "* http://pyvideo.org/pycon-us-2012/stepping-through-cpython.html\n",
    "* https://leanpub.com/insidethepythonvirtualmachine/read\n",
    "* https://www.youtube.com/watch?v=mxjv9KqzwjI"
   ]
  },
  {
   "cell_type": "markdown",
   "metadata": {},
   "source": [
    "### Summary"
   ]
  },
  {
   "cell_type": "markdown",
   "metadata": {},
   "source": [
    "* CPython consits of compiler and VM\n",
    "* VM is stack-based\n",
    "* Everything is Object\n",
    "* Every object has a type; the type of an object dictates the stuff that can be done to/with the object\n",
    "* Bytecode from code objects executed in frames opcode by opcode inside eval loop within the context of the given frame"
   ]
  },
  {
   "cell_type": "markdown",
   "metadata": {},
   "source": [
    "## Objects"
   ]
  },
  {
   "cell_type": "markdown",
   "metadata": {},
   "source": [
    "#### Integer"
   ]
  },
  {
   "cell_type": "code",
   "execution_count": 173,
   "metadata": {},
   "outputs": [
    {
     "name": "stdout",
     "output_type": "stream",
     "text": [
      "\r\n",
      "typedef struct {\r\n",
      "    PyObject_HEAD\r\n",
      "    long ob_ival;\r\n",
      "} PyIntObject;\r\n"
     ]
    }
   ],
   "source": [
    "! grep -B4 \"} PyIntObject;\" $SOURCE/Include/intobject.h"
   ]
  },
  {
   "cell_type": "code",
   "execution_count": 181,
   "metadata": {},
   "outputs": [
    {
     "name": "stdout",
     "output_type": "stream",
     "text": [
      "\r\n",
      "struct _intblock {\r\n",
      "    struct _intblock *next;\r\n",
      "    PyIntObject objects[N_INTOBJECTS];\r\n",
      "};\r\n",
      "\r\n",
      "typedef struct _intblock PyIntBlock;\r\n"
     ]
    }
   ],
   "source": [
    "! grep -B6 \"PyIntBlock;\" $SOURCE/Objects/intobject.c"
   ]
  },
  {
   "cell_type": "markdown",
   "metadata": {},
   "source": [
    "* PyIntBlock - free integers to use\n",
    "* block_list is a singly-linked list of all PyIntBlocks ever allocated\n",
    "![freeints](http://www.laurentluce.com/images/blog/intobject/1.png)"
   ]
  },
  {
   "cell_type": "code",
   "execution_count": 180,
   "metadata": {},
   "outputs": [
    {
     "name": "stdout",
     "output_type": "stream",
     "text": [
      "#ifndef NSMALLPOSINTS\r\n",
      "#define NSMALLPOSINTS           257\r\n",
      "#endif\r\n",
      "#ifndef NSMALLNEGINTS\r\n",
      "#define NSMALLNEGINTS           5\r\n",
      "#endif\r\n",
      "#if NSMALLNEGINTS + NSMALLPOSINTS > 0\r\n",
      "/* References to small integers are saved in this array so that they\r\n",
      "   can be shared.\r\n",
      "   The integers that are saved are those in the range\r\n",
      "   -NSMALLNEGINTS (inclusive) to NSMALLPOSINTS (not inclusive).\r\n",
      "*/\r\n",
      "static PyIntObject *small_ints[NSMALLNEGINTS + NSMALLPOSINTS];\r\n"
     ]
    }
   ],
   "source": [
    "! grep -B12 \"*small_ints\" $SOURCE/Objects/intobject.c"
   ]
  },
  {
   "cell_type": "markdown",
   "metadata": {},
   "source": [
    "![smallints](http://www.laurentluce.com/images/blog/intobject/2.png)"
   ]
  },
  {
   "cell_type": "markdown",
   "metadata": {},
   "source": [
    "#### String"
   ]
  },
  {
   "cell_type": "code",
   "execution_count": 186,
   "metadata": {},
   "outputs": [
    {
     "name": "stdout",
     "output_type": "stream",
     "text": [
      "typedef struct {\r\n",
      "    PyObject_VAR_HEAD\r\n",
      "    long ob_shash;\r\n",
      "    int ob_sstate;\r\n",
      "    char ob_sval[1];\r\n",
      "\r\n",
      "    /* Invariants:\r\n",
      "     *     ob_sval contains space for 'ob_size+1' elements.\r\n",
      "     *     ob_sval[ob_size] == 0.\r\n",
      "     *     ob_shash is the hash of the string or -1 if not computed yet.\r\n",
      "     *     ob_sstate != 0 iff the string object is in stringobject.c's\r\n",
      "     *       'interned' dictionary; in this case the two references\r\n",
      "     *       from 'interned' to this object are *not counted* in ob_refcnt.\r\n",
      "     */\r\n",
      "} PyStringObject;\r\n"
     ]
    }
   ],
   "source": [
    "! grep -B14 \"} PyStringObject;\" $SOURCE/Include/stringobject.h"
   ]
  },
  {
   "cell_type": "markdown",
   "metadata": {},
   "source": [
    "* ob_shash is the hash of the string if calculated\n",
    "* ob_sval contains the string of size\n",
    "* The string is null terminated"
   ]
  },
  {
   "cell_type": "code",
   "execution_count": 197,
   "metadata": {},
   "outputs": [
    {
     "name": "stdout",
     "output_type": "stream",
     "text": [
      "static PyStringObject *characters[UCHAR_MAX + 1];\r\n",
      "static PyStringObject *nullstring;\r\n",
      "\r\n",
      "/* This dictionary holds all interned strings.  Note that references to\r\n",
      "   strings in this dictionary are *not* counted in the string's ob_refcnt.\r\n",
      "   When the interned string reaches a refcnt of 0 the string deallocation\r\n",
      "   function will delete the reference from this dictionary.\r\n",
      "\r\n",
      "   Another way to look at this is that to say that the actual reference\r\n",
      "   count of a string is:  s->ob_refcnt + (s->ob_sstate?2:0)\r\n",
      "*/\r\n",
      "static PyObject *interned;\r\n"
     ]
    }
   ],
   "source": [
    "! grep -B11 \"interned;\" $SOURCE/Objects/stringobject.c"
   ]
  },
  {
   "cell_type": "markdown",
   "metadata": {},
   "source": [
    "![interning](http://www.laurentluce.com/images/blog/stringobject/3.png)"
   ]
  },
  {
   "cell_type": "markdown",
   "metadata": {},
   "source": [
    "What gets interned?\n",
    "* 0 and 1 length strings\n",
    "* when building a code object more strings are interned (constants)"
   ]
  },
  {
   "cell_type": "markdown",
   "metadata": {},
   "source": [
    "#### List"
   ]
  },
  {
   "cell_type": "code",
   "execution_count": 201,
   "metadata": {},
   "outputs": [
    {
     "name": "stdout",
     "output_type": "stream",
     "text": [
      "typedef struct {\r\n",
      "    PyObject_VAR_HEAD\r\n",
      "    /* Vector of pointers to list elements.  list[0] is ob_item[0], etc. */\r\n",
      "    PyObject **ob_item;\r\n",
      "\r\n",
      "    /* ob_item contains space for 'allocated' elements.  The number\r\n",
      "     * currently in use is ob_size.\r\n",
      "     * Invariants:\r\n",
      "     *     0 <= ob_size <= allocated\r\n",
      "     *     len(list) == ob_size\r\n",
      "     *     ob_item == NULL implies ob_size == allocated == 0\r\n",
      "     * list.sort() temporarily sets allocated to -1 to detect mutations.\r\n",
      "     *\r\n",
      "     * Items must normally not be NULL, except during construction when\r\n",
      "     * the list is not yet visible outside the function that builds it.\r\n",
      "     */\r\n",
      "    Py_ssize_t allocated;\r\n",
      "} PyListObject;\r\n"
     ]
    }
   ],
   "source": [
    "! grep -B17 \"} PyListObject;\" $SOURCE/Include/listobject.h"
   ]
  },
  {
   "cell_type": "markdown",
   "metadata": {},
   "source": [
    "![list](http://www.laurentluce.com/images/blog/list/list_insert.png)"
   ]
  },
  {
   "cell_type": "markdown",
   "metadata": {},
   "source": [
    "#### Dict"
   ]
  },
  {
   "cell_type": "code",
   "execution_count": 205,
   "metadata": {},
   "outputs": [
    {
     "name": "stdout",
     "output_type": "stream",
     "text": [
      "typedef struct _dictobject PyDictObject;\r\n",
      "struct _dictobject {\r\n",
      "    PyObject_HEAD\r\n",
      "    Py_ssize_t ma_fill;  /* # Active + # Dummy */\r\n",
      "    Py_ssize_t ma_used;  /* # Active */\r\n",
      "\r\n",
      "    /* The table contains ma_mask + 1 slots, and that's a power of 2.\r\n",
      "     * We store the mask instead of the size because the mask is more\r\n",
      "     * frequently needed.\r\n",
      "     */\r\n",
      "    Py_ssize_t ma_mask;\r\n",
      "\r\n",
      "    /* ma_table points to ma_smalltable for small tables, else to\r\n",
      "     * additional malloc'ed memory.  ma_table is never NULL!  This rule\r\n",
      "     * saves repeated runtime null-tests in the workhorse getitem and\r\n",
      "     * setitem calls.\r\n",
      "     */\r\n",
      "    PyDictEntry *ma_table;\r\n",
      "    PyDictEntry *(*ma_lookup)(PyDictObject *mp, PyObject *key, long hash);\r\n",
      "    PyDictEntry ma_smalltable[PyDict_MINSIZE];\r\n",
      "};\r\n",
      "\r\n"
     ]
    }
   ],
   "source": [
    "! grep -A21 \"PyDictObject;\" $SOURCE/Include/dictobject.h"
   ]
  },
  {
   "cell_type": "code",
   "execution_count": 212,
   "metadata": {},
   "outputs": [
    {
     "name": "stdout",
     "output_type": "stream",
     "text": [
      "typedef struct {\r\n",
      "    /* Cached hash code of me_key.  Note that hash codes are C longs.\r\n",
      "     * We have to use Py_ssize_t instead because dict_popitem() abuses\r\n",
      "     * me_hash to hold a search finger.\r\n",
      "     */\r\n",
      "    Py_ssize_t me_hash;\r\n",
      "    PyObject *me_key;\r\n",
      "    PyObject *me_value;\r\n",
      "} PyDictEntry;\r\n"
     ]
    }
   ],
   "source": [
    "! grep -B8 \"} PyDictEntry;\" $SOURCE/Include/dictobject.h"
   ]
  },
  {
   "cell_type": "markdown",
   "metadata": {},
   "source": [
    "* open adressing\n",
    "* quadratic probing\n",
    "    * size 32: 3 -> 11 -> 19 -> 29 -> 5 -> 6 -> 16 -> 31 -> 28 -> 13 -> 2…"
   ]
  },
  {
   "cell_type": "markdown",
   "metadata": {},
   "source": [
    "![openadressing](http://www.laurentluce.com/images/blog/dict/probing.png)"
   ]
  },
  {
   "cell_type": "markdown",
   "metadata": {},
   "source": [
    "### References"
   ]
  },
  {
   "cell_type": "markdown",
   "metadata": {},
   "source": [
    "* http://www.laurentluce.com/posts/python-integer-objects-implementation/\n",
    "* http://guilload.com/python-string-interning/\n",
    "* http://effbot.org/zone/python-hash.htm\n",
    "* http://www.laurentluce.com/posts/python-list-implementation/\n",
    "* http://www.laurentluce.com/posts/python-dictionary-implementation/"
   ]
  },
  {
   "cell_type": "markdown",
   "metadata": {},
   "source": [
    "### Summary"
   ]
  },
  {
   "cell_type": "markdown",
   "metadata": {},
   "source": [
    "* every object implementation is interesting in its own way\n",
    "* a lot of small optimizations"
   ]
  },
  {
   "cell_type": "markdown",
   "metadata": {},
   "source": [
    "## Memory"
   ]
  },
  {
   "cell_type": "markdown",
   "metadata": {},
   "source": [
    "#### Model"
   ]
  },
  {
   "cell_type": "markdown",
   "metadata": {},
   "source": [
    "Object-graph memory model\n",
    "* Lisp\n",
    "* if you have several entities of the same type, each one will be identified by a pointer\n",
    "* finding a particular attribute of an entity involves navigating the object graph starting from that pointer\n",
    "* put heavy demands on garbage collectors\n",
    "* Haskell, ML, Python, Ruby, PHP5, Lua, JavaScript, Erlang, and Smalltalk "
   ]
  },
  {
   "cell_type": "markdown",
   "metadata": {},
   "source": [
    "![graph](http://jakevdp.github.io/images/array_vs_list.png)"
   ]
  },
  {
   "cell_type": "markdown",
   "metadata": {},
   "source": [
    "#### Allocator"
   ]
  },
  {
   "cell_type": "markdown",
   "metadata": {},
   "source": [
    "![pymem](https://dl.dropboxusercontent.com/s/h7etx2byz8hw8qi/pymem.png)"
   ]
  },
  {
   "cell_type": "markdown",
   "metadata": {},
   "source": [
    "* Many small allocations\n",
    "    * everything is an object\n",
    "* Optimizations\n",
    "    * \\> 256 (512 in 3.3) bytes handled by `malloc`\n",
    "        * The GNU libc uses `brk()` or `mmap()` depending on a threshold: 128 KB by default\n",
    "    * smaller allocations grouped\n",
    "        * memory pools of 4k length each\n",
    "        * pools used by defferent request size allocators\n",
    "        * 8 byte size alignment"
   ]
  },
  {
   "cell_type": "markdown",
   "metadata": {},
   "source": [
    "Small objects allocator\n",
    "* allocates memory in 256 kB chunks, called arenas\n",
    "* arenas are divided into 4 kB pools\n",
    "* pools subdivided into blocks"
   ]
  },
  {
   "cell_type": "markdown",
   "metadata": {},
   "source": [
    "![sol](http://www.evanjones.ca/memoryallocator/pymalloc-layout.png)"
   ]
  },
  {
   "cell_type": "markdown",
   "metadata": {},
   "source": [
    "* `usedpools` array for storing partially allocated pools\n",
    "    *  If there is a pool, we pop a block off of its list. This is the most common case and it is very fast as it only requires a few memory reads and one write."
   ]
  },
  {
   "cell_type": "markdown",
   "metadata": {},
   "source": [
    "![usedpools](http://www.evanjones.ca/memoryallocator/pymalloc-usedpools.png)"
   ]
  },
  {
   "cell_type": "markdown",
   "metadata": {},
   "source": [
    "* pop pool from freepools\n",
    "* or create new pool, tweak `arenabase`\n",
    "* or `malloc` a new arena"
   ]
  },
  {
   "cell_type": "markdown",
   "metadata": {},
   "source": [
    "![frepools](http://www.evanjones.ca/memoryallocator/pymalloc-freepools.png)"
   ]
  },
  {
   "cell_type": "markdown",
   "metadata": {},
   "source": [
    "* Python \"never\" returns memory to OS\n",
    "    * if there is one block inside one pool inside arena then we should keep whole arena alive"
   ]
  },
  {
   "cell_type": "markdown",
   "metadata": {},
   "source": [
    "#### Garbage collector"
   ]
  },
  {
   "cell_type": "markdown",
   "metadata": {},
   "source": [
    "CPython GC alorithm is Reference counting with cycle detector\n",
    "* stops the world, but does so more infrequently than other implementations\n",
    "* memory fragmentation occurs\n",
    "* slower. Reference count garbage collector will spread the work across normal activities and perform collection less frequently"
   ]
  },
  {
   "cell_type": "markdown",
   "metadata": {},
   "source": [
    "#### Reference Counting"
   ]
  },
  {
   "cell_type": "markdown",
   "metadata": {},
   "source": [
    "* Py_INCREF, Py_DECREF\n",
    "    * safe versions: Py_XINCREF, Py_XDECREF\n",
    "* Py_CLEAR -  for members of another structures\n",
    "* \\__del\\__ method warning"
   ]
  },
  {
   "cell_type": "code",
   "execution_count": 164,
   "metadata": {},
   "outputs": [
    {
     "name": "stdout",
     "output_type": "stream",
     "text": [
      "#define Py_DECREF(op)                                   \\\r\n",
      "    do {                                                \\\r\n",
      "        if (_Py_DEC_REFTOTAL  _Py_REF_DEBUG_COMMA       \\\r\n",
      "        --((PyObject*)(op))->ob_refcnt != 0)            \\\r\n",
      "            _Py_CHECK_REFCNT(op)                        \\\r\n",
      "        else                                            \\\r\n",
      "        _Py_Dealloc((PyObject *)(op));                  \\\r\n",
      "    } while (0)\r\n",
      "\r\n"
     ]
    }
   ],
   "source": [
    "! grep -A8 \"define Py_DECREF\" $SOURCE/Include/object.h"
   ]
  },
  {
   "cell_type": "markdown",
   "metadata": {},
   "source": [
    "#### Circular references"
   ]
  },
  {
   "cell_type": "markdown",
   "metadata": {},
   "source": [
    "* 3 generations (0, 1, 2). If object survives collection phase  move it to next generation\n",
    "* `gc.set_threshold(threshold0[, threshold1[, threshold2]])`\n",
    "* when number of allocations minus the number of deallocations exceeds `threshold0`, collection starts\n",
    "* only focuses on container objects (i.e. objects that can contain a reference to one or more objects): arrays, dictionaries, user class instances, etc\n",
    "    * ignores tuples containing only immutable types"
   ]
  },
  {
   "cell_type": "markdown",
   "metadata": {},
   "source": [
    "Algorithm:\n",
    "* When the GC starts, it has all the container objects it wants to scan on a scanned list \n",
    "    * each object in container has a `gc_ref` field initially set to the reference count\n",
    "* GC then goes through each container object and decrements by 1 the `gc_ref` of any other object it is referencing\n",
    "    * only care about the references from outside the “objects to scan” list (like variables) and not references from other container objects inside that list\n",
    "* The GC scans again the container objects. The objects whose `gc_ref` is zero are marked as `GC_TENTATIVELY_UNREACHABLE` and moved to the tentatively unreachable list\n",
    "* If `gc_ref` > 0 object marked as `GC_REACHABLE`\n",
    "* When the GC encounters an object which is reachable, it traverses its references to find all the objects that are reachable from it, marking them as well as `GC_REACHABLE`\n",
    "* tentatively unreachable can be garbage collected"
   ]
  },
  {
   "cell_type": "markdown",
   "metadata": {},
   "source": [
    "![gc1](https://pythoninternal.files.wordpress.com/2014/07/python-cyclic-gc-1-new-page.png?w=700)"
   ]
  },
  {
   "cell_type": "markdown",
   "metadata": {},
   "source": [
    "![gc2](https://pythoninternal.files.wordpress.com/2014/07/python-cyclic-gc-2-new-page.png?w=700)"
   ]
  },
  {
   "cell_type": "markdown",
   "metadata": {},
   "source": [
    "![gc2](https://pythoninternal.files.wordpress.com/2014/07/python-cyclic-gc-3-new-page.png?w=700)"
   ]
  },
  {
   "cell_type": "markdown",
   "metadata": {},
   "source": [
    "![gc4](https://pythoninternal.files.wordpress.com/2014/07/python-cyclic-gc-5-new-page.png?w=700)"
   ]
  },
  {
   "cell_type": "markdown",
   "metadata": {},
   "source": [
    "### References"
   ]
  },
  {
   "cell_type": "markdown",
   "metadata": {},
   "source": [
    "* http://canonical.org/~kragen/memory-models/\n",
    "* http://www.evanjones.ca/memoryallocator/\n",
    "* https://rushter.com/blog/python-memory-managment/\n",
    "* https://www.quora.com/How-does-garbage-collection-in-Python-work\n",
    "* http://patshaughnessy.net/2013/10/24/visualizing-garbage-collection-in-ruby-and-python\n",
    "* https://docs.python.org/2/library/gc.html\n",
    "* https://www.slideshare.net/PiotrPrzymus/lncs-40402619\n",
    "* https://pythoninternal.wordpress.com/2014/08/04/the-garbage-collector/\n",
    "* https://engineering.instagram.com/dismissing-python-garbage-collection-at-instagram-4dca40b29172"
   ]
  },
  {
   "cell_type": "markdown",
   "metadata": {},
   "source": [
    "### Summary"
   ]
  },
  {
   "cell_type": "markdown",
   "metadata": {},
   "source": [
    "* LISP-like memory model\n",
    "* special allocator for small objects\n",
    "* large object allocated on the heap\n",
    "* garbage collection with reference counting and cycle detection"
   ]
  },
  {
   "cell_type": "markdown",
   "metadata": {},
   "source": [
    "### GIL"
   ]
  },
  {
   "cell_type": "markdown",
   "metadata": {},
   "source": [
    "* opcodes belong to currently evaluating code objects\n",
    "* which belong to currently evaluating frames\n",
    "* which belong to Pythonic threads\n",
    "* which belong to interpreters"
   ]
  },
  {
   "cell_type": "markdown",
   "metadata": {},
   "source": [
    "![pystate](https://niltowrite.files.wordpress.com/2010/05/states4.png)"
   ]
  },
  {
   "cell_type": "code",
   "execution_count": 169,
   "metadata": {
    "scrolled": false
   },
   "outputs": [
    {
     "name": "stdout",
     "output_type": "stream",
     "text": [
      "typedef struct _ts {\r\n",
      "    /* See Python/ceval.c for comments explaining most fields */\r\n",
      "\r\n",
      "    struct _ts *next;\r\n",
      "    PyInterpreterState *interp;\r\n",
      "\r\n",
      "    struct _frame *frame;\r\n",
      "    int recursion_depth;\r\n",
      "    /* 'tracing' keeps track of the execution depth when tracing/profiling.\r\n",
      "       This is to prevent the actual trace/profile code from being recorded in\r\n",
      "       the trace/profile. */\r\n",
      "    int tracing;\r\n",
      "    int use_tracing;\r\n",
      "\r\n",
      "    Py_tracefunc c_profilefunc;\r\n",
      "    Py_tracefunc c_tracefunc;\r\n",
      "    PyObject *c_profileobj;\r\n",
      "    PyObject *c_traceobj;\r\n",
      "\r\n",
      "    PyObject *curexc_type;\r\n",
      "    PyObject *curexc_value;\r\n",
      "    PyObject *curexc_traceback;\r\n",
      "\r\n",
      "    PyObject *exc_type;\r\n",
      "    PyObject *exc_value;\r\n",
      "    PyObject *exc_traceback;\r\n",
      "\r\n",
      "    PyObject *dict;  /* Stores per-thread state */\r\n",
      "\r\n",
      "    /* tick_counter is incremented whenever the check_interval ticker\r\n",
      "     * reaches zero. The purpose is to give a useful measure of the number\r\n",
      "     * of interpreted bytecode instructions in a given thread.  This\r\n",
      "     * extremely lightweight statistic collector may be of interest to\r\n",
      "     * profilers (like psyco.jit()), although nothing in the core uses it.\r\n",
      "     */\r\n",
      "    int tick_counter;\r\n",
      "\r\n",
      "    int gilstate_counter;\r\n",
      "\r\n",
      "    PyObject *async_exc; /* Asynchronous exception to raise */\r\n",
      "    long thread_id; /* Thread id where this tstate was created */\r\n",
      "\r\n",
      "    int trash_delete_nesting;\r\n",
      "    PyObject *trash_delete_later;\r\n",
      "\r\n",
      "    /* XXX signal handlers should also be here */\r\n",
      "\r\n",
      "} PyThreadState;\r\n"
     ]
    }
   ],
   "source": [
    "! grep -B47 \"} PyThreadState;\" $SOURCE/Include/pystate.h"
   ]
  },
  {
   "cell_type": "markdown",
   "metadata": {},
   "source": [
    "The Need for a GIL\n",
    "* it's easier to implement VM\n",
    "* provides much needed synchronization when performing certain tasks\n",
    "    * reference counting\n",
    "* not all C calls thread-safe"
   ]
  },
  {
   "cell_type": "code",
   "execution_count": 171,
   "metadata": {},
   "outputs": [
    {
     "name": "stdout",
     "output_type": "stream",
     "text": [
      "static PyThread_type_lock interpreter_lock = 0; /* This is the GIL */\r\n"
     ]
    }
   ],
   "source": [
    "! grep \"This is the GIL\" $SOURCE/Python/ceval.c"
   ]
  },
  {
   "cell_type": "markdown",
   "metadata": {},
   "source": [
    "* current thread state `*_PyThreadState_Current` is a global variable\n",
    "* there could be only one current thread state"
   ]
  },
  {
   "cell_type": "markdown",
   "metadata": {},
   "source": [
    "![io](https://habrastorage.org/getpro/habr/post_images/511/3b5/d65/5113b5d653969216cff4d9dd6ec929b2.png)\n",
    "* I/O bound threads are OK "
   ]
  },
  {
   "cell_type": "code",
   "execution_count": 170,
   "metadata": {},
   "outputs": [
    {
     "name": "stdout",
     "output_type": "stream",
     "text": [
      "#define Py_BEGIN_ALLOW_THREADS { \\\r\n",
      "                        PyThreadState *_save; \\\r\n",
      "                        _save = PyEval_SaveThread();\r\n",
      "#define Py_BLOCK_THREADS        PyEval_RestoreThread(_save);\r\n",
      "#define Py_UNBLOCK_THREADS      _save = PyEval_SaveThread();\r\n",
      "#define Py_END_ALLOW_THREADS    PyEval_RestoreThread(_save); \\\r\n",
      "                 }\r\n",
      "\r\n"
     ]
    }
   ],
   "source": [
    "! grep -A7 \"#define Py_BEGIN_ALLOW_THREADS { \\\\\\\\\" $SOURCE/Include/ceval.h"
   ]
  },
  {
   "cell_type": "markdown",
   "metadata": {},
   "source": [
    "![cpu](https://habrastorage.org/getpro/habr/post_images/41a/f47/64d/41af4764d00082dcec7989ac9dd3a5a5.png)\n",
    "* should work that way in theory\n",
    "* it doesn't actually"
   ]
  },
  {
   "cell_type": "code",
   "execution_count": null,
   "metadata": {},
   "outputs": [],
   "source": [
    "# release and immediately reacquire\n",
    "\n",
    "            if (interpreter_lock) {\n",
    "                /* Give another thread a chance */\n",
    "\n",
    "                if (PyThreadState_Swap(NULL) != tstate)\n",
    "                    Py_FatalError(\"ceval: tstate mix-up\");\n",
    "                PyThread_release_lock(interpreter_lock);\n",
    "\n",
    "                /* Other threads may run now */\n",
    "\n",
    "                PyThread_acquire_lock(interpreter_lock, 1);\n",
    "                if (PyThreadState_Swap(tstate) != NULL)\n",
    "                    Py_FatalError(\"ceval: orphan tstate\");\n",
    "\n",
    "                /* Check for thread interrupts */\n",
    "\n",
    "                if (tstate->async_exc != NULL) {\n",
    "                    x = tstate->async_exc;\n",
    "                    tstate->async_exc = NULL;\n",
    "                    PyErr_SetNone(x);\n",
    "                    Py_DECREF(x);\n",
    "                    why = WHY_EXCEPTION;\n",
    "                    goto on_error;\n",
    "                }\n",
    "            }"
   ]
  },
  {
   "cell_type": "code",
   "execution_count": null,
   "metadata": {
    "scrolled": true
   },
   "outputs": [],
   "source": [
    "# new GIL. gil_drop_request forces GIL realease if it was acquired by someone\n",
    "static _Py_atomic_int gil_drop_request = {0};"
   ]
  },
  {
   "cell_type": "markdown",
   "metadata": {},
   "source": [
    "### References"
   ]
  },
  {
   "cell_type": "markdown",
   "metadata": {},
   "source": [
    "* http://www.dabeaz.com/python/UnderstandingGIL.pdf\n",
    "* https://docs.python.org/2.7/c-api/init.html#threads\n",
    "* https://tech.blog.aknin.name/2010/05/26/pythons-innards-pystate/\n",
    "* https://www.youtube.com/watch?v=hx8PlltQYAM\n",
    "* https://www.youtube.com/watch?v=P3AyI_u66Bw\n",
    "* https://vstinner.github.io/python37-gil-change.html"
   ]
  },
  {
   "cell_type": "markdown",
   "metadata": {},
   "source": [
    "### Summary"
   ]
  },
  {
   "cell_type": "markdown",
   "metadata": {},
   "source": [
    "* there is no thread-level parallelism\n",
    "* except for I/O\n",
    "* for parallel computing involving heavy CPU processing, prefer message passing and cooperating processes to thread programming "
   ]
  }
 ],
 "metadata": {
  "kernelspec": {
   "display_name": "Python 2",
   "language": "python",
   "name": "python2"
  },
  "language_info": {
   "codemirror_mode": {
    "name": "ipython",
    "version": 2
   },
   "file_extension": ".py",
   "mimetype": "text/x-python",
   "name": "python",
   "nbconvert_exporter": "python",
   "pygments_lexer": "ipython2",
   "version": "2.7.10"
  }
 },
 "nbformat": 4,
 "nbformat_minor": 1
}
