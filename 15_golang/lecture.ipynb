{
 "cells": [
  {
   "cell_type": "markdown",
   "metadata": {},
   "source": [
    "# #15. New hope"
   ]
  },
  {
   "cell_type": "markdown",
   "metadata": {},
   "source": [
    "1. [Golang](#Golang)\n",
    "    1. [Hello, world!](#Hello,-world!)\n",
    "    2. [Toolchain](#Toolchain)\n",
    "    3. [Project layout](#Project-layout)\n",
    "    4. [Dependency management](#Dependency-management)\n",
    "    5. [All in](#All-in)\n",
    "    6. [Internals](#Internals)\n",
    "    7. [Examples](#Examples)\n",
    "2. [Memory](#Memory)\n",
    "    1. [Consumption](#Consumption)\n",
    "    2. [Text lookup](#Text-lookup)\n",
    "    3. [Probabilistic datastructures](#Probabilistic-datastructures)"
   ]
  },
  {
   "cell_type": "markdown",
   "metadata": {},
   "source": [
    "## Golang"
   ]
  },
  {
   "cell_type": "markdown",
   "metadata": {},
   "source": [
    "![layer](http://upload-images.jianshu.io/upload_images/590399-c4c0a9005db667dc.png?imageMogr2/auto-orient/strip%7CimageView2/2/w/1240)"
   ]
  },
  {
   "cell_type": "markdown",
   "metadata": {},
   "source": [
    "#### Hello, world!"
   ]
  },
  {
   "cell_type": "code",
   "execution_count": null,
   "metadata": {
    "collapsed": true
   },
   "outputs": [],
   "source": [
    "#!/usr/bin/env python\n",
    "\n",
    "import time\n",
    "\n",
    "\n",
    "def greeting():\n",
    "    '''Returns a pleasant, semi-useful greeting.'''\n",
    "    return \"Hello world, the time is: \" + time.ctime()\n",
    "\n",
    "\n",
    "def main():\n",
    "    print greeting()\n",
    "\n",
    "\n",
    "if __name__ == '__main__':\n",
    "    main()"
   ]
  },
  {
   "cell_type": "code",
   "execution_count": null,
   "metadata": {
    "collapsed": true
   },
   "outputs": [],
   "source": [
    "// A \"Hello World\" program that prints a greeting with the current time.\n",
    "package main\n",
    "\n",
    "import (\n",
    "\t\"fmt\"\n",
    "\t\"time\"\n",
    ")\n",
    "\n",
    "// greeting returns a pleasant, semi-useful greeting.\n",
    "func greeting() string {\n",
    "\treturn \"Hello world, the time is: \" + time.Now().String()\n",
    "}\n",
    "\n",
    "func main() {\n",
    "\tfmt.Println(greeting())\n",
    "}"
   ]
  },
  {
   "cell_type": "markdown",
   "metadata": {},
   "source": [
    "#### Toolchain"
   ]
  },
  {
   "cell_type": "code",
   "execution_count": 13,
   "metadata": {},
   "outputs": [
    {
     "name": "stdout",
     "output_type": "stream",
     "text": [
      "Go is a tool for managing Go source code.\r\n",
      "\r\n",
      "Usage:\r\n",
      "\r\n",
      "\tgo command [arguments]\r\n",
      "\r\n",
      "The commands are:\r\n",
      "\r\n",
      "\tbuild       compile packages and dependencies\r\n",
      "\tclean       remove object files\r\n",
      "\tdoc         show documentation for package or symbol\r\n",
      "\tenv         print Go environment information\r\n",
      "\tbug         start a bug report\r\n",
      "\tfix         run go tool fix on packages\r\n",
      "\tfmt         run gofmt on package sources\r\n",
      "\tgenerate    generate Go files by processing source\r\n",
      "\tget         download and install packages and dependencies\r\n",
      "\tinstall     compile and install packages and dependencies\r\n",
      "\tlist        list packages\r\n",
      "\trun         compile and run Go program\r\n",
      "\ttest        test packages\r\n",
      "\ttool        run specified go tool\r\n",
      "\tversion     print Go version\r\n",
      "\tvet         run go tool vet on packages\r\n",
      "\r\n",
      "Use \"go help [command]\" for more information about a command.\r\n",
      "\r\n",
      "Additional help topics:\r\n",
      "\r\n",
      "\tc           calling between Go and C\r\n",
      "\tbuildmode   description of build modes\r\n",
      "\tfiletype    file types\r\n",
      "\tgopath      GOPATH environment variable\r\n",
      "\tenvironment environment variables\r\n",
      "\timportpath  import path syntax\r\n",
      "\tpackages    description of package lists\r\n",
      "\ttestflag    description of testing flags\r\n",
      "\ttestfunc    description of testing functions\r\n",
      "\r\n",
      "Use \"go help [topic]\" for more information about that topic.\r\n",
      "\r\n"
     ]
    }
   ],
   "source": [
    "! go"
   ]
  },
  {
   "cell_type": "code",
   "execution_count": 12,
   "metadata": {},
   "outputs": [
    {
     "name": "stdout",
     "output_type": "stream",
     "text": [
      "go version go1.9.1 darwin/amd64\r\n"
     ]
    }
   ],
   "source": [
    "! go version"
   ]
  },
  {
   "cell_type": "markdown",
   "metadata": {},
   "source": [
    "![runtime](http://upload-images.jianshu.io/upload_images/590399-6f8d750aa05f2f8e.png?imageMogr2/auto-orient/strip%7CimageView2/2/w/1240)"
   ]
  },
  {
   "cell_type": "markdown",
   "metadata": {},
   "source": [
    "#### Project layout"
   ]
  },
  {
   "cell_type": "raw",
   "metadata": {},
   "source": [
    "$GOPATH/\n",
    "   pkg/\n",
    "   bin/\n",
    "   src/\n",
    "      github.com/\n",
    "         darkhelmet/\n",
    "            env/\n",
    "               env.go\n",
    "               env_test.go\n",
    "               format.bash\n",
    "               LICENSE.md\n",
    "               README.md\n",
    "         jmcvetta/\n",
    "            hello/\n",
    "               hello.go\n",
    "               greeter/\n",
    "                  greeter.go"
   ]
  },
  {
   "cell_type": "markdown",
   "metadata": {},
   "source": [
    "#### Dependency management"
   ]
  },
  {
   "cell_type": "markdown",
   "metadata": {},
   "source": [
    "submodules"
   ]
  },
  {
   "cell_type": "raw",
   "metadata": {},
   "source": [
    "[s.stupnikov@hive7 _vendor]$ tree -L 2 .\n",
    ".\n",
    "├── golang\n",
    "│   ├── build.sh\n",
    "│   └── golang.spec\n",
    "└── src\n",
    "    ├── github.com\n",
    "    ├── gitlab.corp.mail.ru\n",
    "    ├── golang.org\n",
    "    ├── google.golang.org\n",
    "    ├── gopkg.in\n",
    "    └── go.uber.org"
   ]
  },
  {
   "cell_type": "markdown",
   "metadata": {},
   "source": [
    "vgo"
   ]
  },
  {
   "cell_type": "raw",
   "metadata": {},
   "source": [
    "$ git commit testmod.go -m \"Change Hi to allow multilang\"\n",
    "$ git checkout -b v2 # optional but recommended\n",
    "$ echo \"module github.com/robteix/testmod/v2\" > go.mod\n",
    "$ git commit go.mod -m \"Bump version to v2\"\n",
    "$ git tag v2.0.0\n",
    "$ git push --tags origin v2 # or master if we don't have a branch"
   ]
  },
  {
   "cell_type": "markdown",
   "metadata": {},
   "source": [
    "#### All in"
   ]
  },
  {
   "cell_type": "code",
   "execution_count": null,
   "metadata": {
    "collapsed": true
   },
   "outputs": [],
   "source": [
    "// Single line comment\n",
    "/* Multi-\n",
    " line comment */\n",
    "\n",
    "// A package clause starts every source file.\n",
    "// Main is a special name declaring an executable rather than a library.\n",
    "package main\n",
    "\n",
    "// Import declaration declares library packages referenced in this file.\n",
    "import (\n",
    "    \"fmt\"       // A package in the Go standard library.\n",
    "    \"io/ioutil\" // Implements some I/O utility functions.\n",
    "    m \"math\"    // Math library with local alias m.\n",
    "    \"net/http\"  // Yes, a web server!\n",
    "    \"os\"        // OS functions like working with the file system\n",
    "    \"strconv\"   // String conversions.\n",
    ")\n",
    "\n",
    "// A function definition. Main is special. It is the entry point for the\n",
    "// executable program. Love it or hate it, Go uses brace brackets.\n",
    "func main() {\n",
    "    // Println outputs a line to stdout.\n",
    "    // Qualify it with the package name, fmt.\n",
    "    fmt.Println(\"Hello world!\")\n",
    "\n",
    "    // Call another function within this package.\n",
    "    beyondHello()\n",
    "}\n",
    "\n",
    "// Functions have parameters in parentheses.\n",
    "// If there are no parameters, empty parentheses are still required.\n",
    "func beyondHello() {\n",
    "    var x int // Variable declaration. Variables must be declared before use.\n",
    "    x = 3     // Variable assignment.\n",
    "    // \"Short\" declarations use := to infer the type, declare, and assign.\n",
    "    y := 4\n",
    "    sum, prod := learnMultiple(x, y)        // Function returns two values.\n",
    "    fmt.Println(\"sum:\", sum, \"prod:\", prod) // Simple output.\n",
    "    learnTypes()                            // < y minutes, learn more!\n",
    "}\n",
    "\n",
    "/* <- multiline comment\n",
    "Functions can have parameters and (multiple!) return values.\n",
    "Here `x`, `y` are the arguments and `sum`, `prod` is the signature (what's returned).\n",
    "Note that `x` and `sum` receive the type `int`.\n",
    "*/\n",
    "func learnMultiple(x, y int) (sum, prod int) {\n",
    "    return x + y, x * y // Return two values.\n",
    "}\n",
    "\n",
    "// Some built-in types and literals.\n",
    "func learnTypes() {\n",
    "    // Short declaration usually gives you what you want.\n",
    "    str := \"Learn Go!\" // string type.\n",
    "\n",
    "    s2 := `A \"raw\" string literal\n",
    "can include line breaks.` // Same string type.\n",
    "\n",
    "    // Non-ASCII literal. Go source is UTF-8.\n",
    "    g := 'Σ' // rune type, an alias for int32, holds a unicode code point.\n",
    "\n",
    "    f := 3.14195 // float64, an IEEE-754 64-bit floating point number.\n",
    "    c := 3 + 4i  // complex128, represented internally with two float64's.\n",
    "\n",
    "    // var syntax with initializers.\n",
    "    var u uint = 7 // Unsigned, but implementation dependent size as with int.\n",
    "    var pi float32 = 22. / 7\n",
    "\n",
    "    // Conversion syntax with a short declaration.\n",
    "    n := byte('\\n') // byte is an alias for uint8.\n",
    "\n",
    "    // Arrays have size fixed at compile time.\n",
    "    var a4 [4]int           // An array of 4 ints, initialized to all 0.\n",
    "    a5 := [...]int{3, 1, 5, 10, 100} // An array initialized with a fixed size of five\n",
    "    // elements, with values 3, 1, 5, 10, and 100.\n",
    "\n",
    "    // Slices have dynamic size. Arrays and slices each have advantages\n",
    "    // but use cases for slices are much more common.\n",
    "    s3 := []int{4, 5, 9}    // Compare to a5. No ellipsis here.\n",
    "    s4 := make([]int, 4)    // Allocates slice of 4 ints, initialized to all 0.\n",
    "    var d2 [][]float64      // Declaration only, nothing allocated here.\n",
    "    bs := []byte(\"a slice\") // Type conversion syntax.\n",
    "\n",
    "    // Because they are dynamic, slices can be appended to on-demand.\n",
    "    // To append elements to a slice, the built-in append() function is used.\n",
    "    // First argument is a slice to which we are appending. Commonly,\n",
    "    // the array variable is updated in place, as in example below.\n",
    "    s := []int{1, 2, 3}     // Result is a slice of length 3.\n",
    "    s = append(s, 4, 5, 6)  // Added 3 elements. Slice now has length of 6.\n",
    "    fmt.Println(s) // Updated slice is now [1 2 3 4 5 6]\n",
    "\n",
    "    // To append another slice, instead of list of atomic elements we can\n",
    "    // pass a reference to a slice or a slice literal like this, with a\n",
    "    // trailing ellipsis, meaning take a slice and unpack its elements,\n",
    "    // appending them to slice s.\n",
    "    s = append(s, []int{7, 8, 9}...) // Second argument is a slice literal.\n",
    "    fmt.Println(s)  // Updated slice is now [1 2 3 4 5 6 7 8 9]\n",
    "\n",
    "    p, q := learnMemory() // Declares p, q to be type pointer to int.\n",
    "    fmt.Println(*p, *q)   // * follows a pointer. This prints two ints.\n",
    "\n",
    "    // Maps are a dynamically growable associative array type, like the\n",
    "    // hash or dictionary types of some other languages.\n",
    "    m := map[string]int{\"three\": 3, \"four\": 4}\n",
    "    m[\"one\"] = 1\n",
    "\n",
    "    // Unused variables are an error in Go.\n",
    "    // The underscore lets you \"use\" a variable but discard its value.\n",
    "    _, _, _, _, _, _, _, _, _, _ = str, s2, g, f, u, pi, n, a5, s4, bs\n",
    "    // Usually you use it to ignore one of the return values of a function\n",
    "    // For example, in a quick and dirty script you might ignore the\n",
    "    // error value returned from os.Create, and expect that the file\n",
    "    // will always be created.\n",
    "    file, _ := os.Create(\"output.txt\")\n",
    "    fmt.Fprint(file, \"This is how you write to a file, by the way\")\n",
    "    file.Close()\n",
    "\n",
    "    // Output of course counts as using a variable.\n",
    "    fmt.Println(s, c, a4, s3, d2, m)\n",
    "\n",
    "    learnFlowControl() // Back in the flow.\n",
    "}\n",
    "\n",
    "// It is possible, unlike in many other languages for functions in go\n",
    "// to have named return values.\n",
    "// Assigning a name to the type being returned in the function declaration line\n",
    "// allows us to easily return from multiple points in a function as well as to\n",
    "// only use the return keyword, without anything further.\n",
    "func learnNamedReturns(x, y int) (z int) {\n",
    "    z = x * y\n",
    "    return // z is implicit here, because we named it earlier.\n",
    "}\n",
    "\n",
    "// Go is fully garbage collected. It has pointers but no pointer arithmetic.\n",
    "// You can make a mistake with a nil pointer, but not by incrementing a pointer.\n",
    "func learnMemory() (p, q *int) {\n",
    "    // Named return values p and q have type pointer to int.\n",
    "    p = new(int) // Built-in function new allocates memory.\n",
    "    // The allocated int is initialized to 0, p is no longer nil.\n",
    "    s := make([]int, 20) // Allocate 20 ints as a single block of memory.\n",
    "    s[3] = 7             // Assign one of them.\n",
    "    r := -2              // Declare another local variable.\n",
    "    return &s[3], &r     // & takes the address of an object.\n",
    "}\n",
    "\n",
    "func expensiveComputation() float64 {\n",
    "    return m.Exp(10)\n",
    "}\n",
    "\n",
    "func learnFlowControl() {\n",
    "    // If statements require brace brackets, and do not require parentheses.\n",
    "    if true {\n",
    "        fmt.Println(\"told ya\")\n",
    "    }\n",
    "    // Formatting is standardized by the command line command \"go fmt.\"\n",
    "    if false {\n",
    "        // Pout.\n",
    "    } else {\n",
    "        // Gloat.\n",
    "    }\n",
    "    // Use switch in preference to chained if statements.\n",
    "    x := 42.0\n",
    "    switch x {\n",
    "    case 0:\n",
    "    case 1:\n",
    "    case 42:\n",
    "        // Cases don't \"fall through\".\n",
    "        /*\n",
    "        There is a `fallthrough` keyword however, see:\n",
    "          https://github.com/golang/go/wiki/Switch#fall-through\n",
    "        */\n",
    "    case 43:\n",
    "        // Unreached.\n",
    "    default:\n",
    "        // Default case is optional.\n",
    "    }\n",
    "    // Like if, for doesn't use parens either.\n",
    "    // Variables declared in for and if are local to their scope.\n",
    "    for x := 0; x < 3; x++ { // ++ is a statement.\n",
    "        fmt.Println(\"iteration\", x)\n",
    "    }\n",
    "    // x == 42 here.\n",
    "\n",
    "    // For is the only loop statement in Go, but it has alternate forms.\n",
    "    for { // Infinite loop.\n",
    "        break    // Just kidding.\n",
    "        continue // Unreached.\n",
    "    }\n",
    "\n",
    "    // You can use range to iterate over an array, a slice, a string, a map, or a channel.\n",
    "    // range returns one (channel) or two values (array, slice, string and map).\n",
    "    for key, value := range map[string]int{\"one\": 1, \"two\": 2, \"three\": 3} {\n",
    "        // for each pair in the map, print key and value\n",
    "        fmt.Printf(\"key=%s, value=%d\\n\", key, value)\n",
    "    }\n",
    "    // If you only need the value, use the underscore as the key\n",
    "    for _, name := range []string{\"Bob\", \"Bill\", \"Joe\"} {\n",
    "        fmt.Printf(\"Hello, %s\\n\", name)\n",
    "    }\n",
    "\n",
    "    // As with for, := in an if statement means to declare and assign\n",
    "    // y first, then test y > x.\n",
    "    if y := expensiveComputation(); y > x {\n",
    "        x = y\n",
    "    }\n",
    "    // Function literals are closures.\n",
    "    xBig := func() bool {\n",
    "        return x > 10000 // References x declared above switch statement.\n",
    "    }\n",
    "    x = 99999\n",
    "    fmt.Println(\"xBig:\", xBig()) // true\n",
    "    x = 1.3e3                    // This makes x == 1300\n",
    "    fmt.Println(\"xBig:\", xBig()) // false now.\n",
    "\n",
    "    // What's more is function literals may be defined and called inline,\n",
    "    // acting as an argument to function, as long as:\n",
    "    // a) function literal is called immediately (),\n",
    "    // b) result type matches expected type of argument.\n",
    "    fmt.Println(\"Add + double two numbers: \",\n",
    "        func(a, b int) int {\n",
    "            return (a + b) * 2\n",
    "        }(10, 2)) // Called with args 10 and 2\n",
    "    // => Add + double two numbers: 24\n",
    "\n",
    "    // When you need it, you'll love it.\n",
    "    goto love\n",
    "love:\n",
    "\n",
    "    learnFunctionFactory() // func returning func is fun(3)(3)\n",
    "    learnDefer()      // A quick detour to an important keyword.\n",
    "    learnInterfaces() // Good stuff coming up!\n",
    "}\n",
    "\n",
    "func learnFunctionFactory() {\n",
    "    // Next two are equivalent, with second being more practical\n",
    "    fmt.Println(sentenceFactory(\"summer\")(\"A beautiful\", \"day!\"))\n",
    "\n",
    "    d := sentenceFactory(\"summer\")\n",
    "    fmt.Println(d(\"A beautiful\", \"day!\"))\n",
    "    fmt.Println(d(\"A lazy\", \"afternoon!\"))\n",
    "}\n",
    "\n",
    "// Decorators are common in other languages. Same can be done in Go\n",
    "// with function literals that accept arguments.\n",
    "func sentenceFactory(mystring string) func(before, after string) string {\n",
    "    return func(before, after string) string {\n",
    "        return fmt.Sprintf(\"%s %s %s\", before, mystring, after) // new string\n",
    "    }\n",
    "}\n",
    "\n",
    "func learnDefer() (ok bool) {\n",
    "    // Deferred statements are executed just before the function returns.\n",
    "    defer fmt.Println(\"deferred statements execute in reverse (LIFO) order.\")\n",
    "    defer fmt.Println(\"\\nThis line is being printed first because\")\n",
    "    // Defer is commonly used to close a file, so the function closing the\n",
    "    // file stays close to the function opening the file.\n",
    "    return true\n",
    "}\n",
    "\n",
    "// Define Stringer as an interface type with one method, String.\n",
    "type Stringer interface {\n",
    "    String() string\n",
    "}\n",
    "\n",
    "// Define pair as a struct with two fields, ints named x and y.\n",
    "type pair struct {\n",
    "    x, y int\n",
    "}\n",
    "\n",
    "// Define a method on type pair. Pair now implements Stringer because Pair has defined all the methods in the interface.\n",
    "func (p pair) String() string { // p is called the \"receiver\"\n",
    "    // Sprintf is another public function in package fmt.\n",
    "    // Dot syntax references fields of p.\n",
    "    return fmt.Sprintf(\"(%d, %d)\", p.x, p.y)\n",
    "}\n",
    "\n",
    "func learnInterfaces() {\n",
    "    // Brace syntax is a \"struct literal\". It evaluates to an initialized\n",
    "    // struct. The := syntax declares and initializes p to this struct.\n",
    "    p := pair{3, 4}\n",
    "    fmt.Println(p.String()) // Call String method of p, of type pair.\n",
    "    var i Stringer          // Declare i of interface type Stringer.\n",
    "    i = p                   // Valid because pair implements Stringer\n",
    "    // Call String method of i, of type Stringer. Output same as above.\n",
    "    fmt.Println(i.String())\n",
    "\n",
    "    // Functions in the fmt package call the String method to ask an object\n",
    "    // for a printable representation of itself.\n",
    "    fmt.Println(p) // Output same as above. Println calls String method.\n",
    "    fmt.Println(i) // Output same as above.\n",
    "\n",
    "    learnVariadicParams(\"great\", \"learning\", \"here!\")\n",
    "}\n",
    "\n",
    "// Functions can have variadic parameters.\n",
    "func learnVariadicParams(myStrings ...interface{}) {\n",
    "    // Iterate each value of the variadic.\n",
    "    // The underbar here is ignoring the index argument of the array.\n",
    "    for _, param := range myStrings {\n",
    "        fmt.Println(\"param:\", param)\n",
    "    }\n",
    "\n",
    "    // Pass variadic value as a variadic parameter.\n",
    "    fmt.Println(\"params:\", fmt.Sprintln(myStrings...))\n",
    "\n",
    "    learnErrorHandling()\n",
    "}\n",
    "\n",
    "func learnErrorHandling() {\n",
    "    // \", ok\" idiom used to tell if something worked or not.\n",
    "    m := map[int]string{3: \"three\", 4: \"four\"}\n",
    "    if x, ok := m[1]; !ok { // ok will be false because 1 is not in the map.\n",
    "        fmt.Println(\"no one there\")\n",
    "    } else {\n",
    "        fmt.Print(x) // x would be the value, if it were in the map.\n",
    "    }\n",
    "    // An error value communicates not just \"ok\" but more about the problem.\n",
    "    if _, err := strconv.Atoi(\"non-int\"); err != nil { // _ discards value\n",
    "        // prints 'strconv.ParseInt: parsing \"non-int\": invalid syntax'\n",
    "        fmt.Println(err)\n",
    "    }\n",
    "    // We'll revisit interfaces a little later. Meanwhile,\n",
    "    learnConcurrency()\n",
    "}\n",
    "\n",
    "// c is a channel, a concurrency-safe communication object.\n",
    "func inc(i int, c chan int) {\n",
    "    c <- i + 1 // <- is the \"send\" operator when a channel appears on the left.\n",
    "}\n",
    "\n",
    "// We'll use inc to increment some numbers concurrently.\n",
    "func learnConcurrency() {\n",
    "    // Same make function used earlier to make a slice. Make allocates and\n",
    "    // initializes slices, maps, and channels.\n",
    "    c := make(chan int)\n",
    "    // Start three concurrent goroutines. Numbers will be incremented\n",
    "    // concurrently, perhaps in parallel if the machine is capable and\n",
    "    // properly configured. All three send to the same channel.\n",
    "    go inc(0, c) // go is a statement that starts a new goroutine.\n",
    "    go inc(10, c)\n",
    "    go inc(-805, c)\n",
    "    // Read three results from the channel and print them out.\n",
    "    // There is no telling in what order the results will arrive!\n",
    "    fmt.Println(<-c, <-c, <-c) // channel on right, <- is \"receive\" operator.\n",
    "\n",
    "    cs := make(chan string)       // Another channel, this one handles strings.\n",
    "    ccs := make(chan chan string) // A channel of string channels.\n",
    "    go func() { c <- 84 }()       // Start a new goroutine just to send a value.\n",
    "    go func() { cs <- \"wordy\" }() // Again, for cs this time.\n",
    "    // Select has syntax like a switch statement but each case involves\n",
    "    // a channel operation. It selects a case at random out of the cases\n",
    "    // that are ready to communicate.\n",
    "    select {\n",
    "    case i := <-c: // The value received can be assigned to a variable,\n",
    "        fmt.Printf(\"it's a %T\", i)\n",
    "    case <-cs: // or the value received can be discarded.\n",
    "        fmt.Println(\"it's a string\")\n",
    "    case <-ccs: // Empty channel, not ready for communication.\n",
    "        fmt.Println(\"didn't happen.\")\n",
    "    }\n",
    "    // At this point a value was taken from either c or cs. One of the two\n",
    "    // goroutines started above has completed, the other will remain blocked.\n",
    "\n",
    "    learnWebProgramming() // Go does it. You want to do it too.\n",
    "}\n",
    "\n",
    "// A single function from package http starts a web server.\n",
    "func learnWebProgramming() {\n",
    "\n",
    "    // First parameter of ListenAndServe is TCP address to listen to.\n",
    "    // Second parameter is an interface, specifically http.Handler.\n",
    "    go func() {\n",
    "        err := http.ListenAndServe(\":8080\", pair{})\n",
    "        fmt.Println(err) // don't ignore errors\n",
    "    }()\n",
    "\n",
    "    requestServer()\n",
    "}\n",
    "\n",
    "// Make pair an http.Handler by implementing its only method, ServeHTTP.\n",
    "func (p pair) ServeHTTP(w http.ResponseWriter, r *http.Request) {\n",
    "    // Serve data with a method of http.ResponseWriter.\n",
    "    w.Write([]byte(\"You learned Go in Y minutes!\"))\n",
    "}\n",
    "\n",
    "func requestServer() {\n",
    "    resp, err := http.Get(\"http://localhost:8080\")\n",
    "    fmt.Println(err)\n",
    "    defer resp.Body.Close()\n",
    "    body, err := ioutil.ReadAll(resp.Body)\n",
    "    fmt.Printf(\"\\nWebserver said: `%s`\", string(body))\n",
    "}"
   ]
  },
  {
   "cell_type": "markdown",
   "metadata": {},
   "source": [
    "#### Internals"
   ]
  },
  {
   "cell_type": "markdown",
   "metadata": {},
   "source": [
    "__Goroutine__"
   ]
  },
  {
   "cell_type": "markdown",
   "metadata": {},
   "source": [
    "Goroutines are cooperatively scheduled, rather than relying on the kernel to manage their time sharing.\n",
    "The switch between goroutines only happens at well defined points, when an explicit call is made to the Go runtime scheduler.\n",
    "The compiler knows the registers which are in use and saves them automatically."
   ]
  },
  {
   "cell_type": "markdown",
   "metadata": {},
   "source": [
    "Places where Goroutines may yield to others are:\n",
    "* Channel send and receive operations, if those operations would block.\n",
    "* The `go` statement, although there is no guarantee that new goroutine will be scheduled immediately.\n",
    "* Blocking syscalls like file and network operations.\n",
    "* After being stopped for a garbage collection cycle."
   ]
  },
  {
   "cell_type": "markdown",
   "metadata": {},
   "source": [
    "![gor](https://dave.cheney.net/wp-content/uploads/2014/06/Gocon-2014-35.jpg)"
   ]
  },
  {
   "cell_type": "markdown",
   "metadata": {},
   "source": [
    "![block](https://dave.cheney.net/wp-content/uploads/2014/06/Gocon-2014-36.jpg)"
   ]
  },
  {
   "cell_type": "markdown",
   "metadata": {},
   "source": [
    "![stack](https://dave.cheney.net/wp-content/uploads/2014/06/Gocon-2014-45.jpg)"
   ]
  },
  {
   "cell_type": "markdown",
   "metadata": {},
   "source": [
    "__Scheduler__"
   ]
  },
  {
   "cell_type": "markdown",
   "metadata": {},
   "source": [
    "Go scheduler uses the following terminology for goroutines, threads and processors:\n",
    "* G: goroutine\n",
    "* M: OS thread (machine)\n",
    "* P: processor"
   ]
  },
  {
   "cell_type": "markdown",
   "metadata": {},
   "source": [
    "![sched](https://rakyll.org/img/scheduler-concepts.png)"
   ]
  },
  {
   "cell_type": "markdown",
   "metadata": {},
   "source": [
    "Each round of scheduling is simply finding a runnable goroutine and executing it. At each round of scheduling, the search happens in the following order:"
   ]
  },
  {
   "cell_type": "code",
   "execution_count": null,
   "metadata": {
    "collapsed": true
   },
   "outputs": [],
   "source": [
    "runtime.schedule() {\n",
    "    // only 1/61 of the time, check the global runnable queue for a G.\n",
    "    // if not found, check the local queue.\n",
    "    // if not found,\n",
    "    //     try to steal from other Ps.\n",
    "    //     if not, check the global runnable queue.\n",
    "    //     if not found, poll network.\n",
    "}"
   ]
  },
  {
   "cell_type": "markdown",
   "metadata": {},
   "source": [
    "Once a runnable G is found, it is executed until it is blocked."
   ]
  },
  {
   "cell_type": "markdown",
   "metadata": {},
   "source": [
    "__Optimizations__"
   ]
  },
  {
   "cell_type": "markdown",
   "metadata": {},
   "source": [
    "Inlining"
   ]
  },
  {
   "cell_type": "code",
   "execution_count": null,
   "metadata": {
    "collapsed": true
   },
   "outputs": [],
   "source": [
    "package util\n",
    "// Max returns the larger of a or b.\n",
    "func Max(a, b int) int {\n",
    "    if a > b {\n",
    "        return a\n",
    "    }\n",
    "    return b\n",
    "}"
   ]
  },
  {
   "cell_type": "code",
   "execution_count": null,
   "metadata": {
    "collapsed": true
   },
   "outputs": [],
   "source": [
    "package main\n",
    "import \"util\"\n",
    "// Double returns twice the value of the larger of a or b.\n",
    "func Double(a, b int) int { return 2 * util.Max(a, b) }"
   ]
  },
  {
   "cell_type": "markdown",
   "metadata": {},
   "source": [
    "![inline](https://dave.cheney.net/wp-content/uploads/2014/06/Gocon-2014-19.jpg)"
   ]
  },
  {
   "cell_type": "markdown",
   "metadata": {},
   "source": [
    "Dead code elimination"
   ]
  },
  {
   "cell_type": "code",
   "execution_count": null,
   "metadata": {
    "collapsed": true
   },
   "outputs": [],
   "source": [
    "func Expensive() {\n",
    "    if false {\n",
    "        // something expensive is now unreachable\n",
    "    }\n",
    "}"
   ]
  },
  {
   "cell_type": "markdown",
   "metadata": {},
   "source": [
    "Escape analysis\n",
    "* determines whether any references to a value escape the function where the value is declared. \n",
    "* If no references escape, the value may be safely stored on the stack.\n",
    "* Values stored in the stack do not need to be allocated or freed."
   ]
  },
  {
   "cell_type": "markdown",
   "metadata": {},
   "source": [
    "![escape](https://dave.cheney.net/wp-content/uploads/2014/06/Gocon-2014-27.jpg)"
   ]
  },
  {
   "cell_type": "markdown",
   "metadata": {},
   "source": [
    "__Garbage collector__"
   ]
  },
  {
   "cell_type": "markdown",
   "metadata": {},
   "source": [
    "![gc](https://talks.golang.org/2015/state-of-go-may/gc.png)"
   ]
  },
  {
   "cell_type": "markdown",
   "metadata": {},
   "source": [
    "#### Examples"
   ]
  },
  {
   "cell_type": "markdown",
   "metadata": {},
   "source": [
    "Echo server"
   ]
  },
  {
   "cell_type": "code",
   "execution_count": null,
   "metadata": {
    "collapsed": true
   },
   "outputs": [],
   "source": [
    "package main\n",
    "\n",
    "import (\n",
    "    \"fmt\"\n",
    "    \"github.com/cmu440/p0\"\n",
    "    \"time\"\n",
    ")\n",
    "\n",
    "const defaultPort = 9999\n",
    "\n",
    "func main() {\n",
    "    // Initialize the server.\n",
    "    server := p0.New()\n",
    "    if server == nil {\n",
    "        fmt.Println(\"New() returned a nil server. Exiting...\")\n",
    "        return\n",
    "    }\n",
    "\n",
    "    // Start the server and continue listening for client connections in the background.\n",
    "    if err := server.Start(defaultPort); err != nil {\n",
    "        fmt.Printf(\"MultiEchoServer could not be started: %s\\n\", err)\n",
    "        return\n",
    "    }\n",
    "\n",
    "    fmt.Printf(\"Started MultiEchoServer on port %d...\\n\", defaultPort)\n",
    "\n",
    "    for {\n",
    "        fmt.Printf(\"num clients: %d\\n\", server.Count())\n",
    "        time.Sleep(1 * time.Second)\n",
    "    }\n",
    "    server.Close()\n",
    "}\n"
   ]
  },
  {
   "cell_type": "code",
   "execution_count": null,
   "metadata": {
    "collapsed": true
   },
   "outputs": [],
   "source": [
    "// Implementation of a MultiEchoServer. Students should write their code in this file.\n",
    "\n",
    "package p0\n",
    "\n",
    "import (\n",
    "    \"bufio\"\n",
    "    \"fmt\"\n",
    "    \"net\"\n",
    ")\n",
    "\n",
    "const (\n",
    "    clientSendQueueLen = 100\n",
    ")\n",
    "\n",
    "type multiEchoServer struct {\n",
    "    clients     map[string]*Client\n",
    "    quitChan    chan chan bool\n",
    "    newConnChan chan net.Conn\n",
    "    recieveChan chan *Packet\n",
    "}\n",
    "\n",
    "type Client struct {\n",
    "    conn        net.Conn\n",
    "    recieveChan chan<- *Packet\n",
    "    sendChan    chan string\n",
    "    quitChan    chan bool\n",
    "}\n",
    "\n",
    "type Packet struct {\n",
    "    from    net.Addr\n",
    "    message string\n",
    "    err     error\n",
    "}\n",
    "\n",
    "// New creates and returns (but does not start) a new MultiEchoServer.\n",
    "func New() *MultiEchoServer {\n",
    "    return &multiEchoServer{make(map[string]*Client), make(chan chan bool), make(chan net.Conn), make(chan *Packet)}\n",
    "}\n",
    "\n",
    "func recieve(conn net.Conn, recieveChan chan<- *Packet) {\n",
    "    reader := bufio.NewReader(conn)\n",
    "    for {\n",
    "        msgBytes, err := reader.ReadBytes('\\n')\n",
    "        if err != nil {\n",
    "            recieveChan <- &Packet{from: conn.RemoteAddr(), err: err}\n",
    "            return\n",
    "        }\n",
    "        recieveChan <- &Packet{from: conn.RemoteAddr(), message: string(msgBytes)}\n",
    "    }\n",
    "}\n",
    "\n",
    "func send(conn net.Conn, response string) {\n",
    "    if _, err := conn.Write([]byte(response)); err != nil {\n",
    "        return\n",
    "    }\n",
    "}\n",
    "\n",
    "func handle(cli *Client) {\n",
    "    go recieve(cli.conn, cli.recieveChan)\n",
    "    for {\n",
    "        select {\n",
    "        case <-cli.quitChan:\n",
    "            cli.conn.Close()\n",
    "            return\n",
    "        case m := <-cli.sendChan:\n",
    "            send(cli.conn, m)\n",
    "        }\n",
    "    }\n",
    "}\n",
    "\n",
    "func accept(listener *net.TCPListener, newConnChan chan<- net.Conn) {\n",
    "    for {\n",
    "        conn, err := listener.Accept()\n",
    "        if err != nil {\n",
    "            fmt.Printf(\"Accept error: %s\\n\", err)\n",
    "            return\n",
    "        }\n",
    "        newConnChan <- conn\n",
    "    }\n",
    "}\n",
    "\n",
    "func (mes *multiEchoServer) Serve(listener *net.TCPListener) {\n",
    "    go accept(listener, mes.newConnChan)\n",
    "    for {\n",
    "        select {\n",
    "        case conn := <-mes.newConnChan:\n",
    "            cli := &Client{conn, mes.recieveChan, make(chan string, clientSendQueueLen), make(chan bool)}\n",
    "            mes.clients[conn.RemoteAddr().String()] = cli // it's a race here, but I don't mind actually\n",
    "            go handle(cli)\n",
    "        case packet := <-mes.recieveChan:\n",
    "            if packet.err != nil {\n",
    "                delete(mes.clients, packet.from.String())\n",
    "                fmt.Printf(\"Connection read error: %s\\n\", packet.err)\n",
    "                continue\n",
    "            }\n",
    "            for _, c := range mes.clients {\n",
    "                select{\n",
    "                case c.sendChan <- packet.message:\n",
    "                    continue\n",
    "                default:\n",
    "                    continue\n",
    "                }\n",
    "            }\n",
    "        case exitChan := <-mes.quitChan:\n",
    "            listener.Close()\n",
    "            for _, c := range mes.clients {\n",
    "                c.quitChan <- true\n",
    "                delete(mes.clients, c.conn.RemoteAddr().String())\n",
    "            }\n",
    "            exitChan <- true\n",
    "            return\n",
    "        }\n",
    "    }\n",
    "}\n",
    "\n",
    "func (mes *multiEchoServer) Start(port int) error {\n",
    "    var addr *net.TCPAddr = &net.TCPAddr{IP: net.ParseIP(\"127.0.0.1\"), Port: port}\n",
    "    listener, err := net.ListenTCP(\"tcp\", addr)\n",
    "    if err != nil {\n",
    "        fmt.Printf(\"Listen error: %s\\n\", err)\n",
    "        return err\n",
    "    }\n",
    "    go mes.Serve(listener)\n",
    "    return nil\n",
    "}\n",
    "\n",
    "func (mes *multiEchoServer) Close() {\n",
    "    exitChan := make(chan bool)\n",
    "    mes.quitChan <- exitChan\n",
    "    <-exitChan\n",
    "}\n",
    "\n",
    "func (mes *multiEchoServer) Count() int {\n",
    "    return len(mes.clients)\n",
    "}\n"
   ]
  },
  {
   "cell_type": "markdown",
   "metadata": {},
   "source": [
    "Download files from Hadoop"
   ]
  },
  {
   "cell_type": "code",
   "execution_count": null,
   "metadata": {
    "collapsed": true
   },
   "outputs": [],
   "source": [
    "package main\n",
    "\n",
    "import (\n",
    "    \"bufio\"\n",
    "    \"bytes\"\n",
    "    \"flag\"\n",
    "    \"fmt\"\n",
    "    \"io\"\n",
    "    \"io/ioutil\"\n",
    "    \"log\"\n",
    "    \"net/http\"\n",
    "    \"net/url\"\n",
    "    \"os\"\n",
    "    \"path\"\n",
    "    \"runtime\"\n",
    "    \"strings\"\n",
    "    \"sync\"\n",
    "    \"time\"\n",
    "\n",
    "    // ... skipped\n",
    "    \"go.uber.org/zap\"\n",
    ")\n",
    "\n",
    "import _ \"net/http/pprof\"\n",
    "\n",
    "\n",
    "// Config весь конфиг\n",
    "type Config struct {\n",
    "    Logging    *logging.Config `toml:\"logging\"`\n",
    "    LocalRoot  string          `toml:\"local-root\"`\n",
    "    RemoteRoot string          `toml:\"remote-root\"`\n",
    "    UseMirrors bool            `toml:\"use-hdfs-proxy-mirrors\"`\n",
    "    Workers    int             `toml:\"workers\"`\n",
    "    Pprof      string          `toml:\"pprof\"`\n",
    "    MaxCPU     int             `toml:\"max-cpu\"` // сколько ядер CPU можно использовать во время работы\n",
    "}\n",
    "\n",
    "func newConfig() *Config {\n",
    "    loggingConfig := logging.NewConfig()\n",
    "    loggingConfig.Logfile = \"/var/log/user-data/user-data.log\"\n",
    "\n",
    "    return &Config{\n",
    "        Logging:    loggingConfig,\n",
    "        LocalRoot:  \"/data/user_data_fix/\",\n",
    "        RemoteRoot: \"http://hadoop.fake.domain.ru:4242/data/score/user_data/\",\n",
    "        Workers:    10,\n",
    "        Pprof:      \":9494\",\n",
    "        MaxCPU:     1,\n",
    "    }\n",
    "}\n",
    "\n",
    "// Структура для хранения задачи в процессе ее выполнения\n",
    "type Job struct {\n",
    "    sync.RWMutex\n",
    "    wg         *sync.WaitGroup\n",
    "    doneOnce   sync.Once\n",
    "    Attempt    int\n",
    "    Name       string\n",
    "    URL        string\n",
    "    SourceTime int64\n",
    "    Error      error\n",
    "    isSuccess  bool\n",
    "    DataRoot   string\n",
    "    logger     *zap.Logger\n",
    "}\n",
    "\n",
    "// Алиас к wg.Done. Нужно жать когда работа с задачей завершена\n",
    "func (job *Job) Done() {\n",
    "    job.doneOnce.Do(func() {\n",
    "        job.wg.Done()\n",
    "    })\n",
    "}\n",
    "\n",
    "// Проверка что задача завершена. Либо успешно выполнена, либо закончились попытки\n",
    "func (job *Job) IsFinished() bool {\n",
    "    job.RLock()\n",
    "    defer job.RUnlock()\n",
    "\n",
    "    if job.isSuccess {\n",
    "        return true\n",
    "    }\n",
    "\n",
    "    if job.Attempt > 5 { // @TODO: Config?\n",
    "        return true\n",
    "    }\n",
    "\n",
    "    return false\n",
    "}\n",
    "\n",
    "// Вызывается при неуспешном завершении.\n",
    "// Инкрементит количество попыток и запоминает ошибку\n",
    "func (job *Job) Fail(err error) {\n",
    "    job.Lock()\n",
    "    defer job.Unlock()\n",
    "\n",
    "    job.Attempt += 1\n",
    "    job.Error = err\n",
    "}\n",
    "\n",
    "// Проверяет нужно ли перекачивать файл\n",
    "// Сравнивает mtime файла из хадупа с mtime локального файла\n",
    "// updated/part-00000.gz-mtime\n",
    "func (job *Job) IsUpdated() bool {\n",
    "    p, _ := url.Parse(job.URL)\n",
    "    _, file := path.Split(p.Path)\n",
    "\n",
    "    mtimeFile := path.Join(job.DataRoot, \"updated\", fmt.Sprintf(\"%s-mtime\", file))\n",
    "\n",
    "    stat, err := os.Stat(mtimeFile)\n",
    "\n",
    "    if err != nil {\n",
    "        return false\n",
    "    }\n",
    "\n",
    "    if stat.ModTime().Unix() == job.SourceTime/1000 {\n",
    "        return true\n",
    "    }\n",
    "\n",
    "    return false\n",
    "}\n",
    "\n",
    "// Помечает задачу как выполненную. При этом нужно создать файл с mtime\n",
    "func (job *Job) Success() {\n",
    "    job.Lock()\n",
    "    defer job.Unlock()\n",
    "\n",
    "    job.Error = nil\n",
    "    job.isSuccess = true\n",
    "\n",
    "    // Создает локальный файл с mtime, идентичным файлу из хадупа\n",
    "    // Как маркер что скачалось и не нужно перекачивать\n",
    "    p, _ := url.Parse(job.URL)\n",
    "    _, file := path.Split(p.Path)\n",
    "\n",
    "    updatedPath := path.Join(job.DataRoot, \"updated\")\n",
    "    mtimeFile := path.Join(updatedPath, fmt.Sprintf(\"%s-mtime\", file))\n",
    "\n",
    "    if err := os.MkdirAll(updatedPath, 0755); err != nil {\n",
    "        job.logger.Error(\"mkdir failed\", zap.String(\"path\", updatedPath), zap.Error(err))\n",
    "        return\n",
    "    }\n",
    "\n",
    "    if err := ioutil.WriteFile(mtimeFile, []byte{}, 0644); err != nil {\n",
    "        job.logger.Error(\"write mtime_file failed\", zap.String(\"filename\", mtimeFile), zap.Error(err))\n",
    "        return\n",
    "    }\n",
    "\n",
    "    mtime := time.Unix(job.SourceTime/1000, 0)\n",
    "    if err := os.Chtimes(mtimeFile, mtime, mtime); err != nil {\n",
    "        job.logger.Error(\"chtime failed\", zap.String(\"filename\", mtimeFile), zap.Error(err))\n",
    "        return\n",
    "    }\n",
    "}\n",
    "\n",
    "// Пишет чанк на диск. Из ключа строит имя файла, а данные берет из буфера\n",
    "func writeChunk(dataRoot, key string, buf *bytes.Buffer) error {\n",
    "    defer buf.Reset()\n",
    "\n",
    "    if key == \"\" {\n",
    "        return nil\n",
    "    }\n",
    "\n",
    "    data := buf.Bytes()\n",
    "\n",
    "    if len(data) == 0 {\n",
    "        return nil\n",
    "    }\n",
    "\n",
    "    dirname := path.Join(dataRoot, key[:1], key[1:3])\n",
    "    filename := path.Join(dirname, fmt.Sprintf(\"%s.lz4\", key[3:]))\n",
    "    tmpFilename := path.Join(dirname, fmt.Sprintf(\".%s.lz4\", key[3:]))\n",
    "\n",
    "    var err error\n",
    "\n",
    "    if err = os.MkdirAll(dirname, 0755); err != nil {\n",
    "        return err\n",
    "    }\n",
    "\n",
    "    f, err := rbfile.New(tmpFilename, \"w9\")\n",
    "    if err != nil {\n",
    "        return err\n",
    "    }\n",
    "\n",
    "    if _, err = f.Write(data); err != nil {\n",
    "        f.Close()\n",
    "        return err\n",
    "    }\n",
    "\n",
    "    f.Close()\n",
    "\n",
    "    if err = os.Rename(tmpFilename, filename); err != nil {\n",
    "        return err\n",
    "    }\n",
    "\n",
    "    return nil\n",
    "}\n",
    "\n",
    "\n",
    "func dropLineParts(line []byte) []byte {\n",
    "    sep := []byte(\"\\t\")\n",
    "    lineParts := bytes.Split(line, sep)\n",
    "    if len(lineParts) == 3 {\n",
    "        return line\n",
    "    } else if len(lineParts) >= 6 {\n",
    "        // exclude vid uid\n",
    "        if bytes.HasPrefix(lineParts[1], []byte(\"vid=\")) {\n",
    "            return []byte{}\n",
    "        }\n",
    "        return bytes.Join([][]byte{lineParts[0], lineParts[4], lineParts[5], lineParts[6]}, sep)\n",
    "    }\n",
    "    return []byte{}\n",
    "}\n",
    "\n",
    "// Обрабатывает файл, разрезая его на чанки\n",
    "func handleFile(dataRoot, filename string) error {\n",
    "    chunkSize := 64 * 1024 * 1024\n",
    "\n",
    "    file, err := rbfile.Open(filename)\n",
    "    if err != nil {\n",
    "        return err\n",
    "    }\n",
    "    defer file.Close()\n",
    "\n",
    "    reader := bufio.NewReaderSize(file, chunkSize)\n",
    "\n",
    "    var buf bytes.Buffer\n",
    "\n",
    "    var key, prevKey string\n",
    "    var line []byte\n",
    "\n",
    "    for {\n",
    "        line, _, err = reader.ReadLine()\n",
    "        if err == io.EOF {\n",
    "            break\n",
    "        }\n",
    "        if err != nil {\n",
    "            return err\n",
    "        }\n",
    "\n",
    "        line = dropLineParts(line)\n",
    "        if len(line) == 0 {\n",
    "            continue\n",
    "        }\n",
    "\n",
    "        key = string(line[:5])\n",
    "        if key != prevKey {\n",
    "            if err = writeChunk(dataRoot, prevKey, &buf); err != nil {\n",
    "                return err\n",
    "            }\n",
    "        }\n",
    "        prevKey = key\n",
    "\n",
    "        if buf.Len() > 0 {\n",
    "            buf.WriteString(\"\\n\")\n",
    "        }\n",
    "        buf.Write(line[5:])\n",
    "    }\n",
    "\n",
    "    if err = writeChunk(dataRoot, prevKey, &buf); err != nil {\n",
    "        return err\n",
    "    }\n",
    "\n",
    "    return nil\n",
    "}\n",
    "\n",
    "// Горутина-воркер. Берет из queue задачу и пытается обработать.\n",
    "// В результате либо завершает ее, либо кладет в конец очереди на повторную обработку\n",
    "func worker(queue chan *Job, exit chan bool) {\n",
    "    for {\n",
    "        select {\n",
    "        case job := <-queue:\n",
    "            job.logger.Info(\"start\")\n",
    "            if err := handleFile(job.DataRoot, job.URL); err != nil {\n",
    "                job.Fail(err)\n",
    "                job.logger.Info(\"fail\", zap.Int(\"attempt\", job.Attempt), zap.Error(err))\n",
    "            } else {\n",
    "                job.Success()\n",
    "                job.logger.Info(\"success\")\n",
    "            }\n",
    "\n",
    "            if job.IsFinished() {\n",
    "                job.Done()\n",
    "            } else {\n",
    "                queue <- job\n",
    "            }\n",
    "        case <-exit:\n",
    "            return\n",
    "        }\n",
    "    }\n",
    "}\n",
    "\n",
    "// Получает список файлов из хадуповской HTTPFS. Генерит из него задачи\n",
    "func makeJobs(dataRoot, remoteUrl string, useMirrors bool) ([]*Job, error) {\n",
    "    u, _ := url.Parse(remoteUrl)\n",
    "    hadoopRoot := u.Path\n",
    "    u.Path = \"\"\n",
    "    u.RawQuery = \"\"\n",
    "    fs := httpfs.New(u.String(), time.Minute).Path(hadoopRoot)\n",
    "\n",
    "    files, err := fs.List()\n",
    "\n",
    "    var wg sync.WaitGroup\n",
    "    jobs := make([]*Job, 0)\n",
    "\n",
    "    if err != nil {\n",
    "        return jobs, err\n",
    "    }\n",
    "\n",
    "    for _, file := range files {\n",
    "        if !strings.HasPrefix(file.Name, \"part-\") {\n",
    "            continue\n",
    "        }\n",
    "\n",
    "        fileURL := file.OpenURL()\n",
    "        if useMirrors {\n",
    "            fileURL = file.MirrorURL()\n",
    "        }\n",
    "        newJob := &Job{\n",
    "            wg:         &wg,\n",
    "            DataRoot:   dataRoot,\n",
    "            Name:       file.Name,\n",
    "            URL:        fileURL,\n",
    "            SourceTime: file.ModificationTime,\n",
    "            logger:     zap.L().With(zap.String(\"url\", fileURL), zap.Int64(\"mtime\", file.ModificationTime)),\n",
    "        }\n",
    "\n",
    "        // Пропустить файлы, которые не нужно качать так как они и так последней версии\n",
    "        if newJob.IsUpdated() {\n",
    "            continue\n",
    "        }\n",
    "\n",
    "        jobs = append(jobs, newJob)\n",
    "        wg.Add(1)\n",
    "    }\n",
    "\n",
    "    return jobs, nil\n",
    "}\n",
    "\n",
    "func main() {\n",
    "    flag.Parse()\n",
    "\n",
    "    cfg := newConfig()\n",
    "    if err := config.Parse(cfg); err != nil {\n",
    "        log.Fatal(err.Error())\n",
    "    }\n",
    "\n",
    "    runtime.GOMAXPROCS(cfg.MaxCPU)\n",
    "\n",
    "    if err := logging.SetConfig(cfg.Logging); err != nil {\n",
    "        log.Fatal(err.Error())\n",
    "    }\n",
    "\n",
    "    if cfg.Pprof != \"\" {\n",
    "        go func() {\n",
    "            log.Fatal(http.ListenAndServe(cfg.Pprof, nil))\n",
    "        }()\n",
    "    }\n",
    "\n",
    "    // Составляет список задач\n",
    "    jobs, err := makeJobs(cfg.LocalRoot, cfg.RemoteRoot, cfg.UseMirrors)\n",
    "\n",
    "    if err != nil {\n",
    "        logging.Error(err.Error())\n",
    "        return\n",
    "    }\n",
    "\n",
    "    if jobs == nil || len(jobs) == 0 {\n",
    "        logging.Info(\"No new files in %s\", cfg.RemoteRoot)\n",
    "        return\n",
    "    }\n",
    "\n",
    "    wg := jobs[0].wg\n",
    "\n",
    "    // делаем очередь задач из массива\n",
    "    queue := make(chan *Job, len(jobs))\n",
    "\n",
    "    for _, job := range jobs {\n",
    "        queue <- job\n",
    "    }\n",
    "\n",
    "    workerExit := make(chan bool)\n",
    "    defer close(workerExit)\n",
    "\n",
    "    for i := 0; i < cfg.Workers; i++ {\n",
    "        go func() {\n",
    "            worker(queue, workerExit)\n",
    "        }()\n",
    "    }\n",
    "\n",
    "    // ожидать завершение всех воркеров\n",
    "    wg.Wait()\n",
    "}\n"
   ]
  },
  {
   "cell_type": "markdown",
   "metadata": {},
   "source": [
    "### References"
   ]
  },
  {
   "cell_type": "markdown",
   "metadata": {},
   "source": [
    "* https://golang.org/doc/code.html\n",
    "* https://tour.golang.org/welcome/1\n",
    "* https://golang.org/doc/effective_go.html\n",
    "* https://dave.cheney.net/2014/03/19/channel-axioms\n",
    "* http://www.golang-book.com/\n",
    "* http://divan.github.io/posts/go_concurrency_visualize/\n",
    "* https://making.pusher.com/golangs-real-time-gc-in-theory-and-practice/\n",
    "* https://habrahabr.ru/post/259967/\n",
    "* https://roberto.selbach.ca/intro-to-go-modules/\n",
    "* http://devs.cloudimmunity.com/gotchas-and-common-mistakes-in-go-golang/index.html\n",
    "* http://www.jtolds.com/writing/2016/03/go-channels-are-bad-and-you-should-feel-bad/\n",
    "* https://github.com/ardanlabs/gotraining\n",
    "* http://dmitryvorobev.blogspot.com/2016/08/golang-channels-implementation.html\n",
    "* https://gist.github.com/agalitsyn/813c34591c794eb761e4d97d7d31624e\n",
    "* https://blog.plan99.net/modern-garbage-collection-911ef4f8bd8e\n",
    "* https://rakyll.org/scheduler/"
   ]
  },
  {
   "cell_type": "markdown",
   "metadata": {},
   "source": [
    "### Summary"
   ]
  },
  {
   "cell_type": "markdown",
   "metadata": {},
   "source": [
    "* Go is cool and shiny!"
   ]
  },
  {
   "cell_type": "markdown",
   "metadata": {},
   "source": [
    "![intern](https://secure.meetupstatic.com/photos/event/7/9/b/8/highres_450331160.jpeg)"
   ]
  },
  {
   "cell_type": "markdown",
   "metadata": {},
   "source": [
    "## Memory"
   ]
  },
  {
   "cell_type": "markdown",
   "metadata": {},
   "source": [
    "Fitting more into a machine’s RAM means fewer machines to manage, and it gives you a route to planning capacity for larger projects. Knowing why RAM gets eaten up and considering more efficient ways to use this scarce resource will help you deal with scaling issues."
   ]
  },
  {
   "cell_type": "markdown",
   "metadata": {},
   "source": [
    "#### Consumption"
   ]
  },
  {
   "cell_type": "markdown",
   "metadata": {},
   "source": [
    "Primitive object are expensive"
   ]
  },
  {
   "cell_type": "code",
   "execution_count": 4,
   "metadata": {},
   "outputs": [
    {
     "name": "stdout",
     "output_type": "stream",
     "text": [
      "The memory_profiler extension is already loaded. To reload it, use:\n",
      "  %reload_ext memory_profiler\n"
     ]
    }
   ],
   "source": [
    "%load_ext memory_profiler"
   ]
  },
  {
   "cell_type": "code",
   "execution_count": 7,
   "metadata": {},
   "outputs": [
    {
     "name": "stdout",
     "output_type": "stream",
     "text": [
      "peak memory: 789.94 MiB, increment: 765.55 MiB\n"
     ]
    }
   ],
   "source": [
    "%memit [0]*int(10**8)"
   ]
  },
  {
   "cell_type": "code",
   "execution_count": 8,
   "metadata": {},
   "outputs": [
    {
     "name": "stdout",
     "output_type": "stream",
     "text": [
      "peak memory: 47.78 MiB, increment: 0.04 MiB\n"
     ]
    }
   ],
   "source": [
    "%memit"
   ]
  },
  {
   "cell_type": "code",
   "execution_count": 9,
   "metadata": {},
   "outputs": [
    {
     "name": "stdout",
     "output_type": "stream",
     "text": [
      "peak memory: 957.55 MiB, increment: 909.76 MiB\n"
     ]
    }
   ],
   "source": [
    "%memit range(int(10**8))"
   ]
  },
  {
   "cell_type": "markdown",
   "metadata": {},
   "source": [
    "The array module efficiently stores primitive types like integers, floats, and characters, but not complex numbers or classes. It creates a contiguous block of RAM to hold the underlying data."
   ]
  },
  {
   "cell_type": "code",
   "execution_count": 2,
   "metadata": {},
   "outputs": [
    {
     "name": "stdout",
     "output_type": "stream",
     "text": [
      "peak memory: 373.14 MiB, increment: 331.29 MiB\n"
     ]
    }
   ],
   "source": [
    "import array\n",
    "%memit array.array('l', xrange(int(1e8)))"
   ]
  },
  {
   "cell_type": "markdown",
   "metadata": {},
   "source": [
    "Note that the unique numbers in the array are not Python objects; they are bytes in the array. If we were to dereference any of them, then a new Python int object would be constructed."
   ]
  },
  {
   "cell_type": "markdown",
   "metadata": {},
   "source": [
    "Be aware that the byte size is platform-dependent"
   ]
  },
  {
   "cell_type": "code",
   "execution_count": 11,
   "metadata": {},
   "outputs": [
    {
     "name": "stdout",
     "output_type": "stream",
     "text": [
      "peak memory: 40.31 MiB, increment: 0.01 MiB\n",
      "100000000\n",
      "800000000\n",
      "8\n",
      "8\n"
     ]
    }
   ],
   "source": [
    "import numpy as np\n",
    "%memit arr = np.zeros(10**8, np.uint64)\n",
    "print arr.size\n",
    "print arr.nbytes\n",
    "print arr.nbytes/arr.size\n",
    "print arr.itemsize"
   ]
  },
  {
   "cell_type": "markdown",
   "metadata": {},
   "source": [
    "Python’s `sys.getsizeof(obj)` call will tell us something about the memory used by an object "
   ]
  },
  {
   "cell_type": "code",
   "execution_count": 12,
   "metadata": {},
   "outputs": [
    {
     "name": "stdout",
     "output_type": "stream",
     "text": [
      "24\n",
      "24\n"
     ]
    },
    {
     "data": {
      "text/plain": [
       "36"
      ]
     },
     "execution_count": 12,
     "metadata": {},
     "output_type": "execute_result"
    }
   ],
   "source": [
    "import sys\n",
    "print sys.getsizeof(int())\n",
    "print sys.getsizeof(1)\n",
    "n = sys.maxint+1\n",
    "sys.getsizeof(n)"
   ]
  },
  {
   "cell_type": "code",
   "execution_count": 13,
   "metadata": {},
   "outputs": [
    {
     "name": "stdout",
     "output_type": "stream",
     "text": [
      "37\n",
      "38\n",
      "39\n"
     ]
    }
   ],
   "source": [
    "print sys.getsizeof(b\"\")\n",
    "print sys.getsizeof(b\"a\")\n",
    "print sys.getsizeof(b\"ab\")"
   ]
  },
  {
   "cell_type": "code",
   "execution_count": 14,
   "metadata": {},
   "outputs": [
    {
     "name": "stdout",
     "output_type": "stream",
     "text": [
      "72\n",
      "80\n",
      "88\n"
     ]
    }
   ],
   "source": [
    "print sys.getsizeof([])\n",
    "print sys.getsizeof([1])\n",
    "print sys.getsizeof([1,2])"
   ]
  },
  {
   "cell_type": "code",
   "execution_count": 15,
   "metadata": {},
   "outputs": [
    {
     "name": "stdout",
     "output_type": "stream",
     "text": [
      "80\n",
      "80\n"
     ]
    }
   ],
   "source": [
    "print sys.getsizeof([b\"\"])\n",
    "print sys.getsizeof([b\"abcdefghijklm\"])"
   ]
  },
  {
   "cell_type": "markdown",
   "metadata": {},
   "source": [
    "`getsizeof` only reports some of the cost, and often just for the parent object. It also isn’t always implemented, so it can have limited usefulness."
   ]
  },
  {
   "cell_type": "markdown",
   "metadata": {},
   "source": [
    "#### Text lookup"
   ]
  },
  {
   "cell_type": "code",
   "execution_count": null,
   "metadata": {
    "collapsed": true
   },
   "outputs": [],
   "source": [
    "import codecs\n",
    "\n",
    "# \"Moby Words lists by Grady Ward\"\n",
    "# http://www.gutenberg.org/ebooks/3201\n",
    "SUMMARISED_FILE = \"all_unique_words.txt\"  # 500k approx\n",
    "CODEC = 'Windows-1252'\n",
    "\n",
    "\n",
    "\n",
    "def read_words(filename):\n",
    "    # return words from filename using a generator\n",
    "    try:\n",
    "        with codecs.open(filename, 'r', CODEC) as f:\n",
    "            for line_nbr, line in enumerate(f):\n",
    "                items = line.strip().split()\n",
    "                for item in items:\n",
    "                    yield item\n",
    "    except UnicodeDecodeError:\n",
    "        print \"UnicodeDecodeError for {} near line {} and word {}\".format(filename, line_nbr, line)\n",
    "\n",
    "readers = read_words(SUMMARISED_FILE)"
   ]
  },
  {
   "cell_type": "code",
   "execution_count": null,
   "metadata": {
    "collapsed": true
   },
   "outputs": [],
   "source": [
    "import time\n",
    "import timeit\n",
    "import memory_profiler\n",
    "import bisect\n",
    "\n",
    "\n",
    "def index(a, x):\n",
    "    'Locate the leftmost value exactly equal to x'\n",
    "    i = bisect.bisect_left(a, x)\n",
    "    if i != len(a) and a[i] == x:\n",
    "        return i\n",
    "    raise ValueError\n",
    "\n",
    "\n",
    "if __name__ == \"__main__\":\n",
    "    print \"RAM at start {:0.1f}MiB\".format(memory_profiler.memory_usage()[0])\n",
    "    t1 = time.time()\n",
    "    words = [w for w in text_example.readers]\n",
    "    print \"Loading {} words\".format(len(words))\n",
    "    t2 = time.time()\n",
    "    print \"RAM after creating list {:0.1f}MiB, took {:0.1f}s\".format(memory_profiler.memory_usage()[0], t2 - t1)\n",
    "    print \"The list contains {} words\".format(len(words))\n",
    "    words.sort()\n",
    "    t3 = time.time()\n",
    "    print \"Sorting list took {:0.1f}s\".format(t3 - t2)\n",
    "\n",
    "    assert u'Zwiebel' in words\n",
    "    time_cost = sum(timeit.repeat(stmt=\"index(words, u'Zwiebel')\",\n",
    "                                  setup=\"from __main__ import words, index\",\n",
    "                                  number=1,\n",
    "                                  repeat=10000))\n",
    "    print \"Summed time to lookup word {:0.4f}s\".format(time_cost)"
   ]
  },
  {
   "cell_type": "code",
   "execution_count": null,
   "metadata": {
    "collapsed": true
   },
   "outputs": [],
   "source": [
    "import marisa_trie\n",
    "\n",
    "\n",
    "print \"RAM at start {:0.1f}MiB\".format(memory_profiler.memory_usage()[0])\n",
    "# avoid building a temporary list of words in Python, store directly in the trie\n",
    "t1 = time.time()\n",
    "words_trie = marisa_trie.Trie(text_example.readers)\n",
    "t2 = time.time()\n",
    "print \"RAM after creating trie {:0.1f}MiB, took {:0.1f}s\".format(memory_profiler.memory_usage()[0], t2 - t1)\n",
    "print \"The trie contains {} words\".format(len(words_trie))\n",
    "\n",
    "assert u'Zwiebel' in words_trie\n",
    "time_cost = sum(timeit.repeat(stmt=\"u'Zwiebel' in words_trie\",\n",
    "                              setup=\"from __main__ import words_trie\",\n",
    "                              number=1,\n",
    "                              repeat=10000))\n",
    "print \"Summed time to lookup word {:0.4f}s\".format(time_cost)"
   ]
  },
  {
   "cell_type": "markdown",
   "metadata": {},
   "source": [
    "#### Probabilistic datastructures"
   ]
  },
  {
   "cell_type": "markdown",
   "metadata": {},
   "source": [
    "Bloom filter"
   ]
  },
  {
   "cell_type": "markdown",
   "metadata": {},
   "source": [
    "![bloom](https://upload.wikimedia.org/wikipedia/commons/thumb/a/ac/Bloom_filter.svg/1280px-Bloom_filter.svg.png)"
   ]
  },
  {
   "cell_type": "code",
   "execution_count": 1,
   "metadata": {},
   "outputs": [],
   "source": [
    "import bitarray\n",
    "import math\n",
    "import mmh3\n",
    "\n",
    "\n",
    "class BloomFilter(object):\n",
    "\n",
    "    def __init__(self, capacity, error=0.005):\n",
    "        \"\"\"\n",
    "        Initialize a bloom filter with given capacity and false positive rate\n",
    "        \"\"\"\n",
    "        self.capacity = capacity\n",
    "        self.error = error\n",
    "        self.num_bits = int(-capacity * math.log(error) / math.log(2) ** 2) + 1\n",
    "        self.num_hashes = int(\n",
    "            self.num_bits * math.log(2) / float(capacity)) + 1\n",
    "        self.data = bitarray.bitarray(self.num_bits)\n",
    "\n",
    "    def _indexes(self, key):\n",
    "        h1, h2 = mmh3.hash64(key)\n",
    "        for i in xrange(self.num_hashes):\n",
    "            yield (h1 + i * h2) % self.num_bits\n",
    "\n",
    "    def add(self, key):\n",
    "        for index in self._indexes(key):\n",
    "            self.data[index] = True\n",
    "\n",
    "    def __contains__(self, key):\n",
    "        return all(self.data[index] for index in self._indexes(key))\n",
    "\n",
    "    def __len__(self):\n",
    "        num_bits_on = self.data.count(True)\n",
    "        return -1.0 * self.num_bits * \\\n",
    "            math.log(1.0 - num_bits_on / float(self.num_bits)) / \\\n",
    "            float(self.num_hashes)\n",
    "\n",
    "    @staticmethod\n",
    "    def union(bloom_a, bloom_b):\n",
    "        assert bloom_a.capacity == bloom_b.capacity, \"Capacities must be equal\"\n",
    "        assert bloom_a.error == bloom_b.error, \"Error rates must be equal\"\n",
    "\n",
    "        bloom_union = BloomFilter(bloom_a.capacity, bloom_a.error)\n",
    "        bloom_union.data = bloom_a.data | bloom_b.data\n",
    "        return bloom_union"
   ]
  },
  {
   "cell_type": "code",
   "execution_count": 22,
   "metadata": {},
   "outputs": [],
   "source": [
    "class ScalingBloomFilter(object):\n",
    "\n",
    "    def __init__(self, capacity, error=0.005, max_fill=0.8,\n",
    "                 error_tightening_ratio=0.5):\n",
    "        self.capacity = capacity\n",
    "        self.base_error = error\n",
    "        self.max_fill = max_fill\n",
    "        self.items_until_scale = int(capacity * max_fill)\n",
    "        self.error_tightening_ratio = error_tightening_ratio\n",
    "        self.bloom_filters = []\n",
    "        self.current_bloom = None\n",
    "        self._add_bloom()\n",
    "\n",
    "    def _add_bloom(self):\n",
    "        new_error = self.base_error * \\\n",
    "            self.error_tightening_ratio ** len(self.bloom_filters)\n",
    "        new_bloom = BloomFilter(self.capacity, new_error)\n",
    "        self.bloom_filters.append(new_bloom)\n",
    "        self.current_bloom = new_bloom\n",
    "        return new_bloom\n",
    "\n",
    "    def add(self, key):\n",
    "        if key in self:\n",
    "            return True\n",
    "        self.current_bloom.add(key)\n",
    "        self.items_until_scale -= 1\n",
    "        if self.items_until_scale == 0:\n",
    "            bloom_size = len(self.current_bloom)\n",
    "            bloom_max_capacity = int(\n",
    "                self.current_bloom.capacity * self.max_fill)\n",
    "\n",
    "            # We may have been adding many duplicate values into the bloom, so\n",
    "            # we need to check if we actually need to scale or if we still have\n",
    "            # space\n",
    "            if bloom_size >= bloom_max_capacity:\n",
    "                self._add_bloom()\n",
    "                self.items_until_scale = bloom_max_capacity\n",
    "            else:\n",
    "                self.items_until_scale = int(bloom_max_capacity - bloom_size)\n",
    "        return False\n",
    "\n",
    "    def __contains__(self, key):\n",
    "        return any(key in bloom for bloom in self.bloom_filters)\n",
    "\n",
    "    def __len__(self):\n",
    "        return sum(len(bloom) for bloom in self.bloom_filters)"
   ]
  },
  {
   "cell_type": "markdown",
   "metadata": {},
   "source": [
    "One caveat with this is that you can only take the union of two Blooms with the same capacity and error rate. Furthermore, the final Bloom’s used capacity can be as high as the sum of the used capacities of the two Blooms unioned to make it."
   ]
  },
  {
   "cell_type": "code",
   "execution_count": 2,
   "metadata": {},
   "outputs": [
    {
     "name": "stdout",
     "output_type": "stream",
     "text": [
      "True\n",
      "True\n",
      "False\n"
     ]
    }
   ],
   "source": [
    "bloom = BloomFilter(100)\n",
    "for i in xrange(50):\n",
    "    bloom.add(str(i))\n",
    "print \"20\" in bloom\n",
    "print \"25\" in bloom\n",
    "print \"51\" in bloom"
   ]
  },
  {
   "cell_type": "code",
   "execution_count": 3,
   "metadata": {},
   "outputs": [
    {
     "name": "stdout",
     "output_type": "stream",
     "text": [
      "11\n",
      "9938\n",
      "0.00110563875766\n",
      "0.005\n"
     ]
    }
   ],
   "source": [
    "num_false_positives = 0\n",
    "num_true_negatives = 0\n",
    "for i in xrange(51, 10000):\n",
    "    if str(i) in bloom:\n",
    "        num_false_positives += 1\n",
    "    else:\n",
    "        num_true_negatives += 1\n",
    "\n",
    "print num_false_positives\n",
    "print num_true_negatives\n",
    "print num_false_positives / float(10000 - 51)\n",
    "print bloom.error"
   ]
  },
  {
   "cell_type": "markdown",
   "metadata": {},
   "source": [
    "LogLog"
   ]
  },
  {
   "cell_type": "markdown",
   "metadata": {},
   "source": [
    "![log](https://image.slidesharecdn.com/hlldemo-160623175742/95/hyperloglog-project-6-638.jpg?cb=1467924030)"
   ]
  },
  {
   "cell_type": "code",
   "execution_count": 6,
   "metadata": {},
   "outputs": [],
   "source": [
    "def trailing_zeros(number):\n",
    "    \"\"\"\n",
    "    Returns the 1-based index of the first bit set to 1 from the right side of a\n",
    "    32bit integer\n",
    "    >>> trailing_zeros(0)\n",
    "    32\n",
    "    >>> trailing_zeros(0b1000)\n",
    "    4\n",
    "    >>> trailing_zeros(0b10000000)\n",
    "    8\n",
    "    \"\"\"\n",
    "    if not number:\n",
    "        return 32\n",
    "    index = 0\n",
    "    while (number >> index) & 1 == 0:\n",
    "        index += 1\n",
    "    return index + 1\n",
    "\n",
    "\n",
    "class LLRegister(object):\n",
    "    counter = 0\n",
    "\n",
    "    def add(self, item):\n",
    "        item_hash = mmh3.hash(str(item))\n",
    "        return self._add(item_hash)\n",
    "\n",
    "    def _add(self, item_hash):\n",
    "        bit_index = trailing_zeros(item_hash)\n",
    "        if bit_index > self.counter:\n",
    "            self.counter = bit_index\n",
    "\n",
    "    def __len__(self):\n",
    "        return 2 ** self.counter"
   ]
  },
  {
   "cell_type": "code",
   "execution_count": 8,
   "metadata": {
    "collapsed": true
   },
   "outputs": [],
   "source": [
    "class LL(object):\n",
    "\n",
    "    def __init__(self, p):\n",
    "        self.p = p\n",
    "        self.num_registers = 2 ** p\n",
    "        self.registers = [LLRegister() for i in xrange(int(2 ** p))]\n",
    "        self.alpha = 0.7213 / (1.0 + 1.079 / self.num_registers)\n",
    "\n",
    "    def add(self, item):\n",
    "        item_hash = mmh3.hash(str(item))\n",
    "        register_index = item_hash & (self.num_registers - 1)\n",
    "        register_hash = item_hash >> self.p\n",
    "        self.registers[register_index]._add(register_hash)\n",
    "\n",
    "    def __len__(self):\n",
    "        register_sum = sum(h.counter for h in self.registers)\n",
    "        return 2 ** (float(register_sum) / self.num_registers) * \\\n",
    "            self.num_registers * self.alpha"
   ]
  },
  {
   "cell_type": "code",
   "execution_count": 9,
   "metadata": {},
   "outputs": [
    {
     "name": "stdout",
     "output_type": "stream",
     "text": [
      "99907\n"
     ]
    }
   ],
   "source": [
    "import math\n",
    "\n",
    "\n",
    "class HyperLogLog(LL):\n",
    "\n",
    "    def __len__(self):\n",
    "        indicator = sum(2 ** -m.counter for m in self.registers)\n",
    "        E = self.alpha * (self.num_registers ** 2) / float(indicator)\n",
    "\n",
    "        if E <= 5.0 / 2.0 * self.num_registers:\n",
    "            V = sum(1 for m in self.registers if m.counter == 0)\n",
    "            if V != 0:\n",
    "                Estar = self.num_registers * \\\n",
    "                    math.log(self.num_registers / (1.0 * V), 2)\n",
    "            else:\n",
    "                Estar = E\n",
    "        else:\n",
    "            if E <= 2 ** 32 / 30.0:\n",
    "                Estar = E\n",
    "            else:\n",
    "                Estar = -2 ** 32 * math.log(1 - E / 2 ** 32, 2)\n",
    "        return Estar\n",
    "\n",
    "\n",
    "hll = HyperLogLog(8)\n",
    "for i in xrange(100000):\n",
    "    hll.add(mmh3.hash(str(i)))\n",
    "print len(hll)"
   ]
  },
  {
   "cell_type": "markdown",
   "metadata": {},
   "source": [
    "### References"
   ]
  },
  {
   "cell_type": "markdown",
   "metadata": {},
   "source": [
    "* http://code.activestate.com/recipes/546530/\n",
    "* https://highlyscalable.wordpress.com/2012/05/01/probabilistic-structures-web-analytics-data-mining/\n",
    "* https://blog.acolyer.org/2016/03/17/hyperloglog-in-practice-algorithmic-engineering-of-a-state-of-the-art-cardinality-estimation-algorithm/"
   ]
  },
  {
   "cell_type": "markdown",
   "metadata": {},
   "source": [
    "### Summary"
   ]
  },
  {
   "cell_type": "markdown",
   "metadata": {},
   "source": [
    "* this datastructures could be quite useful at higload setup"
   ]
  }
 ],
 "metadata": {
  "kernelspec": {
   "display_name": "Python 3",
   "language": "python",
   "name": "python3"
  },
  "language_info": {
   "codemirror_mode": {
    "name": "ipython",
    "version": 2
   },
   "file_extension": ".py",
   "mimetype": "text/x-python",
   "name": "python",
   "nbconvert_exporter": "python",
   "pygments_lexer": "ipython2",
   "version": "2.7.10"
  }
 },
 "nbformat": 4,
 "nbformat_minor": 1
}
