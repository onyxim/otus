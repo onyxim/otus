{
 "cells": [
  {
   "cell_type": "markdown",
   "metadata": {},
   "source": [
    "# #13 Extensions"
   ]
  },
  {
   "cell_type": "markdown",
   "metadata": {},
   "source": [
    "1. [Extension](#Extension)\n",
    "2. [Cython](#Cython)\n",
    "3. [Pypy](#Pypy)\n",
    "4. [Foreign Function Interfaces](#Foreign-Function-Interfaces)\n",
    "\t1. [ctypes](#ctypes)\n",
    "\t2. [cffi](#cffi)"
   ]
  },
  {
   "cell_type": "markdown",
   "metadata": {},
   "source": [
    "### Extension"
   ]
  },
  {
   "cell_type": "markdown",
   "metadata": {},
   "source": [
    "![c](https://pics.me.me/assembly-pimpmygun-doctorn-c-python-19950587.png)"
   ]
  },
  {
   "cell_type": "markdown",
   "metadata": {},
   "source": [
    "Homework example"
   ]
  },
  {
   "cell_type": "code",
   "execution_count": null,
   "metadata": {
    "collapsed": true
   },
   "outputs": [],
   "source": [
    "#include <Python.h>\n",
    "#include <stdio.h>\n",
    "#include <stdlib.h>\n",
    "#include <stdint.h>\n",
    "#include <string.h>\n",
    "#include \"deviceapps.pb-c.h\"\n",
    "\n",
    "#define MAGIC  0xFFFFFFFF\n",
    "#define DEVICE_APPS_TYPE 1\n",
    "\n",
    "typedef struct pbheader_s {\n",
    "    uint32_t magic;\n",
    "    uint16_t type;\n",
    "    uint16_t length;\n",
    "} pbheader_t;\n",
    "#define PBHEADER_INIT {MAGIC, 0, 0}\n",
    "\n",
    "\n",
    "// https://github.com/protobuf-c/protobuf-c/wiki/Examples\n",
    "void example() {\n",
    "    DeviceApps msg = DEVICE_APPS__INIT;\n",
    "    DeviceApps__Device device = DEVICE_APPS__DEVICE__INIT;\n",
    "    void *buf;\n",
    "    unsigned len;\n",
    "\n",
    "    char *device_id = \"e7e1a50c0ec2747ca56cd9e1558c0d7c\";\n",
    "    char *device_type = \"idfa\";\n",
    "    device.has_id = 1;\n",
    "    device.id.data = (uint8_t*)device_id;\n",
    "    device.id.len = strlen(device_id);\n",
    "    device.has_type = 1;\n",
    "    device.type.data = (uint8_t*)device_type;\n",
    "    device.type.len = strlen(device_type);\n",
    "    msg.device = &device;\n",
    "\n",
    "    msg.has_lat = 1;\n",
    "    msg.lat = 67.7835424444;\n",
    "    msg.has_lon = 1;\n",
    "    msg.lon = -22.8044005471;\n",
    "\n",
    "    msg.n_apps = 3;\n",
    "    msg.apps = malloc(sizeof(uint32_t) * msg.n_apps);\n",
    "    msg.apps[0] = 42;\n",
    "    msg.apps[1] = 43;\n",
    "    msg.apps[2] = 44;\n",
    "    len = device_apps__get_packed_size(&msg);\n",
    "\n",
    "    buf = malloc(len);\n",
    "    device_apps__pack(&msg, buf);\n",
    "\n",
    "    fprintf(stderr,\"Writing %d serialized bytes\\n\",len); // See the length of message\n",
    "    fwrite(buf, len, 1, stdout); // Write to stdout to allow direct command line piping\n",
    "\n",
    "    free(msg.apps);\n",
    "    free(buf);\n",
    "}\n",
    "\n",
    "// Read iterator of Python dicts\n",
    "// Pack them to DeviceApps protobuf and write to file with appropriate header\n",
    "// Return number of written bytes as Python integer\n",
    "static PyObject* py_deviceapps_xwrite_pb(PyObject* self, PyObject* args) {\n",
    "    const char* path;\n",
    "    PyObject* o;\n",
    "\n",
    "    if (!PyArg_ParseTuple(args, \"Os\", &o, &path))\n",
    "        return NULL;\n",
    "\n",
    "    printf(\"Write to: %s\\n\", path);\n",
    "    Py_RETURN_NONE;\n",
    "}\n",
    "\n",
    "// Unpack only messages with type == DEVICE_APPS_TYPE\n",
    "// Return iterator of Python dicts\n",
    "static PyObject* py_deviceapps_xread_pb(PyObject* self, PyObject* args) {\n",
    "    const char* path;\n",
    "\n",
    "    if (!PyArg_ParseTuple(args, \"s\", &path))\n",
    "        return NULL;\n",
    "\n",
    "    printf(\"Read from: %s\\n\", path);\n",
    "    Py_RETURN_NONE;\n",
    "}\n",
    "\n",
    "\n",
    "static PyMethodDef PBMethods[] = {\n",
    "     {\"deviceapps_xwrite_pb\", py_deviceapps_xwrite_pb, METH_VARARGS, \"Write serialized protobuf to file from iterator\"},\n",
    "     {\"deviceapps_xread_pb\", py_deviceapps_xread_pb, METH_VARARGS, \"Deserialize protobuf from file, return iterator\"},\n",
    "     {NULL, NULL, 0, NULL}\n",
    "};\n",
    "\n",
    "\n",
    "PyMODINIT_FUNC initpb(void) {\n",
    "     (void) Py_InitModule(\"pb\", PBMethods);\n",
    "}\n"
   ]
  },
  {
   "cell_type": "code",
   "execution_count": null,
   "metadata": {
    "collapsed": true
   },
   "outputs": [],
   "source": [
    "from setuptools import setup, Extension\n",
    "\n",
    "module1 = Extension(\"pb\",\n",
    "                    sources=[\"pb.c\", \"deviceapps.pb-c.c\"],\n",
    "                    extra_compile_args=[\"-g\"],\n",
    "                    libraries=[\"protobuf-c\"],\n",
    "                    library_dirs=[\"/usr/lib\"],\n",
    "                    include_dirs=[\"/usr/include/google/protobuf-c/\"],\n",
    "                    )\n",
    "\n",
    "setup(name=\"pb\",\n",
    "      version=\"1.0\",\n",
    "      description=\"Protobuf (de)serializer\",\n",
    "      test_suite=\"tests\",\n",
    "      ext_modules=[module1])"
   ]
  },
  {
   "cell_type": "code",
   "execution_count": null,
   "metadata": {
    "collapsed": true
   },
   "outputs": [],
   "source": [
    "import os\n",
    "import unittest\n",
    "\n",
    "import pb\n",
    "MAGIC = 0xFFFFFFFF\n",
    "DEVICE_APPS_TYPE = 1\n",
    "TEST_FILE = \"test.pb.gz\"\n",
    "\n",
    "\n",
    "class TestPB(unittest.TestCase):\n",
    "    deviceapps = [\n",
    "        {\"device\": {\"type\": \"idfa\", \"id\": \"e7e1a50c0ec2747ca56cd9e1558c0d7c\"},\n",
    "         \"lat\": 67.7835424444, \"lon\": -22.8044005471, \"apps\": [1, 2, 3, 4]},\n",
    "        {\"device\": {\"type\": \"gaid\", \"id\": \"e7e1a50c0ec2747ca56cd9e1558c0d7d\"}, \"lat\": 42, \"lon\": -42, \"apps\": [1, 2]},\n",
    "        {\"device\": {\"type\": \"gaid\", \"id\": \"e7e1a50c0ec2747ca56cd9e1558c0d7d\"}, \"lat\": 42, \"lon\": -42, \"apps\": []},\n",
    "        {\"device\": {\"type\": \"gaid\", \"id\": \"e7e1a50c0ec2747ca56cd9e1558c0d7d\"}, \"apps\": [1]},\n",
    "    ]\n",
    "\n",
    "    def tearDown(self):\n",
    "        os.remove(TEST_FILE)\n",
    "\n",
    "    def test_write(self):\n",
    "        bytes_written = pb.deviceapps_xwrite_pb(self.deviceapps, TEST_FILE)\n",
    "        self.assertTrue(bytes_written > 0)\n",
    "        # check magic, type, etc.\n",
    "\n",
    "    @unittest.skip(\"Optional problem\")\n",
    "    def test_read(self):\n",
    "        pb.deviceapps_xwrite_pb(self.deviceapps, TEST_FILE)\n",
    "        for i, d in pb.deviceapps_xread_pb(TEST_FILE):\n",
    "            self.assertEqual(d, self.deviceapps[i])\n"
   ]
  },
  {
   "cell_type": "markdown",
   "metadata": {},
   "source": [
    "C++ binding"
   ]
  },
  {
   "cell_type": "code",
   "execution_count": null,
   "metadata": {
    "collapsed": true
   },
   "outputs": [],
   "source": [
    "#include <Python.h>\n",
    "#include <stdio.h>\n",
    "#include <stdlib.h>\n",
    "#include <unistd.h>\n",
    "\n",
    "#include <boost/scoped_ptr.hpp>\n",
    "#include <boost/property_tree/ptree.hpp>\n",
    "#include <boost/property_tree/json_parser.hpp>\n",
    "#include <boost/foreach.hpp>\n",
    "\n",
    "#include <s2polygon.h>\n",
    "#include <s2polygonbuilder.h>\n",
    "#include <s2regioncoverer.h>\n",
    "\n",
    "PyDoc_STRVAR(py_cover_geojson_doc,\n",
    "    \"cover_geojson(path, only_id=True, max_cells=4096, min_level=0, max_level=30, level_mod=1)\\n\"\n",
    "    \"--\\n\\n\"\n",
    "    \"Computes Google S2 covering for polygons defined in GeoJSON specified by path.\\n\"\n",
    "    \"Return list of results.\\n\"\n",
    "    \"only_id - return id or full cell representation\\n\"\n",
    "    \"max_cells - upper limit for number of cells to cover a region\\n\"\n",
    "    \"min_level - minumum cell level to cover\\n\"\n",
    "    \"max_level - maximum cell level to cover\\n\"\n",
    "    \"level_mod - if specified, then only cells where (level - min_level) is a multiple of \"\n",
    "    \"`level_mod` will be used (default 1). This effectively allows the branching \"\n",
    "    \"factor of the S2CellId hierarchy to be increased. Currently the only \"\n",
    "    \"parameter values allowed are 1, 2, or 3, corresponding to branching factors \"\n",
    "    \"of 4, 16, and 64 respectively.\\n\"\n",
    ");\n",
    "\n",
    "static PyObject* py_cover_geojson(PyObject* self, PyObject* args, PyObject *kwargs) {\n",
    "    const char* path;\n",
    "    int only_id = 1;\n",
    "    int max_cells = 4096;\n",
    "    int min_level = 0;\n",
    "    int max_level = 30;\n",
    "    int level_mod = 1;\n",
    "\n",
    "    static char *kwlist[] = {\"path\", \"only_id\", \"max_cells\", \"min_level\", \"max_level\", \"level_mod\", NULL};\n",
    "    if (!PyArg_ParseTupleAndKeywords(args, kwargs, \"s|BIIII\", kwlist, &path, &only_id, &max_cells, &min_level, &max_level, &level_mod)) {\n",
    "        return NULL;\n",
    "    }\n",
    "\n",
    "    if (only_id == 0) {\n",
    "        PyErr_SetString(PyExc_NotImplementedError, \"Can only return cell ids\");\n",
    "        return NULL;      \n",
    "    }\n",
    "\n",
    "    if (access(path, F_OK) == -1 ) {\n",
    "        PyErr_Format(PyExc_OSError, \"No such file: %s\", path);\n",
    "        return NULL;\n",
    "    }\n",
    "\n",
    "    S2RegionCoverer coverer;\n",
    "    coverer.set_level_mod(level_mod);\n",
    "    coverer.set_min_level(min_level);\n",
    "    coverer.set_max_level(max_level);\n",
    "    coverer.set_max_cells(max_cells);\n",
    "\n",
    "    using boost::property_tree::ptree;\n",
    "    std::ifstream jsonFile(path);\n",
    "    ptree pt;\n",
    "    try {\n",
    "        read_json(jsonFile, pt);\n",
    "    } catch(boost::property_tree::json_parser::json_parser_error &je) {\n",
    "        PyErr_SetString(PyExc_ValueError, \"Cannot parse JSON from file\");\n",
    "        return NULL;          \n",
    "    }\n",
    "    double coordinate[2];\n",
    "    std::vector<S2Point> s2points_vector;\n",
    "    PyObject *res = PyList_New(0);\n",
    "    BOOST_FOREACH(const ptree::value_type &polygonsList, pt.get_child(\"geojson.geometries..coordinates\")) {\n",
    "        unsigned i = 0;\n",
    "        BOOST_FOREACH(const ptree::value_type &ring, polygonsList.second) {\n",
    "            // exterior ring\n",
    "            if (i == 0) {\n",
    "                // missed code...\n",
    "                int r;\n",
    "                unsigned j;\n",
    "                for (j = 0; j < cellids_vector.size(); j++) {\n",
    "                    if (only_id) {\n",
    "                        r = PyList_Append(res, PyLong_FromUnsignedLongLong(cellids_vector[j].id()));\n",
    "                        if (r == -1) {\n",
    "                            PyErr_SetString(PyExc_RuntimeError, \"Cannot append to list\");\n",
    "                            return NULL;\n",
    "                        }\n",
    "                    }\n",
    "                }\n",
    "                s2points_vector.clear();\n",
    "            }\n",
    "            i++;\n",
    "        }\n",
    "    }\n",
    "    return res;\n",
    "}\n",
    "\n",
    "\n",
    "static PyMethodDef S2Methods[] = {\n",
    "    {\"cover_geojson\", (PyCFunction)py_cover_geojson, METH_VARARGS | METH_KEYWORDS, py_cover_geojson_doc},\n",
    "    {NULL, NULL, 0, NULL}\n",
    "};\n",
    "\n",
    "\n",
    "PyMODINIT_FUNC initrbs2(void) {\n",
    "    (void) Py_InitModule3(\"rbs2\", S2Methods, \"Google S2 for RB\");\n",
    "}\n"
   ]
  },
  {
   "cell_type": "code",
   "execution_count": null,
   "metadata": {
    "collapsed": true
   },
   "outputs": [],
   "source": [
    "import sys\n",
    "import subprocess\n",
    "from setuptools import setup, Extension\n",
    "\n",
    "if \"clean\" not in sys.argv:\n",
    "    subprocess.call([\"make\", \"-C\", \"s2-geometry-library/geometry/\"])\n",
    "\n",
    "module1 = Extension(\"rbs2\",\n",
    "                    sources=[\"rbs2.cpp\"],\n",
    "                    extra_compile_args=[\n",
    "                        \"-O2\",\n",
    "                        \"-fPIC\",\n",
    "                        \"-DHAVE_CONFIG_H\",\n",
    "                        \"-Wno-deprecated\",\n",
    "                        \"-Wno-write-strings\",\n",
    "                        \"-fno-strict-aliasing\",\n",
    "                        \"-pthread\"\n",
    "                    ],\n",
    "                    libraries=[\n",
    "                        \"s2\",\n",
    "                        \"s2cellid\",\n",
    "                        \"google-util-coding\",\n",
    "                        \"google-util-math\",\n",
    "                        \"google-strings\",\n",
    "                        \"google-base\",\n",
    "                        \"ssl\",\n",
    "                        \"z\",\n",
    "                    ],\n",
    "                    library_dirs=[\"s2-geometry-library/geometry/\"],\n",
    "                    include_dirs=[\".\", \"s2-geometry-library/geometry/\"],\n",
    "                    )\n",
    "\n",
    "setup(name=\"rbs2\",\n",
    "      version=\"0.1\",\n",
    "      description=\"Google S2 binding for RB\",\n",
    "      test_suite=\"tests\",\n",
    "      ext_modules=[module1])\n"
   ]
  },
  {
   "cell_type": "code",
   "execution_count": null,
   "metadata": {
    "collapsed": true
   },
   "outputs": [],
   "source": [
    "import os\n",
    "import unittest\n",
    "\n",
    "import rbs2\n",
    "\n",
    "TEST_GEOJSON = \"tests/geo.json\"\n",
    "\n",
    "\n",
    "class TestS2(unittest.TestCase):\n",
    "\n",
    "    def test_cover(self):\n",
    "        expected = [9727172662748250112L, 9727178160306388992L, 9727180359329644544L, 9727207847120338944L,\n",
    "                    9727229837352894464L, 9727251827585449984L, 9727278215864516608L, 9727287011957538816L,\n",
    "                    9727313400236605440L, 9727335390469160960L]\n",
    "        cell_ids = rbs2.cover_geojson(TEST_GEOJSON, only_id=True, max_cells=10)\n",
    "        self.assertEqual(sorted(cell_ids), expected)\n",
    "        self.assertEqual(len(rbs2.cover_geojson(TEST_GEOJSON)), 2908)\n",
    "\n",
    "    def test_nofile(self):\n",
    "        self.assertRaises(OSError, rbs2.cover_geojson, \"nosuchfile\")\n",
    "\n",
    "    def test_badjson(self):\n",
    "        f = \"bad.json\"\n",
    "        open(f, \"w\").close()\n",
    "        self.assertRaises(ValueError, rbs2.cover_geojson, f)\n",
    "        os.remove(f)\n",
    "\n",
    "    def test_not_ids(self):\n",
    "        self.assertRaises(NotImplementedError, rbs2.cover_geojson, TEST_GEOJSON, False)\n"
   ]
  },
  {
   "cell_type": "raw",
   "metadata": {},
   "source": [
    "# ldd rbs2.so\n",
    "\tlinux-vdso.so.1 =>  (0x00007fffbf08b000)\n",
    "\tlibssl.so.10 => /usr/lib64/libssl.so.10 (0x00007f3e78d8c000)\n",
    "\tlibz.so.1 => /lib64/libz.so.1 (0x00007f3e78b76000)\n",
    "\tlibpython2.6.so.1.0 => /usr/lib64/libpython2.6.so.1.0 (0x00007f3e787cf000)\n",
    "\tlibstdc++.so.6 => /usr/local/gcc-4.8.2/lib64/libstdc++.so.6 (0x00007f3e784ba000)\n",
    "\tlibm.so.6 => /lib64/libm.so.6 (0x00007f3e78236000)\n",
    "\tlibgcc_s.so.1 => /usr/local/gcc-4.8.2/lib64/libgcc_s.so.1 (0x00007f3e7801f000)\n",
    "\tlibpthread.so.0 => /lib64/libpthread.so.0 (0x00007f3e77e02000)\n",
    "\tlibc.so.6 => /lib64/libc.so.6 (0x00007f3e77a6e000)\n",
    "\tlibgssapi_krb5.so.2 => /lib64/libgssapi_krb5.so.2 (0x00007f3e77829000)\n",
    "\tlibkrb5.so.3 => /lib64/libkrb5.so.3 (0x00007f3e77542000)\n",
    "\tlibcom_err.so.2 => /lib64/libcom_err.so.2 (0x00007f3e7733e000)\n",
    "\tlibk5crypto.so.3 => /lib64/libk5crypto.so.3 (0x00007f3e77111000)\n",
    "\tlibcrypto.so.10 => /usr/lib64/libcrypto.so.10 (0x00007f3e76d2c000)\n",
    "\tlibdl.so.2 => /lib64/libdl.so.2 (0x00007f3e76b28000)\n",
    "\tlibutil.so.1 => /lib64/libutil.so.1 (0x00007f3e76924000)\n",
    "\t/lib64/ld-linux-x86-64.so.2 (0x00007f3e792a6000)\n",
    "\tlibkrb5support.so.0 => /lib64/libkrb5support.so.0 (0x00007f3e76719000)\n",
    "\tlibkeyutils.so.1 => /lib64/libkeyutils.so.1 (0x00007f3e76516000)\n",
    "\tlibresolv.so.2 => /lib64/libresolv.so.2 (0x00007f3e762fb000)\n",
    "\tlibselinux.so.1 => /lib64/libselinux.so.1 (0x00007f3e760dc000)"
   ]
  },
  {
   "cell_type": "markdown",
   "metadata": {},
   "source": [
    "Build dict"
   ]
  },
  {
   "cell_type": "code",
   "execution_count": null,
   "metadata": {
    "collapsed": true
   },
   "outputs": [],
   "source": [
    "#include <Python.h>\n",
    "#include <stdio.h>\n",
    "#include <stdlib.h>\n",
    "#include <inttypes.h>\n",
    "#include <string.h>\n",
    "#include <zlib.h>\n",
    "#include \"rbfile.h\"\n",
    "#define FREQUENCY_COUNT 33 \n",
    "\n",
    "typedef struct __attribute__((packed)){\n",
    "    uint64_t id;\n",
    "    unsigned short shows;\n",
    "    unsigned short clicks;\n",
    "} record;\n",
    "\n",
    "typedef struct {\n",
    "    unsigned long long all_shows, all_clicks, uniq_shows, uniq_clicks;\n",
    "    unsigned long long shows_frequency[FREQUENCY_COUNT], clicks_frequency[FREQUENCY_COUNT];\n",
    "} counters;\n",
    "    \n",
    "static void count(rbfile_t *fp, counters *cnt) {\n",
    "// ...\n",
    "}\n",
    "\n",
    "static PyObject * py_get_counters(PyObject *self, PyObject *args, PyObject *kwargs) {\n",
    "    static PyObject *error;\n",
    "    char *in, *etype;\n",
    "    uint32_t eid;\n",
    "    uint32_t as_json = 0;\n",
    "    uint32_t key_size = 8;\n",
    "    static char *kwlist[] = {\"filepath\", \"entity_type\", \"entity_id\", \"key_size\", \"as_json\", NULL};\n",
    "    if (!PyArg_ParseTupleAndKeywords(args, kwargs, \"ssI|IB\", kwlist, &in, &etype, &eid, &key_size, &as_json)) {\n",
    "        PyErr_SetString(error, \"Can't parse args\");\n",
    "        return NULL;\n",
    "    }\n",
    "    counters cnt;\n",
    "    cnt.all_shows = cnt.all_clicks = cnt.uniq_shows = cnt.uniq_clicks = 0;\n",
    "    memset(cnt.shows_frequency, 0, sizeof(cnt.shows_frequency));\n",
    "    memset(cnt.clicks_frequency, 0, sizeof(cnt.clicks_frequency));\n",
    "\n",
    "    rbfile_t *fp = rbfile_new();\n",
    "    fp->open(fp, in, \"rb\");\n",
    "    if (fp != 0) {\n",
    "        count(fp, &cnt);\n",
    "    }\n",
    "    else {\n",
    "        PyErr_SetString(error, \"Can't open file\");\n",
    "        return NULL;        \n",
    "    }\n",
    "    fp->close(fp);\n",
    "    rbfile_delete(&fp);\n",
    "    \n",
    "    if (!as_json) {\n",
    "        PyObject *slist = PyList_New(FREQUENCY_COUNT);\n",
    "        PyObject *clist = PyList_New(FREQUENCY_COUNT);\n",
    "        if (!slist || !clist) {\n",
    "            PyErr_SetString(error, \"Can't alloc memory\");\n",
    "            return NULL;\n",
    "        }\n",
    "\n",
    "        uint32_t f;\n",
    "        for (f = 0; f < FREQUENCY_COUNT; ++f) {\n",
    "            if (PyList_SetItem(slist, f, Py_BuildValue(\"K\", cnt.shows_frequency[f])) == -1 \n",
    "                || PyList_SetItem(clist, f, Py_BuildValue(\"K\", cnt.clicks_frequency[f])) == -1) {\n",
    "                PyErr_SetString(error, \"Can't add result to response\");\n",
    "                Py_DECREF(slist);\n",
    "                Py_DECREF(clist);\n",
    "                return NULL;\n",
    "            }\n",
    "        }\n",
    "\n",
    "        PyObject * result = Py_BuildValue(\"{s:s,s:I,s:K,s:K,s:K,s:K,s:O,s:O}\", \n",
    "                             \"type\", etype, \n",
    "                             \"id\", eid, \n",
    "                             \"shows_all\", cnt.all_shows, \n",
    "                             \"clicks_all\", cnt.all_clicks, \n",
    "                             \"shows_uniq\", cnt.uniq_shows, \n",
    "                             \"clicks_uniq\", cnt.uniq_clicks, \n",
    "                             \"shows_freq\", slist, \n",
    "                             \"clicks_freq\", clist\n",
    "                            );\n",
    "        Py_DECREF(slist);\n",
    "        Py_DECREF(clist);\n",
    "        return result;\n",
    "    }\n",
    "    else {\n",
    "        char json[1024];\n",
    "        char *pos = json;\n",
    "        pos += sprintf(pos, \"{\\\"type\\\": \\\"%s\\\", \\\"id\\\": %d, \\\"shows_uniq\\\": %llu, \\\"shows_all\\\": %llu, \\\"clicks_uniq\\\": %llu, \\\"clicks_all\\\": %llu\", etype, eid, cnt.uniq_shows, cnt.all_shows, cnt.uniq_clicks, cnt.all_clicks);\n",
    "\n",
    "        pos += sprintf(pos, \", \\\"shows_freq\\\": [%llu\", cnt.shows_frequency[0]);\n",
    "        uint32_t f;\n",
    "        for (f = 1; f < FREQUENCY_COUNT; ++f)\n",
    "            pos += sprintf(pos, \", %llu\", cnt.shows_frequency[f]);\n",
    "        pos += sprintf(pos, \"]\");\n",
    "\n",
    "        pos += sprintf(pos, \", \\\"clicks_freq\\\": [%llu\", cnt.clicks_frequency[0]);\n",
    "        for (f = 1; f < FREQUENCY_COUNT; ++f)\n",
    "            pos += sprintf(pos, \", %llu\", cnt.clicks_frequency[f]);\n",
    "        pos += sprintf(pos, \"]}\");\n",
    "        return Py_BuildValue(\"s\", json);\n",
    "    }\n",
    "    Py_RETURN_NONE;\n",
    "}\n",
    "\n",
    "static PyMethodDef Methods[] = {\n",
    "    {\"get_counters\", (PyCFunction)py_get_counters, METH_VARARGS | METH_KEYWORDS, \"Parse rbuniq file and count useful info.\"},\n",
    "    {NULL, NULL, 0, NULL}\n",
    "};\n",
    "\n",
    "PyMODINIT_FUNC initrbuniq(void) {\n",
    "    PyObject *m;\n",
    "    \n",
    "    m = Py_InitModule(\"rbuniq\", Methods);\n",
    "    if (!m) {\n",
    "        return;\n",
    "    }\n",
    "}\n",
    "\n",
    "int main(int argc, char **argv) {\n",
    "    Py_SetProgramName(argv[0]);\n",
    "    Py_Initialize();\n",
    "    initrbuniq();\n",
    "    return 0;\n",
    "}\n"
   ]
  },
  {
   "cell_type": "code",
   "execution_count": null,
   "metadata": {
    "collapsed": true
   },
   "outputs": [],
   "source": [
    "from distutils.core import setup, Extension\n",
    "\n",
    "\n",
    "module1 = Extension('rbuniq',\n",
    "                    extra_compile_args=['-DHAVE_ZLIB=1', '-DHAVE_LZ4=1'],\n",
    "                    include_dirs=['../../src/rbfile/'],\n",
    "                    sources=['rbuniq.c', '../../src/rbfile/rbfile.c'],\n",
    "                    extra_link_args=['-lz', '-llz4'])\n",
    "setup(name='rbuniq', description='python wrapper for rbuniq', ext_modules=[module1])\n"
   ]
  },
  {
   "cell_type": "markdown",
   "metadata": {},
   "source": [
    "Custom error and GIL release"
   ]
  },
  {
   "cell_type": "code",
   "execution_count": null,
   "metadata": {
    "collapsed": true
   },
   "outputs": [],
   "source": [
    "static PyObject *error;\n",
    "\n",
    "static PyObject *py_targets_negative(PyObject *self, PyObject *args) {\n",
    "\n",
    "\tchar *all, *in, *out;\n",
    "\tint has_header = 1;\n",
    "\tint key64 = 0;\n",
    "\tchar errorstr[8192];\n",
    "\tint has_error = 0;\n",
    "\terrorstr[0] = 0;\n",
    "\n",
    "\tif (!PyArg_ParseTuple(args, \"sss|BB\", &all, &in, &out, &has_header, &key64)) {\n",
    "\t\tPyErr_SetString(error, \"Can't parse args\");\n",
    "\t\treturn NULL;\n",
    "\t}\n",
    "\n",
    "\tPy_BEGIN_ALLOW_THREADS\n",
    "\n",
    "\tint key_size = sizeof(uint32_t);\n",
    "\tif (key64)\n",
    "\t\tkey_size = sizeof(uint64_t);\n",
    "\n",
    "\tif (targets_negative(all, in, out, has_header, key_size, errorstr, sizeof(errorstr)) != 0) {\n",
    "\t\thas_error = 1;\n",
    "\t}\n",
    "\n",
    "\tPy_END_ALLOW_THREADS\n",
    "\n",
    "\tif (has_error) {\n",
    "\t\tPyErr_SetString(error, errorstr);\n",
    "\t\treturn NULL;\n",
    "\t}\n",
    "\n",
    "\tPy_INCREF(Py_None);\n",
    "\treturn Py_None;\n",
    "}\n",
    "\n",
    "PyMODINIT_FUNC initrbcapacityd_py(void) {\n",
    "\n",
    "\tPyObject *m;\n",
    "\n",
    "\tm = Py_InitModule(\"rbcapacityd_py\", RbMethods);\n",
    "\tif (!m)\n",
    "\t\treturn;\n",
    "\n",
    "\terror = PyErr_NewException(\"rbcapacityd_py.error\", NULL, NULL);\n",
    "\tPy_INCREF(error);\n",
    "\tPyModule_AddObject(m, \"error\", error);\n",
    "}\n",
    "\n",
    "\n",
    "int main(int argc, char **argv) {\n",
    "\n",
    "\tPy_SetProgramName(argv[0]);\n",
    "\tPy_Initialize();\n",
    "\tinitrbcapacityd_py();\n",
    "\treturn 0;\n",
    "}"
   ]
  },
  {
   "cell_type": "markdown",
   "metadata": {},
   "source": [
    "Add constants"
   ]
  },
  {
   "cell_type": "code",
   "execution_count": null,
   "metadata": {
    "collapsed": true
   },
   "outputs": [],
   "source": [
    "PyMODINIT_FUNC initrbgraph_c(void) {\n",
    "  PyObject *m;\n",
    "\n",
    "  m = Py_InitModule(\"rbgraph_c\", RbMethods);\n",
    "  if (!m) {\n",
    "    return;\n",
    "  }\n",
    "  \n",
    "  RbError = PyErr_NewException(\"rbgraph_c.error\", NULL, NULL);\n",
    "  Py_INCREF(RbError);\n",
    "  PyModule_AddObject(m, \"error\", RbError);\n",
    "\n",
    "  PyModule_AddIntConstant (m, \"STAT_SHOW\", STAT_SHOW);\n",
    "  PyModule_AddIntConstant (m, \"STAT_CLK\", STAT_CLK);\n",
    "  PyModule_AddIntConstant (m, \"STAT_EMPTY\", STAT_EMPTY);\n",
    "  PyModule_AddIntConstant (m, \"STAT_BANNER_EVENT\", STAT_BANNER_EVENT);\n",
    "\n",
    "}\n",
    "\n",
    "\n",
    "int main(int argc, char **argv) {\n",
    "  Py_SetProgramName(argv[0]);\n",
    "  Py_Initialize();\n",
    "  initrbgraph_c();\n",
    "  return 0;\n",
    "}"
   ]
  },
  {
   "cell_type": "markdown",
   "metadata": {},
   "source": [
    "Iterator"
   ]
  },
  {
   "cell_type": "code",
   "execution_count": null,
   "metadata": {
    "collapsed": true
   },
   "outputs": [],
   "source": [
    "#include <Python.h>\n",
    "\n",
    "#include <stdlib.h>\n",
    "#include <stdint.h>\n",
    "#include <inttypes.h>\n",
    "#include <stdbool.h>\n",
    "#include <stdio.h>\n",
    "#include <string.h>\n",
    "#include <ctype.h>\n",
    "\n",
    "#include <tarantool/tnt.h>\n",
    "#include <tarantool/tnt_net.h>\n",
    "#include <tarantool/tnt_snapshot.h>\n",
    "\n",
    "static PyObject *SnapshotError;\n",
    "\n",
    "typedef struct {\n",
    "    PyObject_HEAD\n",
    "    struct tnt_stream stream;\n",
    "    struct tnt_iter iter;\n",
    "    struct tnt_iter iter_tuple;\n",
    "    int open_exception;\n",
    "    int iter_created;\n",
    "} SnapshotIterator;\n",
    "\n",
    "static PyMethodDef SnapshotIterator_Methods[] = {\n",
    "    {NULL}  /* Sentinel */\n",
    "};\n",
    "\n",
    "static int SnapshotIterator_init(SnapshotIterator *self, PyObject *args);\n",
    "PyObject* SnapshotIterator_del(SnapshotIterator *self);\n",
    "PyObject* SnapshotIterator_iter(SnapshotIterator *self);\n",
    "PyObject* SnapshotIterator_iternext(SnapshotIterator *self);\n",
    "\n",
    "static PyTypeObject SnapshotIterator_Type = {\n",
    "    PyObject_HEAD_INIT(NULL)\n",
    "    0,                         /*ob_size*/\n",
    "    \"tarantool_snapshot.SnapshotIterator\",      /*tp_name*/\n",
    "    sizeof(SnapshotIterator),      /*tp_basicsize*/\n",
    "    0,                         /*tp_itemsize*/\n",
    "    (destructor)SnapshotIterator_del,             /*tp_dealloc*/\n",
    "    0,                         /*tp_print*/\n",
    "    0,                         /*tp_getattr*/\n",
    "    0,                         /*tp_setattr*/\n",
    "    0,                         /*tp_compare*/\n",
    "    0,                         /*tp_repr*/\n",
    "    0,                         /*tp_as_number*/\n",
    "    0,                         /*tp_as_sequence*/\n",
    "    0,                         /*tp_as_mapping*/\n",
    "    0,                         /*tp_hash */\n",
    "    0,                         /*tp_call*/\n",
    "    0,                         /*tp_str*/\n",
    "    0,                         /*tp_getattro*/\n",
    "    0,                         /*tp_setattro*/\n",
    "    0,                         /*tp_as_buffer*/\n",
    "    Py_TPFLAGS_DEFAULT | Py_TPFLAGS_HAVE_ITER,\n",
    "        /*\n",
    "         * tp_flags: Py_TPFLAGS_HAVE_ITER tells python to\n",
    "         * use tp_iter and tp_iternext fields.\n",
    "        */\n",
    "    \"SnapshotIterator\",                /* tp_doc */\n",
    "    0,                         /* tp_traverse */\n",
    "    0,                         /* tp_clear */\n",
    "    0,                         /* tp_richcompare */\n",
    "    0,                         /* tp_weaklistoffset */\n",
    "    (getiterfunc)SnapshotIterator_iter,  /* tp_iter: __iter__() method */\n",
    "    (iternextfunc)SnapshotIterator_iternext,  /* tp_iternext: next() method */\n",
    "    SnapshotIterator_Methods,          /* tp_methods */\n",
    "    0,                         /* tp_members */\n",
    "    0,                         /* tp_getset */\n",
    "    0,                         /* tp_base */\n",
    "    0,                         /* tp_dict */\n",
    "    0,                         /* tp_descr_get */\n",
    "    0,                         /* tp_descr_set */\n",
    "    0,                         /* tp_dictoffset */\n",
    "    (initproc)SnapshotIterator_init,   /* tp_init */\n",
    "    0                          /* tp_alloc */\n",
    "};\n",
    "\n",
    "static int SnapshotIterator_init(SnapshotIterator *self, PyObject *args) {\n",
    "    char *filename = NULL;\n",
    "    //size_t len = 0;\n",
    "    self->open_exception = 0;\n",
    "    self->iter_created = 0;\n",
    "    \n",
    "    if (!PyArg_ParseTuple(args, \"s\", &filename)) {\n",
    "        return 1;\n",
    "    }\n",
    "    \n",
    "    tnt_snapshot(&(self->stream));\n",
    "    \n",
    "    if (tnt_snapshot_open(&(self->stream), filename) == -1) {\n",
    "        self->open_exception = 1;\n",
    "        return 1;\n",
    "    }\n",
    "\n",
    "    return 0;\n",
    "}\n",
    "\n",
    "void create_iterator_if_required(SnapshotIterator* self) {\n",
    "    if (self->iter_created) {\n",
    "        return;\n",
    "    }\n",
    "    tnt_iter_storage(&(self->iter), &(self->stream));\n",
    "    self->iter_created = 1;\n",
    "}\n",
    "\n",
    "PyObject* SnapshotIterator_iter(SnapshotIterator* self) {\n",
    "    if (self->open_exception) {\n",
    "        PyErr_Format(SnapshotError, \"Can't open snapshot\");\n",
    "        return NULL;\n",
    "    }\n",
    "    create_iterator_if_required(self);\n",
    "    Py_INCREF(self);\n",
    "    return (PyObject*)self;\n",
    "}\n",
    "\n",
    "PyObject* SnapshotIterator_iternext(SnapshotIterator* self) {\n",
    "    create_iterator_if_required(self);\n",
    "    if (tnt_next(&(self->iter))) {\n",
    "        struct tnt_iter_storage *is = TNT_ISTORAGE(&(self->iter));\n",
    "        struct tnt_stream_snapshot* ss = TNT_SSNAPSHOT_CAST(TNT_ISTORAGE_STREAM(&(self->iter)));\n",
    "        \n",
    "        PyObject *tuple = PyList_New(0);\n",
    "        PyObject *s;\n",
    "        \n",
    "        tnt_iter(&(self->iter_tuple), &is->t);\n",
    "        while (tnt_next(&(self->iter_tuple))) {\n",
    "            char *data = TNT_IFIELD_DATA(&(self->iter_tuple));\n",
    "            uint32_t size = TNT_IFIELD_SIZE(&(self->iter_tuple));\n",
    "            s = PyString_FromStringAndSize(data, size);\n",
    "            PyList_Append(tuple, s);\n",
    "            Py_DECREF(s);\n",
    "            //printf(\"size: %d\\n\", size);\n",
    "        }\n",
    "        if (self->iter_tuple.status == TNT_ITER_FAIL){\n",
    "            PyErr_Format(SnapshotError, \"parsing error\");\n",
    "            return NULL;\n",
    "        }\n",
    "        tnt_iter_free(&(self->iter_tuple));\n",
    "        \n",
    "        PyObject* tuple_as_tuple = PyList_AsTuple(tuple);\n",
    "        PyObject* ret = Py_BuildValue(\"(I,O)\", ss->log.current.row_snap.space, tuple_as_tuple);\n",
    "        Py_DECREF(tuple_as_tuple);\n",
    "        Py_DECREF(tuple);\n",
    "        return ret;\n",
    "    }\n",
    "    if (self->iter.status == TNT_ITER_FAIL) {\n",
    "        PyErr_Format(SnapshotError, \"Parsing failed: %s\", tnt_snapshot_strerror(&(self->stream)));\n",
    "        return NULL;\n",
    "    }\n",
    "    return NULL;\n",
    "}\n",
    "\n",
    "PyObject* SnapshotIterator_del(SnapshotIterator* self) {\n",
    "    if (self->iter_created) {\n",
    "        tnt_iter_free(&(self->iter));\n",
    "    }\n",
    "    tnt_stream_free(&(self->stream));\n",
    "    PyObject_Del(self);\n",
    "    \n",
    "    Py_RETURN_NONE;\n",
    "}\n",
    "\n",
    "static PyMethodDef TarantoolSnapshot_Module_Methods[] = {\n",
    "    {NULL}  /* Sentinel */\n",
    "};\n",
    "\n",
    "PyMODINIT_FUNC inittarantool_snapshot(void) {\n",
    "    PyObject *m;\n",
    "\n",
    "    SnapshotIterator_Type.tp_new = PyType_GenericNew;\n",
    "    if (PyType_Ready(&SnapshotIterator_Type) < 0)  return;\n",
    "\n",
    "    m = Py_InitModule(\"tarantool_snapshot\", TarantoolSnapshot_Module_Methods);\n",
    "    if (!m) {\n",
    "        return;\n",
    "    }\n",
    "\n",
    "    Py_INCREF(&SnapshotIterator_Type);\n",
    "    PyModule_AddObject(m, \"iter\", (PyObject *)&SnapshotIterator_Type);\n",
    "\n",
    "    SnapshotError = PyErr_NewException(\"tarantool_snapshot.SnapshotError\", NULL, NULL);\n",
    "    Py_INCREF(SnapshotError);\n",
    "    PyModule_AddObject(m, \"SnapshotError\", SnapshotError); \n",
    "}\n",
    "\n",
    "int main(int argc, char **argv) {\n",
    "    Py_SetProgramName(argv[0]);\n",
    "    Py_Initialize();\n",
    "    inittarantool_snapshot();\n",
    "    return 0;\n",
    "}\n"
   ]
  },
  {
   "cell_type": "markdown",
   "metadata": {},
   "source": [
    "New types"
   ]
  },
  {
   "cell_type": "code",
   "execution_count": null,
   "metadata": {
    "collapsed": true
   },
   "outputs": [],
   "source": [
    "#include <Python.h>\n",
    "#include \"structmember.h\"\n",
    "\n",
    "typedef struct {\n",
    "    PyObject_HEAD\n",
    "    PyObject *first; /* first name */\n",
    "    PyObject *last;  /* last name */\n",
    "    int number;\n",
    "} Noddy;\n",
    "\n",
    "static void\n",
    "Noddy_dealloc(Noddy* self)\n",
    "{\n",
    "    Py_XDECREF(self->first);\n",
    "    Py_XDECREF(self->last);\n",
    "    Py_TYPE(self)->tp_free((PyObject*)self);\n",
    "}\n",
    "\n",
    "static PyObject *\n",
    "Noddy_new(PyTypeObject *type, PyObject *args, PyObject *kwds)\n",
    "{\n",
    "    Noddy *self;\n",
    "\n",
    "    self = (Noddy *)type->tp_alloc(type, 0);\n",
    "    if (self != NULL) {\n",
    "        self->first = PyString_FromString(\"\");\n",
    "        if (self->first == NULL) {\n",
    "            Py_DECREF(self);\n",
    "            return NULL;\n",
    "        }\n",
    "\n",
    "        self->last = PyString_FromString(\"\");\n",
    "        if (self->last == NULL) {\n",
    "            Py_DECREF(self);\n",
    "            return NULL;\n",
    "        }\n",
    "\n",
    "        self->number = 0;\n",
    "    }\n",
    "\n",
    "    return (PyObject *)self;\n",
    "}\n",
    "\n",
    "static int\n",
    "Noddy_init(Noddy *self, PyObject *args, PyObject *kwds)\n",
    "{\n",
    "    PyObject *first=NULL, *last=NULL, *tmp;\n",
    "\n",
    "    static char *kwlist[] = {\"first\", \"last\", \"number\", NULL};\n",
    "\n",
    "    if (! PyArg_ParseTupleAndKeywords(args, kwds, \"|OOi\", kwlist,\n",
    "                                      &first, &last,\n",
    "                                      &self->number))\n",
    "        return -1;\n",
    "\n",
    "    if (first) {\n",
    "        tmp = self->first;\n",
    "        Py_INCREF(first);\n",
    "        self->first = first;\n",
    "        Py_XDECREF(tmp);\n",
    "    }\n",
    "\n",
    "    if (last) {\n",
    "        tmp = self->last;\n",
    "        Py_INCREF(last);\n",
    "        self->last = last;\n",
    "        Py_XDECREF(tmp);\n",
    "    }\n",
    "\n",
    "    return 0;\n",
    "}\n",
    "\n",
    "\n",
    "static PyMemberDef Noddy_members[] = {\n",
    "    {\"first\", T_OBJECT_EX, offsetof(Noddy, first), 0,\n",
    "     \"first name\"},\n",
    "    {\"last\", T_OBJECT_EX, offsetof(Noddy, last), 0,\n",
    "     \"last name\"},\n",
    "    {\"number\", T_INT, offsetof(Noddy, number), 0,\n",
    "     \"noddy number\"},\n",
    "    {NULL}  /* Sentinel */\n",
    "};\n",
    "\n",
    "static PyObject *\n",
    "Noddy_name(Noddy* self)\n",
    "{\n",
    "    static PyObject *format = NULL;\n",
    "    PyObject *args, *result;\n",
    "\n",
    "    if (format == NULL) {\n",
    "        format = PyString_FromString(\"%s %s\");\n",
    "        if (format == NULL)\n",
    "            return NULL;\n",
    "    }\n",
    "\n",
    "    if (self->first == NULL) {\n",
    "        PyErr_SetString(PyExc_AttributeError, \"first\");\n",
    "        return NULL;\n",
    "    }\n",
    "\n",
    "    if (self->last == NULL) {\n",
    "        PyErr_SetString(PyExc_AttributeError, \"last\");\n",
    "        return NULL;\n",
    "    }\n",
    "\n",
    "    args = Py_BuildValue(\"OO\", self->first, self->last);\n",
    "    if (args == NULL)\n",
    "        return NULL;\n",
    "\n",
    "    result = PyString_Format(format, args);\n",
    "    Py_DECREF(args);\n",
    "\n",
    "    return result;\n",
    "}\n",
    "\n",
    "static PyMethodDef Noddy_methods[] = {\n",
    "    {\"name\", (PyCFunction)Noddy_name, METH_NOARGS,\n",
    "     \"Return the name, combining the first and last name\"\n",
    "    },\n",
    "    {NULL}  /* Sentinel */\n",
    "};\n",
    "\n",
    "static PyTypeObject NoddyType = {\n",
    "    PyVarObject_HEAD_INIT(NULL, 0)\n",
    "    \"noddy.Noddy\",             /* tp_name */\n",
    "    sizeof(Noddy),             /* tp_basicsize */\n",
    "    0,                         /* tp_itemsize */\n",
    "    (destructor)Noddy_dealloc, /* tp_dealloc */\n",
    "    0,                         /* tp_print */\n",
    "    0,                         /* tp_getattr */\n",
    "    0,                         /* tp_setattr */\n",
    "    0,                         /* tp_compare */\n",
    "    0,                         /* tp_repr */\n",
    "    0,                         /* tp_as_number */\n",
    "    0,                         /* tp_as_sequence */\n",
    "    0,                         /* tp_as_mapping */\n",
    "    0,                         /* tp_hash */\n",
    "    0,                         /* tp_call */\n",
    "    0,                         /* tp_str */\n",
    "    0,                         /* tp_getattro */\n",
    "    0,                         /* tp_setattro */\n",
    "    0,                         /* tp_as_buffer */\n",
    "    Py_TPFLAGS_DEFAULT |\n",
    "        Py_TPFLAGS_BASETYPE,   /* tp_flags */\n",
    "    \"Noddy objects\",           /* tp_doc */\n",
    "    0,                         /* tp_traverse */\n",
    "    0,                         /* tp_clear */\n",
    "    0,                         /* tp_richcompare */\n",
    "    0,                         /* tp_weaklistoffset */\n",
    "    0,                         /* tp_iter */\n",
    "    0,                         /* tp_iternext */\n",
    "    Noddy_methods,             /* tp_methods */\n",
    "    Noddy_members,             /* tp_members */\n",
    "    0,                         /* tp_getset */\n",
    "    0,                         /* tp_base */\n",
    "    0,                         /* tp_dict */\n",
    "    0,                         /* tp_descr_get */\n",
    "    0,                         /* tp_descr_set */\n",
    "    0,                         /* tp_dictoffset */\n",
    "    (initproc)Noddy_init,      /* tp_init */\n",
    "    0,                         /* tp_alloc */\n",
    "    Noddy_new,                 /* tp_new */\n",
    "};\n",
    "\n",
    "static PyMethodDef module_methods[] = {\n",
    "    {NULL}  /* Sentinel */\n",
    "};\n",
    "\n",
    "#ifndef PyMODINIT_FUNC\t/* declarations for DLL import/export */\n",
    "#define PyMODINIT_FUNC void\n",
    "#endif\n",
    "PyMODINIT_FUNC\n",
    "initnoddy2(void)\n",
    "{\n",
    "    PyObject* m;\n",
    "\n",
    "    if (PyType_Ready(&NoddyType) < 0)\n",
    "        return;\n",
    "\n",
    "    m = Py_InitModule3(\"noddy2\", module_methods,\n",
    "                       \"Example module that creates an extension type.\");\n",
    "\n",
    "    if (m == NULL)\n",
    "        return;\n",
    "\n",
    "    Py_INCREF(&NoddyType);\n",
    "    PyModule_AddObject(m, \"Noddy\", (PyObject *)&NoddyType);\n",
    "}"
   ]
  },
  {
   "cell_type": "markdown",
   "metadata": {},
   "source": [
    "### References"
   ]
  },
  {
   "cell_type": "markdown",
   "metadata": {},
   "source": [
    "* https://www.crumpington.com/blog/2014/10-19-high-performance-python-extensions-part-1.html\n",
    "* http://www.scipy-lectures.org/advanced/interfacing_with_c/interfacing_with_c.html\n",
    "* https://www.youtube.com/watch?v=phe1s6p38gk\n",
    "* https://www.paypal-engineering.com/2016/09/22/python-by-the-c-side/\n",
    "* http://pythonextensionpatterns.readthedocs.io/en/latest/index.html\n",
    "* https://docs.python.org/2/extending/newtypes.html\n",
    "* https://llllllllll.github.io/c-extension-tutorial/index.html\n",
    "* https://www.python.org/dev/peps/pep-0007/\n",
    "* https://github.com/MSeifert04/iteration_utilities/blob/master/src/_module.c"
   ]
  },
  {
   "cell_type": "markdown",
   "metadata": {},
   "source": [
    "### Summary"
   ]
  },
  {
   "cell_type": "markdown",
   "metadata": {},
   "source": [
    "* to write CPython extension you only need to know C and Python\n",
    "* lots of boilerplate code =(\n",
    "* C API is actually quite simple and powerful\n",
    "* But you need to be careful, especially with memory management"
   ]
  },
  {
   "cell_type": "markdown",
   "metadata": {},
   "source": [
    "### Cython"
   ]
  },
  {
   "cell_type": "markdown",
   "metadata": {},
   "source": [
    "![cytohon](http://www.programering.com/images/remote/ZnJvbT1jbmJsb2dzJnVybD1jbWJ3NVNPMk1UTXpVak0yRWpOeVFUTTJFekwyQUROeEFqTXZNVE8xZ3pNMDh5WnZ4bVl2MDJiajV5WnZ4bVkwbG1iajV5Y2xkV1l0bDJMdm9EYzBSSGE.jpg)"
   ]
  },
  {
   "cell_type": "markdown",
   "metadata": {},
   "source": [
    "__Warning__: Not all python code will see massive performance improvements when compiled with Cython.They are only useful for CPU bound, not for I/O bound or network bound."
   ]
  },
  {
   "cell_type": "markdown",
   "metadata": {},
   "source": [
    "https://ru.wikipedia.org/wiki/%D0%9C%D0%BD%D0%BE%D0%B6%D0%B5%D1%81%D1%82%D0%B2%D0%BE_%D0%96%D1%8E%D0%BB%D0%B8%D0%B0"
   ]
  },
  {
   "cell_type": "markdown",
   "metadata": {},
   "source": [
    "![julia](https://upload.wikimedia.org/wikipedia/commons/d/d5/JSr07885.gif)"
   ]
  },
  {
   "cell_type": "code",
   "execution_count": null,
   "metadata": {},
   "outputs": [],
   "source": [
    "# %load julia1.py\n",
    "\"\"\"Julia set generator without optional PIL-based image drawing\"\"\"\n",
    "import time\n",
    "import calculate\n",
    "\n",
    "# area of complex space to investigate\n",
    "x1, x2, y1, y2 = -1.8, 1.8, -1.8, 1.8\n",
    "c_real, c_imag = -0.62772, -.42193\n",
    "\n",
    "\n",
    "def calc_pure_python(desired_width, max_iterations):\n",
    "    \"\"\"Create a list of complex co-ordinates (zs) and complex parameters (cs), build Julia set and display\"\"\"\n",
    "    x_step = (float(x2 - x1) / float(desired_width))\n",
    "    y_step = (float(y1 - y2) / float(desired_width))\n",
    "    x = []\n",
    "    y = []\n",
    "    ycoord = y2\n",
    "    while ycoord > y1:\n",
    "        y.append(ycoord)\n",
    "        ycoord += y_step\n",
    "    xcoord = x1\n",
    "    while xcoord < x2:\n",
    "        x.append(xcoord)\n",
    "        xcoord += x_step\n",
    "    # build a list of co-ordinates and the initial condition for each cell.\n",
    "    # Note that our initial condition is a constant and could easily be removed,\n",
    "    # we use it to simulate a real-world scenario with several inputs to our\n",
    "    # function\n",
    "    zs = []\n",
    "    cs = []\n",
    "    for ycoord in y:\n",
    "        for xcoord in x:\n",
    "            zs.append(complex(xcoord, ycoord))\n",
    "            cs.append(complex(c_real, c_imag))\n",
    "\n",
    "    print \"Length of x:\", len(x)\n",
    "    print \"Total elements:\", len(zs)\n",
    "    start_time = time.time()\n",
    "    output = calculate.calculate_z(max_iterations, zs, cs)\n",
    "    end_time = time.time()\n",
    "    secs = end_time - start_time\n",
    "    print \"Took\", secs, \"seconds\"\n",
    "\n",
    "    validation_sum = sum(output)\n",
    "    print \"Total sum of elements (for validation):\", validation_sum\n",
    "\n",
    "\n",
    "# Calculate the Julia set using a pure Python solution with\n",
    "# reasonable defaults for a laptop\n",
    "calc_pure_python(desired_width=1000, max_iterations=300)\n"
   ]
  },
  {
   "cell_type": "code",
   "execution_count": null,
   "metadata": {
    "collapsed": true
   },
   "outputs": [],
   "source": [
    "# %load cythonfn.pyx\n",
    "def calculate_z(maxiter, zs, cs):\n",
    "    \"\"\"Calculate output list using Julia update rule\"\"\"\n",
    "    output = [0] * len(zs)\n",
    "    for i in range(len(zs)):\n",
    "        n = 0\n",
    "        z = zs[i]\n",
    "        c = cs[i]\n",
    "        while n < maxiter and abs(z) < 2:\n",
    "            z = z * z + c\n",
    "            n += 1\n",
    "        output[i] = n\n",
    "    return output\n"
   ]
  },
  {
   "cell_type": "code",
   "execution_count": null,
   "metadata": {},
   "outputs": [],
   "source": [
    "# %load setup.py\n",
    "from distutils.core import setup\n",
    "from distutils.extension import Extension\n",
    "from Cython.Distutils import build_ext\n",
    "\n",
    "setup(\n",
    "    cmdclass={'build_ext': build_ext},\n",
    "    ext_modules=[Extension(\n",
    "        \"calculate\",\n",
    "        sources=[\"cythonfn.pyx\"],\n",
    "        extra_compile_args=[\"-w\"])\n",
    "    ],\n",
    ")\n"
   ]
  },
  {
   "cell_type": "code",
   "execution_count": 10,
   "metadata": {},
   "outputs": [
    {
     "name": "stdout",
     "output_type": "stream",
     "text": [
      "running build_ext\n",
      "cythoning cythonfn.pyx to cythonfn.c\n",
      "building 'calculate' extension\n",
      "creating build\n",
      "creating build/temp.macosx-10.12-intel-2.7\n",
      "cc -fno-strict-aliasing -fno-common -dynamic -arch x86_64 -arch i386 -g -Os -pipe -fno-common -fno-strict-aliasing -fwrapv -DENABLE_DTRACE -DMACOSX -DNDEBUG -Wall -Wstrict-prototypes -Wshorten-64-to-32 -DNDEBUG -g -fwrapv -Os -Wall -Wstrict-prototypes -DENABLE_DTRACE -arch x86_64 -arch i386 -pipe -I/System/Library/Frameworks/Python.framework/Versions/2.7/include/python2.7 -c cythonfn.c -o build/temp.macosx-10.12-intel-2.7/cythonfn.o -w\n",
      "cc -bundle -undefined dynamic_lookup -arch x86_64 -arch i386 -Wl,-F. build/temp.macosx-10.12-intel-2.7/cythonfn.o -o /Users/s.stupnikov/Dropbox/Teaching/Otus/lection14/calculate.so\n"
     ]
    }
   ],
   "source": [
    "! python setup.py build_ext --inplace"
   ]
  },
  {
   "cell_type": "code",
   "execution_count": 11,
   "metadata": {},
   "outputs": [
    {
     "name": "stdout",
     "output_type": "stream",
     "text": [
      "-rwxr-xr-x@ 1 s.stupnikov  staff  56940  1 окт 16:18 \u001b[1m\u001b[31mcalculate.so\u001b[m\u001b[m\r\n"
     ]
    }
   ],
   "source": [
    "! ls -la calculate.so"
   ]
  },
  {
   "cell_type": "code",
   "execution_count": 12,
   "metadata": {},
   "outputs": [
    {
     "name": "stdout",
     "output_type": "stream",
     "text": [
      "Length of x: 1000\n",
      "Total elements: 1000000\n",
      "Took 5.87525296211 seconds\n",
      "Total sum of elements (for validation): 33219980\n",
      "\n",
      "real\t0m6.993s\n",
      "user\t0m6.575s\n",
      "sys\t0m0.188s\n"
     ]
    }
   ],
   "source": [
    "! time python julia1.py"
   ]
  },
  {
   "cell_type": "code",
   "execution_count": 13,
   "metadata": {},
   "outputs": [
    {
     "name": "stdout",
     "output_type": "stream",
     "text": [
      "Length of x:  1000\n",
      "Total elements:  1000000\n",
      "calculate_z_serial_purepython took 10.5714240074 sec\n",
      "\n",
      "real\t0m11.866s\n",
      "user\t0m11.168s\n",
      "sys\t0m0.292s\n"
     ]
    }
   ],
   "source": [
    "! time python ../lection13/julia.py"
   ]
  },
  {
   "cell_type": "markdown",
   "metadata": {},
   "source": [
    "To generate html annotation we use the command"
   ]
  },
  {
   "cell_type": "code",
   "execution_count": 16,
   "metadata": {
    "collapsed": true
   },
   "outputs": [],
   "source": [
    "! cython -a cythonfn.pyx"
   ]
  },
  {
   "cell_type": "markdown",
   "metadata": {},
   "source": [
    "Each line can be expanded with a double-click to show the generated C code. More yellow means “more calls into the Python virtual machine,” while more white means “more non-Python C code.” The goal is to remove as many of the yellow lines as possible and to end up with as much white as possible"
   ]
  },
  {
   "cell_type": "markdown",
   "metadata": {},
   "source": [
    "Add some type annotations"
   ]
  },
  {
   "cell_type": "code",
   "execution_count": null,
   "metadata": {
    "collapsed": true
   },
   "outputs": [],
   "source": [
    "# %load cythonfn2.pyx\n",
    "def calculate_z(int maxiter, zs, cs):\n",
    "    \"\"\"Calculate output list using Julia update rule\"\"\"\n",
    "    cdef unsigned int i, n\n",
    "    cdef double complex z, c\n",
    "    output = [0] * len(zs)\n",
    "    for i in range(len(zs)):\n",
    "        n = 0\n",
    "        z = zs[i]\n",
    "        c = cs[i]\n",
    "        while n < maxiter and abs(z) < 2:\n",
    "            z = z * z + c\n",
    "            n += 1\n",
    "        output[i] = n\n",
    "    return output\n"
   ]
  },
  {
   "cell_type": "code",
   "execution_count": 18,
   "metadata": {},
   "outputs": [
    {
     "name": "stdout",
     "output_type": "stream",
     "text": [
      "Length of x: 1000\n",
      "Total elements: 1000000\n",
      "Took 2.91271018982 seconds\n",
      "Total sum of elements (for validation): 33219980\n",
      "\n",
      "real\t0m4.014s\n",
      "user\t0m3.732s\n",
      "sys\t0m0.146s\n"
     ]
    }
   ],
   "source": [
    "! time python julia1.py"
   ]
  },
  {
   "cell_type": "markdown",
   "metadata": {},
   "source": [
    "Rewrite `abs` function"
   ]
  },
  {
   "cell_type": "code",
   "execution_count": null,
   "metadata": {
    "collapsed": true
   },
   "outputs": [],
   "source": [
    "# %load cythonfn3.pyx\n",
    "def calculate_z(int maxiter, zs, cs):\n",
    "    \"\"\"Calculate output list using Julia update rule\"\"\"\n",
    "    cdef unsigned int i, n\n",
    "    cdef double complex z, c\n",
    "    output = [0] * len(zs)\n",
    "    for i in range(len(zs)):\n",
    "        n = 0\n",
    "        z = zs[i]\n",
    "        c = cs[i]\n",
    "        while n < maxiter and (z.real * z.real + z.imag * z.imag) < 4:\n",
    "            z = z * z + c\n",
    "            n += 1\n",
    "        output[i] = n\n",
    "    return output\n"
   ]
  },
  {
   "cell_type": "code",
   "execution_count": 25,
   "metadata": {
    "scrolled": true
   },
   "outputs": [
    {
     "name": "stdout",
     "output_type": "stream",
     "text": [
      "Length of x: 1000\n",
      "Total elements: 1000000\n",
      "Took 0.252919912338 seconds\n",
      "Total sum of elements (for validation): 33219980\n",
      "\n",
      "real\t0m1.236s\n",
      "user\t0m1.137s\n",
      "sys\t0m0.081s\n"
     ]
    }
   ],
   "source": [
    "! time python julia1.py"
   ]
  },
  {
   "cell_type": "markdown",
   "metadata": {},
   "source": [
    "Integrate with NumPy using `memoryview` annotations"
   ]
  },
  {
   "cell_type": "code",
   "execution_count": null,
   "metadata": {
    "collapsed": true
   },
   "outputs": [],
   "source": [
    "# %load julia_np.py\n",
    "\"\"\"Julia set generator without optional PIL-based image drawing\"\"\"\n",
    "import time\n",
    "import numpy as np\n",
    "import calculate\n",
    "\n",
    "# area of complex space to investigate\n",
    "x1, x2, y1, y2 = -1.8, 1.8, -1.8, 1.8\n",
    "c_real, c_imag = -0.62772, -.42193\n",
    "\n",
    "\n",
    "def calc_pure_python(draw_output, desired_width, max_iterations):\n",
    "    \"\"\"Create a list of complex co-ordinates (zs) and complex parameters (cs), build Julia set and display\"\"\"\n",
    "    x_step = (float(x2 - x1) / float(desired_width))\n",
    "    y_step = (float(y1 - y2) / float(desired_width))\n",
    "    x = []\n",
    "    y = []\n",
    "    ycoord = y2\n",
    "    while ycoord > y1:\n",
    "        y.append(ycoord)\n",
    "        ycoord += y_step\n",
    "    xcoord = x1\n",
    "    while xcoord < x2:\n",
    "        x.append(xcoord)\n",
    "        xcoord += x_step\n",
    "    # build a list of co-ordinates and the initial condition for each cell.\n",
    "    # Note that our initial condition is a constant and could easily be removed,\n",
    "    # we use it to simulate a real-world scenario with several inputs to our\n",
    "    # function\n",
    "    zs = []\n",
    "    cs = []\n",
    "    for ycoord in y:\n",
    "        for xcoord in x:\n",
    "            zs.append(complex(xcoord, ycoord))\n",
    "            cs.append(complex(c_real, c_imag))\n",
    "\n",
    "    zs_np = np.array(zs, np.complex128)\n",
    "    cs_np = np.array(cs, np.complex128)\n",
    "\n",
    "    print \"Length of x:\", len(x)\n",
    "    print \"Total elements:\", len(zs)\n",
    "    start_time = time.time()\n",
    "    output = calculate.calculate_z(max_iterations, zs_np, cs_np)\n",
    "    end_time = time.time()\n",
    "    secs = end_time - start_time\n",
    "    print \"Took\", secs, \"seconds\"\n",
    "\n",
    "    validation_sum = sum(output)\n",
    "    print \"Total sum of elements (for validation):\", validation_sum\n",
    "\n",
    "\n",
    "# Calculate the Julia set using a pure Python solution with\n",
    "# reasonable defaults for a laptop\n",
    "# set draw_output to True to use PIL to draw an image\n",
    "calc_pure_python(draw_output=False, desired_width=1000, max_iterations=300)\n"
   ]
  },
  {
   "cell_type": "code",
   "execution_count": null,
   "metadata": {
    "collapsed": true
   },
   "outputs": [],
   "source": [
    "# %load cythonfn_np.pyx\n",
    "import numpy as np\n",
    "cimport numpy as np\n",
    "\n",
    "def calculate_z(int maxiter, double complex[:] zs, double complex[:] cs):\n",
    "    \"\"\"Calculate output list using Julia update rule\"\"\"\n",
    "    cdef unsigned int i, n\n",
    "    cdef double complex z, c\n",
    "    cdef int[:] output = np.empty(len(zs), dtype=np.int32)\n",
    "    for i in range(len(zs)):\n",
    "        n = 0\n",
    "        z = zs[i]\n",
    "        c = cs[i]\n",
    "        while n < maxiter and (z.real * z.real + z.imag * z.imag) < 4:\n",
    "            z = z * z + c\n",
    "            n += 1\n",
    "        output[i] = n\n",
    "    return output\n"
   ]
  },
  {
   "cell_type": "code",
   "execution_count": null,
   "metadata": {
    "collapsed": true
   },
   "outputs": [],
   "source": [
    "# %load setup.py\n",
    "from distutils.core import setup\n",
    "from distutils.extension import Extension\n",
    "from Cython.Distutils import build_ext\n",
    "import numpy as np\n",
    "\n",
    "setup(\n",
    "    cmdclass={'build_ext': build_ext},\n",
    "    ext_modules=[Extension(\n",
    "        \"calculate\",\n",
    "        sources=[\"cythonfn_np.pyx\"],\n",
    "        extra_compile_args=[\"-w\"],\n",
    "        include_dirs=[np.get_include()])\n",
    "    ],\n",
    ")\n"
   ]
  },
  {
   "cell_type": "code",
   "execution_count": 30,
   "metadata": {
    "scrolled": true
   },
   "outputs": [
    {
     "name": "stdout",
     "output_type": "stream",
     "text": [
      "Length of x: 1000\n",
      "Total elements: 1000000\n",
      "Took 0.233881950378 seconds\n",
      "Total sum of elements (for validation): 33219980\n",
      "\n",
      "real\t0m2.154s\n",
      "user\t0m1.771s\n",
      "sys\t0m0.228s\n"
     ]
    }
   ],
   "source": [
    "! time python julia_np.py"
   ]
  },
  {
   "cell_type": "markdown",
   "metadata": {},
   "source": [
    "Add OpenMP"
   ]
  },
  {
   "cell_type": "code",
   "execution_count": null,
   "metadata": {
    "collapsed": true
   },
   "outputs": [],
   "source": [
    "# %load cythonfn_mp.pyx\n",
    "from cython.parallel import prange\n",
    "import numpy as np\n",
    "cimport numpy as np\n",
    "\n",
    "def calculate_z(int maxiter, double complex[:] zs, double complex[:] cs):\n",
    "    \"\"\"Calculate output list using Julia update rule\"\"\"\n",
    "    cdef unsigned int i, length\n",
    "    cdef double complex z, c\n",
    "    cdef int[:] output = np.empty(len(zs), dtype=np.int32)\n",
    "    length = len(zs)\n",
    "    with nogil:\n",
    "        for i in prange(length):\n",
    "            z = zs[i]\n",
    "            c = cs[i]\n",
    "            output[i] = 0\n",
    "            while output[i] < maxiter and (z.real * z.real + z.imag * z.imag) < 4:\n",
    "                z = z * z + c\n",
    "                output[i] += 1\n",
    "    return output\n"
   ]
  },
  {
   "cell_type": "code",
   "execution_count": null,
   "metadata": {
    "collapsed": true
   },
   "outputs": [],
   "source": [
    "# %load setup.py\n",
    "from distutils.core import setup\n",
    "from distutils.extension import Extension\n",
    "from Cython.Distutils import build_ext\n",
    "import numpy as np\n",
    "\n",
    "setup(\n",
    "    cmdclass={'build_ext': build_ext},\n",
    "    ext_modules=[Extension(\n",
    "        \"calculate\",\n",
    "        sources=[\"cythonfn_np.pyx\"],\n",
    "        extra_compile_args=[\"-w\", \"-fopenmp\"],\n",
    "        extra_link_args=[\"-fopenmp\"],\n",
    "        include_dirs=[np.get_include()])\n",
    "    ],\n",
    ")\n"
   ]
  },
  {
   "cell_type": "raw",
   "metadata": {},
   "source": [
    "[root@95d75ba9306d otus]# time python julia_np.py\n",
    "Length of x: 1000\n",
    "Total elements: 1000000\n",
    "Took 0.169136047363 seconds\n",
    "Total sum of elements (for validation): 33219980\n",
    "\n",
    "real\t0m1.849s\n",
    "user\t0m1.690s\n",
    "sys\t0m0.240s"
   ]
  },
  {
   "cell_type": "markdown",
   "metadata": {},
   "source": [
    "### References"
   ]
  },
  {
   "cell_type": "markdown",
   "metadata": {},
   "source": [
    "* http://cython.readthedocs.io/en/latest/src/tutorial/pure.html\n",
    "* http://cython.readthedocs.io/en/latest/src/reference/compilation.html\n",
    "* http://cython.readthedocs.io/en/latest/src/userguide/memoryviews.html\n",
    "* https://www.youtube.com/watch?v=mv0kfiepn3s\n",
    "* https://habrahabr.ru/company/mailru/blog/242533/\n",
    "* http://shop.oreilly.com/product/0636920033431.do\n",
    "* https://www.youtube.com/watch?v=_1MSX7V28Po"
   ]
  },
  {
   "cell_type": "markdown",
   "metadata": {},
   "source": [
    "### Summary"
   ]
  },
  {
   "cell_type": "markdown",
   "metadata": {},
   "source": [
    "* Cython supports several methods of compiling to C, some easier than the full-type-annotation method\n",
    "* Familiarize yourself with the Pure Python Mode if you’d like an easier start to using Cython and \n",
    "* Look at pyximport"
   ]
  },
  {
   "cell_type": "markdown",
   "metadata": {},
   "source": [
    "### Pypy"
   ]
  },
  {
   "cell_type": "markdown",
   "metadata": {},
   "source": [
    "![pypy2](https://uploads.toptal.io/blog/image/129/toptal-blog-B.png)"
   ]
  },
  {
   "cell_type": "markdown",
   "metadata": {},
   "source": [
    "![pypy1](http://www.aosabook.org/images/pypy/translation_steps.png)"
   ]
  },
  {
   "cell_type": "markdown",
   "metadata": {},
   "source": [
    "![pypy3](https://image.slidesharecdn.com/pypy-compilation-framework-121128003538-phpapp01/95/pypy-dynamic-language-compilation-framework-17-638.jpg?cb=1354063042)"
   ]
  },
  {
   "cell_type": "raw",
   "metadata": {},
   "source": [
    "[root@95d75ba9306d otus]# time pypy julia.py\n",
    "Length of x:  1000\n",
    "Total elements:  1000000\n",
    "calculate_z_serial_purepython took 1.41462492943 sec\n",
    "\n",
    "real\t0m1.808s\n",
    "user\t0m1.700s\n",
    "sys\t0m0.060s"
   ]
  },
  {
   "cell_type": "markdown",
   "metadata": {},
   "source": [
    "### References"
   ]
  },
  {
   "cell_type": "markdown",
   "metadata": {},
   "source": [
    "* http://www.aosabook.org/en/pypy.html\n",
    "* https://www.youtube.com/watch?v=VN2s5rr1tnQ\n",
    "* http://pypy.readthedocs.io/en/latest/cpython_differences.html\n",
    "* https://www.youtube.com/watch?v=a4M5nsO6ofk\n",
    "* https://www.youtube.com/watch?v=P5ad6NpjR3M"
   ]
  },
  {
   "cell_type": "markdown",
   "metadata": {},
   "source": [
    "### Summary"
   ]
  },
  {
   "cell_type": "markdown",
   "metadata": {},
   "source": [
    "* If you need other packages, anything that is pure Python will probably install, while anything that relies on C extension libraries probably won’t work in a useful way\n",
    "* PyPy can use a lot of RAM\n",
    "* PyPy is bound by the global interpreter lock, but the development team are working on a project called software transactional memory (STM) to attempt to remove the need for the GIL\n",
    "* PyPy does not support projects like numpy in a usable way"
   ]
  },
  {
   "cell_type": "markdown",
   "metadata": {},
   "source": [
    "### Foreign Function Interfaces"
   ]
  },
  {
   "cell_type": "code",
   "execution_count": null,
   "metadata": {
    "collapsed": true
   },
   "outputs": [],
   "source": [
    "# %load diffusion.c\n",
    "void evolve(int Nx, int Ny, double in[][Ny], double out[][Ny], double D, double dt) {\n",
    "    int i, j;\n",
    "    double laplacian;\n",
    "    for (i=1; i<Nx-1; i++) {\n",
    "        for (j=1; j<Ny-1; j++) {\n",
    "            laplacian = in[i+1][j] + in[i-1][j] + in[i][j+1] + in[i][j-1] - 4 * in[i][j];\n",
    "            out[i][j] = in[i][j] + D * dt * laplacian;\n",
    "        }\n",
    "    }\n",
    "}\n"
   ]
  },
  {
   "cell_type": "code",
   "execution_count": null,
   "metadata": {
    "collapsed": true
   },
   "outputs": [],
   "source": [
    "# %load Makefile\n",
    "diffusion.so: diffusion.c\n",
    "\tgcc -O3 -std=gnu99 -c diffusion.c\n",
    "\tgcc -shared -o diffusion.so diffusion.o\n",
    "\trm -rf diffusion.o\n"
   ]
  },
  {
   "cell_type": "markdown",
   "metadata": {},
   "source": [
    "#### ctypes"
   ]
  },
  {
   "cell_type": "code",
   "execution_count": 39,
   "metadata": {},
   "outputs": [
    {
     "name": "stdout",
     "output_type": "stream",
     "text": [
      "0.336709022522\n"
     ]
    }
   ],
   "source": [
    "# %load diffusion_ctypes.py\n",
    "import numpy as np\n",
    "import time\n",
    "import ctypes\n",
    "\n",
    "grid_shape = (512, 512)\n",
    "_diffusion = ctypes.CDLL(\"diffusion.so\")\n",
    "\n",
    "# Create references to the C types that we will need to simplify future code\n",
    "TYPE_INT = ctypes.c_int\n",
    "TYPE_DOUBLE = ctypes.c_double\n",
    "TYPE_DOUBLE_SS = ctypes.POINTER(ctypes.POINTER(ctypes.c_double))\n",
    "\n",
    "# Initialize the signature of the evolve function to:\n",
    "# void evolve(int, int, double**, double**, double, double)\n",
    "_diffusion.evolve.argtypes = [\n",
    "    TYPE_INT,\n",
    "    TYPE_INT,\n",
    "    TYPE_DOUBLE_SS,\n",
    "    TYPE_DOUBLE_SS,\n",
    "    TYPE_DOUBLE,\n",
    "    TYPE_DOUBLE,\n",
    "]\n",
    "_diffusion.evolve.restype = None\n",
    "\n",
    "\n",
    "def evolve(grid, out, dt, D=1.0):\n",
    "    # First we convert the python types into the relevant C types\n",
    "    cX = TYPE_INT(grid_shape[0])\n",
    "    cY = TYPE_INT(grid_shape[1])\n",
    "    cdt = TYPE_DOUBLE(dt)\n",
    "    cD = TYPE_DOUBLE(D)\n",
    "    pointer_grid = grid.ctypes.data_as(TYPE_DOUBLE_SS)\n",
    "    pointer_out = out.ctypes.data_as(TYPE_DOUBLE_SS)\n",
    "\n",
    "    # Now we can call the function\n",
    "    _diffusion.evolve(cX, cY, pointer_grid, pointer_out, cD, cdt)\n",
    "\n",
    "\n",
    "def run_experiment(num_iterations):\n",
    "    scratch = np.zeros(grid_shape, dtype=ctypes.c_double)\n",
    "    grid = np.zeros(grid_shape, dtype=ctypes.c_double)\n",
    "\n",
    "    block_low = int(grid_shape[0] * .4)\n",
    "    block_high = int(grid_shape[0] * .5)\n",
    "    grid[block_low:block_high, block_low:block_high] = 0.005\n",
    "\n",
    "    start = time.time()\n",
    "    for i in range(num_iterations):\n",
    "        evolve(grid, scratch, 0.1)\n",
    "        grid, scratch = scratch, grid\n",
    "    return time.time() - start\n",
    "\n",
    "if __name__ == \"__main__\":\n",
    "    t = run_experiment(500)\n",
    "    print t\n"
   ]
  },
  {
   "cell_type": "markdown",
   "metadata": {},
   "source": [
    "Unless the object you are turning into a ctype object implements a buffer (as do the array module, numpy arrays, cStringIO, etc.), your data will be copied into the new object"
   ]
  },
  {
   "cell_type": "markdown",
   "metadata": {},
   "source": [
    "`ctypes` struct example"
   ]
  },
  {
   "cell_type": "code",
   "execution_count": null,
   "metadata": {
    "collapsed": true
   },
   "outputs": [],
   "source": [
    "from ctypes import Structure\n",
    "\n",
    "class cPoint(Structure):\n",
    "    _fields_ = (\"x\", c_int), (\"y\", c_int)"
   ]
  },
  {
   "cell_type": "markdown",
   "metadata": {},
   "source": [
    "#### cffi"
   ]
  },
  {
   "cell_type": "code",
   "execution_count": null,
   "metadata": {},
   "outputs": [],
   "source": [
    "# %load diffusion_cffi.py\n",
    "#!/usr/bin/env python2.7\n",
    "\n",
    "import numpy as np\n",
    "import time\n",
    "from cffi import FFI, verifier\n",
    "\n",
    "grid_shape = (512, 512)\n",
    "\n",
    "ffi = FFI()\n",
    "ffi.cdef(\n",
    "    r''' void evolve(int Nx, int Ny, double **in, double **out, double D, double dt); ''')\n",
    "lib = ffi.dlopen(\"diffusion.so\")\n",
    "\n",
    "\n",
    "def evolve(grid, dt, out, D=1.0):\n",
    "    X, Y = grid_shape\n",
    "    pointer_grid = ffi.cast('double**', grid.ctypes.data)\n",
    "    pointer_out = ffi.cast('double**', out.ctypes.data)\n",
    "    lib.evolve(X, Y, pointer_grid, pointer_out, D, dt)\n",
    "\n",
    "\n",
    "def run_experiment(num_iterations):\n",
    "    scratch = np.zeros(grid_shape, dtype=np.double)\n",
    "    grid = np.zeros(grid_shape, dtype=np.double)\n",
    "\n",
    "    block_low = int(grid_shape[0] * .4)\n",
    "    block_high = int(grid_shape[0] * .5)\n",
    "    grid[block_low:block_high, block_low:block_high] = 0.005\n",
    "\n",
    "    start = time.time()\n",
    "    for i in range(num_iterations):\n",
    "        evolve(grid, 0.1, scratch)\n",
    "        grid, scratch = scratch, grid\n",
    "    return time.time() - start\n",
    "\n",
    "if __name__ == \"__main__\":\n",
    "    t = run_experiment(500)\n",
    "    print t\n",
    "\n",
    "    verifier.cleanup_tmpdir()\n"
   ]
  },
  {
   "cell_type": "markdown",
   "metadata": {},
   "source": [
    "Inlining"
   ]
  },
  {
   "cell_type": "code",
   "execution_count": 43,
   "metadata": {},
   "outputs": [
    {
     "name": "stdout",
     "output_type": "stream",
     "text": [
      "0.344474077225\n"
     ]
    }
   ],
   "source": [
    "import numpy as np\n",
    "import time\n",
    "from cffi import FFI, verifier\n",
    "\n",
    "grid_shape = (512, 512)\n",
    "\n",
    "ffi = FFI()\n",
    "ffi.cdef(\n",
    "    r'''void evolve(int Nx, int Ny, double **in, double **out, double D, double dt);''')\n",
    "lib = ffi.verify(r'''\n",
    "void evolve(int Nx, int Ny, double in[][Ny], double out[][Ny], double D, double dt) {\n",
    "    int i, j;\n",
    "    double laplacian;\n",
    "    for (i=1; i<Nx-1; i++) {\n",
    "        for (j=1; j<Ny-1; j++) {\n",
    "            laplacian = in[i+1][j] + in[i-1][j] + in[i][j+1] + in[i][j-1] - 4 * in[i][j];\n",
    "            out[i][j] = in[i][j] + D * dt * laplacian;\n",
    "        }\n",
    "    }\n",
    "}\n",
    "''', extra_compile_args=[\"-O3\", ])\n",
    "\n",
    "\n",
    "def evolve(grid, dt, out, D=1.0):\n",
    "    X, Y = grid_shape\n",
    "    pointer_grid = ffi.cast('double**', grid.ctypes.data)\n",
    "    pointer_out = ffi.cast('double**', out.ctypes.data)\n",
    "    lib.evolve(X, Y, pointer_grid, pointer_out, D, dt)\n",
    "\n",
    "\n",
    "def run_experiment(num_iterations):\n",
    "    scratch = np.zeros(grid_shape, dtype=np.double)\n",
    "    grid = np.zeros(grid_shape, dtype=np.double)\n",
    "\n",
    "    block_low = int(grid_shape[0] * .4)\n",
    "    block_high = int(grid_shape[0] * .5)\n",
    "    grid[block_low:block_high, block_low:block_high] = 0.005\n",
    "\n",
    "    start = time.time()\n",
    "    for i in range(num_iterations):\n",
    "        evolve(grid, 0.1, scratch)\n",
    "        grid, scratch = scratch, grid\n",
    "    return time.time() - start\n",
    "\n",
    "if __name__ == \"__main__\":\n",
    "    t = run_experiment(500)\n",
    "    print t\n",
    "\n",
    "    verifier.cleanup_tmpdir()"
   ]
  },
  {
   "cell_type": "markdown",
   "metadata": {},
   "source": [
    "### References"
   ]
  },
  {
   "cell_type": "markdown",
   "metadata": {},
   "source": [
    "* https://www.youtube.com/watch?v=P6qvhoQGaSk\n",
    "* https://2016.za.pycon.org/talks/20/\n",
    "* http://eli.thegreenplace.net/2013/03/04/flexible-runtime-interface-to-shared-libraries-with-libffi/\n",
    "* http://eli.thegreenplace.net/2013/03/09/python-ffi-with-ctypes-and-cffi/\n",
    "* https://github.com/wolever/python-cffi-example\n",
    "* https://blog.sentry.io/2016/10/19/fixing-python-performance-with-rust.html\n",
    "* https://dustymabe.com/2016/09/13/sharing-a-go-library-to-python-using-cffi/\n",
    "* https://nullprogram.com/blog/2018/05/27/"
   ]
  },
  {
   "cell_type": "markdown",
   "metadata": {},
   "source": [
    "### Summary"
   ]
  },
  {
   "cell_type": "markdown",
   "metadata": {},
   "source": [
    "* ctypes is built-in and well suited for small interfaces\n",
    "* cffi is better ctypes and well suited for interfacing with large C libs\n",
    "* cffi easily integrated with PyPy\n",
    "* cffi also useful for integrations with other languages"
   ]
  }
 ],
 "metadata": {
  "kernelspec": {
   "display_name": "Python 2",
   "language": "python",
   "name": "python2"
  },
  "language_info": {
   "codemirror_mode": {
    "name": "ipython",
    "version": 2
   },
   "file_extension": ".py",
   "mimetype": "text/x-python",
   "name": "python",
   "nbconvert_exporter": "python",
   "pygments_lexer": "ipython2",
   "version": "2.7.10"
  }
 },
 "nbformat": 4,
 "nbformat_minor": 1
}
