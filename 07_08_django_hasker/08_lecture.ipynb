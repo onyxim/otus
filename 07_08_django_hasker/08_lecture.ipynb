{
 "cells": [
  {
   "cell_type": "markdown",
   "metadata": {},
   "source": [
    "# #7. Views & Co"
   ]
  },
  {
   "cell_type": "markdown",
   "metadata": {},
   "source": [
    "1. [Views](#Views)\n",
    "    1. [FBV](#FBV)\n",
    "    2. [CBV](#CBV)\n",
    "    3. [CBGV](#CBGV)\n",
    "2. [Forms](#Forms)\n",
    "    1. [Basic](#Basic)\n",
    "    2. [ModelForm](#ModelForm)\n",
    "    3. [CBGV and Forms](#CBGV-and-Forms)\n",
    "4. [Templates](#Templates)\n",
    "    1. [Django template language](#Django-template-language)\n",
    "    2. [Architecture](#Architecture)\n",
    "    1. [Filters](#Filters)\n",
    "    2. [Tags](#Tags)\n",
    "    4. [Jinja2](#Jinja2)"
   ]
  },
  {
   "cell_type": "markdown",
   "metadata": {},
   "source": [
    "![cycle1](https://dl.dropboxusercontent.com/s/gzxgfwqjhwogcpg/views1.png)"
   ]
  },
  {
   "cell_type": "markdown",
   "metadata": {},
   "source": [
    "![cycle2](https://dl.dropboxusercontent.com/s/femnebxbv5dtduk/views2.png)"
   ]
  },
  {
   "cell_type": "code",
   "execution_count": null,
   "metadata": {},
   "outputs": [],
   "source": [
    "import requests\n",
    "from django.conf import settings\n",
    "\n",
    "class StackOverflowMiddleware(object):\n",
    "    def process_exception(self, request, exception):\n",
    "        if settings.DEBUG:\n",
    "            intitle = u'{}: {}'.format(exception.__class__.__name__,  exception.message)\n",
    "            print intitle\n",
    "\n",
    "            url = 'https://api.stackexchange.com/2.2/search'\n",
    "            headers = { 'User-Agent': 'github.com/vitorfs/seot' }\n",
    "            params = {\n",
    "                'order': 'desc',\n",
    "                'sort': 'votes',\n",
    "                'site': 'stackoverflow',\n",
    "                'pagesize': 3,\n",
    "                'tagged': 'python;django',\n",
    "                'intitle': intitle\n",
    "            }\n",
    "\n",
    "            r = requests.get(url, params=params, headers=headers)\n",
    "            questions = r.json()\n",
    "\n",
    "            print ''\n",
    "\n",
    "            for question in questions['items']:\n",
    "                print question['title']\n",
    "                print question['link']\n",
    "                print ''\n",
    "\n",
    "        return None"
   ]
  },
  {
   "cell_type": "markdown",
   "metadata": {},
   "source": [
    "## Views"
   ]
  },
  {
   "cell_type": "markdown",
   "metadata": {},
   "source": [
    "![cycle3](https://dl.dropboxusercontent.com/s/jvu3y87uwqlmw0u/views3.png)"
   ]
  },
  {
   "cell_type": "markdown",
   "metadata": {},
   "source": [
    "__Workflow__\n",
    "* Accept HttpRequest object\n",
    "* Generate data based on:\n",
    "    * HTTP request method\n",
    "    * Request data (POST, PUT)\n",
    "    * Data from url dispatch\n",
    "* Return HttpResponse object\n",
    "\n",
    "__Whats a view__\n",
    "* any Python callable\n",
    "    * functions\n",
    "        * historically first \n",
    "        * easy and simple\n",
    "        * cannot reuse code\n",
    "    * classes\n",
    "        * more generic\n",
    "        * couldn't handle complex cases\n",
    "* takes in only request plus some stuff"
   ]
  },
  {
   "cell_type": "code",
   "execution_count": null,
   "metadata": {
    "collapsed": true
   },
   "outputs": [],
   "source": [
    "from django.http import HttpResponse\n",
    "from django.views.generic import View\n",
    "\n",
    "# The simplest FBV\n",
    "def simplest_view(request):\n",
    "    # Logic goes here\n",
    "    return HttpResponse('FBV')\n",
    "\n",
    "# The simplest CBV\n",
    "class SimplestView(View):\n",
    "    def get(self, request, *args, **kwargs):\n",
    "        # Logic goes here\n",
    "        return HttpResponse('CBV')"
   ]
  },
  {
   "cell_type": "markdown",
   "metadata": {},
   "source": [
    "#### FBV"
   ]
  },
  {
   "cell_type": "markdown",
   "metadata": {},
   "source": [
    "* less view code is better\n",
    "* DRY\n",
    "* views should handle presentation logic\n",
    "    * keep business logic in models\n",
    "    * or in forms\n",
    "* use them for custom 403, 404 and 500 handlers"
   ]
  },
  {
   "cell_type": "code",
   "execution_count": null,
   "metadata": {
    "collapsed": true
   },
   "outputs": [],
   "source": [
    "from decorator_plus import require_http_methods\n",
    "from django.shortcuts import get_object_or_404, redirect, render\n",
    "\n",
    "from .forms import ExampleForm\n",
    "from .models import ExampleModel\n",
    "\n",
    "\n",
    "@require_http_methods(['GET'])\n",
    "def model_detail(request, *args, **kwargs):\n",
    "    request_slug = kwargs.get('slug')\n",
    "    example_obj = get_object_or_404(\n",
    "        ExampleModel, slug=request_slug)\n",
    "    return render(\n",
    "        request,\n",
    "        'viewsapp/detail.html',\n",
    "        {'object': example_obj})\n",
    "\n",
    "\n",
    "@require_http_methods(['GET', 'POST'])\n",
    "def model_create(request, *args, **kwargs):\n",
    "    if request.method == 'POST':\n",
    "        form = ExampleForm(request.POST)\n",
    "        if form.is_valid():\n",
    "            new_obj = form.save()\n",
    "            return redirect(new_obj)\n",
    "    else:\n",
    "        form = ExampleForm()\n",
    "    return render(request, 'viewsapp/form.html', {'form': form})"
   ]
  },
  {
   "cell_type": "markdown",
   "metadata": {},
   "source": [
    "Code reuse accomplshed by using utils module (or core app)"
   ]
  },
  {
   "cell_type": "code",
   "execution_count": null,
   "metadata": {
    "collapsed": true
   },
   "outputs": [],
   "source": [
    "# slots/utils.py\n",
    "from django.core.exceptions import PermissionDenied\n",
    "\n",
    "\n",
    "# it's handy to pass request to utils functions\n",
    "def check_slot_rights(request):\n",
    "    if request.user.is_staff:\n",
    "        request.allowed_slot = True\n",
    "        return request\n",
    "\n",
    "    # Return a HTTP 403 back to the user\n",
    "    raise PermissionDenied"
   ]
  },
  {
   "cell_type": "code",
   "execution_count": null,
   "metadata": {
    "collapsed": true
   },
   "outputs": [],
   "source": [
    "# slots/views.py\n",
    "from django.shortcuts import get_object_or_404\n",
    "from django.shortcuts import render\n",
    "from django.views.decorators.http import require_http_methods\n",
    "\n",
    "from .models import Slot\n",
    "from .utils import check_slot_rights\n",
    "\n",
    "@require_http_methods([\"GET\", \"HEAD\"])\n",
    "def slot_list(request):\n",
    "    \"\"\"Standard list view\"\"\"\n",
    "\n",
    "    request = check_slot_rights(request)\n",
    "\n",
    "    return render(request,\n",
    "        \"slots/slot_list.html\",\n",
    "        {\"slots\": Slot.objects.all()})\n",
    "\n",
    "@require_safe\n",
    "def slot_detail(request, pk):\n",
    "    \"\"\"Standard detail view\"\"\"\n",
    "\n",
    "    request = check_slot_rights(request)\n",
    "\n",
    "    slot = get_object_or_404(Slot, pk=pk)\n",
    "\n",
    "    return render(request, \"slots/slot_detail.html\",\n",
    "        {\"slot\": slot})\n",
    "\n",
    "@require_safe\n",
    "def slot_preview(request):\n",
    "    slot = Slot.objects.all()\n",
    "    return render(request,\n",
    "        \"slots/slot_preview.html\",\n",
    "        {\"slot\": slot})"
   ]
  },
  {
   "cell_type": "markdown",
   "metadata": {},
   "source": [
    "Or use decorators"
   ]
  },
  {
   "cell_type": "code",
   "execution_count": null,
   "metadata": {
    "collapsed": true
   },
   "outputs": [],
   "source": [
    "# slots/decorators.py\n",
    "from functools import wraps\n",
    "\n",
    "from . import utils\n",
    "\n",
    "# based off the decorator template from the previous chapter\n",
    "def check_slots(view_func):\n",
    "    \"\"\"Check if a user can add slots\"\"\"\n",
    "    @wraps(view_func)\n",
    "    def new_view_func(request, *args, **kwargs):\n",
    "        request = utils.check_slot_rights(request)\n",
    "\n",
    "        # Call the view function\n",
    "        response = view_func(request, *args, **kwargs)\n",
    "\n",
    "        # Return the HttpResponse object\n",
    "        return response\n",
    "    return new_view_func"
   ]
  },
  {
   "cell_type": "code",
   "execution_count": null,
   "metadata": {
    "collapsed": true
   },
   "outputs": [],
   "source": [
    "# slots/views.py\n",
    "from django.shortcuts import get_object_or_404, render\n",
    "\n",
    "from .decorators import check_slots\n",
    "from .models import Slot\n",
    "\n",
    "@require_safe\n",
    "@check_slots\n",
    "def slot_detail(request, pk):\n",
    "    \"\"\"Standard detail view\"\"\"\n",
    "\n",
    "    slot = get_object_or_404(Slot, pk=pk)\n",
    "\n",
    "    return render(request, \"slots/slot_detail.html\",\n",
    "        {\"slot\": slot})"
   ]
  },
  {
   "cell_type": "markdown",
   "metadata": {},
   "source": [
    "#### CBV"
   ]
  },
  {
   "cell_type": "markdown",
   "metadata": {},
   "source": [
    "Main schools of thought\n",
    "* use all generic views\n",
    "* use django.views.generic.View\n",
    "* use only when subclassing is needed"
   ]
  },
  {
   "cell_type": "code",
   "execution_count": null,
   "metadata": {
    "collapsed": true
   },
   "outputs": [],
   "source": [
    "from django.shortcuts import (\n",
    "    get_object_or_404, redirect, render)\n",
    "from django.views.generic import View\n",
    "\n",
    "from .forms import ExampleForm\n",
    "from .models import ExampleModel\n",
    "\n",
    "\n",
    "class ModelDetail(View):\n",
    "\n",
    "    def get(self, request, *args, **kwargs):\n",
    "        request_slug = kwargs.get('slug')\n",
    "        example_obj = get_object_or_404(\n",
    "            ExampleModel, slug=request_slug)\n",
    "        return render(\n",
    "            request,\n",
    "            'viewsapp/detail.html',\n",
    "            {'object': example_obj})\n",
    "\n",
    "\n",
    "class ModelCreate(View):\n",
    "    context_object_name = 'form'\n",
    "    form_class = ExampleForm\n",
    "    template_name = 'viewsapp/form.html'\n",
    "\n",
    "    def get(self, request, *args, **kwargs):\n",
    "        return render(\n",
    "            request,\n",
    "            self.template_name,\n",
    "            {self.context_object_name:\n",
    "                self.form_class()})\n",
    "\n",
    "    def post(self, request, *args, **kwargs):\n",
    "        bound_form = self.form_class(request.POST)\n",
    "        if bound_form.is_valid():\n",
    "            new_obj = bound_form.save()\n",
    "            return redirect(new_obj)\n",
    "        return render(\n",
    "            request,\n",
    "            self.template_name,\n",
    "            {self.context_object_name:\n",
    "                bound_form})"
   ]
  },
  {
   "cell_type": "markdown",
   "metadata": {},
   "source": [
    "Out of the box\n",
    "* HEAD handling\n",
    "* OPTIONS handling\n",
    "* clearer (sometimes more easy to read)"
   ]
  },
  {
   "cell_type": "markdown",
   "metadata": {},
   "source": [
    "#### CBGV"
   ]
  },
  {
   "cell_type": "code",
   "execution_count": null,
   "metadata": {
    "collapsed": true
   },
   "outputs": [],
   "source": [
    "from django.views.generic import CreateView, DetailView\n",
    "\n",
    "from .forms import ExampleForm\n",
    "from .models import ExampleModel\n",
    "\n",
    "\n",
    "class ModelDetail(DetailView):\n",
    "    model = ExampleModel\n",
    "    template_name = 'viewsapp/detail.html'\n",
    "\n",
    "\n",
    "class ModelCreate(CreateView):\n",
    "    context_object_name = 'form'\n",
    "    form_class = ExampleForm\n",
    "    template_name = 'viewsapp/form.html'"
   ]
  },
  {
   "cell_type": "markdown",
   "metadata": {},
   "source": [
    "Example CBGV namespaced"
   ]
  },
  {
   "cell_type": "code",
   "execution_count": null,
   "metadata": {
    "collapsed": true
   },
   "outputs": [],
   "source": [
    "from django.urls import reverse\n",
    "from django.views.generic import ListView, DetailView, UpdateView\n",
    "\n",
    "from .models import Tasting\n",
    "\n",
    "class TasteListView(ListView):\n",
    "    model = Tasting\n",
    "\n",
    "class TasteDetailView(DetailView):\n",
    "    model = Tasting\n",
    "\n",
    "class TasteResultsView(TasteDetailView):\n",
    "    template_name = 'tastings/results.html'\n",
    "\n",
    "class TasteUpdateView(UpdateView):\n",
    "    model = Tasting\n",
    "\n",
    "    def get_success_url(self):\n",
    "        return reverse('tastings:detail',\n",
    "            kwargs={'pk': self.object.pk})"
   ]
  },
  {
   "cell_type": "code",
   "execution_count": null,
   "metadata": {
    "collapsed": true
   },
   "outputs": [],
   "source": [
    "# tastings/urls.py\n",
    "from django.conf.urls import url\n",
    "\n",
    "from . import views\n",
    "\n",
    "urlpatterns = [\n",
    "    url(\n",
    "        regex=r'^$',\n",
    "        view=views.TasteListView.as_view(),\n",
    "        name='list'\n",
    "    ),\n",
    "    url(\n",
    "        regex=r'^(?P<pk>\\d+)/$',\n",
    "        view=views.TasteDetailView.as_view(),\n",
    "        name='detail'\n",
    "    ),\n",
    "    url(\n",
    "        regex=r'^(?P<pk>\\d+)/results/$',\n",
    "        view=views.TasteResultsView.as_view(),\n",
    "        name='results'\n",
    "    ),\n",
    "    url(\n",
    "        regex=r'^(?P<pk>\\d+)/update/$',\n",
    "        view=views.TasteUpdateView.as_view(),\n",
    "        name='update'\n",
    "    )\n",
    "]"
   ]
  },
  {
   "cell_type": "code",
   "execution_count": null,
   "metadata": {
    "collapsed": true
   },
   "outputs": [],
   "source": [
    "# urls.py\n",
    "urlpatterns += [\n",
    "    url(r'^tastings/', include('tastings.urls', namespace='tastings')),\n",
    "]"
   ]
  },
  {
   "cell_type": "markdown",
   "metadata": {},
   "source": [
    "![hierra](http://andrewsforge.com/images/otwcbv/5_rank_simple_color.png)"
   ]
  },
  {
   "cell_type": "markdown",
   "metadata": {},
   "source": [
    "![gcbv](https://cwza.github.io/my_blog/2016/02/19/django%E5%AD%B8%E7%BF%92%E7%AD%86%E8%A8%98/table10_1.png)"
   ]
  },
  {
   "cell_type": "markdown",
   "metadata": {},
   "source": [
    "Example view object properties"
   ]
  },
  {
   "cell_type": "code",
   "execution_count": null,
   "metadata": {
    "collapsed": true
   },
   "outputs": [],
   "source": [
    "class FavoriteMixin(object):\n",
    "\n",
    "    @cached_property\n",
    "    def likes_and_favorites(self):\n",
    "        \"\"\"Returns a dictionary of likes and favorites\"\"\"\n",
    "        likes = self.object.likes()\n",
    "        favorites = self.object.favorites()\n",
    "        return {\n",
    "            \"likes\": likes,\n",
    "            \"favorites\": favorites,\n",
    "            \"favorites_count\": favorites.count(),\n",
    "\n",
    "        }\n",
    "\n",
    "class FlavorUpdateView(LoginRequiredMixin, FavoriteMixin, UpdateView):\n",
    "    model = Flavor\n",
    "    fields = ['title', 'slug', 'scoops_remaining']\n",
    "\n",
    "class FlavorDetailView(LoginRequiredMixin, FavoriteMixin, TemplateView):\n",
    "    model = Flavor"
   ]
  },
  {
   "cell_type": "code",
   "execution_count": null,
   "metadata": {
    "collapsed": true
   },
   "outputs": [],
   "source": [
    "{# flavors/base.html #}\n",
    "{% extends \"base.html\" %}\n",
    "\n",
    "{% block likes_and_favorites %}\n",
    "<ul>\n",
    "  <li>Likes: {{ view.likes_and_favorites.likes }}</li>\n",
    "  <li>Favorites: {{ view.likes_and_favorites.favorites_count }}</li>\n",
    "</ul>\n",
    "{% endblock likes_and_favorites %}"
   ]
  },
  {
   "cell_type": "markdown",
   "metadata": {},
   "source": [
    "### References"
   ]
  },
  {
   "cell_type": "markdown",
   "metadata": {},
   "source": [
    "* http://www.b-list.org/weblog/2006/jun/13/how-django-processes-request/\n",
    "* https://docs.djangoproject.com/en/1.11/topics/http/views/\n",
    "* https://docs.djangoproject.com/en/1.11/topics/class-based-views/intro/\n",
    "* http://ccbv.co.uk/\n",
    "* https://www.youtube.com/watch?v=BJiOERA49ZQ"
   ]
  },
  {
   "cell_type": "markdown",
   "metadata": {},
   "source": [
    "### Summary"
   ]
  },
  {
   "cell_type": "markdown",
   "metadata": {},
   "source": [
    "![views](http://3.bp.blogspot.com/-94MWJfD92j4/UnC19NyaThI/AAAAAAAAC_I/422GeSIQceo/s1600/00010.jpeg)"
   ]
  },
  {
   "cell_type": "markdown",
   "metadata": {},
   "source": [
    "## Forms"
   ]
  },
  {
   "cell_type": "markdown",
   "metadata": {},
   "source": [
    "![form](https://mdn.mozillademos.org/files/14205/Form%20Handling%20-%20Standard.png)"
   ]
  },
  {
   "cell_type": "markdown",
   "metadata": {},
   "source": [
    "#### Basic"
   ]
  },
  {
   "cell_type": "code",
   "execution_count": null,
   "metadata": {
    "collapsed": true
   },
   "outputs": [],
   "source": [
    "from django.utils.translation import gettext_lazy as _\n",
    "from django import forms\n",
    "\n",
    "def require_pony(value):\n",
    "    if \"pony\" not in value:\n",
    "        raise forms.ValidationError(\"Value must contain a pony\" ) \n",
    "\n",
    "class ContactForm(forms.Form):\n",
    "\n",
    "    name = forms.CharField(label=_(\"Your Name\"),\n",
    "        max_length=255,\n",
    "        widget=forms.TextInput,\n",
    "    )\n",
    "    email = forms.EmailField(label=_(\"Email address\"))\n",
    "    pony = forms.CharField(validators=[require_pony])"
   ]
  },
  {
   "cell_type": "markdown",
   "metadata": {
    "collapsed": true
   },
   "source": [
    "__Widgets__"
   ]
  },
  {
   "cell_type": "markdown",
   "metadata": {},
   "source": [
    "* One for each type of HTML form control\n",
    "* Low-level operations\n",
    "* Know how to render appropriate HTML\n",
    "* Know how to pull their data out of a submission\n",
    "* Can bundle arbitrary media (CSS, JavaScript) to include and use when rendering"
   ]
  },
  {
   "cell_type": "markdown",
   "metadata": {},
   "source": [
    "I/O\n",
    "* When data is submitted, a widget’s\n",
    "`value_from_datadict()` method pulls out that\n",
    "widget’s value\n",
    "* When displaying a form, a widget’s `render()`\n",
    "method is responsible for generating that widget’s\n",
    "HTML"
   ]
  },
  {
   "cell_type": "markdown",
   "metadata": {
    "collapsed": true
   },
   "source": [
    "__Fields__"
   ]
  },
  {
   "cell_type": "markdown",
   "metadata": {},
   "source": [
    "* Represent data type and validation constraints\n",
    "* Have widgets associated with them for rendering"
   ]
  },
  {
   "cell_type": "markdown",
   "metadata": {},
   "source": [
    "#### Validation"
   ]
  },
  {
   "cell_type": "markdown",
   "metadata": {},
   "source": [
    "* Call the form’s `is_valid()` method that calls `full_clean()`\n",
    "* That applies field-level validation\n",
    "    * For each field, call its widget’s `value_from_datadict()` to get the value for the field\n",
    "    * Call field’s `clean()` method\n",
    "    * This calls field’s `to_python()` method to convert value to correct Python type\n",
    "    * Then calls field’s `validate()` method to run field’s own built-in validation\n",
    "    * Then calls field’s `run_validators()` method to run any additional validators supplied by end user\n",
    "    * `clean()` either returns a valid value, or raises ValidationError\n",
    "* Then form-level validation\n",
    "    * Form’s `clean()` method\n",
    "        * Call any `clean_*fieldname*()` method on the form (if field `clean()` ran without errors)\n",
    "        * Errors go into form’s errors dict, keyed by field name\n",
    "    * Happens after field validation, so cleaned_data may or may not be populated depending on prior errors\n",
    "    * Errors raised here end up in error dict under the key \\__all\\__, or by calling `non_field_errors()`\n",
    "* Then sets up either cleaned_data or errors attribute"
   ]
  },
  {
   "cell_type": "markdown",
   "metadata": {},
   "source": [
    "Example Form workflow"
   ]
  },
  {
   "cell_type": "code",
   "execution_count": null,
   "metadata": {
    "collapsed": true
   },
   "outputs": [],
   "source": [
    "from django.shortcuts import get_object_or_404\n",
    "from django.http import HttpResponseRedirect\n",
    "from django.core.urlresolvers import reverse\n",
    "import datetime\n",
    "\n",
    "from .forms import RenewBookForm\n",
    "\n",
    "def renew_book_librarian(request, pk):\n",
    "    book_inst=get_object_or_404(BookInstance, pk = pk)\n",
    "\n",
    "    # If this is a POST request then process the Form data\n",
    "    if request.method == 'POST':\n",
    "\n",
    "        # Create a form instance and populate it with data from the request (binding):\n",
    "        form = RenewBookForm(request.POST)\n",
    "\n",
    "        # Check if the form is valid:\n",
    "        if form.is_valid():\n",
    "            # process the data in form.cleaned_data as required (here we just write it to the model due_back field)\n",
    "            book_inst.due_back = form.cleaned_data['renewal_date']\n",
    "            book_inst.save()\n",
    "\n",
    "            # redirect to a new URL:\n",
    "            return HttpResponseRedirect(reverse('all-borrowed') )\n",
    "\n",
    "    # If this is a GET (or any other method) create the default form.\n",
    "    else:\n",
    "        proposed_renewal_date = datetime.date.today() + datetime.timedelta(weeks=3)\n",
    "        form = RenewBookForm(initial={'renewal_date': proposed_renewal_date,})\n",
    "\n",
    "    return render(request, 'catalog/book_renew_librarian.html', {'form': form, 'bookinst':book_inst})"
   ]
  },
  {
   "cell_type": "code",
   "execution_count": null,
   "metadata": {
    "collapsed": true
   },
   "outputs": [],
   "source": [
    "from django import forms\n",
    "\n",
    "from django.core.exceptions import ValidationError\n",
    "from django.utils.translation import ugettext_lazy as _\n",
    "import datetime\n",
    "    \n",
    "class RenewBookForm(forms.Form):\n",
    "    renewal_date = forms.DateField(help_text=\"Enter a date between now and 4 weeks (default 3).\")\n",
    "\n",
    "    def clean_renewal_date(self):\n",
    "        data = self.cleaned_data['renewal_date']\n",
    "        \n",
    "        #Check date is not in past. \n",
    "        if data < datetime.date.today():\n",
    "            raise ValidationError(_('Invalid date - renewal in past'))\n",
    "\n",
    "        #Check date is in range librarian allowed to change (+4 weeks).\n",
    "        if data > datetime.date.today() + datetime.timedelta(weeks=4):\n",
    "            raise ValidationError(_('Invalid date - renewal more than 4 weeks ahead'))\n",
    "\n",
    "        # Remember to always return the cleaned data.\n",
    "        return data"
   ]
  },
  {
   "cell_type": "markdown",
   "metadata": {},
   "source": [
    "Example custom Field and validation"
   ]
  },
  {
   "cell_type": "code",
   "execution_count": null,
   "metadata": {
    "collapsed": true
   },
   "outputs": [],
   "source": [
    "from django import forms\n",
    "from django.core.validators import validate_email\n",
    "\n",
    "class MultiEmailField(forms.Field):\n",
    "    def to_python(self, value):\n",
    "        \"\"\"Normalize data to a list of strings.\"\"\"\n",
    "        # Return an empty list if no input was given.\n",
    "        if not value:\n",
    "            return []\n",
    "        return value.split(',')\n",
    "\n",
    "    def validate(self, value):\n",
    "        \"\"\"Check if value consists only of valid emails.\"\"\"\n",
    "        # Use the parent's handling of required fields, etc.\n",
    "        super(MultiEmailField, self).validate(value)\n",
    "        for email in value:\n",
    "            validate_email(email)"
   ]
  },
  {
   "cell_type": "code",
   "execution_count": null,
   "metadata": {
    "collapsed": true
   },
   "outputs": [],
   "source": [
    "class ContactForm(forms.Form):\n",
    "    subject = forms.CharField(max_length=100)\n",
    "    message = forms.CharField()\n",
    "    sender = forms.EmailField()\n",
    "    recipients = MultiEmailField()\n",
    "    cc_myself = forms.BooleanField(required=False)\n",
    "\n",
    "    def clean_recipients(self):\n",
    "        data = self.cleaned_data['recipients']\n",
    "        if \"fred@example.com\" not in data:\n",
    "            raise forms.ValidationError(\"You have forgotten about Fred!\")\n",
    "\n",
    "        # Always return a value to use as the new cleaned data, even if\n",
    "        # this method didn't change it.\n",
    "        return data\n",
    "\n",
    "    def clean(self):\n",
    "        cleaned_data = super(ContactForm, self).clean()\n",
    "        cc_myself = cleaned_data.get(\"cc_myself\")\n",
    "        subject = cleaned_data.get(\"subject\")\n",
    "\n",
    "        if cc_myself and subject:\n",
    "            # Only do something if both fields are valid so far.\n",
    "            if \"help\" not in subject:\n",
    "                raise forms.ValidationError(\n",
    "                    \"Did not send for 'help' in the subject despite \"\n",
    "                    \"CC'ing yourself.\"\n",
    "                )"
   ]
  },
  {
   "cell_type": "markdown",
   "metadata": {},
   "source": [
    "__Build Form dynamically__"
   ]
  },
  {
   "cell_type": "markdown",
   "metadata": {},
   "source": [
    "* Forms have metaclass\n",
    "    * can use it directly if you want: django.forms.BaseForm\n",
    "    * but probably not a good idea unless you’re constructing form classes dynamically at runtime\n",
    "* form class ends up with two field-related attributes: base_fields and fields.\n",
    "    * base_fields is the default set of fields for all instances of that form class.\n",
    "    * fields is the set of fields for a specific instance of the form class."
   ]
  },
  {
   "cell_type": "code",
   "execution_count": null,
   "metadata": {
    "collapsed": true
   },
   "outputs": [],
   "source": [
    "base_fields = {\n",
    "    \"name\": forms.CharField(max_length=255),\n",
    "    \"email\": forms.EmailField(),\n",
    "    \"message\": forms.CharField(widget=forms.Textarea),\n",
    "}\n",
    "\n",
    "ContactForm = type(\"ContactForm\",\n",
    "    (forms.BaseForm,),\n",
    "    {\"base_fields\": base_fields}\n",
    ")"
   ]
  },
  {
   "cell_type": "code",
   "execution_count": null,
   "metadata": {
    "collapsed": true
   },
   "outputs": [],
   "source": [
    "class ContactForm(forms.Form):\n",
    "    name = forms.CharField(max_length=255)\n",
    "    email = forms.EmailField()\n",
    "    message = forms.CharField(widget=forms.Textarea)"
   ]
  },
  {
   "cell_type": "markdown",
   "metadata": {
    "collapsed": true
   },
   "source": [
    "#### ModelForm"
   ]
  },
  {
   "cell_type": "code",
   "execution_count": null,
   "metadata": {
    "collapsed": true
   },
   "outputs": [],
   "source": [
    "#in models.py\n",
    "class Profile(models.Model):\n",
    "    user = models.OneToOneField(User)\n",
    "    company = models.CharField(max_length=50)\n",
    "\n",
    "#in forms.py\n",
    "class ProfileForm(forms.ModelForm):\n",
    "    def __init__(self, *args, **kwargs):\n",
    "        super(ProfileForm, self).__init__(*args, **kwargs)\n",
    "        self.fields['company'].validators.append(require_pony)\n",
    "        self.fields['company'].required = True\n",
    "\n",
    "    class Meta:\n",
    "        model = Profile\n",
    "        # never use exclude\n",
    "        fields = ['company',]\n",
    "\n",
    "#In views.py:\n",
    "form = ProfileForm(request.POST)\n",
    "profile = form.save(commit = False)\n",
    "profile.user = request.user\n",
    "profile.save()"
   ]
  },
  {
   "cell_type": "markdown",
   "metadata": {},
   "source": [
    "* Introspects a model class and makes a form out of it\n",
    "* Basic structure (declarative class plus inner options class) is similar to models\n",
    "* Uses model meta API to get lists of fields, etc.\n",
    "* Override/configure things by setting options in Meta"
   ]
  },
  {
   "cell_type": "markdown",
   "metadata": {},
   "source": [
    "* Calls the `formfield()` method of each field in the model\n",
    "* Can be overridden by defining the method formfield_callback() on the form\n",
    "* Each field’s `value_from_object()` method called to get the value of that field on that model instance"
   ]
  },
  {
   "cell_type": "markdown",
   "metadata": {},
   "source": [
    "__Saving__\n",
    "* django.forms.models.construct_instance() builds an instance of the model with form data filled in\n",
    "* django.forms.models.save_instance() actually (if commit=True) saves the instance to the DB\n",
    "* Saving of many-to-many relations is deferred until after the instance itself has been saved\n",
    "    * with commit=False, you have to manually do it"
   ]
  },
  {
   "cell_type": "markdown",
   "metadata": {},
   "source": [
    "#### CBGV and Forms"
   ]
  },
  {
   "cell_type": "code",
   "execution_count": null,
   "metadata": {
    "collapsed": true
   },
   "outputs": [],
   "source": [
    "# flavors/views.py\n",
    "from django.contrib import messages\n",
    "from django.contrib.auth.mixins import LoginRequiredMixin\n",
    "from django.views.generic import CreateView, DetailView, UpdateView\n",
    "\n",
    "from .models import Flavor\n",
    "\n",
    "class FlavorActionMixin:\n",
    "\n",
    "    fields = ['title', 'slug', 'scoops_remaining']\n",
    "\n",
    "    @property\n",
    "    def success_msg(self):\n",
    "        return NotImplemented\n",
    "\n",
    "    def form_valid(self, form):\n",
    "        messages.info(self.request, self.success_msg)\n",
    "        return super(FlavorActionMixin, self).form_valid(form)\n",
    "\n",
    "class FlavorCreateView(LoginRequiredMixin, FlavorActionMixin,\n",
    "                        CreateView):\n",
    "    model = Flavor\n",
    "    success_msg = \"Flavor created!\"\n",
    "\n",
    "class FlavorUpdateView(LoginRequiredMixin, FlavorActionMixin,\n",
    "                        UpdateView):\n",
    "    model = Flavor\n",
    "    success_msg = \"Flavor updated!\"\n",
    "\n",
    "class FlavorDetailView(DetailView):\n",
    "    model = Flavor"
   ]
  },
  {
   "cell_type": "code",
   "execution_count": null,
   "metadata": {
    "collapsed": true
   },
   "outputs": [],
   "source": [
    "{% if messages %}\n",
    "    <ul class=\"messages\">\n",
    "        {% for message in messages %}\n",
    "        <li id=\"message_{{ forloop.counter }}\"\n",
    "            {% if message.tags %} class=\"{{ message.tags }}\"\n",
    "                {% endif %}>\n",
    "            {{ message }}\n",
    "        </li>\n",
    "        {% endfor %}\n",
    "    </ul>\n",
    "{% endif %}"
   ]
  },
  {
   "cell_type": "markdown",
   "metadata": {},
   "source": [
    "Example 2 Forms, 1 Model"
   ]
  },
  {
   "cell_type": "code",
   "execution_count": null,
   "metadata": {
    "collapsed": true
   },
   "outputs": [],
   "source": [
    "# stores/models.py\n",
    "from django.db import models\n",
    "from django.urls import reverse\n",
    "\n",
    "class IceCreamStore(models.Model):\n",
    "    title = models.CharField(max_length=100)\n",
    "    block_address = models.TextField()\n",
    "    phone = models.CharField(max_length=20, blank=True)\n",
    "    description = models.TextField(blank=True)\n",
    "\n",
    "    def get_absolute_url(self):\n",
    "        return reverse('store_detail', kwargs={'pk': self.pk})"
   ]
  },
  {
   "cell_type": "code",
   "execution_count": null,
   "metadata": {
    "collapsed": true
   },
   "outputs": [],
   "source": [
    "# stores/forms.py\n",
    "from django import forms\n",
    "\n",
    "from .models import IceCreamStore\n",
    "\n",
    "class IceCreamStoreCreateForm(forms.ModelForm):\n",
    "\n",
    "    class Meta:\n",
    "        model = IceCreamStore\n",
    "        fields = ['title', 'block_address', ]\n",
    "\n",
    "class IceCreamStoreUpdateForm(IceCreamStoreCreateForm):\n",
    "\n",
    "    def __init__(self, *args, **kwargs):\n",
    "        super(IceCreamStoreUpdateForm,\n",
    "                self).__init__(*args, **kwargs)\n",
    "        self.fields['phone'].required = True\n",
    "        self.fields['description'].required = True\n",
    "\n",
    "    class Meta(IceCreamStoreCreateForm.Meta):\n",
    "        # show all the fields!\n",
    "        fields = ['title', 'block_address', 'phone',\n",
    "                'description', ]"
   ]
  },
  {
   "cell_type": "code",
   "execution_count": null,
   "metadata": {
    "collapsed": true
   },
   "outputs": [],
   "source": [
    "# stores/views\n",
    "from django.views.generic import CreateView, UpdateView\n",
    "\n",
    "from .forms import IceCreamStoreCreateForm, IceCreamStoreUpdateForm\n",
    "from .models import IceCreamStore\n",
    "\n",
    "class IceCreamCreateView(CreateView):\n",
    "    model = IceCreamStore\n",
    "    form_class = IceCreamStoreCreateForm\n",
    "\n",
    "class IceCreamUpdateView(UpdateView):\n",
    "    model = IceCreamStore\n",
    "    form_class = IceCreamStoreUpdateForm"
   ]
  },
  {
   "cell_type": "markdown",
   "metadata": {},
   "source": [
    "Example using Form for CSV (not only POST)"
   ]
  },
  {
   "cell_type": "code",
   "execution_count": null,
   "metadata": {
    "collapsed": true
   },
   "outputs": [],
   "source": [
    "import csv\n",
    "\n",
    "from django.utils.six import StringIO\n",
    "\n",
    "from django import forms\n",
    "\n",
    "from .models import Purchase, Seller\n",
    "\n",
    "class PurchaseForm(forms.ModelForm):\n",
    "\n",
    "    class Meta:\n",
    "        model = Purchase\n",
    "\n",
    "    def clean_seller(self):\n",
    "        seller = self.cleaned_data['seller']\n",
    "        try:\n",
    "            Seller.objects.get(name=seller)\n",
    "        except Seller.DoesNotExist:\n",
    "            msg = '{0} does not exist in purchase #{1}.'.format(\n",
    "                seller,\n",
    "                self.cleaned_data['purchase_number']\n",
    "            )\n",
    "            raise forms.ValidationError(msg)\n",
    "        return seller\n",
    "\n",
    "def add_csv_purchases(rows):\n",
    "\n",
    "    rows = StringIO.StringIO(rows)\n",
    "\n",
    "    records_added = 0\n",
    "    errors = []\n",
    "    # Generate a dict per row, with the first CSV row being the keys.\n",
    "    for row in csv.DictReader(rows, delimiter=','):\n",
    "\n",
    "        # Bind the row data to the PurchaseForm.\n",
    "        form = PurchaseForm(row)\n",
    "        # Check to see if the row data is valid.\n",
    "        if form.is_valid():\n",
    "            # Row data is valid so save the record.\n",
    "            form.save()\n",
    "            records_added += 1\n",
    "        else:\n",
    "            errors.append(form.errors)\n",
    "\n",
    "    return records_added, errors"
   ]
  },
  {
   "cell_type": "markdown",
   "metadata": {},
   "source": [
    "Example adding additional attribute to form"
   ]
  },
  {
   "cell_type": "code",
   "execution_count": null,
   "metadata": {
    "collapsed": true
   },
   "outputs": [],
   "source": [
    "from django import forms\n",
    "\n",
    "from .models import Taster\n",
    "\n",
    "class TasterForm(forms.ModelForm):\n",
    "\n",
    "    class Meta:\n",
    "        model = Taster\n",
    "\n",
    "    def __init__(self, *args, **kwargs):\n",
    "        self.user = kwargs.pop('user')\n",
    "        super(TasterForm, self).__init__(*args, **kwargs)"
   ]
  },
  {
   "cell_type": "code",
   "execution_count": null,
   "metadata": {
    "collapsed": true
   },
   "outputs": [],
   "source": [
    "\n",
    "from django.contrib.auth.mixins import LoginRequiredMixin\n",
    "from django.views.generic import UpdateView\n",
    "\n",
    "from .forms import TasterForm\n",
    "from .models import Taster\n",
    "\n",
    "class TasterUpdateView(LoginRequiredMixin, UpdateView):\n",
    "    model = Taster\n",
    "    form_class = TasterForm\n",
    "    success_url = '/someplace/'\n",
    "\n",
    "    def get_form_kwargs(self):\n",
    "        \"\"\"This method is what injects forms with keyword arguments.\"\"\"\n",
    "        # grab the current set of form #kwargs\n",
    "        kwargs = super(TasterUpdateView, self).get_form_kwargs()\n",
    "        # Update the kwargs with the user_id\n",
    "        kwargs['user'] = self.request.user\n",
    "        return kwargs"
   ]
  },
  {
   "cell_type": "markdown",
   "metadata": {},
   "source": [
    "### References"
   ]
  },
  {
   "cell_type": "markdown",
   "metadata": {},
   "source": [
    "* https://developer.mozilla.org/en-US/docs/Learn/Server-side/Django/Forms\n",
    "* https://www.pydanny.com/tag/forms.html\n",
    "* https://bradmontgomery.net/blog/2015/04/25/nice-arrayfield-widgets-choices-and-chosenjs/\n",
    "* https://docs.djangoproject.com/en/1.11/ref/forms/renderers/"
   ]
  },
  {
   "cell_type": "markdown",
   "metadata": {},
   "source": [
    "### Summary"
   ]
  },
  {
   "cell_type": "markdown",
   "metadata": {},
   "source": [
    "* use ModelForm if you can\n",
    "* know validation process\n",
    "* creating custom widget - keep it simple"
   ]
  },
  {
   "cell_type": "markdown",
   "metadata": {},
   "source": [
    "## Templates"
   ]
  },
  {
   "cell_type": "markdown",
   "metadata": {},
   "source": [
    "* Separate logic from presentation\n",
    "* Discourage redundancy\n",
    "    * inheritance\n",
    "* Be decoupled from HTML\n",
    "* XML should not be used for template languages\n",
    "* Assume designer competence\n",
    "* Treat whitespace obviously\n",
    "    * Any whitespace that’s not in a template tag should be displayed.\n",
    "* Don’t invent a programming language\n",
    "    * The Django Template Language (DTL) aims to avoid advanced logic.\n",
    "* Safety and security\n",
    "* Extensibility"
   ]
  },
  {
   "cell_type": "markdown",
   "metadata": {},
   "source": [
    "#### Django template language"
   ]
  },
  {
   "cell_type": "markdown",
   "metadata": {
    "collapsed": true
   },
   "source": [
    "* Engine\n",
    "    * New in Django 1.8\n",
    "    * Wrap a template system in a consistent API\n",
    "    * Built-in engines for Django’s template language and for Jinja2\n",
    "* Loader\n",
    "    * Required method: `load_template_source()`, taking template name and optional directories to look in\n",
    "    * Should return a 2-tuple of template contents and template location\n",
    "    * Could load templates from database or cache\n",
    "* Template\n",
    "    * Instantiate with template source\n",
    "    * Implement `render()` method receiving optional context (dictionary) and optional request (HttpRequest object), returning string\n",
    "* Tag and filter libraries\n",
    "* Context"
   ]
  },
  {
   "cell_type": "markdown",
   "metadata": {},
   "source": [
    "Key parts\n",
    "* All in django/template/base.py\n",
    "* Template is the high-level representation\n",
    "* Lexer and Parser actually turn the template source into something usable\n",
    "* Token represents bits of the template during parsing\n",
    "* Node and NodeList are the structures which make up a compiled Template"
   ]
  },
  {
   "cell_type": "markdown",
   "metadata": {},
   "source": [
    "Lexing\n",
    "* Instantiate with template source, then call `tokenize()`\n",
    "* Splits the template source using a regex which recognizes start/end syntax of tags and variables\n",
    "* Creates and returns a list of tokens based on the resulting substrings"
   ]
  },
  {
   "cell_type": "markdown",
   "metadata": {},
   "source": [
    "Tokens\n",
    "* Come in four flavors: Text, Var, Block, Comment\n",
    "* Gets the text of some piece of template syntax, minus the start/end constructs like {% … %} or {{ … }}"
   ]
  },
  {
   "cell_type": "markdown",
   "metadata": {},
   "source": [
    "Parsing\n",
    "* Instantiate Parser with list of tokens from Lexer, then call parse()\n",
    "* Each tag and filter (built-in or custom) gets registered with Parser\n",
    "* Each tag provides a compilation function, which Parser will call to produce a Node\n",
    "* Variables get automatically translated into VariableNode, plain text into TextNode"
   ]
  },
  {
   "cell_type": "markdown",
   "metadata": {},
   "source": [
    "Nodes\n",
    "* Can be an individual Node, or a NodeList\n",
    "* Defining characteristic is the render() method which takes a Context as argument and returns a string"
   ]
  },
  {
   "cell_type": "markdown",
   "metadata": {},
   "source": [
    "Workflow\n",
    "* transform the string source of the template into a NodeList\n",
    "* one Node for each tag, each variable and each bit of plain text.\n",
    "* rendering involves having that NodeList iterate over and render() its Nodes\n",
    "* concatenate the results into a single string which is the output."
   ]
  },
  {
   "cell_type": "markdown",
   "metadata": {},
   "source": [
    "Context\n",
    "* Lives in django/template/context.py\n",
    "* Behaves like a dictionary\n",
    "* Is actually a stack of dictionaries, supporting push/pop and fall-through lookups\n",
    "* First dictionary in the stack to return a value wins"
   ]
  },
  {
   "cell_type": "markdown",
   "metadata": {},
   "source": [
    "#### Architecture"
   ]
  },
  {
   "cell_type": "raw",
   "metadata": {},
   "source": [
    "templates/\n",
    "├── base.html\n",
    "├── ... (other sitewide templates in here)\n",
    "├── freezers/\n",
    "│   ├── (\"freezers\" app templates in here)"
   ]
  },
  {
   "cell_type": "markdown",
   "metadata": {},
   "source": [
    "__2-tier__"
   ]
  },
  {
   "cell_type": "raw",
   "metadata": {},
   "source": [
    "templates/\n",
    "├── base.html\n",
    "├── dashboard.html # extends base.html\n",
    "├── profiles/\n",
    "│   ├── profile_detail.html # extends base.html\n",
    "│   ├── profile_form.html # extends base.html"
   ]
  },
  {
   "cell_type": "markdown",
   "metadata": {},
   "source": [
    "Best for sites where layout is consistent"
   ]
  },
  {
   "cell_type": "markdown",
   "metadata": {},
   "source": [
    "__3-tier__"
   ]
  },
  {
   "cell_type": "raw",
   "metadata": {},
   "source": [
    "templates/\n",
    "    base.html\n",
    "    dashboard.html # extends base.html\n",
    "    profiles/\n",
    "        base_profiles.html # extends base.html\n",
    "        profile_detail.html # extends base_profiles.html\n",
    "        profile_form.html # extends base_profiles.html"
   ]
  },
  {
   "cell_type": "markdown",
   "metadata": {},
   "source": [
    "__Inheritance__"
   ]
  },
  {
   "cell_type": "code",
   "execution_count": null,
   "metadata": {
    "collapsed": true
   },
   "outputs": [],
   "source": [
    "{# simple base.html #}\n",
    "{% load staticfiles %}\n",
    "<html>\n",
    "<head>\n",
    "    <title>\n",
    "        {% block title %}Two Scoops of Django{% endblock title %}\n",
    "    </title>\n",
    "    {% block stylesheets %}\n",
    "        <link rel=\"stylesheet\" type=\"text/css\" href=\"{% static 'css/project.css' %}\">\n",
    "    {% endblock stylesheets %}\n",
    "</head>\n",
    "<body>\n",
    "    <div class=\"content\">\n",
    "        {% block content %}\n",
    "            <h1>Two Scoops</h1>\n",
    "        {% endblock content %}\n",
    "    </div>\n",
    "</body>\n",
    "</html>"
   ]
  },
  {
   "cell_type": "code",
   "execution_count": null,
   "metadata": {
    "collapsed": true
   },
   "outputs": [],
   "source": [
    "{% extends \"base.html\" %}\n",
    "{% load staticfiles %}\n",
    "{% block title %}About Audrey and Daniel{% endblock title %}\n",
    "{% block stylesheets %}\n",
    "    {{ block.super }}\n",
    "    <link rel=\"stylesheet\" type=\"text/css\" href=\"{% static 'css/about.css' %}\">\n",
    "{% endblock stylesheets %}\n",
    "{% block content %}\n",
    "    {{ block.super }}\n",
    "    <h2>About Audrey and Daniel</h2>\n",
    "    <p>They enjoy eating ice cream</p>\n",
    "{% endblock content %}"
   ]
  },
  {
   "cell_type": "markdown",
   "metadata": {},
   "source": [
    "__Debug__"
   ]
  },
  {
   "cell_type": "code",
   "execution_count": null,
   "metadata": {
    "collapsed": true
   },
   "outputs": [],
   "source": [
    "# settings/local.py\n",
    "TEMPLATES = [\n",
    "    {\n",
    "        'BACKEND': 'django.template.backends.django.DjangoTemplates',\n",
    "        'APP_DIRS': True,\n",
    "        'OPTIONS':\n",
    "        {\n",
    "            'string_if_invalid': 'INVALID EXPRESSION: %s'\n",
    "        },\n",
    "    },\n",
    "]"
   ]
  },
  {
   "cell_type": "markdown",
   "metadata": {},
   "source": [
    "#### Filters"
   ]
  },
  {
   "cell_type": "code",
   "execution_count": null,
   "metadata": {
    "collapsed": true
   },
   "outputs": [],
   "source": [
    "@register.filter(is_safe=False)\n",
    "def length(value):\n",
    "    \"\"\"Returns the length of the value - useful for lists.\"\"\"\n",
    "    try:\n",
    "        return len(value)\n",
    "    except (ValueError, TypeError):\n",
    "        return 0"
   ]
  },
  {
   "cell_type": "markdown",
   "metadata": {},
   "source": [
    "Example custom filter"
   ]
  },
  {
   "cell_type": "code",
   "execution_count": null,
   "metadata": {
    "collapsed": true
   },
   "outputs": [],
   "source": [
    "from django import template\n",
    "from datetime import date, timedelta\n",
    "\n",
    "register = template.Library()\n",
    "\n",
    "@register.filter(name='get_due_date_string')\n",
    "def get_due_date_string(value):\n",
    "    delta = value - date.today()\n",
    "\n",
    "    if delta.days == 0:\n",
    "        return \"Today!\"\n",
    "    elif delta.days < 1:\n",
    "        return \"%s %s ago!\" % (abs(delta.days),\n",
    "            (\"day\" if abs(delta.days) == 1 else \"days\"))\n",
    "    elif delta.days == 1:\n",
    "        return \"Tomorrow\"\n",
    "    elif delta.days > 1:\n",
    "        return \"In %s days\" % delta.days"
   ]
  },
  {
   "cell_type": "code",
   "execution_count": null,
   "metadata": {
    "collapsed": true
   },
   "outputs": [],
   "source": [
    "{% load app_filters %}\n",
    "{% for todo in todos %}\n",
    "    ...\n",
    "    <div class='due_date'>\n",
    "        <b>Due:</b> {{ todo.due_date|get_due_date_string }}\n",
    "    </div>\n",
    "    ...\n",
    "{% endfor %}"
   ]
  },
  {
   "cell_type": "markdown",
   "metadata": {},
   "source": [
    "#### Tags"
   ]
  },
  {
   "cell_type": "markdown",
   "metadata": {},
   "source": [
    "* Each tag must provide compilation function\n",
    "* It gets access to the token representing the tag, and to the parser\n",
    "* Can just be simple and instantiate/return a Node subclass\n",
    "* Or can use the parser to do more complex things like parsing ahead to an end tag, doing things with all the nodes in between, etc\n",
    "* Allows tags to set groups of variables by pushing a new dictionary on top, then clean up by popping\n",
    "* Performance implications: just as nested namespaces in Python code will slow down name lookups"
   ]
  },
  {
   "cell_type": "markdown",
   "metadata": {},
   "source": [
    "General\n",
    "* put custom tags to *app_name*_tags.py\n",
    "* load them in templates"
   ]
  },
  {
   "cell_type": "code",
   "execution_count": null,
   "metadata": {
    "collapsed": true
   },
   "outputs": [],
   "source": [
    "{% extends \"base.html\" %}\n",
    "\n",
    "{% load flavors_tags %}"
   ]
  },
  {
   "cell_type": "markdown",
   "metadata": {},
   "source": [
    "Simple tag\n",
    "* Processes the data and returns a string"
   ]
  },
  {
   "cell_type": "code",
   "execution_count": null,
   "metadata": {
    "collapsed": true
   },
   "outputs": [],
   "source": [
    "from django import template\n",
    "register = template.Library()\n",
    "\n",
    "from ..models import YourModel\n",
    "\n",
    "@register.simple_tag\n",
    "def any_function():\n",
    "    return YourModel.objects.count()"
   ]
  },
  {
   "cell_type": "markdown",
   "metadata": {},
   "source": [
    "Inclusion tag\n",
    "* Processes the data and returns a rendered template"
   ]
  },
  {
   "cell_type": "code",
   "execution_count": null,
   "metadata": {
    "collapsed": true
   },
   "outputs": [],
   "source": [
    "@register.inclusion_tag('path_to_your_html_file.html')\n",
    "def any_function():\n",
    "    variable = YourModel.objects.order_by('-publish')[:5]\n",
    "    return {'variable': variable}"
   ]
  },
  {
   "cell_type": "markdown",
   "metadata": {},
   "source": [
    "Assignment tag\n",
    "* Processes the data and sets a variable in the contex"
   ]
  },
  {
   "cell_type": "code",
   "execution_count": null,
   "metadata": {
    "collapsed": true
   },
   "outputs": [],
   "source": [
    "@register.assignment_tag\n",
    "def any_function(count=5):\n",
    "    return *some database query*"
   ]
  },
  {
   "cell_type": "code",
   "execution_count": null,
   "metadata": {
    "collapsed": true
   },
   "outputs": [],
   "source": [
    "{% get any_function as queries %}\n",
    "<ul>\n",
    "{% for query in queries %}\n",
    "  <li>\n",
    "  ...\n",
    "  </li>\n",
    "{% endfor %}\n",
    "</ul>"
   ]
  },
  {
   "cell_type": "markdown",
   "metadata": {},
   "source": [
    "Custom tag"
   ]
  },
  {
   "cell_type": "code",
   "execution_count": null,
   "metadata": {
    "collapsed": true
   },
   "outputs": [],
   "source": [
    "from django import template\n",
    "\n",
    "@register.tag(name=\"current_time\")\n",
    "def do_current_time(parser, token):\n",
    "    try:\n",
    "        # split_contents() knows not to split quoted strings.\n",
    "        tag_name, format_string = token.split_contents()\n",
    "    except ValueError:\n",
    "        raise template.TemplateSyntaxError(\n",
    "            \"%r tag requires a single argument\" % token.contents.split()[0]\n",
    "        )\n",
    "    if not (format_string[0] == format_string[-1] and format_string[0] in ('\"', \"'\")):\n",
    "        raise template.TemplateSyntaxError(\n",
    "            \"%r tag's argument should be in quotes\" % tag_name\n",
    "        )\n",
    "    return CurrentTimeNode(format_string[1:-1])"
   ]
  },
  {
   "cell_type": "code",
   "execution_count": null,
   "metadata": {
    "collapsed": true
   },
   "outputs": [],
   "source": [
    "import datetime\n",
    "from django import template\n",
    "\n",
    "class CurrentTimeNode(template.Node):\n",
    "    def __init__(self, format_string):\n",
    "        self.format_string = format_string\n",
    "\n",
    "    def render(self, context):\n",
    "        return datetime.datetime.now().strftime(self.format_string)"
   ]
  },
  {
   "cell_type": "markdown",
   "metadata": {},
   "source": [
    "#### Jinja2"
   ]
  },
  {
   "cell_type": "markdown",
   "metadata": {},
   "source": [
    "![diff](http://pylixm.cc/images/df.png)"
   ]
  },
  {
   "cell_type": "markdown",
   "metadata": {},
   "source": [
    "* can be used independetly\n",
    "* syntax may be more pleasant\n",
    "* more explicit\n",
    "* its faster"
   ]
  },
  {
   "cell_type": "markdown",
   "metadata": {},
   "source": [
    "### References"
   ]
  },
  {
   "cell_type": "markdown",
   "metadata": {},
   "source": [
    "* https://github.com/jazzband/django-dbtemplates/blob/master/dbtemplates/loader.py\n",
    "* https://github.com/django/django/blob/stable/1.11.x/django/template/defaultfilters.py\n",
    "* https://www.codementor.io/hiteshgarg14/creating-custom-template-tags-in-django-application-58wvmqm5f"
   ]
  },
  {
   "cell_type": "markdown",
   "metadata": {},
   "source": [
    "### Summary"
   ]
  },
  {
   "cell_type": "markdown",
   "metadata": {},
   "source": [
    "* know the implications of DTL\n",
    "* in CBV use object and object_list implicit variables\n",
    "* template called with include should be prefixed with _\n",
    "* prefer underscores over dashes in template names\n",
    "* avoid coupling styles code to Python code. Control styling with css\n",
    "* use URL names instead of hardcoded paths\n",
    "* structure HTML nicely\n",
    "* watch for implicit database quries/rpc calls in templates code\n",
    "* keep presentation logic mostly out of templates put it yourr views"
   ]
  }
 ],
 "metadata": {
  "kernelspec": {
   "display_name": "Python 2",
   "language": "python",
   "name": "python2"
  },
  "language_info": {
   "codemirror_mode": {
    "name": "ipython",
    "version": 2
   },
   "file_extension": ".py",
   "mimetype": "text/x-python",
   "name": "python",
   "nbconvert_exporter": "python",
   "pygments_lexer": "ipython2",
   "version": "2.7.10"
  }
 },
 "nbformat": 4,
 "nbformat_minor": 1
}
