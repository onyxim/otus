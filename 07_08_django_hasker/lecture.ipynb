{
 "cells": [
  {
   "cell_type": "markdown",
   "metadata": {},
   "source": [
    "# #6. Models "
   ]
  },
  {
   "cell_type": "markdown",
   "metadata": {},
   "source": [
    "0. [Motivation](#Motivation)\n",
    "1. [ORM](#ORM)\n",
    "    1. [Models](#Models)\n",
    "    1. [CRUD](#CRUD)\n",
    "    2. [N+1 problem](#N+1-problem)\n",
    "    3. [Object managers](#Object-managers)\n",
    "    4. [Raw](#Raw)\n",
    "    5. [LIMIT](#LIMIT)\n",
    "    6. [IN](#IN)\n",
    "2. [Indexes](#Indexes)\n",
    "3. [Transactions](#Transactions)\n",
    "4. [Migrations](#Migrations)\n",
    "5. [Backup](#Backup)\n",
    "6. [Replication](#Replication)\n",
    "7. [Sharding](#Sharding)\n",
    "8. [NoSQL](#NoSQL)\n",
    "9. [SQLAlchemy](#SQLAlchemy)"
   ]
  },
  {
   "cell_type": "markdown",
   "metadata": {},
   "source": [
    "## Motivation"
   ]
  },
  {
   "cell_type": "markdown",
   "metadata": {},
   "source": [
    "__Goal__"
   ]
  },
  {
   "cell_type": "markdown",
   "metadata": {},
   "source": [
    "Познакомиться с основными составляющими уровня хранения, жизненным циклом данных и особенностями манипуляции ими с помощью ORM"
   ]
  },
  {
   "cell_type": "markdown",
   "metadata": {},
   "source": [
    "__Homework__"
   ]
  },
  {
   "cell_type": "markdown",
   "metadata": {},
   "source": [
    "Hasker!"
   ]
  },
  {
   "cell_type": "markdown",
   "metadata": {},
   "source": [
    "## ORM"
   ]
  },
  {
   "cell_type": "markdown",
   "metadata": {},
   "source": [
    "#### Models"
   ]
  },
  {
   "cell_type": "markdown",
   "metadata": {
    "collapsed": true
   },
   "source": [
    "* break apps with many models\n",
    "    * 5 models per app preferably\n",
    "* stick to fat models\n",
    "    * instead of putting data-related code in views and templates use model's methods, properties, etc.\n",
    "    * beware of god objects\n",
    "        * use mixins and helpers (utils)\n",
    "* normalize until it hurts, denormalize until it works.\n"
   ]
  },
  {
   "cell_type": "markdown",
   "metadata": {},
   "source": [
    "__Model Inheritance__\n",
    "* Abstract base classes\n",
    "    * tables created only for derived classes\n",
    "    * common fields in parent\n",
    "    * cannot use parent abstract class"
   ]
  },
  {
   "cell_type": "code",
   "execution_count": null,
   "metadata": {
    "collapsed": true
   },
   "outputs": [],
   "source": [
    "from django.db import models\n",
    "\n",
    "class CommonInfo(models.Model):\n",
    "    name = models.CharField(max_length=100)\n",
    "    age = models.PositiveIntegerField()\n",
    "\n",
    "    class Meta:\n",
    "        abstract = True\n",
    "\n",
    "class Student(CommonInfo):\n",
    "    home_group = models.CharField(max_length=5)"
   ]
  },
  {
   "cell_type": "markdown",
   "metadata": {},
   "source": [
    "* Multi-table inheritance\n",
    "    * tables created for parents and childs\n",
    "    * can use parent and childs\n",
    "    * can get child object from parent object\n",
    "    * each query on a child table requires JOIN with ALL parent tables"
   ]
  },
  {
   "cell_type": "code",
   "execution_count": null,
   "metadata": {
    "collapsed": true
   },
   "outputs": [],
   "source": [
    "from django.db import models\n",
    "\n",
    "class Place(models.Model):\n",
    "    name = models.CharField(max_length=50)\n",
    "    address = models.CharField(max_length=80)\n",
    "\n",
    "class Restaurant(Place):\n",
    "    serves_hot_dogs = models.BooleanField(default=False)\n",
    "    serves_pizza = models.BooleanField(default=False)"
   ]
  },
  {
   "cell_type": "markdown",
   "metadata": {},
   "source": [
    "* Proxy models\n",
    "    * table created only for original model\n",
    "    * cannot chage model behavior"
   ]
  },
  {
   "cell_type": "code",
   "execution_count": null,
   "metadata": {
    "collapsed": true
   },
   "outputs": [],
   "source": [
    "from django.db import models\n",
    "\n",
    "class Person(models.Model):\n",
    "    first_name = models.CharField(max_length=30)\n",
    "    last_name = models.CharField(max_length=30)\n",
    "\n",
    "class MyPerson(Person):\n",
    "    class Meta:\n",
    "        proxy = True\n",
    "\n",
    "    def do_something(self):\n",
    "        # ...\n",
    "        pass"
   ]
  },
  {
   "cell_type": "markdown",
   "metadata": {},
   "source": [
    "#### CRUD"
   ]
  },
  {
   "cell_type": "code",
   "execution_count": null,
   "metadata": {
    "collapsed": true
   },
   "outputs": [],
   "source": [
    "from flavors.models import Flavor\n",
    "from store.exceptions import OutOfStock, CorruptedDatabase\n",
    "\n",
    "def list_flavor_line_item(sku):\n",
    "    try:\n",
    "        return Flavor.objects.get(sku=sku, quantity__gt=0)\n",
    "    except Flavor.DoesNotExist:\n",
    "        msg = 'We are out of {}'.format(sku)\n",
    "        raise OutOfStock(msg)\n",
    "    except Flavor.MultipleObjectsReturned:\n",
    "        msg = 'Multiple items have SKU {}. Please fix!'.format(sku)\n",
    "        raise CorruptedDatabase(msg)"
   ]
  },
  {
   "cell_type": "markdown",
   "metadata": {},
   "source": [
    "__Lazy evaluation__"
   ]
  },
  {
   "cell_type": "code",
   "execution_count": null,
   "metadata": {
    "collapsed": true
   },
   "outputs": [],
   "source": [
    ">>> my_queryset = SomeModel.objects.all()\n",
    ">>> my_queryset[5].some_attribute\n",
    "3\n",
    ">>> my_queryset[5].some_attribute = 2\n",
    ">>> my_queryset[5].save()\n",
    ">>> my_queryset[5].some_attribute\n",
    "3\n",
    ">>> # WAT"
   ]
  },
  {
   "cell_type": "markdown",
   "metadata": {},
   "source": [
    "* A performance trade-off\n",
    "* Calling a QuerySet method will usually clone the pre-existing QuerySet, apply the change, and return the new instance (doing a new query)\n",
    "* Except for iteration, length/existence checks, which can re-use the existing QuerySet instance’s results cache without doing a new query"
   ]
  },
  {
   "cell_type": "code",
   "execution_count": null,
   "metadata": {
    "collapsed": true
   },
   "outputs": [],
   "source": [
    "from django.models import Q\n",
    "\n",
    "from promos.models import Promo\n",
    "\n",
    "def fun_function(**kwargs):\n",
    "    \"\"\"Find working ice cream promo\"\"\"\n",
    "    results = Promo.objects.active()\n",
    "    results = results.filter(\n",
    "                Q(name__startswith=name) |\n",
    "                Q(description__icontains=name)\n",
    "            )\n",
    "    results = results.exclude(status='melted')\n",
    "    results = results.select_related('flavors')\n",
    "    return results"
   ]
  },
  {
   "cell_type": "markdown",
   "metadata": {},
   "source": [
    "Do not evaluate query set unless you have to\n",
    "* Defeats Django’s lazy-evaluation mechanism by dragging everything into memory.\n",
    "* Does filtration or summarization in the application that is much more efficiently done in the database"
   ]
  },
  {
   "cell_type": "code",
   "execution_count": null,
   "metadata": {
    "collapsed": true
   },
   "outputs": [],
   "source": [
    "# ~2,500,000 строк в таблице “Orders” (MySQL InnoDB).\n",
    "qs = Orders.objects.all()\n",
    "for order in qs:\n",
    "    order.age_in_days += 1\n",
    "    order.save()"
   ]
  },
  {
   "cell_type": "markdown",
   "metadata": {},
   "source": [
    "When QuerySets are evaluated\n",
    "* Iteration\n",
    "    * use update(), raw(), or custom iteration helper\n",
    "* Slicing\n",
    "    * generally, slicing a QuerySet returns a new QuerySet – it doesn’t evaluate the query\n",
    "    * exception is if you use the “step” parameter of Python slice syntax\n",
    "* repr()\n",
    "* len()\n",
    "    * use count()\n",
    "* list()\n",
    "* bool(), or, and, if\n",
    "    * use exists()"
   ]
  },
  {
   "cell_type": "markdown",
   "metadata": {},
   "source": [
    "* Once evaluated, a QuerySet holds on to its result set.\n",
    "    * Reuse the same result set whenever possible!\n",
    "* Remember that each filter you apply to a QuerySet creates a new query set.\n",
    "    * That time can add up.\n",
    "    * It can be faster to drop to raw SQL for super-complex queries.\n",
    "* Don’t retrieve things you don’t need\n",
    "    * use values() and values_list()\n",
    "    * use defer() and only()"
   ]
  },
  {
   "cell_type": "code",
   "execution_count": null,
   "metadata": {
    "collapsed": true
   },
   "outputs": [],
   "source": [
    ">>> entry = Entry.objects.get(id=1)\n",
    ">>> entry.blog   # Blog object is retrieved at this point\n",
    ">>> entry.blog   # cached version, no DB access"
   ]
  },
  {
   "cell_type": "code",
   "execution_count": null,
   "metadata": {},
   "outputs": [],
   "source": [
    "# in general, callable attributes cause DB lookups every time\n",
    ">>> entry = Entry.objects.get(id=1)\n",
    ">>> entry.authors.all()   # query performed\n",
    ">>> entry.authors.all()   # query performed again"
   ]
  },
  {
   "cell_type": "markdown",
   "metadata": {},
   "source": [
    "__Query expressions__"
   ]
  },
  {
   "cell_type": "code",
   "execution_count": null,
   "metadata": {},
   "outputs": [],
   "source": [
    "from django.db.models import F\n",
    "\n",
    "from models.customers import Customer\n",
    "\n",
    "customers = Customer.objects.filter(scoops_ordered__gt=F('store_visits'))\n",
    "# SELECT * from customers_customer where scoops_ordered > store_visits"
   ]
  },
  {
   "cell_type": "markdown",
   "metadata": {},
   "source": [
    "#### N+1 problem"
   ]
  },
  {
   "cell_type": "code",
   "execution_count": null,
   "metadata": {
    "collapsed": true
   },
   "outputs": [],
   "source": [
    "from django.db import models\n",
    "\n",
    "class Topping(models.Model):\n",
    "    name = models.CharField(max_length=30)\n",
    "\n",
    "class Pizza(models.Model):\n",
    "    name = models.CharField(max_length=50)\n",
    "    toppings = models.ManyToManyField(Topping)\n",
    "\n",
    "    def __str__(self):\n",
    "        return \"%s (%s)\" % (\n",
    "            self.name,\n",
    "            \", \".join(topping.name for topping in self.toppings.all()),\n",
    "        )\n",
    "\n",
    "class Restaurant(models.Model):\n",
    "    pizzas = models.ManyToManyField(Pizza, related_name='restaurants')\n",
    "    best_pizza = models.ForeignKey(Pizza)"
   ]
  },
  {
   "cell_type": "code",
   "execution_count": null,
   "metadata": {
    "collapsed": true
   },
   "outputs": [],
   "source": [
    ">>> Pizza.objects.all()\n",
    "[\"Hawaiian (ham, pineapple)\", \"Seafood (prawns, smoked salmon)\"..."
   ]
  },
  {
   "cell_type": "markdown",
   "metadata": {},
   "source": [
    "select_related\n",
    "* used for foreign keys and one-to-one realtions\n",
    "* results in a single more complex query with JOIN"
   ]
  },
  {
   "cell_type": "code",
   "execution_count": null,
   "metadata": {
    "collapsed": true
   },
   "outputs": [],
   "source": [
    ">>> Restaurant.objects.select_related('best_pizza')"
   ]
  },
  {
   "cell_type": "markdown",
   "metadata": {},
   "source": [
    "prefetch_related\n",
    "* used for many-to-many, many-to-one realtions\n",
    "* does a separate lookup for each relationship\n",
    "* does the ‘joining’ in Python\n",
    "* object loaded in QuerySet cache (not lazy)\n",
    "* in most cases will be implemented using an SQL query that uses the ‘IN’ operator"
   ]
  },
  {
   "cell_type": "code",
   "execution_count": null,
   "metadata": {
    "collapsed": true
   },
   "outputs": [],
   "source": [
    "# One extra query to select all toppings and put them in a QuerySet cache\n",
    ">>> Pizza.objects.all().prefetch_related('toppings')\n",
    " \n",
    ">>> pizzas = Pizza.objects.prefetch_related('toppings')\n",
    "# Cache is cleared, previous prefetch won't help\n",
    ">>> [list(pizza.toppings.filter(spicy=True)) for pizza in pizzas]\n",
    "\n",
    "# total 3 quries\n",
    ">>> Restaurant.objects.prefetch_related('pizzas__toppings')"
   ]
  },
  {
   "cell_type": "markdown",
   "metadata": {},
   "source": [
    "#### Object managers"
   ]
  },
  {
   "cell_type": "code",
   "execution_count": null,
   "metadata": {
    "collapsed": true
   },
   "outputs": [],
   "source": [
    "from django.db import models\n",
    "from django.utils import timezone\n",
    "\n",
    "class PublishedManager(models.Manager):\n",
    "\n",
    "    use_for_related_fields = True\n",
    "\n",
    "    def published(self, **kwargs):\n",
    "        return self.filter(pub_date__lte=timezone.now(), **kwargs)\n",
    "\n",
    "class FlavorReview(models.Model):\n",
    "    review = models.CharField(max_length=255)\n",
    "    pub_date = models.DateTimeField()\n",
    "\n",
    "    # add our custom model manager\n",
    "    objects = PublishedManager()"
   ]
  },
  {
   "cell_type": "code",
   "execution_count": null,
   "metadata": {
    "collapsed": true
   },
   "outputs": [],
   "source": [
    ">>> from reviews.models import FlavorReview\n",
    ">>> FlavorReview.objects.count()\n",
    "35\n",
    ">>> FlavorReview.objects.published().count()\n",
    "31"
   ]
  },
  {
   "cell_type": "markdown",
   "metadata": {},
   "source": [
    "Adding new object manager\n",
    "* when using model inheritance children of ABC recieve their parent's manager and children of CBC do not\n",
    "* first manager applied to a model class Django treats as default\n",
    "    * put obejcts = models.Manager() first"
   ]
  },
  {
   "cell_type": "code",
   "execution_count": null,
   "metadata": {
    "collapsed": true
   },
   "outputs": [],
   "source": [
    "from django.db import models\n",
    "class DahlBookManager(models.Manager):\n",
    "    def get_queryset(self):\n",
    "        return super(DahlBookManager, self).get_queryset().filter(author='Roald Dahl')\n",
    "\n",
    "class Book(models.Model):\n",
    "    title = models.CharField(max_length=100)\n",
    "    author = models.CharField(max_length=50)\n",
    "    # ...\n",
    "    objects = models.Manager() # The default manager.\n",
    "    dahl_objects = DahlBookManager() # The Dahl-specific manager."
   ]
  },
  {
   "cell_type": "markdown",
   "metadata": {},
   "source": [
    "* Overriding get_queryset() will affect all queries made through that manager\n",
    "* Usually best to keep a vanilla manager around so you can access everything normally"
   ]
  },
  {
   "cell_type": "markdown",
   "metadata": {},
   "source": [
    "New manager v.s. New Query set"
   ]
  },
  {
   "cell_type": "code",
   "execution_count": null,
   "metadata": {
    "collapsed": true
   },
   "outputs": [],
   "source": [
    "class LiveEntryManager(models.Manager):\n",
    "    def live(self):\n",
    "        return self.filter(status=self.model.LIVE_STATUS)\n",
    "\n",
    "class Entry(models.Model):\n",
    "    # ..\n",
    "    objects = LiveEntryManager()\n",
    "\n",
    "live_entries = Entry.objects.live()"
   ]
  },
  {
   "cell_type": "code",
   "execution_count": null,
   "metadata": {
    "collapsed": true
   },
   "outputs": [],
   "source": [
    "class EntryQuerySet(models.QuerySet):\n",
    "    def live(self):\n",
    "        return self.filter(status=self.model.LIVE_STATUS)\n",
    "\n",
    "class Entry(models.Model):\n",
    "    # ..\n",
    "    objects = EntryQuerySet.as_manager()\n",
    "\n",
    "live_in_april = Entry.objects.filter(pub_date__year=2015, pub_date__month=4).live()"
   ]
  },
  {
   "cell_type": "markdown",
   "metadata": {},
   "source": [
    "#### Raw"
   ]
  },
  {
   "cell_type": "code",
   "execution_count": null,
   "metadata": {
    "collapsed": true
   },
   "outputs": [],
   "source": [
    "from django.db import connection\n",
    "def my_custom_sql(self):\n",
    "    cursor = connection.cursor()\n",
    "    cursor.execute(\"UPDATE bar SET foo = 1 WHERE baz = %s\", [self.baz])\n",
    "    cursor.execute(\"SELECT foo FROM bar WHERE baz = %s\", [self.baz])\n",
    "    row = cursor.fetchone()\n",
    "    return row"
   ]
  },
  {
   "cell_type": "code",
   "execution_count": null,
   "metadata": {
    "collapsed": true
   },
   "outputs": [],
   "source": [
    ">>> for p in Person.objects.raw('SELECT id, first_name FROM myapp_person'):\n",
    "    ...     print(p.first_name, # This will be retrieved by the original query\n",
    "    ...           p.last_name) # This will be retrieved on demand\n",
    "    ...\n",
    "John Smith\n",
    "Jane Jones"
   ]
  },
  {
   "cell_type": "markdown",
   "metadata": {},
   "source": [
    "#### LIMIT"
   ]
  },
  {
   "cell_type": "markdown",
   "metadata": {},
   "source": [
    "* qs[:x] adds a LIMIT clause to the SQL.\n",
    "* Remember that LIMIT isn’t really useful without a sort.\n",
    "    * database has to sort the entire result set before applying the LIMIT.\n",
    "* an index on the sort key is a good idea\n",
    "* qs[x:y] does an OFFSET x LIMIT y-x.\n",
    "* OFFSET has to consider and toss every object from 1 to x-1.\n",
    "* Very large OFFSETs are extremely inefficient.\n",
    "* Much better to use queries on indexed columns instead.\n",
    "* For pagination, consider strongly limiting how deep it can go."
   ]
  },
  {
   "cell_type": "markdown",
   "metadata": {},
   "source": [
    "#### IN"
   ]
  },
  {
   "cell_type": "code",
   "execution_count": null,
   "metadata": {
    "collapsed": true
   },
   "outputs": [],
   "source": [
    "Thing.objects.filter(id__in=my_little_list)"
   ]
  },
  {
   "cell_type": "code",
   "execution_count": null,
   "metadata": {
    "collapsed": true
   },
   "outputs": [],
   "source": [
    " SELECT \"\"stuff_thing\"\".\"\"id\"\", \"\"stuff_thing\"\".\"\"thing1\"\", \"\"stuff_thing\"\".\"\"thing2\"\" FROM \"\"stuff_thing\"\" WHERE\n",
    "    \"\"stuff_thing\"\".\"\"id\"\" IN (3702, 3705, 3708, 3711, 3714, 3717, 3720, 3723, 3726, 3729, 3732, 3735, 3738, 3741, 3744, 3747, 3750,\n",
    "    3753, 3756, 3759, 3762, 3765, 3768, 3771, 3774, 3777, 3780, 3783, 3786, 3789, 3792, 3795, 3798, 3801, 3804, 3807, 3810, 3813, 3816,\n",
    "    3819, 3822, 3825, 3828, 3831, 3834, 3837, 3840, 3843, 3846, 3849, 3852, 3855, 3858, 3861, 3864, 3867, 3870, 3873, 3876, 3879, 3882,\n",
    "    3885, 3888, 3891, 3894, 3897, 3900, 3903, 3906, 3909, 3912, 3915, 3918, 3921, 3924, 3927, 3930, 3933, 3936, 3939, 3942, 3945, 3948,\n",
    "    3951, 3954, 3957, 3960, 3963, 3966, 3969, 3972, 3975, 3978, 3981, 3984, 3987, 3990, 3993, 3996, 3999, 4002, 4005, 4008, 4011, 4014,\n",
    "    4017, 4020, 4023, 4026, 4029, 4032, 4035, 4038, 4041, 4044, 4047, 4050, 4053, 4056, 4059, 4062, 4065, 4068, 4071, 4074, 4077, 4080,\n",
    "    4083, 4086, 4089, 4092, 4095, 4098, 4101, 4104, 4107, 4110, 4113, 4116, 4119, 4122, 4125, 4128, 4131, 4134, 4137, 4140, 4143, 4146,\n",
    "    4149, 4152, 4155, 4158, 4161, 4164, 4167, 4170, 4173, 4176, 4179, 4182, 4185, 4188, 4191, 4194, 4197, 4200, 4203, 4206, 4209, 4212,\n",
    "    4215, 4218, 4221, 4224, 4227, 4230, 4233, 4236, 4239, 4242, 4245, 4248, 4251, 4254, 4257, 4260, 4263, 4266, 4269, 4272, 4275, 4278,\n",
    "    4281, 4284, 4287, 4290, 4293, 4296, 4299, 4302, 4305, 4308, 4311, 4314, 4317, 4320, 4323, 4326, 4329, 4332, 4335, 4338, 4341, 4344,\n",
    "    4347, 4350, 4353, 4356, 4359, 4362, 4365, 4368, 4371, 4374, 4377, 4380, 4383, 4386, 4389, 4392, 4395, 4398, 4401, 4404, 4407, 4410,\n",
    "    4413, 4416, 4419, 4422, 4425, 4428, 4431, 4434, 4437, 4440, 4443, 4446, 4449, 4452, 4455, 4458, 4461, 4464, 4467, 4470, 4473, 4476,\n",
    "    4479, 4482, 4485, 4488, 4491, 4494, 4497, 4500, 4503, 4506, 4509, 4512, 4515, 4518, 4521, 4524, 4527, 4530, 4533, 4536, 4539, 4542,\n",
    "    4545, 4548, 4551, 4554, 4557, 4560, 4563, 4566, 4569, 4572, 4575, 4578, 4581, 4584, 4587, 4590, 4593, 4596, 4599, 4602, 4605, 4608,\n",
    "    4611, 4614, 4617, 4620, 4623, 4626, 4629, 4632, 4635, 4638, 4641, 4644, 4647, 4650, 4653, 4656, 4659, 4662, 4665, 4668, 4671, 4674,\n",
    "    4677, 4680, 4683, 4686, 4689, 4692, 4695, 4698, 4701, 4704, 4707, 4710, 4713, 4716, 4719, 4722, 4725, 4728, 4731, 4734, 4737, 4740,\n",
    "    4743, 4746, 4749, 4752, 4755, 4758, 4761, 4764, 4767, 4770, 4773, 4776, 4779, 4782, 4785, 4788, 4791, 4794, 4797, 4800, 4803, 4806,\n",
    "    4809, 4812, 4815, 4818, 4821, 4824, 4827, 4830, 4833, 4836, 4839, 4842, 4845, 4848, 4851, 4854, 4857, 4860, 4863, 4866, 4869, 4872,\n",
    "    4875, 4878, 4881, 4884, 4887, 4890, 4893, 4896, 4899, 4902, 4905, 4908, 4911, 4914, 4917, 4920, 4923, 4926, 4929, 4932, 4935, 4938,\n",
    "    4941, 4944, 4947, 4950, 4953, 4956, 4959, 4962, 4965, 4968, 4971, 4974, 4977, 4980, 4983, 4986, 4989, 4992, 4995, 4998, 5001, 5004,\n",
    "    5007, 5010, 5013, 5016, 5019, 5022, 5025, 5028, 5031, 5034, 5037, 5040, 5043, 5046, 5049, 5052, 5055, 5058, 5061, 5064, 5067, 5070,\n",
    "    5073, 5076, 5079, 5082, 5085, 5088, 5091, 5094, 5097, 5100, 5103, 5106, 5109, 5112, 5115, 5118, 5121, 5124, 5127, 5130, 5133, 5136,\n",
    "    5139, 5142, 5145, 5148, 5151, 5154, 5157, 5160, 5163, 5166, 5169, 5172, 5175, 5178, 5181, 5184, 5187, 5190, 5193, 5196, 5199, 5202,\n",
    "    5205, 5208, 5211, 5214, 5217, 5220, 5223, 5226, 5229, 5232, 5235, 5238, 5241, 5244, 5247, 5250, 5253, 5256, 5259, 5262, 5265, 5268,\n",
    "    5271, 5274, 5277, 5280, 5283, 5286, 5289, 5292, 5295, 5298, 5301, 5304, 5307, 5310, 5313, 5316, 5319, 5322, 5325, 5328, 5331, 5334,\n",
    "    5337, 5340, 5343, 5346, 5349, 5352, 5355, 5358, 5361, 5364, 5367, 5370, 5373, 5376, 5379, 5382, 5385, 5388, 5391, 5394, 5397, 5400,\n",
    "    5403, 5406, 5409, 5412, 5415, 5418, 5421, 5424, 5427, 5430, 5433, 5436, 5439, 5442, 5445, 5448, 5451, 5454, 5457, 5460, 5463, 5466,\n",
    "    5469, 5472, 5475, 5478, 5481, 5484, 5487, 5490, 5493, 5496, 5499, 5502, 5505, 5508, 5511, 5514, 5517, 5520, 5523, 5526, 5529, 5532,\n",
    "    5535, 5538, 5541, 5544, 5547, 5550, 5553, 5556, 5559, 5562, 5565, 5568, 5571, 5574, 5577, 5580, 5583, 5586, 5589, 5592, 5595, 5598,\n",
    "    5601, 5604, 5607, 5610, 5613, 5616, 5619, 5622, 5625, 5628, 5631, 5634, 5637, 5640, 5643, 5646, 5649, 5652, 5655, 5658, 5661, 5664,\n",
    "    5667, 5670, 5673, 5676, 5679, 5682, 5685, 5688, 5691, 5694, 5697, 5700, 5703, 5706, 5709, 5712, 5715, 5718, 5721, 5724, 5727, 5730,\n",
    "    5733, 5736, 5739, 5742, 5745, 5748, 5751, 5754, 5757, 5760, 5763, 5766, 5769, 5772, 5775, 5778, 5781, 5784, 5787, 5790, 5793, 5796,\n",
    "    5799, 5802, 5805, 5808, 5811, 5814, 5817, 5820, 5823, 5826, 5829, 5832, 5835, 5838, 5841, 5844, 5847, 5850, 5853, 5856, 5859, 5862,\n",
    "    5865, 5868, 5871, 5874, 5877, 5880, 5883, 5886, 5889, 5892, 5895, 5898, 5901, 5904, 5907, 5910, 5913, 5916, 5919, 5922, 5925, 5928,"
   ]
  },
  {
   "cell_type": "markdown",
   "metadata": {},
   "source": [
    "* large IN's are bad\n",
    "* Very expensive for the database to parse\n",
    "* Very expensive for the database to execute.\n",
    "* If there are potentially more than 10-15 items in the list, rework the IN as a JOIN against whatever the source of the keys is."
   ]
  },
  {
   "cell_type": "markdown",
   "metadata": {},
   "source": [
    "### References"
   ]
  },
  {
   "cell_type": "markdown",
   "metadata": {},
   "source": [
    "* https://www.youtube.com/playlist?list=PLrCZzMib1e9r6c-j8aW1JuETSyCBp9iAg\n",
    "* https://lukeplant.me.uk/blog/posts/avoid-django-genericforeignkey/\n",
    "* https://docs.djangoproject.com/en/1.11/topics/db/optimization/\n",
    "* http://blog.kevinastone.com/django-model-behaviors.html\n",
    "* https://medium.com/eshares-blog/supercharging-django-productivity-at-eshares-8dbf9042825e\n",
    "* http://www.bedjango.com/blog/Django-model-managers/"
   ]
  },
  {
   "cell_type": "markdown",
   "metadata": {},
   "source": [
    "### Summary"
   ]
  },
  {
   "cell_type": "markdown",
   "metadata": {},
   "source": [
    "* think like a database! be a database!\n",
    "* models are foundation of Dango project, design them thoughtfully\n",
    "* start normalized, denormalize only if nothing else helps\n",
    "    * rewrite quries\n",
    "    * raw\n",
    "    * caching\n",
    "* dont forget about indexes\n",
    "* inherit from ABC if you gonna use inheritance at all\n",
    "* be carefull with null=True and blank=True"
   ]
  },
  {
   "cell_type": "markdown",
   "metadata": {},
   "source": [
    "## Indexes"
   ]
  },
  {
   "cell_type": "markdown",
   "metadata": {},
   "source": [
    "![btree](http://deliveryimages.acm.org/10.1145/3230000/3220266/petrov3.png)"
   ]
  },
  {
   "cell_type": "markdown",
   "metadata": {},
   "source": [
    "Good index\n",
    "* Higly selective\n",
    "    * Greatly reduces the number of candidate rows when used.\n",
    "* Used very regularly by the application code. \n",
    "* Or required to enforce constraints."
   ]
  },
  {
   "cell_type": "markdown",
   "metadata": {},
   "source": [
    "Bad index\n",
    "* Every other index.\n",
    "* Bad selectivity.\n",
    "* Rarely used.\n",
    "* Expense to maintain compared to the acceleration of queries that use it.\n",
    "* An unselective index is more expensive than a sequential scan."
   ]
  },
  {
   "cell_type": "markdown",
   "metadata": {},
   "source": [
    "Example indexing strategy\n",
    "* Start with none (except those required by keys or constraints).\n",
    "* Analyze the queries and look for ones which\n",
    "    * query a constant column or set of columns AND\n",
    "    * select <10%...25% of the rows in the target table."
   ]
  },
  {
   "cell_type": "markdown",
   "metadata": {},
   "source": [
    "Multi-column indexes\n",
    "* single compound index\n",
    "    * smaller \n",
    "    * faster\n",
    "    * specific\n",
    "* miltiple indexes\n",
    "    * more general"
   ]
  },
  {
   "cell_type": "markdown",
   "metadata": {},
   "source": [
    "### References"
   ]
  },
  {
   "cell_type": "markdown",
   "metadata": {},
   "source": [
    "* http://coding-geek.com/how-databases-work/\n",
    "* https://cstack.github.io/db_tutorial/\n",
    "* https://www.youtube.com/watch?v=e1wbQPbFZdk\n",
    "* https://queue.acm.org/detail.cfm?id=3220266\n",
    "* https://blog.acolyer.org/2018/06/28/how-_not_-to-structure-your-database-backed-web-applications-a-study-of-performance-bugs-in-the-wild/\n",
    "* https://begriffs.com/posts/2018-01-01-sql-keys-in-depth.html\n",
    "* http://use-the-index-luke.com/\n",
    "* https://mariadb.com/kb/en/library/building-the-best-index-for-a-given-select/"
   ]
  },
  {
   "cell_type": "markdown",
   "metadata": {},
   "source": [
    "### Summary"
   ]
  },
  {
   "cell_type": "markdown",
   "metadata": {},
   "source": [
    "* Use index, Luke!\n",
    "* indexes have costs\n",
    "* measure first"
   ]
  },
  {
   "cell_type": "markdown",
   "metadata": {},
   "source": [
    "## Transactions"
   ]
  },
  {
   "cell_type": "markdown",
   "metadata": {
    "collapsed": true
   },
   "source": [
    "Django’s default behavior is to run in autocommit mode"
   ]
  },
  {
   "cell_type": "markdown",
   "metadata": {},
   "source": [
    "Atomic\n",
    "* commits on success\n",
    "* rollsback on Exception"
   ]
  },
  {
   "cell_type": "code",
   "execution_count": null,
   "metadata": {
    "collapsed": true
   },
   "outputs": [],
   "source": [
    "from django.db import IntegrityError, transaction\n",
    "\n",
    "@transaction.atomic\n",
    "def viewfunc(request):\n",
    "    create_parent()\n",
    "\n",
    "    try:\n",
    "        with transaction.atomic():\n",
    "            generate_relationships()\n",
    "    except IntegrityError:\n",
    "        handle_exception()\n",
    "\n",
    "    add_children()"
   ]
  },
  {
   "cell_type": "markdown",
   "metadata": {},
   "source": [
    "Under the hood, Django’s transaction management code:\n",
    "* opens a transaction when entering the outermost atomic block\n",
    "* creates a savepoint when entering an inner atomic block\n",
    "* releases or rolls back to the savepoint when exiting an inner block\n",
    "* commits or rolls back the transaction when exiting the outermost block"
   ]
  },
  {
   "cell_type": "markdown",
   "metadata": {},
   "source": [
    "__Locking__"
   ]
  },
  {
   "cell_type": "markdown",
   "metadata": {},
   "source": [
    "* Readers do not block readers to the same row (it would be kind of dopey if they did).\n",
    "* Writers do not block readers; they create a new version of the row.\n",
    "* Readers do not block writers; they read the old version of the row.\n",
    "* Writers, however, do block writers.\n",
    "* There are a whole ton of different kinds of table locks.\n",
    "    * interesting for our purposes is the exclusive row lock.\n",
    "    * automatically acquired when a process updates or deletes a row.\n",
    "    * no other process can update or delete that row until the first process commit\n",
    "* Locks are only held for the duration of a transaction.\n",
    "* Once the transaction either commits or rolls back, the lock is released.\n",
    "* So: Keep transactions as fast as possible.\n",
    "* Long-running, database-modifying transactions are the source of most serious concurrency problems."
   ]
  },
  {
   "cell_type": "markdown",
   "metadata": {},
   "source": [
    "### References"
   ]
  },
  {
   "cell_type": "markdown",
   "metadata": {},
   "source": [
    "* http://www.bailis.org/blog/when-is-acid-acid-rarely/\n",
    "* https://docs.djangoproject.com/en/1.11/topics/db/transactions/"
   ]
  },
  {
   "cell_type": "markdown",
   "metadata": {},
   "source": [
    "### Summary"
   ]
  },
  {
   "cell_type": "markdown",
   "metadata": {},
   "source": [
    "* transactions have costs, use them when necessary\n",
    "* use atomic context manager and decorator\n",
    "* check database transaction isolation level"
   ]
  },
  {
   "cell_type": "markdown",
   "metadata": {},
   "source": [
    "\n",
    "## Migrations"
   ]
  },
  {
   "cell_type": "markdown",
   "metadata": {
    "collapsed": true
   },
   "source": [
    "Migrations like version control system for your database schema\n",
    "* `makemigrations` is responsible for packaging up your model changes into individual migration files - analogous to commits\n",
    "* `migrate` is responsible for applying those to your database."
   ]
  },
  {
   "cell_type": "markdown",
   "metadata": {},
   "source": [
    "Migrations workflow\n",
    "* change models\n",
    "* run and inspect output of `makemigrations` at dev enviroment\n",
    "* add special operations of needed\n",
    "    * `RunSQL`: allows you to pass in raw SQL and execute it as part of your model.\n",
    "    * `RunPython`: passes in a callable to be executed\n",
    "        * useful for things like data loading as part of the migration.\n",
    "* check by running `migrate` at dev enviroment\n",
    "* commit migration files and code\n",
    "* run migrate at production"
   ]
  },
  {
   "cell_type": "markdown",
   "metadata": {},
   "source": [
    "![migrations](https://www.webforefront.com/static/images/beginningdjango/Figure_7-1.png)"
   ]
  },
  {
   "cell_type": "markdown",
   "metadata": {},
   "source": [
    "Schema migration"
   ]
  },
  {
   "cell_type": "code",
   "execution_count": null,
   "metadata": {
    "collapsed": true
   },
   "outputs": [],
   "source": [
    "from django.db import migrations, models\n",
    "\n",
    "class Migration(migrations.Migration):\n",
    "\n",
    "    dependencies = [('migrations', '0001_initial')]\n",
    "\n",
    "    operations = [\n",
    "        migrations.DeleteModel('Tribble'),\n",
    "        migrations.AddField('Author', 'rating', models.IntegerField(default=0)),\n",
    "    ]"
   ]
  },
  {
   "cell_type": "markdown",
   "metadata": {},
   "source": [
    "Data migration"
   ]
  },
  {
   "cell_type": "code",
   "execution_count": null,
   "metadata": {
    "collapsed": true
   },
   "outputs": [],
   "source": [
    "from django.db import migrations, models\n",
    "\n",
    "def add_cones(apps, schema_editor):\n",
    "    Scoop = apps.get_model('scoop', 'Scoop')\n",
    "    Cone = apps.get_model('cone', 'Cone')\n",
    "\n",
    "    for scoop in Scoop.objects.all():\n",
    "        Cone.objects.create(\n",
    "            scoop=scoop,\n",
    "            style='sugar'\n",
    "        )\n",
    "\n",
    "class Migration(migrations.Migration):\n",
    "\n",
    "    initial = True\n",
    "\n",
    "    dependencies = [\n",
    "        ('scoop', '0051_auto_20670724'),\n",
    "    ]\n",
    "\n",
    "    operations = [\n",
    "        migrations.CreateModel(\n",
    "            name='Cone',\n",
    "            fields=[\n",
    "                ('id', models.AutoField(auto_created=True, primary_key=True,\n",
    "                    serialize=False, verbose_name='ID')),\n",
    "                ('style', models.CharField(max_length=10),\n",
    "                    choices=[('sugar', 'Sugar'), ('waffle', 'Waffle')]),\n",
    "                ('scoop', models.OneToOneField(null=True, to='scoop.Scoop'\n",
    "                    on_delete=django.db.models.deletion.SET_NULL, )),\n",
    "            ],\n",
    "        ),\n",
    "        # RunPython.noop does nothing but allows reverse migrations to occur\n",
    "        migrations.RunPython(add_cones, migrations.RunPython.noop)\n",
    "    ]"
   ]
  },
  {
   "cell_type": "markdown",
   "metadata": {},
   "source": [
    "__Warning__:\n",
    "* `RunPython` works with historical version of your models, so you will NOT have custom `save()` methods called on objects when you access them in migrations, and you will NOT have any custom constructors or instance methods. Plan appropriately!\n",
    "* You can optionally serialize managers into migrations and have them available in RunPython operations. This is done by defining a `use_in_migrations` attribute on the manager class"
   ]
  },
  {
   "cell_type": "markdown",
   "metadata": {},
   "source": [
    "__Deployment__\n",
    "* backup your data before running migration\n",
    "    * especially for MySQL that doesn't suppout transactional DDL\n",
    "* before deployment check that you can rollback migration\n",
    "* migrations on large tables can take alot of time\n",
    "    * triggers + rename\n",
    "    * slave swap\n",
    "    *  third-party tools"
   ]
  },
  {
   "cell_type": "markdown",
   "metadata": {},
   "source": [
    "### References"
   ]
  },
  {
   "cell_type": "markdown",
   "metadata": {},
   "source": [
    "* https://docs.djangoproject.com/en/1.11/topics/migrations/\n",
    "* https://speakerdeck.com/nduthoit/the-path-to-smoother-database-migrations\n",
    "* http://www.brunton-spall.co.uk/post/2014/05/06/database-migrations-done-right/"
   ]
  },
  {
   "cell_type": "markdown",
   "metadata": {},
   "source": [
    "### Summary"
   ]
  },
  {
   "cell_type": "markdown",
   "metadata": {},
   "source": [
    "* as soon as new app created take extra minute to create initial migration\n",
    "* examine generated mgration code\n",
    "* squashmigrations if there too many of them\n",
    "* backup data before migration"
   ]
  },
  {
   "cell_type": "markdown",
   "metadata": {},
   "source": [
    "## Backup"
   ]
  },
  {
   "cell_type": "markdown",
   "metadata": {
    "collapsed": true
   },
   "source": [
    "__Types__\n",
    "* Full\n",
    "* Incremental"
   ]
  },
  {
   "cell_type": "markdown",
   "metadata": {},
   "source": [
    "__Period__"
   ]
  },
  {
   "cell_type": "markdown",
   "metadata": {},
   "source": [
    "Detemined by volume and importancy of data\n",
    "* daily\n",
    "* weekly\n",
    "* monthly"
   ]
  },
  {
   "cell_type": "markdown",
   "metadata": {},
   "source": [
    "__Store__\n",
    "* indefinetly\n",
    "* standalone dedicated server at other DC\n",
    "    * not ftp\n",
    "    * not Dropbox\n",
    "    * not on the same server"
   ]
  },
  {
   "cell_type": "markdown",
   "metadata": {},
   "source": [
    "__Tools__"
   ]
  },
  {
   "cell_type": "markdown",
   "metadata": {},
   "source": [
    "* mysqldump\n",
    "* percona_xtrabackup\n",
    "* pg_dump\n",
    "* lvm snapshot"
   ]
  },
  {
   "cell_type": "markdown",
   "metadata": {},
   "source": [
    "### References"
   ]
  },
  {
   "cell_type": "markdown",
   "metadata": {},
   "source": [
    "* https://about.gitlab.com/2017/02/10/postmortem-of-database-outage-of-january-31/\n",
    "* http://www.tldp.org/HOWTO/LVM-HOWTO/snapshots_backup.html\n",
    "* https://www.youtube.com/watch?v=FJcrmnrBiTg"
   ]
  },
  {
   "cell_type": "markdown",
   "metadata": {},
   "source": [
    "### Summary"
   ]
  },
  {
   "cell_type": "markdown",
   "metadata": {},
   "source": [
    "* backup every bit of important data\n",
    "* replication is not a backup!\n",
    "* monitor and verify your backups"
   ]
  },
  {
   "cell_type": "markdown",
   "metadata": {},
   "source": [
    "## Replication"
   ]
  },
  {
   "cell_type": "markdown",
   "metadata": {
    "collapsed": true
   },
   "source": [
    "Changes translation between DBs"
   ]
  },
  {
   "cell_type": "markdown",
   "metadata": {},
   "source": [
    "__Types__\n",
    "* master-slave, master-master\n",
    "* sync, async\n",
    "* push, pull"
   ]
  },
  {
   "cell_type": "markdown",
   "metadata": {},
   "source": [
    "![replica](http://blog.cloud66.com/content/images/2016/05/DB-ReadReplicas1-1024x590.png)"
   ]
  },
  {
   "cell_type": "markdown",
   "metadata": {},
   "source": [
    "__For__\n",
    "* read load distribution\n",
    "* high availability\n",
    "* dev processes"
   ]
  },
  {
   "cell_type": "markdown",
   "metadata": {},
   "source": [
    "### References"
   ]
  },
  {
   "cell_type": "markdown",
   "metadata": {},
   "source": [
    "* https://www.youtube.com/watch?v=jL985VczwC8\n",
    "* http://shop.oreilly.com/product/0636920022343.do\n",
    "* http://www.25hoursaday.com/weblog/2009/01/16/BuildingScalableDatabasesProsAndConsOfVariousDatabaseShardingSchemes.aspx"
   ]
  },
  {
   "cell_type": "markdown",
   "metadata": {},
   "source": [
    "### Summary"
   ]
  },
  {
   "cell_type": "markdown",
   "metadata": {},
   "source": [
    "* replication is not a backup!\n",
    "* (almost) every databse should be replicated for fault tolerance reasons\n",
    "* choose settings wisely, don't use defaults\n",
    "* know how replication works"
   ]
  },
  {
   "cell_type": "markdown",
   "metadata": {},
   "source": [
    "## Sharding"
   ]
  },
  {
   "cell_type": "markdown",
   "metadata": {},
   "source": [
    "Allows to distribute write load and horizontally scale storage"
   ]
  },
  {
   "cell_type": "markdown",
   "metadata": {
    "collapsed": true
   },
   "source": [
    "__Key__\n",
    "* easily divisible\n",
    "* high/know degree of randomness\n",
    "* targets a single shard\n",
    "\n",
    "__Types__\n",
    "* pre-sharding\n",
    "* modulo\n",
    "* hash\n",
    "* table function\n",
    "* consistent hashing\n",
    "\n",
    "__Routing__\n",
    "* smart client\n",
    "* coordinator\n",
    "* proxy\n",
    "    * global\n",
    "    * per-server"
   ]
  },
  {
   "cell_type": "code",
   "execution_count": null,
   "metadata": {
    "collapsed": true
   },
   "outputs": [],
   "source": [
    "DEFAULT_CONFIG = {\n",
    "  \"OK_PROFILES_MEMSRV\": {\n",
    "      1: '127.0.0.1:2001',\n",
    "  },\n",
    "  \"OK_PROFILES_MEMMAP\": [\n",
    "    1,1,1,1,1,1,1,1,1,1,1,1,1,1,1,1,\n",
    "    1,1,1,1,1,1,1,1,1,1,1,1,1,1,1,1,\n",
    "    1,1,1,1,1,1,1,1,1,1,1,1,1,1,1,1,\n",
    "    1,1,1,1,1,1,1,1,1,1,1,1,1,1,1,1,\n",
    "    1,1,1,1,1,1,1,1,1,1,1,1,1,1,1,1,\n",
    "    1,1,1,1,1,1,1,1,1,1,1,1,1,1,1,1,\n",
    "    1,1,1,1,1,1,1,1,1,1,1,1,1,1,1,1,\n",
    "    1,1,1,1,1,1,1,1,1,1,1,1,1,1,1,1,\n",
    "    1,1,1,1,1,1,1,1,1,1,1,1,1,1,1,1,\n",
    "    1,1,1,1,1,1,1,1,1,1,1,1,1,1,1,1,\n",
    "    1,1,1,1,1,1,1,1,1,1,1,1,1,1,1,1,\n",
    "    1,1,1,1,1,1,1,1,1,1,1,1,1,1,1,1,\n",
    "    1,1,1,1,1,1,1,1,1,1,1,1,1,1,1,1,\n",
    "    1,1,1,1,1,1,1,1,1,1,1,1,1,1,1,1,\n",
    "    1,1,1,1,1,1,1,1,1,1,1,1,1,1,1,1,\n",
    "    1,1,1,1,1,1,1,1,1,1,1,1,1,1,1,1,\n",
    "  ],\n",
    "}\n",
    "# skipped code\n",
    "server = config[\"OK_PROFILES_MEMSRV\"][config[\"OK_PROFILES_MEMMAP\"][int(row['customer_id']) % len(config[\"OK_PROFILES_MEMMAP\"])]]"
   ]
  },
  {
   "cell_type": "markdown",
   "metadata": {},
   "source": [
    "### References"
   ]
  },
  {
   "cell_type": "markdown",
   "metadata": {},
   "source": [
    "* http://www.highload.ru/2015/abstracts/1550.html\n",
    "* https://www.youtube.com/watch?v=MhGO7BBqSBU\n",
    "* http://oldblog.antirez.com/post/redis-presharding.html\n",
    "* https://docs.mongodb.com/manual/sharding/\n",
    "* https://akshatm.svbtle.com/consistent-hash-rings-theory-and-implementation"
   ]
  },
  {
   "cell_type": "markdown",
   "metadata": {},
   "source": [
    "### Summary"
   ]
  },
  {
   "cell_type": "markdown",
   "metadata": {},
   "source": [
    "* remember: premature optimization is the root of all evil\n",
    "* choose key wisely\n",
    "    * painful to change later on\n",
    "* some databases have autosharding"
   ]
  },
  {
   "cell_type": "markdown",
   "metadata": {},
   "source": [
    "## NoSQL"
   ]
  },
  {
   "cell_type": "markdown",
   "metadata": {
    "collapsed": true
   },
   "source": [
    "![nosql](http://www.jamesserra.com/wp-content/uploads/2015/08/Untitled-picture.png)"
   ]
  },
  {
   "cell_type": "markdown",
   "metadata": {},
   "source": [
    "![nosql2](https://cdn-images-1.medium.com/max/1600/1*SIDPgNDxvBOcXNiiQrfa5A.png)"
   ]
  },
  {
   "cell_type": "markdown",
   "metadata": {},
   "source": [
    "### References"
   ]
  },
  {
   "cell_type": "markdown",
   "metadata": {},
   "source": [
    "* https://www.youtube.com/watch?v=RYJS-jroFRk&index=10&list=PLrCZzMib1e9oOFQbuOgjKYbRUoA8zGKnj\n",
    "* http://dbmsmusings.blogspot.ru/2010/03/distinguishing-two-major-types-of_29.html\n",
    "* https://medium.baqend.com/nosql-databases-a-survey-and-decision-guidance-ea7823a822d\n",
    "* https://habrahabr.ru/post/265747/\n",
    "* https://www.youtube.com/watch?v=lzwAJxIESNU\n",
    "* https://www.youtube.com/watch?v=eSaFVX4izsQ\n",
    "* https://jepsen.io/analyses/mongodb-3-4-0-rc3\n",
    "* https://www.allthingsdistributed.com/2018/06/purpose-built-databases-in-aws.html"
   ]
  },
  {
   "cell_type": "markdown",
   "metadata": {},
   "source": [
    "### Summary"
   ]
  },
  {
   "cell_type": "markdown",
   "metadata": {},
   "source": [
    "* don't put everything in one place\n",
    "* use storage that suits the data\n",
    "* don't believe outsider benchamrks\n",
    "* examine documentation and test thoroughly"
   ]
  },
  {
   "cell_type": "markdown",
   "metadata": {
    "collapsed": true
   },
   "source": [
    "#### SQLAlchemy"
   ]
  },
  {
   "cell_type": "markdown",
   "metadata": {},
   "source": [
    "Jason Myers, Rick Copeland. Essential SQLAlchemy: Mapping Python to Databases- 2nd Edition, O'Reilly Media, 2015\n",
    "\n",
    "http://libgen.io/book/index.php?md5=D6244909449C83F2CE430D559594CC51"
   ]
  }
 ],
 "metadata": {
  "kernelspec": {
   "display_name": "Python 2",
   "language": "python",
   "name": "python2"
  },
  "language_info": {
   "codemirror_mode": {
    "name": "ipython",
    "version": 2
   },
   "file_extension": ".py",
   "mimetype": "text/x-python",
   "name": "python",
   "nbconvert_exporter": "python",
   "pygments_lexer": "ipython2",
   "version": "2.7.10"
  }
 },
 "nbformat": 4,
 "nbformat_minor": 1
}
