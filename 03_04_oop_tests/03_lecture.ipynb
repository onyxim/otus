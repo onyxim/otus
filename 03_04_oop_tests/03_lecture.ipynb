{
 "cells": [
  {
   "cell_type": "markdown",
   "metadata": {},
   "source": [
    "# #3. OOP"
   ]
  },
  {
   "cell_type": "markdown",
   "metadata": {},
   "source": [
    "1. [Motivation](#Motivation)\n",
    "1. [Object model](#Object-model)\n",
    "    1. [New style](#New-style)\n",
    "    2. [MRO](#MRO)\n",
    "    3. [super](#super)\n",
    "    4. [Multiple inheritance](#Multiple-inheritance)\n",
    "    5. [Slots](#Slots)\n",
    "    6. [new](#new)\n",
    "    7. [Name mangling](#Name-mangling)\n",
    "    8. [Introspection](#Introspection)\n",
    "2. [Descriptors](#Descriptors)\n",
    "    1. [Protocol](#Protocol)\n",
    "    2. [property](#property)\n",
    "    3. [static and class methods](#static-and-class-methods)\n",
    "3. [Magic methods](#Magic-methods)\n",
    "4. [ABC](#ABC)\n",
    "5. [Metaclasses](#Metaclasses)\n",
    "6. [Design Patterns](#Design-Patterns)"
   ]
  },
  {
   "cell_type": "markdown",
   "metadata": {},
   "source": [
    "## Motivation"
   ]
  },
  {
   "cell_type": "markdown",
   "metadata": {},
   "source": [
    "__Goal__"
   ]
  },
  {
   "cell_type": "markdown",
   "metadata": {},
   "source": [
    "Выработать прагматичный и идиоматичный взгляд на использование ООП в Python, разобраться с основными структурными блоками и понятиями объектной модели языка"
   ]
  },
  {
   "cell_type": "markdown",
   "metadata": {},
   "source": [
    "__Homework__"
   ]
  },
  {
   "cell_type": "markdown",
   "metadata": {},
   "source": [
    "Scoring API"
   ]
  },
  {
   "cell_type": "markdown",
   "metadata": {},
   "source": [
    "## Object model"
   ]
  },
  {
   "cell_type": "markdown",
   "metadata": {},
   "source": [
    "__OOP__:\n",
    "* Delegation\n",
    "    * let someone else do work\n",
    "* Polymorphism\n",
    "    * act \"as-if\" someone else\n",
    "* Instantiation\n",
    "    * \"blueprint\""
   ]
  },
  {
   "cell_type": "markdown",
   "metadata": {},
   "source": [
    "__OOP in Python__:\n",
    "* Everything is an object\n",
    "* Everything is a reference\n",
    "* Objects just bunch of dicts\n",
    "* class statement executes suite\n",
    "    * separate namespace (dict)\n",
    "* class object created from dict\n",
    "    * namespace becomes attribute space\n",
    "* methods are just functions"
   ]
  },
  {
   "cell_type": "code",
   "execution_count": 6,
   "metadata": {},
   "outputs": [
    {
     "data": {
      "text/plain": [
       "dict_proxy({'__dict__': <attribute '__dict__' of 'SomeClass' objects>,\n",
       "            '__doc__': None,\n",
       "            '__module__': '__main__',\n",
       "            '__weakref__': <attribute '__weakref__' of 'SomeClass' objects>,\n",
       "            'classattr': 52,\n",
       "            'i': 9,\n",
       "            'method': <function __main__.method>})"
      ]
     },
     "execution_count": 6,
     "metadata": {},
     "output_type": "execute_result"
    }
   ],
   "source": [
    "import dis\n",
    "\n",
    "def f():\n",
    "    return 42\n",
    "\n",
    "class SomeClass(object):\n",
    "    classattr = f()\n",
    "    def method(self, arg):\n",
    "        self.instanceattr = arg\n",
    "    def helper(arg):\n",
    "        return arg + 1\n",
    "    for i in range(10):\n",
    "        classattr = helper(classattr)\n",
    "    del helper\n",
    "\n",
    "SomeClass.__dict__"
   ]
  },
  {
   "cell_type": "markdown",
   "metadata": {},
   "source": [
    "The dictproxy is used to ensure that the keys in a class.\\__dict\\__ are always strings, allowing for a number of optimisations in the Python interpreter. The proxy prevents writing to class.\\__dict\\__, so only setattr() can be used, and the class.\\__setattr\\__ implementation enforces the keys-must-be-strings limitation"
   ]
  },
  {
   "cell_type": "markdown",
   "metadata": {},
   "source": [
    "Class creation involves roughly the following processes:\n",
    "* The body of the class statement is isolated into a code object.\n",
    "* The appropriate metaclass for class instantiation is determined.\n",
    "* A class dictionary representing the namespace for the class is prepared.\n",
    "* The code object representing the body of the class is executed within this namespace.\n",
    "* The class object is created."
   ]
  },
  {
   "cell_type": "code",
   "execution_count": 13,
   "metadata": {},
   "outputs": [
    {
     "data": {
      "text/plain": [
       "['__class__',\n",
       " '__delattr__',\n",
       " '__dict__',\n",
       " '__doc__',\n",
       " '__format__',\n",
       " '__getattribute__',\n",
       " '__hash__',\n",
       " '__init__',\n",
       " '__module__',\n",
       " '__new__',\n",
       " '__reduce__',\n",
       " '__reduce_ex__',\n",
       " '__repr__',\n",
       " '__setattr__',\n",
       " '__sizeof__',\n",
       " '__str__',\n",
       " '__subclasshook__',\n",
       " '__weakref__',\n",
       " 'classattr',\n",
       " 'i',\n",
       " 'method']"
      ]
     },
     "execution_count": 13,
     "metadata": {},
     "output_type": "execute_result"
    }
   ],
   "source": [
    "dir(SomeClass())"
   ]
  },
  {
   "cell_type": "markdown",
   "metadata": {},
   "source": [
    "__Python Object__\n",
    "* all data in instance attributes stored in \\__dict\\__\n",
    "* referer to class stored in \\__class\\__\n",
    "* attributes that define special behaviour stored in \\__\\*\\__ methods\n",
    "* no type check\n",
    "    * isinstance, issubclass\n",
    "* function become methods (Objects/methodobject.c: PyCFunction_Call)\n",
    "    * by magic"
   ]
  },
  {
   "cell_type": "code",
   "execution_count": 104,
   "metadata": {},
   "outputs": [
    {
     "name": "stdout",
     "output_type": "stream",
     "text": [
      "<unbound method C.foo>\n",
      "<function foo at 0x1063ed2a8>\n",
      "<bound method C.foo of <__main__.C object at 0x1063cde50>>\n",
      "None None\n"
     ]
    }
   ],
   "source": [
    "class C(object):\n",
    "    def foo(self):\n",
    "        pass\n",
    "\n",
    "print C.foo # C.__dict__['foo'].__get__(None, C)\n",
    "print C.__dict__['foo']\n",
    "c = C()\n",
    "print c.foo # c.__getattribute__('foo') -> C.__dict__['foo'].__get__(c, C)\n",
    "print c.foo(), C.foo(c)"
   ]
  },
  {
   "cell_type": "markdown",
   "metadata": {},
   "source": [
    "#### New style"
   ]
  },
  {
   "cell_type": "markdown",
   "metadata": {},
   "source": [
    "* low-level constructors named \\__new\\__()\n",
    "* descriptors, a generalized way to customize attribute access\n",
    "* static methods and class methods\n",
    "* properties (computed attributes)\n",
    "* decorators (introduced in Python 2.4)\n",
    "* slots\n",
    "* a new Method Resolution Order (MRO)"
   ]
  },
  {
   "cell_type": "code",
   "execution_count": 9,
   "metadata": {},
   "outputs": [
    {
     "ename": "AttributeError",
     "evalue": "class Classic has no attribute '__mro__'",
     "output_type": "error",
     "traceback": [
      "\u001b[0;31m---------------------------------------------------------------------------\u001b[0m",
      "\u001b[0;31mAttributeError\u001b[0m                            Traceback (most recent call last)",
      "\u001b[0;32m<ipython-input-9-d8d8c9745e3e>\u001b[0m in \u001b[0;36m<module>\u001b[0;34m()\u001b[0m\n\u001b[1;32m      3\u001b[0m         \u001b[0;32mpass\u001b[0m\u001b[0;34m\u001b[0m\u001b[0m\n\u001b[1;32m      4\u001b[0m \u001b[0;34m\u001b[0m\u001b[0m\n\u001b[0;32m----> 5\u001b[0;31m \u001b[0;32mprint\u001b[0m \u001b[0mClassic\u001b[0m\u001b[0;34m.\u001b[0m\u001b[0m__mro__\u001b[0m\u001b[0;34m\u001b[0m\u001b[0m\n\u001b[0m\u001b[1;32m      6\u001b[0m \u001b[0;34m\u001b[0m\u001b[0m\n\u001b[1;32m      7\u001b[0m \u001b[0;32mclass\u001b[0m \u001b[0mNew\u001b[0m\u001b[0;34m(\u001b[0m\u001b[0mobject\u001b[0m\u001b[0;34m)\u001b[0m\u001b[0;34m:\u001b[0m\u001b[0;34m\u001b[0m\u001b[0m\n",
      "\u001b[0;31mAttributeError\u001b[0m: class Classic has no attribute '__mro__'"
     ]
    }
   ],
   "source": [
    "class Classic:\n",
    "    def method(cls):\n",
    "        pass\n",
    "\n",
    "print Classic.__mro__\n",
    "    \n",
    "class New(object):\n",
    "    def method(self):\n",
    "        pass\n",
    "print New.__mro__"
   ]
  },
  {
   "cell_type": "markdown",
   "metadata": {},
   "source": [
    "#### MRO"
   ]
  },
  {
   "cell_type": "code",
   "execution_count": 62,
   "metadata": {},
   "outputs": [
    {
     "ename": "TypeError",
     "evalue": "Error when calling the metaclass bases\n    Cannot create a consistent method resolution\norder (MRO) for bases X, Y",
     "output_type": "error",
     "traceback": [
      "\u001b[0;31m---------------------------------------------------------------------------\u001b[0m",
      "\u001b[0;31mTypeError\u001b[0m                                 Traceback (most recent call last)",
      "\u001b[0;32m<ipython-input-62-c303bc61fcec>\u001b[0m in \u001b[0;36m<module>\u001b[0;34m()\u001b[0m\n\u001b[1;32m      4\u001b[0m \u001b[0;32mclass\u001b[0m \u001b[0mB\u001b[0m\u001b[0;34m(\u001b[0m\u001b[0mY\u001b[0m\u001b[0;34m,\u001b[0m \u001b[0mX\u001b[0m\u001b[0;34m)\u001b[0m\u001b[0;34m:\u001b[0m \u001b[0;32mpass\u001b[0m\u001b[0;34m\u001b[0m\u001b[0m\n\u001b[1;32m      5\u001b[0m \u001b[0;34m\u001b[0m\u001b[0m\n\u001b[0;32m----> 6\u001b[0;31m \u001b[0;32mclass\u001b[0m \u001b[0mC\u001b[0m\u001b[0;34m(\u001b[0m\u001b[0mA\u001b[0m\u001b[0;34m,\u001b[0m \u001b[0mB\u001b[0m\u001b[0;34m)\u001b[0m\u001b[0;34m:\u001b[0m \u001b[0;32mpass\u001b[0m\u001b[0;34m\u001b[0m\u001b[0m\n\u001b[0m",
      "\u001b[0;31mTypeError\u001b[0m: Error when calling the metaclass bases\n    Cannot create a consistent method resolution\norder (MRO) for bases X, Y"
     ]
    }
   ],
   "source": [
    "class X(object): pass\n",
    "class Y(object): pass\n",
    "class A(X, Y): pass\n",
    "class B(Y, X): pass\n",
    "\n",
    "class C(A, B): pass"
   ]
  },
  {
   "cell_type": "code",
   "execution_count": 63,
   "metadata": {},
   "outputs": [
    {
     "data": {
      "text/plain": [
       "(__main__.B, __main__.Y, __main__.X, object)"
      ]
     },
     "execution_count": 63,
     "metadata": {},
     "output_type": "execute_result"
    }
   ],
   "source": [
    "B.__mro__"
   ]
  },
  {
   "cell_type": "code",
   "execution_count": 71,
   "metadata": {},
   "outputs": [
    {
     "data": {
      "text/plain": [
       "(__main__.ND, __main__.N1, __main__.N2, __main__.New, object)"
      ]
     },
     "execution_count": 71,
     "metadata": {},
     "output_type": "execute_result"
    }
   ],
   "source": [
    "class Old: pass\n",
    "class O1(Old): pass\n",
    "class O2(Old): pass\n",
    "class OD(O1, O2): pass\n",
    "# OD, O1, Old, O2, Old\n",
    "\n",
    "class New(object): pass\n",
    "class N1(New): pass\n",
    "class N2(New): pass\n",
    "class ND(N1, N2): pass\n",
    "ND.__mro__"
   ]
  },
  {
   "cell_type": "markdown",
   "metadata": {},
   "source": [
    "In Python every class declaration should be read as a single partial order: `class A(B, C)` should be understood to mean that A < B < C"
   ]
  },
  {
   "cell_type": "markdown",
   "metadata": {},
   "source": [
    "#### super"
   ]
  },
  {
   "cell_type": "markdown",
   "metadata": {},
   "source": [
    "super() is in the business of delegating method calls to some class in the __instance’s__ ancestor tree\n",
    "* the method being called by super() needs to exist\n",
    "    * write a root class\n",
    "* the caller and callee need to have a matching argument signature\n",
    "    * use kwargs\n",
    "* and every occurrence of the method needs to use super()"
   ]
  },
  {
   "cell_type": "markdown",
   "metadata": {},
   "source": [
    "Before `super()` was introduced, we would have hardwired the call with `dict.__setitem__(self, key, value)`. However, `super()` is better because it is a computed indirect reference."
   ]
  },
  {
   "cell_type": "code",
   "execution_count": 20,
   "metadata": {},
   "outputs": [
    {
     "name": "stderr",
     "output_type": "stream",
     "text": [
      "INFO:root:Setting 'red' to 10\n",
      "INFO:root:Setting 'red' to 1\n",
      "INFO:root:Setting 'green' to 2\n",
      "INFO:root:Setting 'blue' to 3\n",
      "INFO:root:Setting 'red' to 10\n"
     ]
    },
    {
     "name": "stdout",
     "output_type": "stream",
     "text": [
      "{'blue': 3, 'green': 2, 'red': 1}\n",
      "LoggingOD([('red', 1), ('green', 2), ('blue', 3)])\n"
     ]
    }
   ],
   "source": [
    "import collections\n",
    "import logging\n",
    "\n",
    "logging.basicConfig(level='INFO')\n",
    "\n",
    "class LoggingDict(dict):\n",
    "    def __setitem__(self, key, value):\n",
    "        logging.info('Setting %r to %r' % (key, value))\n",
    "        super(LoggingDict, self).__setitem__(key, value)\n",
    "\n",
    "class LoggingOD(LoggingDict, collections.OrderedDict):\n",
    "    # Build new functionality by reordering the MRO\n",
    "    pass\n",
    "\n",
    "ld = LoggingDict([('red', 1), ('green', 2), ('blue', 3)])\n",
    "print ld\n",
    "ld['red'] = 10\n",
    "\n",
    "ld = LoggingOD([('red', 1), ('green', 2), ('blue', 3)])\n",
    "print ld\n",
    "ld['red'] = 10"
   ]
  },
  {
   "cell_type": "code",
   "execution_count": 11,
   "metadata": {},
   "outputs": [
    {
     "name": "stdout",
     "output_type": "stream",
     "text": [
      "Drawing.  Setting color to: blue\n",
      "Drawing.  Setting shape to: square\n"
     ]
    }
   ],
   "source": [
    "class Root(object):\n",
    "    def draw(self):\n",
    "        assert not hasattr(super(Root, self), 'draw')\n",
    "\n",
    "class Shape(Root):\n",
    "    def __init__(self, shapename, **kwds):\n",
    "        self.shapename = shapename\n",
    "        super(Shape, self).__init__(**kwds)\n",
    "    def draw(self):\n",
    "        print 'Drawing.  Setting shape to:', self.shapename\n",
    "        super(Shape, self).draw()\n",
    "\n",
    "class ColoredShape(Shape):\n",
    "    def __init__(self, color, **kwds):\n",
    "        self.color = color\n",
    "        super(ColoredShape, self).__init__(**kwds)\n",
    "    def draw(self):\n",
    "        print 'Drawing.  Setting color to:', self.color\n",
    "        super(ColoredShape, self).draw()\n",
    "        \n",
    "cs = ColoredShape(color='blue', shapename='square')\n",
    "cs.draw()"
   ]
  },
  {
   "cell_type": "markdown",
   "metadata": {},
   "source": [
    "#### Multiple inheritance"
   ]
  },
  {
   "cell_type": "code",
   "execution_count": null,
   "metadata": {
    "collapsed": true
   },
   "outputs": [],
   "source": [
    "class SingleObjectMixin(ContextMixin):\n",
    "    \"\"\"\n",
    "    Provides the ability to retrieve a single object for further manipulation.\n",
    "    \"\"\"\n",
    "    model = None\n",
    "    queryset = None\n",
    "    slug_field = 'slug'\n",
    "    context_object_name = None\n",
    "    slug_url_kwarg = 'slug'\n",
    "    pk_url_kwarg = 'pk'\n",
    "    query_pk_and_slug = False\n",
    "    \n",
    "    # methods and stuff\n",
    "\n",
    "class BaseDetailView(SingleObjectMixin, View):\n",
    "    \"\"\"\n",
    "    A base view for displaying a single object\n",
    "    \"\"\"\n",
    "    def get(self, request, *args, **kwargs):\n",
    "        self.object = self.get_object()\n",
    "        context = self.get_context_data(object=self.object)\n",
    "        return self.render_to_response(context)"
   ]
  },
  {
   "cell_type": "markdown",
   "metadata": {},
   "source": [
    "As alternative to (multiple) inheritance you could consider composition in form of Strategy pattern (Behavioural pattern)"
   ]
  },
  {
   "cell_type": "code",
   "execution_count": 105,
   "metadata": {
    "collapsed": true
   },
   "outputs": [],
   "source": [
    "class ImageFinder(object):\n",
    "    \"\"\" \n",
    "    In this example the base object ImageFinder keeps a copy\n",
    "    of the concrete class (strategy).  You may also set\n",
    "    a default strategy to use which might be convienient.\n",
    "    In this case it is set to None which forces the caller\n",
    "    to supply a concrete class.\n",
    "        \n",
    "    The concrete find method is supplied with an instance of\n",
    "    this object so its state can be tracked.\n",
    "    \"\"\"\n",
    "    \n",
    "    def __init__(self, strategy=None):\n",
    "        self.action = None\n",
    "        self.count = 0\n",
    "        if strategy:\n",
    "            #get a handle to the object\n",
    "            self.action = strategy()\n",
    "    \n",
    "    def find(self, image):\n",
    "        if(self.action):\n",
    "            self.count += 1\n",
    "            return self.action.find(image, self)\n",
    "        else: \n",
    "            raise UnboundLocalError('Exception raised, no strategyClass supplied to ImageFinder!')\n",
    "\n",
    "class ImageFinderFlickr(object):\n",
    "    ''' Locates images in Flickr. '''\n",
    "\n",
    "    def find(self, image, instance):\n",
    "        # in reality, query Flickr API for image path\n",
    "        return \"Found image in Flickr: \" + image + \", search #\" + str(instance.count)\n",
    "\n",
    "\n",
    "class ImageFinderDatabase(object):\n",
    "    ''' Locates images in database. '''\n",
    "    def find(self, image, instance):\n",
    "        #in reality, query database for image path\n",
    "        return \"Found image in database: \" + image + \", search #\" + str(instance.count)"
   ]
  },
  {
   "cell_type": "markdown",
   "metadata": {},
   "source": [
    "#### Slots"
   ]
  },
  {
   "cell_type": "markdown",
   "metadata": {},
   "source": [
    "Implements Flyweight pattern (Structural pattern) by suppressing instance `dict`. Use `__slots__` strictly, only to save memory (classes with LOTS of tiny instances)"
   ]
  },
  {
   "cell_type": "code",
   "execution_count": 2,
   "metadata": {},
   "outputs": [
    {
     "ename": "AttributeError",
     "evalue": "'Circle' object has no attribute 'not_slot_attr'",
     "output_type": "error",
     "traceback": [
      "\u001b[0;31m---------------------------------------------------------------------------\u001b[0m",
      "\u001b[0;31mAttributeError\u001b[0m                            Traceback (most recent call last)",
      "\u001b[0;32m<ipython-input-2-8fea7d471b64>\u001b[0m in \u001b[0;36m<module>\u001b[0;34m()\u001b[0m\n\u001b[1;32m     21\u001b[0m \u001b[0mc\u001b[0m \u001b[0;34m=\u001b[0m \u001b[0mCircle\u001b[0m\u001b[0;34m(\u001b[0m\u001b[0;36m23\u001b[0m\u001b[0;34m)\u001b[0m\u001b[0;34m\u001b[0m\u001b[0m\n\u001b[1;32m     22\u001b[0m \u001b[0mc\u001b[0m\u001b[0;34m.\u001b[0m\u001b[0mattr\u001b[0m \u001b[0;34m=\u001b[0m \u001b[0;36m42\u001b[0m\u001b[0;34m\u001b[0m\u001b[0m\n\u001b[0;32m---> 23\u001b[0;31m \u001b[0mc\u001b[0m\u001b[0;34m.\u001b[0m\u001b[0mnot_slot_attr\u001b[0m \u001b[0;34m=\u001b[0m \u001b[0;36m43\u001b[0m\u001b[0;34m\u001b[0m\u001b[0m\n\u001b[0m",
      "\u001b[0;31mAttributeError\u001b[0m: 'Circle' object has no attribute 'not_slot_attr'"
     ]
    }
   ],
   "source": [
    "class Circle(object):\n",
    "    \"\"\"An advvanced circle analytics toolkit\"\"\"\n",
    "    version = '0.6' # class variable\n",
    "\n",
    "    __slots__ = ['radius', 'attr']\n",
    "\n",
    "    def __init__(self, radius):\n",
    "        self.radius = radius\n",
    "\n",
    "    def area(self):\n",
    "        \"Perform quadrature on shape of unofrm radius\"\n",
    "        p = self.__perimeter()\n",
    "        r = p / math.pi / 2.0\n",
    "        return math.pi * r ** 2.0\n",
    "\n",
    "    def perimeter(self):\n",
    "        \"Return the perimeter\"\n",
    "        return 2.0 * math.pi * self.radius\n",
    "    __perimeter = perimeter\n",
    "\n",
    "c = Circle(23)\n",
    "c.attr = 42\n",
    "c.not_slot_attr = 43"
   ]
  },
  {
   "cell_type": "markdown",
   "metadata": {},
   "source": [
    "#### new"
   ]
  },
  {
   "cell_type": "markdown",
   "metadata": {},
   "source": [
    "`__init__` is not a constructor but just a mere initializer, object is already created by `__init__` time. `__new__` constructs new object."
   ]
  },
  {
   "cell_type": "code",
   "execution_count": 25,
   "metadata": {},
   "outputs": [
    {
     "name": "stdout",
     "output_type": "stream",
     "text": [
      "True\n",
      "False\n",
      "True\n"
     ]
    }
   ],
   "source": [
    "class StandardClass(object):\n",
    "    def __init__(self, x):\n",
    "        self.x = x\n",
    "\n",
    "newed_up_standard = object.__new__(StandardClass)\n",
    "print type(newed_up_standard) is StandardClass\n",
    "print hasattr(newed_up_standard,'x')\n",
    "\n",
    "\n",
    "StandardClass.__init__(newed_up_standard, 5)\n",
    "print newed_up_standard.x == 5"
   ]
  },
  {
   "cell_type": "code",
   "execution_count": 89,
   "metadata": {
    "collapsed": true
   },
   "outputs": [],
   "source": [
    "def instantiate(cls, *args, **kwargs):\n",
    "    obj = cls.__new__(cls, *args, **kwargs)\n",
    "    if isinstance(obj, cls):\n",
    "        cls.__init__(obj, *args, **kwargs)\n",
    "    return obj"
   ]
  },
  {
   "cell_type": "code",
   "execution_count": 26,
   "metadata": {
    "collapsed": true
   },
   "outputs": [],
   "source": [
    "class Singleton(object):\n",
    "    def __new__(cls, *a, **k):\n",
    "        if not hasattr(cls, '_inst'):\n",
    "            cls._inst = super(Singleton, cls).__new__(cls, *a, **k)\n",
    "        return cls._inst"
   ]
  },
  {
   "cell_type": "markdown",
   "metadata": {},
   "source": [
    "#### Name mangling"
   ]
  },
  {
   "cell_type": "markdown",
   "metadata": {},
   "source": [
    "Double underscore (class local reference) is not for privacy. It's for refering to self."
   ]
  },
  {
   "cell_type": "code",
   "execution_count": 15,
   "metadata": {},
   "outputs": [
    {
     "name": "stdout",
     "output_type": "stream",
     "text": [
      "['_Circle__perimeter', '__class__', '__delattr__', '__dict__', '__doc__', '__format__', '__getattribute__', '__hash__', '__init__', '__module__', '__new__', '__reduce__', '__reduce_ex__', '__repr__', '__setattr__', '__sizeof__', '__slots__', '__str__', '__subclasshook__', '__weakref__', 'area', 'diameter', 'perimeter', 'radius', 'version'] {'radius': 23}\n",
      "23\n",
      "1661.90251375\n",
      "180.641577581\n"
     ]
    }
   ],
   "source": [
    "import math # module for code reuse\n",
    "\n",
    "class Circle(object):\n",
    "    \"\"\"An advanced circle analytics toolkit\"\"\"\n",
    "    version = '0.6' # class variable\n",
    "\n",
    "    __slots__ = ['diameter']\n",
    "\n",
    "    def __init__(self, radius):\n",
    "        self.radius = radius # instance variable\n",
    "\n",
    "    def area(self):\n",
    "        \"Perform quadrature on shape of unofrm radius\"\n",
    "        p = self.__perimeter()\n",
    "        r = p / math.pi / 2.0\n",
    "        return math.pi * r ** 2.0\n",
    "\n",
    "    def perimeter(self):\n",
    "        \"Return the perimeter\"\n",
    "        return 2.0 * math.pi * self.radius\n",
    "    __perimeter = perimeter\n",
    "\n",
    "    \n",
    "class Tire(Circle):\n",
    "    \"Tires are circles with a corrected perimiter\"\n",
    "\n",
    "    def perimeter(self):\n",
    "        \"Circumference corrected for the rubber\"\n",
    "        return Circle.perimeter(self) * 1.25\n",
    "\n",
    "t = Tire(23)\n",
    "print dir(t), t.__dict__\n",
    "print t.radius\n",
    "print t.area()\n",
    "print t.perimeter()"
   ]
  },
  {
   "cell_type": "markdown",
   "metadata": {},
   "source": [
    "#### Introspection"
   ]
  },
  {
   "cell_type": "code",
   "execution_count": 93,
   "metadata": {},
   "outputs": [
    {
     "data": {
      "text/plain": [
       "[('__class__', type),\n",
       " ('__delattr__', method-wrapper),\n",
       " ('__doc__', str),\n",
       " ('__format__', builtin_function_or_method),\n",
       " ('__getattribute__', method-wrapper),\n",
       " ('__hash__', method-wrapper),\n",
       " ('__init__', method-wrapper),\n",
       " ('__new__', builtin_function_or_method),\n",
       " ('__reduce__', builtin_function_or_method),\n",
       " ('__reduce_ex__', builtin_function_or_method),\n",
       " ('__repr__', method-wrapper),\n",
       " ('__setattr__', method-wrapper),\n",
       " ('__sizeof__', builtin_function_or_method),\n",
       " ('__str__', method-wrapper),\n",
       " ('__subclasshook__', builtin_function_or_method)]"
      ]
     },
     "execution_count": 93,
     "metadata": {},
     "output_type": "execute_result"
    }
   ],
   "source": [
    "o = object()\n",
    "[(a,type(o.__getattribute__(a))) for a in dir(o)]"
   ]
  },
  {
   "cell_type": "code",
   "execution_count": 96,
   "metadata": {},
   "outputs": [
    {
     "name": "stdout",
     "output_type": "stream",
     "text": [
      "[('__class__', <type 'type'>), ('__delattr__', <slot wrapper '__delattr__' of 'object' objects>), ('__doc__', 'The most base type'), ('__format__', <method '__format__' of 'object' objects>), ('__getattribute__', <slot wrapper '__getattribute__' of 'object' objects>), ('__hash__', <slot wrapper '__hash__' of 'object' objects>), ('__init__', <slot wrapper '__init__' of 'object' objects>), ('__new__', <built-in method __new__ of type object at 0x105fc52a0>), ('__reduce__', <method '__reduce__' of 'object' objects>), ('__reduce_ex__', <method '__reduce_ex__' of 'object' objects>), ('__repr__', <slot wrapper '__repr__' of 'object' objects>), ('__setattr__', <slot wrapper '__setattr__' of 'object' objects>), ('__sizeof__', <method '__sizeof__' of 'object' objects>), ('__str__', <slot wrapper '__str__' of 'object' objects>), ('__subclasshook__', <built-in method __subclasshook__ of type object at 0x105fc52a0>)]\n"
     ]
    }
   ],
   "source": [
    "import inspect\n",
    "print(inspect.getmembers(object))"
   ]
  },
  {
   "cell_type": "markdown",
   "metadata": {},
   "source": [
    "### References"
   ]
  },
  {
   "cell_type": "markdown",
   "metadata": {},
   "source": [
    "* https://habrahabr.ru/post/114576/\n",
    "* https://www.youtube.com/watch?v=E_kZDvwofHY\n",
    "* https://www.youtube.com/watch?v=HTLu2DFOdTg\n",
    "* https://www.youtube.com/watch?v=miGolgp9xq8\n",
    "* https://www.youtube.com/watch?v=VOzvpHoYQoo\n",
    "* http://python-history.blogspot.ru/2010/06/inside-story-on-new-style-classes.html\n",
    "* https://www.python.org/download/releases/2.3/mro/\n",
    "* https://rhettinger.wordpress.com/2011/05/26/super-considered-super/\n",
    "* https://www.ibm.com/developerworks/library/l-pyint/\n",
    "* https://pymotw.com/2/inspect/\n",
    "* http://www.laurencegellert.com/2011/08/python-strategy-pattern/"
   ]
  },
  {
   "cell_type": "markdown",
   "metadata": {},
   "source": [
    "### Summary"
   ]
  },
  {
   "cell_type": "markdown",
   "metadata": {},
   "source": [
    "* use only new-style\n",
    "* avoid complex class hierarchies\n",
    "* use super() for delegation\n",
    "* customize classs creation with \\__new\\__"
   ]
  },
  {
   "cell_type": "markdown",
   "metadata": {},
   "source": [
    "## Descriptors"
   ]
  },
  {
   "cell_type": "markdown",
   "metadata": {},
   "source": [
    "* key infrastructure for OOP in Python\n",
    "* attribute access (get, set, delete)\n",
    "    * search class/superclass dicts for name\n",
    "    * delegate to descriptor if found\n",
    "* all descriptors have method \\__get\\__\n",
    "    * non-data descriptors\n",
    "* if also has \\__set\\__, data descriptor \n",
    "    * > #define PyDescr_IsData(d) (Py_TYPE(d)->tp_descr_set != NULL)"
   ]
  },
  {
   "cell_type": "markdown",
   "metadata": {},
   "source": [
    "#### Protocol"
   ]
  },
  {
   "cell_type": "code",
   "execution_count": null,
   "metadata": {
    "collapsed": true
   },
   "outputs": [],
   "source": [
    "descr.__get__(self, obj, type=None) --> value\n",
    "descr.__set__(self, obj, value) --> None\n",
    "descr.__delete__(self, obj) --> None"
   ]
  },
  {
   "cell_type": "markdown",
   "metadata": {},
   "source": [
    "![lookup](https://blog.ionelmc.ro/2015/02/09/understanding-python-metaclasses/object-attribute-lookup.png)"
   ]
  },
  {
   "cell_type": "code",
   "execution_count": 27,
   "metadata": {},
   "outputs": [
    {
     "name": "stdout",
     "output_type": "stream",
     "text": [
      "<bound method C.foo of <__main__.C object at 0x1063cd310>>\n",
      "<bound method C.foo of <__main__.C object at 0x1063cd310>>\n"
     ]
    }
   ],
   "source": [
    "x = C()\n",
    "print x.foo\n",
    "\n",
    "def lookup(obj, attr):\n",
    "    obj_cls = obj.__class__\n",
    "    if hasattr(obj_cls, attr):\n",
    "        d = getattr(obj_cls, attr)\n",
    "        desc_cls = d.__class__\n",
    "        if hasattr(desc_cls, '__get__') and (hasattr(desc_cls, '__set__') or attr not in obj.__dict__):\n",
    "            return desc_cls.__get__(d, obj, obj_cls)\n",
    "    return obj.__dict__[attr]\n",
    "\n",
    "print lookup(x, 'foo')"
   ]
  },
  {
   "cell_type": "code",
   "execution_count": 28,
   "metadata": {
    "collapsed": true
   },
   "outputs": [],
   "source": [
    "x = C()\n",
    "x.foo = 23\n",
    "\n",
    "def setup(obj, attr, val):\n",
    "    obj_cls = obj.__class__\n",
    "    if hasattr(obj_cls, attr):\n",
    "        d = getattr(obj_cls, attr)\n",
    "        desc_cls = d.__class__\n",
    "        if hasattr(desc_cls, '__set__'):\n",
    "            desc_cls.__set__(d, obj, val)\n",
    "        return\n",
    "    obj.__dict__[attr] = val"
   ]
  },
  {
   "cell_type": "markdown",
   "metadata": {},
   "source": [
    "Descriptors everywhere. Functions are descriptors too"
   ]
  },
  {
   "cell_type": "code",
   "execution_count": 30,
   "metadata": {},
   "outputs": [
    {
     "name": "stdout",
     "output_type": "stream",
     "text": [
      "<bound method ?.adder of 23> <function adder at 0x1063bea28>\n",
      "123\n"
     ]
    }
   ],
   "source": [
    "def adder(x, y): return x + y\n",
    "add23 = adder.__get__(23) # 23.adder\n",
    "print add23, adder\n",
    "print add23(100)"
   ]
  },
  {
   "cell_type": "markdown",
   "metadata": {},
   "source": [
    "Call `obj.f(*a, **k)` can be split into two parts: `(obj.f)(*a, **k)`\n",
    "\n",
    "`(obj.f)` is `f.__get__(obj) `returning methodobject which is bound to `obj`.\n",
    "\n",
    "then `methodobject(*a, **k)` called with `obj`(=self) passed  as first argument"
   ]
  },
  {
   "cell_type": "markdown",
   "metadata": {},
   "source": [
    "Examples:"
   ]
  },
  {
   "cell_type": "code",
   "execution_count": 30,
   "metadata": {},
   "outputs": [
    {
     "name": "stdout",
     "output_type": "stream",
     "text": [
      "{} Setting val to dict\n",
      "42\n",
      "42 {'area': 42}\n"
     ]
    }
   ],
   "source": [
    "class cached_property(object):\n",
    "    def __init__(self, func):\n",
    "        self.func = func\n",
    "\n",
    "    def __get__(self, obj, cls):\n",
    "        print \"Setting val to dict\"\n",
    "        value = obj.__dict__[self.func.__name__] = self.func(obj)\n",
    "        return value\n",
    "\n",
    "class Shape(object):\n",
    "\n",
    "    @cached_property\n",
    "    def area(self):\n",
    "        value = 42\n",
    "        return value\n",
    "\n",
    "s = Shape()\n",
    "print s.__dict__, s.area\n",
    "print s.area, s.__dict__"
   ]
  },
  {
   "cell_type": "code",
   "execution_count": 34,
   "metadata": {
    "scrolled": true
   },
   "outputs": [
    {
     "name": "stdout",
     "output_type": "stream",
     "text": [
      "1234\n",
      "obi\n"
     ]
    },
    {
     "ename": "TypeError",
     "evalue": "Must be a <type 'int'>",
     "output_type": "error",
     "traceback": [
      "\u001b[0;31m---------------------------------------------------------------------------\u001b[0m",
      "\u001b[0;31mTypeError\u001b[0m                                 Traceback (most recent call last)",
      "\u001b[0;32m<ipython-input-34-f07a3ff2c83a>\u001b[0m in \u001b[0;36m<module>\u001b[0;34m()\u001b[0m\n\u001b[1;32m     27\u001b[0m \u001b[0;32mprint\u001b[0m \u001b[0macct\u001b[0m\u001b[0;34m.\u001b[0m\u001b[0mnum\u001b[0m\u001b[0;34m\u001b[0m\u001b[0m\n\u001b[1;32m     28\u001b[0m \u001b[0;32mprint\u001b[0m \u001b[0macct\u001b[0m\u001b[0;34m.\u001b[0m\u001b[0mname\u001b[0m\u001b[0;34m\u001b[0m\u001b[0m\n\u001b[0;32m---> 29\u001b[0;31m \u001b[0macct\u001b[0m\u001b[0;34m.\u001b[0m\u001b[0mnum\u001b[0m \u001b[0;34m=\u001b[0m \u001b[0;34m'1234'\u001b[0m\u001b[0;34m\u001b[0m\u001b[0m\n\u001b[0m",
      "\u001b[0;32m<ipython-input-34-f07a3ff2c83a>\u001b[0m in \u001b[0;36m__set__\u001b[0;34m(self, instance, value)\u001b[0m\n\u001b[1;32m     11\u001b[0m     \u001b[0;32mdef\u001b[0m \u001b[0m__set__\u001b[0m\u001b[0;34m(\u001b[0m\u001b[0mself\u001b[0m\u001b[0;34m,\u001b[0m\u001b[0minstance\u001b[0m\u001b[0;34m,\u001b[0m\u001b[0mvalue\u001b[0m\u001b[0;34m)\u001b[0m\u001b[0;34m:\u001b[0m\u001b[0;34m\u001b[0m\u001b[0m\n\u001b[1;32m     12\u001b[0m         \u001b[0;32mif\u001b[0m \u001b[0;32mnot\u001b[0m \u001b[0misinstance\u001b[0m\u001b[0;34m(\u001b[0m\u001b[0mvalue\u001b[0m\u001b[0;34m,\u001b[0m\u001b[0mself\u001b[0m\u001b[0;34m.\u001b[0m\u001b[0mtype\u001b[0m\u001b[0;34m)\u001b[0m\u001b[0;34m:\u001b[0m\u001b[0;34m\u001b[0m\u001b[0m\n\u001b[0;32m---> 13\u001b[0;31m             \u001b[0;32mraise\u001b[0m \u001b[0mTypeError\u001b[0m\u001b[0;34m(\u001b[0m\u001b[0;34m\"Must be a %s\"\u001b[0m \u001b[0;34m%\u001b[0m \u001b[0mself\u001b[0m\u001b[0;34m.\u001b[0m\u001b[0mtype\u001b[0m\u001b[0;34m)\u001b[0m\u001b[0;34m\u001b[0m\u001b[0m\n\u001b[0m\u001b[1;32m     14\u001b[0m         \u001b[0msetattr\u001b[0m\u001b[0;34m(\u001b[0m\u001b[0minstance\u001b[0m\u001b[0;34m,\u001b[0m\u001b[0mself\u001b[0m\u001b[0;34m.\u001b[0m\u001b[0mname\u001b[0m\u001b[0;34m,\u001b[0m\u001b[0mvalue\u001b[0m\u001b[0;34m)\u001b[0m\u001b[0;34m\u001b[0m\u001b[0m\n\u001b[1;32m     15\u001b[0m \u001b[0;34m\u001b[0m\u001b[0m\n",
      "\u001b[0;31mTypeError\u001b[0m: Must be a <type 'int'>"
     ]
    }
   ],
   "source": [
    "class TypedProperty(object):\n",
    "\n",
    "    def __init__(self, name, type, default=None):\n",
    "        self.name = \"_\" + name\n",
    "        self.type = type\n",
    "        self.default = default if default else type()\n",
    "\n",
    "    def __get__(self, instance, cls):\n",
    "        return getattr(instance, self.name, self.default)\n",
    "\n",
    "    def __set__(self,instance,value):\n",
    "        if not isinstance(value,self.type):\n",
    "            raise TypeError(\"Must be a %s\" % self.type) \n",
    "        setattr(instance,self.name,value)\n",
    "\n",
    "    def __delete__(self,instance):\n",
    "        raise AttributeError(\"Can't delete attribute\")\n",
    "\n",
    "\n",
    "class Foo(object):\n",
    "    name = TypedProperty(\"name\", str) \n",
    "    num = TypedProperty(\"num\", int, 42)\n",
    "\n",
    "acct = Foo()\n",
    "acct.name = \"obi\"\n",
    "acct.num = 1234\n",
    "print acct.num\n",
    "print acct.name \n",
    "acct.num = '1234'"
   ]
  },
  {
   "cell_type": "markdown",
   "metadata": {},
   "source": [
    "#### property"
   ]
  },
  {
   "cell_type": "markdown",
   "metadata": {},
   "source": [
    "properties provide a concise way of adding data descriptors to attributes in Python"
   ]
  },
  {
   "cell_type": "code",
   "execution_count": null,
   "metadata": {
    "collapsed": true
   },
   "outputs": [],
   "source": [
    "property(fget=None, fset=None, fdel=None, doc=None) -> property attribute"
   ]
  },
  {
   "cell_type": "code",
   "execution_count": 37,
   "metadata": {
    "collapsed": true
   },
   "outputs": [],
   "source": [
    "class Accout(object):\n",
    "    def __init__(self):\n",
    "        self._acct_num = None\n",
    "\n",
    "    def get_acct_num(self):\n",
    "        return self._acct_num\n",
    "\n",
    "    def set_acct_num(self, value):\n",
    "        self._acct_num = value\n",
    "\n",
    "    def del_acct_num(self):\n",
    "        del self._acct_num\n",
    "\n",
    "    acct_num = property(get_acct_num, set_acct_num, del_acct_num, \"Account number property.\")"
   ]
  },
  {
   "cell_type": "code",
   "execution_count": 38,
   "metadata": {
    "collapsed": true
   },
   "outputs": [],
   "source": [
    "class Property(object):\n",
    "    \"Emulate PyProperty_Type() in Objects/descrobject.c\"\n",
    "\n",
    "    def __init__(self, fget=None, fset=None, fdel=None, doc=None):\n",
    "        self.fget = fget\n",
    "        self.fset = fset\n",
    "        self.fdel = fdel\n",
    "        if doc is None and fget is not None:\n",
    "            doc = fget.__doc__\n",
    "        self.__doc__ = doc\n",
    "\n",
    "    def __get__(self, obj, objtype=None):\n",
    "        if obj is None:\n",
    "            return self\n",
    "        if self.fget is None:\n",
    "            raise AttributeError(\"unreadable attribute\")\n",
    "        return self.fget(obj)\n",
    "\n",
    "    def __set__(self, obj, value):\n",
    "        if self.fset is None:\n",
    "            raise AttributeError(\"can't set attribute\")\n",
    "        self.fset(obj, value)\n",
    "\n",
    "    def __delete__(self, obj):\n",
    "        if self.fdel is None:\n",
    "            raise AttributeError(\"can't delete attribute\")\n",
    "        self.fdel(obj)\n",
    "\n",
    "    def getter(self, fget):\n",
    "        return type(self)(fget, self.fset, self.fdel, self.__doc__)\n",
    "\n",
    "    def setter(self, fset):\n",
    "        return type(self)(self.fget, fset, self.fdel, self.__doc__)\n",
    "\n",
    "    def deleter(self, fdel):\n",
    "        return type(self)(self.fget, self.fset, fdel, self.__doc__)"
   ]
  },
  {
   "cell_type": "code",
   "execution_count": 39,
   "metadata": {
    "collapsed": true
   },
   "outputs": [],
   "source": [
    "class C(object):\n",
    "    def __init__(self):\n",
    "        self._x = None\n",
    "\n",
    "    @property\n",
    "     # the x property. the decorator creates a read-only property\n",
    "    def x(self):\n",
    "        return self._x\n",
    "\n",
    "    @x.setter\n",
    "    # the x property setter makes the property writeable\n",
    "    def x(self, value):\n",
    "        self._x = value\n",
    "\n",
    "    @x.deleter\n",
    "    def x(self):\n",
    "        del self._x"
   ]
  },
  {
   "cell_type": "markdown",
   "metadata": {},
   "source": [
    "*BAD* example:"
   ]
  },
  {
   "cell_type": "code",
   "execution_count": 41,
   "metadata": {
    "collapsed": true
   },
   "outputs": [],
   "source": [
    "class Movie(object):\n",
    "    def __init__(self, title, rating, runtime, budget, gross):\n",
    "        self._rating = None\n",
    "        self._runtime = None\n",
    "        self._budget = None\n",
    "        self._gross = None\n",
    "\n",
    "        self.title = title\n",
    "        self.rating = rating\n",
    "        self.runtime = runtime\n",
    "        self.gross = gross\n",
    "        self.budget = budget\n",
    "        \n",
    "    #nice\n",
    "    @property\n",
    "    def budget(self):\n",
    "        return self._budget\n",
    "    \n",
    "    @budget.setter\n",
    "    def budget(self, value):\n",
    "        if value < 0:\n",
    "            raise ValueError(\"Negative value not allowed: %s\" % value)\n",
    "        self._budget = value\n",
    "        \n",
    "    #ok    \n",
    "    @property\n",
    "    def rating(self):\n",
    "        return self._rating\n",
    "    \n",
    "    @rating.setter\n",
    "    def rating(self, value):\n",
    "        if value < 0:\n",
    "            raise ValueError(\"Negative value not allowed: %s\" % value)\n",
    "        self._rating = value\n",
    "       \n",
    "    #uhh...\n",
    "    @property\n",
    "    def runtime(self):\n",
    "        return self._runtime\n",
    "    \n",
    "    @runtime.setter\n",
    "    def runtime(self, value):\n",
    "        if value < 0:\n",
    "            raise ValueError(\"Negative value not allowed: %s\" % value)\n",
    "        self._runtime = value        \n",
    "    \n",
    "    #is this forever?\n",
    "    @property\n",
    "    def gross(self):\n",
    "        return self._gross\n",
    "    \n",
    "    @gross.setter\n",
    "    def gross(self, value):\n",
    "        if value < 0:\n",
    "            raise ValueError(\"Negative value not allowed: %s\" % value)\n",
    "        self._gross = value        \n",
    "        \n",
    "    def profit(self):\n",
    "        return self.gross - self.budget"
   ]
  },
  {
   "cell_type": "markdown",
   "metadata": {},
   "source": [
    "*MUCH* better:"
   ]
  },
  {
   "cell_type": "code",
   "execution_count": 43,
   "metadata": {},
   "outputs": [
    {
     "name": "stdout",
     "output_type": "stream",
     "text": [
      "964000\n",
      "Woops, negative value\n"
     ]
    }
   ],
   "source": [
    "from weakref import WeakKeyDictionary\n",
    "\n",
    "class NonNegative(object):\n",
    "    \"\"\"A descriptor that forbids negative values\"\"\"\n",
    "    def __init__(self, default):\n",
    "        self.default = default\n",
    "        # prevent a memory leak -- we don't want an instance to stay alive \n",
    "        # simply because it's in the descriptor dictionary, and otherwise unused.\n",
    "        self.data = WeakKeyDictionary()\n",
    "        \n",
    "    def __get__(self, instance, owner):\n",
    "        # we get here when someone calls x.d, and d is a NonNegative instance\n",
    "        # instance = x\n",
    "        # owner = type(x)\n",
    "        return self.data.get(instance, self.default)\n",
    "    \n",
    "    def __set__(self, instance, value):\n",
    "        # we get here when someone calls x.d = val, and d is a NonNegative instance\n",
    "        # instance = x\n",
    "        # value = val\n",
    "        if value < 0:\n",
    "            raise ValueError(\"Negative value not allowed: %s\" % value)\n",
    "        self.data[instance] = value\n",
    "\n",
    "        \n",
    "class Movie(object):\n",
    "    \n",
    "    #always put descriptors at the class-level\n",
    "    rating = NonNegative(0)\n",
    "    runtime = NonNegative(0)\n",
    "    budget = NonNegative(0)\n",
    "    gross = NonNegative(0)\n",
    "    \n",
    "    def __init__(self, title, rating, runtime, budget, gross):\n",
    "        self.title = title\n",
    "        self.rating = rating\n",
    "        self.runtime = runtime\n",
    "        self.budget = budget\n",
    "        self.gross = gross\n",
    "    \n",
    "    def profit(self):\n",
    "        return self.gross - self.budget\n",
    "    \n",
    "    \n",
    "m = Movie('Casablanca', 97, 102, 964000, 1300000)\n",
    "print m.budget  # calls Movie.budget.__get__(m, Movie)\n",
    "m.rating = 100  # calls Movie.budget.__set__(m, 100)\n",
    "try:\n",
    "    m.rating = -1   # calls Movie.budget.__set__(m, -100)\n",
    "except ValueError:\n",
    "    print \"Woops, negative value\""
   ]
  },
  {
   "cell_type": "code",
   "execution_count": 44,
   "metadata": {},
   "outputs": [
    {
     "name": "stdout",
     "output_type": "stream",
     "text": [
      "Balance is 5000\n",
      "You are now poor\n",
      "Balance is 99\n"
     ]
    }
   ],
   "source": [
    "class CallbackProperty(object):\n",
    "    \"\"\"A property that will alert observers when upon updates\"\"\"\n",
    "    def __init__(self, default=None):\n",
    "        self.data = WeakKeyDictionary()\n",
    "        self.default = default\n",
    "        self.callbacks = WeakKeyDictionary()\n",
    "        \n",
    "    def __get__(self, instance, owner):\n",
    "        if instance is None:\n",
    "            return self        \n",
    "        return self.data.get(instance, self.default)\n",
    "    \n",
    "    def __set__(self, instance, value):\n",
    "        for callback in self.callbacks.get(instance, []):\n",
    "            # alert callback function of new value\n",
    "            callback(value)\n",
    "        self.data[instance] = value\n",
    "        \n",
    "    def add_callback(self, instance, callback):\n",
    "        \"\"\"Add a new function to call everytime the descriptor within instance updates\"\"\"\n",
    "        if instance not in self.callbacks:\n",
    "            self.callbacks[instance] = []\n",
    "        self.callbacks[instance].append(callback)\n",
    "        \n",
    "class BankAccount(object):\n",
    "    balance = CallbackProperty(0)\n",
    "    \n",
    "def low_balance_warning(value):\n",
    "    if value < 100:\n",
    "        print \"You are now poor\"\n",
    "                \n",
    "ba = BankAccount()\n",
    "BankAccount.balance.add_callback(ba, low_balance_warning)\n",
    "\n",
    "ba.balance = 5000\n",
    "print \"Balance is %s\" % ba.balance\n",
    "ba.balance = 99\n",
    "print \"Balance is %s\" % ba.balance"
   ]
  },
  {
   "cell_type": "markdown",
   "metadata": {},
   "source": [
    "#### static and class method"
   ]
  },
  {
   "cell_type": "markdown",
   "metadata": {},
   "source": [
    "Use staticmethods to attach funcs to classes. They don’t need self or cls."
   ]
  },
  {
   "cell_type": "code",
   "execution_count": 47,
   "metadata": {
    "collapsed": true
   },
   "outputs": [],
   "source": [
    "class Queue(object):\n",
    "    @staticmethod\n",
    "    def _finalize_close(buffer, notempty):\n",
    "        debug('telling queue thread to quit')\n",
    "        notempty.acquire()\n",
    "        try:\n",
    "            buffer.append(_sentinel)\n",
    "            notempty.notify()\n",
    "        finally:\n",
    "            notempty.release()"
   ]
  },
  {
   "cell_type": "markdown",
   "metadata": {},
   "source": [
    "Use classmethods for alternative constructors. They need cls."
   ]
  },
  {
   "cell_type": "code",
   "execution_count": 46,
   "metadata": {
    "collapsed": true
   },
   "outputs": [],
   "source": [
    "class OrderedDict(dict):\n",
    "    @classmethod\n",
    "    def fromkeys(cls, iterable, value=None):\n",
    "        '''OD.fromkeys(S[, v]) -> New ordered dictionary with keys from S.\n",
    "        If not specified, the value defaults to None.\n",
    "\n",
    "        '''\n",
    "        self = cls()\n",
    "        for key in iterable:\n",
    "            self[key] = value\n",
    "        return self"
   ]
  },
  {
   "cell_type": "markdown",
   "metadata": {},
   "source": [
    "### References"
   ]
  },
  {
   "cell_type": "markdown",
   "metadata": {},
   "source": [
    "* http://legacy.python.org/dev/peps/pep-0252/\n",
    "* https://habrahabr.ru/post/123216/\n",
    "* https://habrahabr.ru/post/122082/\n",
    "* https://habrahabr.ru/post/137415/\n",
    "* https://docs.python.org/2.7/reference/datamodel.html#implementing-descriptors\n",
    "* http://intermediatepythonista.com/classes-and-objects-ii-descriptors"
   ]
  },
  {
   "cell_type": "markdown",
   "metadata": {},
   "source": [
    "### Summary"
   ]
  },
  {
   "cell_type": "markdown",
   "metadata": {},
   "source": [
    "* descriptors like \"smart\" attributes\n",
    "* put descriptors at class level\n",
    "* most of the time you can get away with @property\n",
    "* use classmethod as alternative constructor"
   ]
  },
  {
   "cell_type": "markdown",
   "metadata": {},
   "source": [
    "## Magic methods"
   ]
  },
  {
   "cell_type": "code",
   "execution_count": 128,
   "metadata": {
    "collapsed": true
   },
   "outputs": [],
   "source": [
    "class OrderedDict(dict):\n",
    "    'Dictionary that remembers insertion order'\n",
    "    # An inherited dict maps keys to values.\n",
    "    # The inherited dict provides __getitem__, __len__, __contains__, and get.\n",
    "    # The remaining methods are order-aware.\n",
    "    # Big-O running times for all methods are the same as regular dictionaries.\n",
    "\n",
    "    # The internal self.__map dict maps keys to links in a doubly linked list.\n",
    "    # The circular doubly linked list starts and ends with a sentinel element.\n",
    "    # The sentinel element never gets deleted (this simplifies the algorithm).\n",
    "    # Each link is stored as a list of length three:  [PREV, NEXT, KEY].\n",
    "\n",
    "    def __init__(*args, **kwds):\n",
    "        '''Initialize an ordered dictionary.  The signature is the same as\n",
    "        regular dictionaries, but keyword arguments are not recommended because\n",
    "        their insertion order is arbitrary.\n",
    "\n",
    "        '''\n",
    "        if not args:\n",
    "            raise TypeError(\"descriptor '__init__' of 'OrderedDict' object \"\n",
    "                            \"needs an argument\")\n",
    "        self = args[0]\n",
    "        args = args[1:]\n",
    "        if len(args) > 1:\n",
    "            raise TypeError('expected at most 1 arguments, got %d' % len(args))\n",
    "        try:\n",
    "            self.__root\n",
    "        except AttributeError:\n",
    "            self.__root = root = []                     # sentinel node\n",
    "            root[:] = [root, root, None]\n",
    "            self.__map = {}\n",
    "        self.__update(*args, **kwds)\n",
    "\n",
    "    def __setitem__(self, key, value, dict_setitem=dict.__setitem__):\n",
    "        'od.__setitem__(i, y) <==> od[i]=y'\n",
    "        # Setting a new item creates a new link at the end of the linked list,\n",
    "        # and the inherited dictionary is updated with the new key/value pair.\n",
    "        if key not in self:\n",
    "            root = self.__root\n",
    "            last = root[0]\n",
    "            last[1] = root[0] = self.__map[key] = [last, root, key]\n",
    "        return dict_setitem(self, key, value)\n",
    "\n",
    "    def __delitem__(self, key, dict_delitem=dict.__delitem__):\n",
    "        'od.__delitem__(y) <==> del od[y]'\n",
    "        # Deleting an existing item uses self.__map to find the link which gets\n",
    "        # removed by updating the links in the predecessor and successor nodes.\n",
    "        dict_delitem(self, key)\n",
    "        link_prev, link_next, _ = self.__map.pop(key)\n",
    "        link_prev[1] = link_next                        # update link_prev[NEXT]\n",
    "        link_next[0] = link_prev                        # update link_next[PREV]\n",
    "\n",
    "    def __iter__(self):\n",
    "        'od.__iter__() <==> iter(od)'\n",
    "        # Traverse the linked list in order.\n",
    "        root = self.__root\n",
    "        curr = root[1]                                  # start at the first node\n",
    "        while curr is not root:\n",
    "            yield curr[2]                               # yield the curr[KEY]\n",
    "            curr = curr[1]                              # move to next node\n",
    "\n",
    "    def __reversed__(self):\n",
    "        'od.__reversed__() <==> reversed(od)'\n",
    "        # Traverse the linked list in reverse order.\n",
    "        root = self.__root\n",
    "        curr = root[0]                                  # start at the last node\n",
    "        while curr is not root:\n",
    "            yield curr[2]                               # yield the curr[KEY]\n",
    "            curr = curr[0]                              # move to previous node\n"
   ]
  },
  {
   "cell_type": "markdown",
   "metadata": {},
   "source": [
    "### References"
   ]
  },
  {
   "cell_type": "markdown",
   "metadata": {},
   "source": [
    "* https://github.com/RafeKettler/magicmethods/blob/master/magicmethods.markdown\n",
    "* https://habrahabr.ru/post/186608/"
   ]
  },
  {
   "cell_type": "markdown",
   "metadata": {},
   "source": [
    "### Summary"
   ]
  },
  {
   "cell_type": "markdown",
   "metadata": {},
   "source": [
    "* magic is simple, just follow instructions at References\n",
    "* beware of \\__del\\__ overriding\n",
    "    * Circular references which are garbage are detected when the option cycle detector is enabled (it’s on by default), but can only be cleaned up if there are no Python-level \\__del\\__() methods involved"
   ]
  },
  {
   "cell_type": "markdown",
   "metadata": {},
   "source": [
    "## ABC"
   ]
  },
  {
   "cell_type": "code",
   "execution_count": 135,
   "metadata": {},
   "outputs": [
    {
     "ename": "TypeError",
     "evalue": "Can't instantiate abstract class Complex with abstract methods __complex__, real",
     "output_type": "error",
     "traceback": [
      "\u001b[0;31m---------------------------------------------------------------------------\u001b[0m",
      "\u001b[0;31mTypeError\u001b[0m                                 Traceback (most recent call last)",
      "\u001b[0;32m<ipython-input-135-543156965084>\u001b[0m in \u001b[0;36m<module>\u001b[0;34m()\u001b[0m\n\u001b[1;32m     52\u001b[0m         \u001b[0;32mraise\u001b[0m \u001b[0mNotImplementedError\u001b[0m\u001b[0;34m\u001b[0m\u001b[0m\n\u001b[1;32m     53\u001b[0m \u001b[0;34m\u001b[0m\u001b[0m\n\u001b[0;32m---> 54\u001b[0;31m \u001b[0mComplex\u001b[0m\u001b[0;34m(\u001b[0m\u001b[0;34m)\u001b[0m\u001b[0;34m\u001b[0m\u001b[0m\n\u001b[0m",
      "\u001b[0;31mTypeError\u001b[0m: Can't instantiate abstract class Complex with abstract methods __complex__, real"
     ]
    }
   ],
   "source": [
    "from abc import ABCMeta, abstractmethod, abstractproperty\n",
    "\n",
    "class Number(object):\n",
    "    \"\"\"All numbers inherit from this class.\n",
    "\n",
    "    If you just want to check if an argument x is a number, without\n",
    "    caring what kind, use isinstance(x, Number).\n",
    "    \"\"\"\n",
    "    __metaclass__ = ABCMeta\n",
    "    __slots__ = ()\n",
    "\n",
    "    # Concrete numeric types must provide their own hash implementation\n",
    "    __hash__ = None\n",
    "\n",
    "\n",
    "## Notes on Decimal\n",
    "## ----------------\n",
    "## Decimal has all of the methods specified by the Real abc, but it should\n",
    "## not be registered as a Real because decimals do not interoperate with\n",
    "## binary floats (i.e.  Decimal('3.14') + 2.71828 is undefined).  But,\n",
    "## abstract reals are expected to interoperate (i.e. R1 + R2 should be\n",
    "## expected to work if R1 and R2 are both Reals).\n",
    "\n",
    "class Complex(Number):\n",
    "    \"\"\"Complex defines the operations that work on the builtin complex type.\n",
    "\n",
    "    In short, those are: a conversion to complex, .real, .imag, +, -,\n",
    "    *, /, abs(), .conjugate, ==, and !=.\n",
    "\n",
    "    If it is given heterogenous arguments, and doesn't have special\n",
    "    knowledge about them, it should fall back to the builtin complex\n",
    "    type as described below.\n",
    "    \"\"\"\n",
    "\n",
    "    __slots__ = ()\n",
    "\n",
    "    @abstractmethod\n",
    "    def __complex__(self):\n",
    "        \"\"\"Return a builtin complex instance. Called for complex(self).\"\"\"\n",
    "\n",
    "    @abstractproperty\n",
    "    def real(self):\n",
    "        \"\"\"Retrieve the real component of this number.\n",
    "\n",
    "        This should subclass Real.\n",
    "        \"\"\"\n",
    "        raise NotImplementedError\n",
    "\n",
    "Complex()"
   ]
  },
  {
   "cell_type": "code",
   "execution_count": null,
   "metadata": {
    "collapsed": true
   },
   "outputs": [],
   "source": [
    "class Container(metaclass=ABCMeta):\n",
    "    __slots__ = ()\n",
    "\n",
    "    @abstractmethod\n",
    "    def __contains__(self, x):\n",
    "        return False\n",
    "\n",
    "    @classmethod\n",
    "    def __subclasshook__(cls, C):\n",
    "        if cls is Container:\n",
    "            if any(\"__contains__\" in B.__dict__ for B in C.__mro__):\n",
    "                return True\n",
    "        return NotImplemented"
   ]
  },
  {
   "cell_type": "code",
   "execution_count": 138,
   "metadata": {},
   "outputs": [
    {
     "name": "stdout",
     "output_type": "stream",
     "text": [
      "True\n",
      "True\n",
      "['Set', 'Mapping', 'Sequence', 'ContainSubclass']\n"
     ]
    }
   ],
   "source": [
    "class ContainHook(object):\n",
    "    def __contains__(self, item):\n",
    "        return True\n",
    "\n",
    "class ContainSubclass(collections.Container):\n",
    "    def __contains__(self, item):\n",
    "        return True\n",
    "\n",
    "print issubclass(ContainHook, collections.Container)\n",
    "print isinstance(ContainHook(), collections.Container)\n",
    "print [sc.__name__ for sc in collections.Container.__subclasses__()]"
   ]
  },
  {
   "cell_type": "markdown",
   "metadata": {},
   "source": [
    "### References"
   ]
  },
  {
   "cell_type": "markdown",
   "metadata": {},
   "source": [
    "* https://pymotw.com/2/abc/"
   ]
  },
  {
   "cell_type": "markdown",
   "metadata": {},
   "source": [
    "### Summary"
   ]
  },
  {
   "cell_type": "markdown",
   "metadata": {},
   "source": [
    "* magic is simple, just follow instructions at References\n",
    "* beware of \\__del\\__ overriding"
   ]
  },
  {
   "cell_type": "markdown",
   "metadata": {},
   "source": [
    "## Metaclasses"
   ]
  },
  {
   "cell_type": "markdown",
   "metadata": {},
   "source": [
    "Tim Peters: “Metaclasses are deeper magic than 99% of users should ever worry about. If you wonder whether you need them, you don’t (the people who actually need them know with certainty that they need them, and don’t need an explanation about why).”"
   ]
  },
  {
   "cell_type": "markdown",
   "metadata": {},
   "source": [
    "![type](https://i.stack.imgur.com/Shjob.png)"
   ]
  },
  {
   "cell_type": "code",
   "execution_count": 106,
   "metadata": {},
   "outputs": [
    {
     "name": "stdout",
     "output_type": "stream",
     "text": [
      "<type 'type'>\n",
      "<type 'type'>\n",
      "object\n",
      "type\n",
      "()\n",
      "(<type 'object'>,)\n"
     ]
    }
   ],
   "source": [
    "print object.__class__\n",
    "print type.__class__\n",
    "print object.__name__\n",
    "print type.__name__\n",
    "print object.__bases__\n",
    "print type.__bases__\n"
   ]
  },
  {
   "cell_type": "markdown",
   "metadata": {},
   "source": [
    "![meta](https://i.stack.imgur.com/QQ0OK.png)"
   ]
  },
  {
   "cell_type": "markdown",
   "metadata": {},
   "source": [
    "type is default metaclass"
   ]
  },
  {
   "cell_type": "code",
   "execution_count": 110,
   "metadata": {},
   "outputs": [
    {
     "name": "stdout",
     "output_type": "stream",
     "text": [
      "<class '__main__.Otus'> {'__dict__': <attribute '__dict__' of 'Otus' objects>, '__module__': '__main__', '__weakref__': <attribute '__weakref__' of 'Otus' objects>, '__doc__': None, 'cool': True} <class '__main__.Otus'>\n"
     ]
    }
   ],
   "source": [
    "name = \"Otus\"\n",
    "bases = (object,)\n",
    "class_attributes = {\"cool\": True}\n",
    "\n",
    "cls = type(name, bases, class_attributes)\n",
    "\n",
    "obj = cls()\n",
    "print cls, cls.__dict__, obj.__class__"
   ]
  },
  {
   "cell_type": "markdown",
   "metadata": {},
   "source": [
    "![creation](https://blog.ionelmc.ro/2015/02/09/understanding-python-metaclasses/instance-creation.png)"
   ]
  },
  {
   "cell_type": "code",
   "execution_count": 1,
   "metadata": {},
   "outputs": [
    {
     "name": "stdout",
     "output_type": "stream",
     "text": [
      "-----------------------------------\n",
      "creating class Otus\n",
      "<class '__main__.OtusMeta'>\n",
      "(<type 'object'>,)\n",
      "{'started': True, '__module__': '__main__', '__metaclass__': <class '__main__.OtusMeta'>, 'woo': <function woo at 0x10a84d488>, '__init__': <function __init__ at 0x10a84d410>}\n",
      "-----------------------------------\n",
      "Initializing class Otus\n",
      "<class '__main__.Otus'>\n",
      "(<type 'object'>,)\n",
      "{'started': True, '__module__': '__main__', '__metaclass__': <class '__main__.OtusMeta'>, 'woo': <function woo at 0x10a84d488>, '__init__': <function __init__ at 0x10a84d410>}\n"
     ]
    }
   ],
   "source": [
    "class OtusMeta(type):\n",
    "    def __new__(meta, name, bases, dct):\n",
    "        print '-----------------------------------'\n",
    "        print \"creating class\", name\n",
    "        print meta\n",
    "        print bases\n",
    "        print dct\n",
    "        return super(OtusMeta, meta).__new__(meta, name, bases, dct)\n",
    "\n",
    "    def __init__(cls, name, bases, dct):\n",
    "        print '-----------------------------------'\n",
    "        print \"Initializing class\", name\n",
    "        print cls\n",
    "        print bases\n",
    "        print dct\n",
    "        super(OtusMeta, cls).__init__(name, bases, dct)\n",
    "\n",
    "    def __call__(cls, *args, **kwargs):\n",
    "        print '-----------------------------------'\n",
    "        print '__call__ of %s' % cls\n",
    "        print '__call__ *args=%s, **kwargs=%s' % (args, kwargs)\n",
    "        return super(OtusMeta, cls).__call__(*args, **kwargs)\n",
    "\n",
    "class Otus(object):\n",
    "    __metaclass__ = OtusMeta\n",
    "\n",
    "    def __init__(self, min_woos, silent=False):\n",
    "        self.min_woos = min_woos\n",
    "    \n",
    "    def woo(self, n):\n",
    "        if self.silent:\n",
    "            return\n",
    "        for _ in xrange(max(self.min_woos, n)):\n",
    "            print \"Woo!\"\n",
    "\n",
    "    started = True\n"
   ]
  },
  {
   "cell_type": "code",
   "execution_count": 2,
   "metadata": {},
   "outputs": [
    {
     "name": "stdout",
     "output_type": "stream",
     "text": [
      "-----------------------------------\n",
      "__call__ of <class '__main__.Otus'>\n",
      "__call__ *args=(-1,), **kwargs={'silent': False}\n"
     ]
    },
    {
     "data": {
      "text/plain": [
       "<__main__.Otus at 0x10a84ad50>"
      ]
     },
     "execution_count": 2,
     "metadata": {},
     "output_type": "execute_result"
    }
   ],
   "source": [
    "Otus(-1, silent=False)"
   ]
  },
  {
   "cell_type": "markdown",
   "metadata": {},
   "source": [
    "![classattr](https://blog.ionelmc.ro/2015/02/09/understanding-python-metaclasses/class-attribute-lookup.png)"
   ]
  },
  {
   "cell_type": "markdown",
   "metadata": {},
   "source": [
    "`Template` can be inherited to provide a custom delimiter and ID pattern, or the whole regex. The metaclass makes sure that these get converted into a compiled regex pattern at class creation time, so this is an optimization of a sort."
   ]
  },
  {
   "cell_type": "code",
   "execution_count": 130,
   "metadata": {
    "collapsed": true
   },
   "outputs": [],
   "source": [
    "import re as _re\n",
    "\n",
    "class _TemplateMetaclass(type):\n",
    "    pattern = r\"\"\"\n",
    "    %(delim)s(?:\n",
    "      (?P<escaped>%(delim)s) |   # Escape sequence of two delimiters\n",
    "      (?P<named>%(id)s)      |   # delimiter and a Python identifier\n",
    "      {(?P<braced>%(id)s)}   |   # delimiter and a braced identifier\n",
    "      (?P<invalid>)              # Other ill-formed delimiter exprs\n",
    "    )\n",
    "    \"\"\"\n",
    "\n",
    "    def __init__(cls, name, bases, dct):\n",
    "        super(_TemplateMetaclass, cls).__init__(name, bases, dct)\n",
    "        if 'pattern' in dct:\n",
    "            pattern = cls.pattern\n",
    "        else:\n",
    "            pattern = _TemplateMetaclass.pattern % {\n",
    "                'delim' : _re.escape(cls.delimiter),\n",
    "                'id'    : cls.idpattern,\n",
    "                }\n",
    "        cls.pattern = _re.compile(pattern, _re.IGNORECASE | _re.VERBOSE)\n",
    "\n",
    "\n",
    "class Template:\n",
    "    \"\"\"A string class for supporting $-substitutions.\"\"\"\n",
    "    __metaclass__ = _TemplateMetaclass\n",
    "\n",
    "    delimiter = '$'\n",
    "    idpattern = r'[_a-z][_a-z0-9]*'\n",
    "\n",
    "    def __init__(self, template):\n",
    "        self.template = template\n"
   ]
  },
  {
   "cell_type": "markdown",
   "metadata": {},
   "source": [
    "Django Forms"
   ]
  },
  {
   "cell_type": "code",
   "execution_count": null,
   "metadata": {
    "collapsed": true
   },
   "outputs": [],
   "source": [
    "class DeclarativeFieldsMetaclass(MediaDefiningClass):\n",
    "    \"\"\"\n",
    "    Metaclass that collects Fields declared on the base classes.\n",
    "    \"\"\"\n",
    "    def __new__(mcs, name, bases, attrs):\n",
    "        # Collect fields from current class.\n",
    "        current_fields = []\n",
    "        for key, value in list(attrs.items()):\n",
    "            if isinstance(value, Field):\n",
    "                current_fields.append((key, value))\n",
    "                attrs.pop(key)\n",
    "        current_fields.sort(key=lambda x: x[1].creation_counter)\n",
    "        attrs['declared_fields'] = OrderedDict(current_fields)\n",
    "\n",
    "        new_class = (super(DeclarativeFieldsMetaclass, mcs)\n",
    "            .__new__(mcs, name, bases, attrs))\n",
    "\n",
    "        # Walk through the MRO.\n",
    "        declared_fields = OrderedDict()\n",
    "        for base in reversed(new_class.__mro__):\n",
    "            # Collect fields from base class.\n",
    "            if hasattr(base, 'declared_fields'):\n",
    "                declared_fields.update(base.declared_fields)\n",
    "\n",
    "            # Field shadowing.\n",
    "            for attr, value in base.__dict__.items():\n",
    "                if value is None and attr in declared_fields:\n",
    "                    declared_fields.pop(attr)\n",
    "\n",
    "        new_class.base_fields = declared_fields\n",
    "        new_class.declared_fields = declared_fields\n",
    "\n",
    "        return new_class\n",
    "\n",
    "\n",
    "class Form(six.with_metaclass(DeclarativeFieldsMetaclass, BaseForm)):\n",
    "    \"A collection of Fields, plus their associated data.\"\n",
    "    # This is a separate class from BaseForm in order to abstract the way\n",
    "    # self.fields is specified. This class (Form) is the one that does the\n",
    "    # fancy metaclass stuff purely for the semantic sugar -- it allows one\n",
    "    # to define a form using declarative syntax.\n",
    "    # BaseForm itself has no way of designating self.fields."
   ]
  },
  {
   "cell_type": "markdown",
   "metadata": {},
   "source": [
    "Continuing example at \"Descriptors\" section"
   ]
  },
  {
   "cell_type": "code",
   "execution_count": 111,
   "metadata": {},
   "outputs": [
    {
     "name": "stdout",
     "output_type": "stream",
     "text": [
      "__set__\n",
      "__get__. Label = x\n",
      "10\n"
     ]
    }
   ],
   "source": [
    "class Descriptor(object):\n",
    "    def __init__(self):\n",
    "        self.label = None\n",
    "        \n",
    "    def __get__(self, instance, owner):\n",
    "        print '__get__. Label = %s' % self.label\n",
    "        return instance.__dict__.get(self.label, None)\n",
    "    \n",
    "    def __set__(self, instance, value):\n",
    "        print '__set__'\n",
    "        instance.__dict__[self.label] = value\n",
    "\n",
    "# Because descriptor labels match the variable name they are assigned to, \n",
    "# we can use metaclasses to take care of this bookkeeping automatically\n",
    "class DescriptorOwner(type):\n",
    "    def __new__(cls, name, bases, attrs):\n",
    "        # find all descriptors, auto-set their labels\n",
    "        for n, v in attrs.items():\n",
    "            if isinstance(v, Descriptor):\n",
    "                v.label = n\n",
    "        return super(DescriptorOwner, cls).__new__(cls, name, bases, attrs)\n",
    "\n",
    "        \n",
    "class Foo(object):\n",
    "    __metaclass__ = DescriptorOwner\n",
    "    x = Descriptor()\n",
    "    \n",
    "f = Foo()\n",
    "f.x = 10\n",
    "print f.x"
   ]
  },
  {
   "cell_type": "markdown",
   "metadata": {},
   "source": [
    "### References"
   ]
  },
  {
   "cell_type": "markdown",
   "metadata": {},
   "source": [
    "* http://eli.thegreenplace.net/2011/08/14/python-metaclasses-by-example\n",
    "* https://blog.ionelmc.ro/2015/02/09/understanding-python-metaclasses/\n",
    "* https://stackoverflow.com/questions/100003/what-is-a-metaclass-in-python\n",
    "* https://www.python.org/download/releases/2.2.3/descrintro/#metaclasses\n",
    "* https://www.youtube.com/watch?v=sPiWg5jSoZI\n",
    "* http://ivansmirnov.io/python-metaclasses/"
   ]
  },
  {
   "cell_type": "markdown",
   "metadata": {},
   "source": [
    "### Summary"
   ]
  },
  {
   "cell_type": "markdown",
   "metadata": {},
   "source": [
    "* use at your own risk only if you absolutely must\n",
    "* dont forget that subclasses inherit the metaclass"
   ]
  },
  {
   "cell_type": "markdown",
   "metadata": {},
   "source": [
    "## Design Patterns"
   ]
  },
  {
   "cell_type": "markdown",
   "metadata": {},
   "source": [
    "* summary of a frequent design problem + structure of a solution to that problem (+ pros and cons, alternatives, ...), and:\n",
    "    * A NAME (much easier to retain/discuss!)\n",
    "* \"descriptions of communicating objects and classes customized to solve a general design problem in a particular context\"\n",
    "* __NOT__:\n",
    "    * a data structure\n",
    "    * algorithm\n",
    "    * domain-specific system architecture\n",
    "    * programming-language/library feature\n",
    "* __MUST__ be studied in a language's context!\n",
    "* __MUST__ supply Known Uses"
   ]
  },
  {
   "cell_type": "markdown",
   "metadata": {},
   "source": [
    "__Categories__:\n",
    "* Creational\n",
    "    * ways and means of object instantiation\n",
    "* Structural\n",
    "    * mutual composition of classes or objects (the Facade DP is Structural)\n",
    "* Behavioral\n",
    "    * how classes or objects interact and distribute responsibilities among them"
   ]
  },
  {
   "cell_type": "markdown",
   "metadata": {},
   "source": [
    "__Core Principles__\n",
    "* program to an interface, not to an implementation\n",
    "    * done with duck typing in Python\n",
    "* favor object composition over class inheritance\n",
    "    * in Python: __hold__, or __wrap__\n",
    "    * inherit only when it's really convenient\n",
    "        * expose all methods in base class (reuse + usually override + maybe extend)\n",
    "        * very strong coupling"
   ]
  },
  {
   "cell_type": "markdown",
   "metadata": {},
   "source": [
    "* __Hold__: object O has subobject S as an attribute (maybe property)\n",
    "    * use self.S.method or O.S.method\n",
    "* __Wrap__: hold (often via private name) plus delegation \n",
    "    * use O.method\n",
    "        * explicit (def method(self...)...self.S.method)\n",
    "        * automatic (delegation in \\__getattr\\__)\n",
    "    "
   ]
  },
  {
   "cell_type": "code",
   "execution_count": 1,
   "metadata": {
    "collapsed": true
   },
   "outputs": [],
   "source": [
    "class RestrictingWrapper(object):\n",
    "    def __init__(self, w, block):\n",
    "        self._w = w\n",
    "        self._block = block\n",
    "    def __getattr__(self, n):\n",
    "        if n in self._block:\n",
    "            raise AttributeError, n\n",
    "        return getattr(self._w, n)"
   ]
  },
  {
   "cell_type": "markdown",
   "metadata": {},
   "source": [
    "__Creational Patterns__"
   ]
  },
  {
   "cell_type": "markdown",
   "metadata": {},
   "source": [
    "Singleton Pattern"
   ]
  },
  {
   "cell_type": "code",
   "execution_count": 9,
   "metadata": {
    "collapsed": true
   },
   "outputs": [],
   "source": [
    "class Singleton(object):\n",
    "    def __new__(cls, *args, **kwargs):\n",
    "        if not hasattr(cls, '_inst'):\n",
    "            cls._inst = super(Singleton, cls).__new__(cls, *args, **kwargs)\n",
    "        return cls._inst\n",
    "\n",
    "# subclassing is a problem\n",
    "class Foo(Singleton): pass\n",
    "class Bar(Foo): pass\n",
    "f = Foo()\n",
    "b = Bar() "
   ]
  },
  {
   "cell_type": "markdown",
   "metadata": {},
   "source": [
    "* is b a Singleton or Bar instance? What if we change order in which objects created?\n",
    "* this problem is intrinsic to any Singleton\n",
    "* could overcome subclassing problem by turning Singleton to metaclass\n",
    "* or using Borg (Monostate)"
   ]
  },
  {
   "cell_type": "code",
   "execution_count": 8,
   "metadata": {
    "collapsed": true
   },
   "outputs": [],
   "source": [
    "class Borg(object):\n",
    "    _shared_state = {}\n",
    "    def __new__(cls, *args, **kwargs):\n",
    "        obj = super(Borg, cls).__new__(cls, *args, **kwargs)\n",
    "        obj.__dict__ = cls._shared_state\n",
    "        return obj\n",
    "\n",
    "# subclassing is no problem\n",
    "class Foo(Borg):\n",
    "    pass\n",
    "class Bar(Foo):\n",
    "    pass\n",
    "class Baz(Foo):\n",
    "    _shared_state = {}"
   ]
  },
  {
   "cell_type": "markdown",
   "metadata": {},
   "source": [
    "* this still could break if child class overrides \\__getattr\\__\n",
    "* Python's module is already a singleton"
   ]
  },
  {
   "cell_type": "markdown",
   "metadata": {},
   "source": [
    "__Structural Patterns__"
   ]
  },
  {
   "cell_type": "markdown",
   "metadata": {},
   "source": [
    "Adapater Pattern\n",
    "* socket._fileobject: treats socket like file object (with a lot of buffering)\n",
    "* StringIO: treats stings and unicode as file object"
   ]
  },
  {
   "cell_type": "code",
   "execution_count": null,
   "metadata": {
    "collapsed": true
   },
   "outputs": [],
   "source": [
    "class StringIO:\n",
    "    def __init__(self, buf = ''):\n",
    "        # Force self.buf to be a string or unicode\n",
    "        if not isinstance(buf, basestring):\n",
    "            buf = str(buf)\n",
    "        self.buf = buf\n",
    "        self.len = len(buf)\n",
    "        self.buflist = []\n",
    "        self.pos = 0\n",
    "        self.closed = False\n",
    "        self.softspace = 0\n",
    "\n",
    "    def tell(self):\n",
    "        _complain_ifclosed(self.closed)\n",
    "        return self.pos\n",
    "\n",
    "    def read(self, n = -1):\n",
    "        _complain_ifclosed(self.closed)\n",
    "        if self.buflist:\n",
    "            self.buf += ''.join(self.buflist)\n",
    "            self.buflist = []\n",
    "        if n is None or n < 0:\n",
    "            newpos = self.len\n",
    "        else:\n",
    "            newpos = min(self.pos+n, self.len)\n",
    "        r = self.buf[self.pos:newpos]\n",
    "        self.pos = newpos\n",
    "        return r"
   ]
  },
  {
   "cell_type": "markdown",
   "metadata": {},
   "source": [
    "Facade Pattern\n",
    "* os.path: basename, dirname facade for split + indexing; isdir (&c) facade for os.stat + stat.S_ISDIR (&c)"
   ]
  },
  {
   "cell_type": "code",
   "execution_count": 17,
   "metadata": {
    "collapsed": true
   },
   "outputs": [],
   "source": [
    "import sys, errno\n",
    "\n",
    "_names = sys.builtin_module_names\n",
    "\n",
    "__all__ = [\"altsep\", \"curdir\", \"pardir\", \"sep\", \"extsep\", \"pathsep\", \"linesep\",\n",
    "           \"defpath\", \"name\", \"path\", \"devnull\",\n",
    "           \"SEEK_SET\", \"SEEK_CUR\", \"SEEK_END\"]\n",
    "\n",
    "def _get_exports_list(module):\n",
    "    try:\n",
    "        return list(module.__all__)\n",
    "    except AttributeError:\n",
    "        return [n for n in dir(module) if n[0] != '_']\n",
    "\n",
    "\n",
    "if 'posix' in _names:\n",
    "    name = 'posix'\n",
    "    linesep = '\\n'\n",
    "    from posix import *\n",
    "    try:\n",
    "        from posix import _exit\n",
    "    except ImportError:\n",
    "        pass\n",
    "    import posixpath as path\n",
    "\n",
    "    import posix\n",
    "    __all__.extend(_get_exports_list(posix))\n",
    "    del posix\n",
    "\n",
    "elif 'nt' in _names:\n",
    "    name = 'nt'\n",
    "    linesep = '\\r\\n'\n",
    "    from nt import *\n",
    "    try:\n",
    "        from nt import _exit\n",
    "    except ImportError:\n",
    "        pass\n",
    "    import ntpath as path\n",
    "\n",
    "    import nt\n",
    "    __all__.extend(_get_exports_list(nt))\n",
    "    del nt"
   ]
  },
  {
   "cell_type": "markdown",
   "metadata": {},
   "source": [
    "__Behavioral Patterns__"
   ]
  },
  {
   "cell_type": "markdown",
   "metadata": {},
   "source": [
    "Template Pattern\n",
    "* Queue"
   ]
  },
  {
   "cell_type": "code",
   "execution_count": 18,
   "metadata": {
    "collapsed": true
   },
   "outputs": [],
   "source": [
    "class AbstractBase(object):\n",
    "    def organizing_method(self):\n",
    "        self.do_this()\n",
    "        self.do_that()\n",
    "\n",
    "\n",
    "class Concrete(AbstractBase):\n",
    "    def do_this(self):\n",
    "        pass\n",
    "    def do_that(self):\n",
    "        pass"
   ]
  },
  {
   "cell_type": "code",
   "execution_count": 19,
   "metadata": {
    "collapsed": true
   },
   "outputs": [],
   "source": [
    "class Queue:\n",
    "    def put(self, item, block=True, timeout=None):\n",
    "        self.not_full.acquire()\n",
    "        try:\n",
    "            if self.maxsize > 0:\n",
    "                if not block:\n",
    "                    if self._qsize() == self.maxsize:\n",
    "                        raise Full\n",
    "                elif timeout is None:\n",
    "                    while self._qsize() == self.maxsize:\n",
    "                        self.not_full.wait()\n",
    "                elif timeout < 0:\n",
    "                    raise ValueError(\"'timeout' must be a non-negative number\")\n",
    "                else:\n",
    "                    endtime = _time() + timeout\n",
    "                    while self._qsize() == self.maxsize:\n",
    "                        remaining = endtime - _time()\n",
    "                        if remaining <= 0.0:\n",
    "                            raise Full\n",
    "                        self.not_full.wait(remaining)\n",
    "            self._put(item)\n",
    "            self.unfinished_tasks += 1\n",
    "            self.not_empty.notify()\n",
    "        finally:\n",
    "            self.not_full.release()\n",
    "\n",
    "\n",
    "class LifoQueue(Queue):\n",
    "    def _put(self, item):\n",
    "        self.queue.appendleft(item)\n"
   ]
  },
  {
   "cell_type": "markdown",
   "metadata": {},
   "source": [
    "### References"
   ]
  },
  {
   "cell_type": "markdown",
   "metadata": {},
   "source": [
    "* https://ru.wikipedia.org/wiki/YAGNI\n",
    "* https://en.wikipedia.org/wiki/Law_of_Demeter\n",
    "* https://github.com/faif/python-patterns\n",
    "* http://shop.oreilly.com/product/9780596007126.do\n",
    "* https://www.youtube.com/watch?v=4KZx8bATBFs"
   ]
  },
  {
   "cell_type": "markdown",
   "metadata": {},
   "source": [
    "### Summary"
   ]
  },
  {
   "cell_type": "markdown",
   "metadata": {},
   "source": [
    "* don't think about using some pattern think about solving a problem\n",
    "* patterns  come useful when discussing solution"
   ]
  }
 ],
 "metadata": {
  "kernelspec": {
   "display_name": "Python 2",
   "language": "python",
   "name": "python2"
  },
  "language_info": {
   "codemirror_mode": {
    "name": "ipython",
    "version": 2
   },
   "file_extension": ".py",
   "mimetype": "text/x-python",
   "name": "python",
   "nbconvert_exporter": "python",
   "pygments_lexer": "ipython2",
   "version": "2.7.10"
  }
 },
 "nbformat": 4,
 "nbformat_minor": 1
}
