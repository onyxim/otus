{
 "cells": [
  {
   "cell_type": "markdown",
   "metadata": {},
   "source": [
    "# #6. Django: Origins"
   ]
  },
  {
   "cell_type": "markdown",
   "metadata": {},
   "source": [
    "0. [Motivation](#Motivation)\n",
    "1. [Dynamic Web](#Dynamic-Web)\n",
    "    1. [CGI](#CGI)\n",
    "    2. [FastCGI](#FastCGI)\n",
    "    3. [WSGI](#WSGI)\n",
    "    4. [Gunicorn](#Gunicorn)\n",
    "    5. [uWSGI](#uWSGI)\n",
    "2. [Tiered architecture](#Tiered-architecture)\n",
    "3. [Django](#Django)\n",
    "    1. [MVC](#MVC)\n",
    "    2. [Coding style](#Coding-style)\n",
    "    3. [Enviroment setup](#Enviroment-setup)\n",
    "    3. [Project structure](#Project-structure)\n",
    "    4. [Configuration](#Configuration)\n",
    "    5. [Dependencies](#Dependencies)\n",
    "    6. [URL dispatching](#URL-dispatching)"
   ]
  },
  {
   "cell_type": "markdown",
   "metadata": {},
   "source": [
    "## Motivation"
   ]
  },
  {
   "cell_type": "markdown",
   "metadata": {},
   "source": [
    "__Goal__"
   ]
  },
  {
   "cell_type": "markdown",
   "metadata": {},
   "source": [
    "Разобраться с тем, как запускаются и разварачиваются веб-приложения и плавно перейти к Django"
   ]
  },
  {
   "cell_type": "markdown",
   "metadata": {},
   "source": [
    "__Homework__"
   ]
  },
  {
   "cell_type": "markdown",
   "metadata": {},
   "source": [
    "Django tutorial or uWSGI daemon"
   ]
  },
  {
   "cell_type": "markdown",
   "metadata": {},
   "source": [
    "## Dynamic Web"
   ]
  },
  {
   "cell_type": "markdown",
   "metadata": {},
   "source": [
    "#### CGI"
   ]
  },
  {
   "cell_type": "markdown",
   "metadata": {},
   "source": [
    "The Common Gateway Interface (CGI) is a standardized interface for delegating web requests to external applications that handle the request and generate a response\n",
    "* start new process\n",
    "    * very costly \n",
    "* write request to STDIN\n",
    "* set ENV\n",
    "* read response from STDOUT\n",
    "    * should be on the same machine"
   ]
  },
  {
   "cell_type": "markdown",
   "metadata": {},
   "source": [
    "![cgi](https://www.electricmonk.nl/docs/apache_fastcgi_python/flow_cgi.png)"
   ]
  },
  {
   "cell_type": "raw",
   "metadata": {},
   "source": [
    "<form action=\"/cgi-bin/subscribe.py\" method=\"POST\">\n",
    "  Your name: <input type=\"text\" name=\"name\" size=\"30\"><br>\n",
    "  Your email: <input type=\"text\" name=\"email\" size=\"30\"><br>\n",
    "  <input type=\"submit\" name=\"submit-button\" value=\"Subscribe\">\n",
    "</form>"
   ]
  },
  {
   "cell_type": "code",
   "execution_count": null,
   "metadata": {},
   "outputs": [],
   "source": [
    "#!/usr/bin/env python\n",
    "import os\n",
    "\n",
    "query = os.environ['QUERY_STRING']\n",
    "if os.environ['REQUEST_METHOD'] == 'POST':\n",
    "    size = int(os.environ['CONTENT_LENGTH'])\n",
    "    query = sys.stdin.read(size)"
   ]
  },
  {
   "cell_type": "code",
   "execution_count": 1,
   "metadata": {},
   "outputs": [
    {
     "name": "stdout",
     "output_type": "stream",
     "text": [
      "Content-type: text/html\n",
      "\n",
      "\n",
      "<html>\n",
      "\n",
      "<head><title>Sample CGI Script</title></head>\n",
      "\n",
      "<body>\n",
      "\n",
      "  <h3> Sample CGI Script </h3>\n",
      "\n",
      "\n",
      "\n",
      "  <p>Previous message: (no message)</p>\n",
      "\n",
      "  <p>form\n",
      "\n",
      "  <form method=\"post\" action=\"index.cgi\">\n",
      "    <p>message: <input type=\"text\" name=\"message\"/></p>\n",
      "  </form>\n",
      "\n",
      "</body>\n",
      "\n",
      "</html>\n",
      "\n"
     ]
    }
   ],
   "source": [
    "#!/usr/bin/env python\n",
    "\n",
    "import cgi\n",
    "import cgitb; cgitb.enable()  # for troubleshooting\n",
    "\n",
    "print \"Content-type: text/html\"\n",
    "print\n",
    "\n",
    "print \"\"\"\n",
    "<html>\n",
    "\n",
    "<head><title>Sample CGI Script</title></head>\n",
    "\n",
    "<body>\n",
    "\n",
    "  <h3> Sample CGI Script </h3>\n",
    "\"\"\"\n",
    "\n",
    "form = cgi.FieldStorage()\n",
    "message = form.getvalue(\"message\", \"(no message)\")\n",
    "\n",
    "print \"\"\"\n",
    "\n",
    "  <p>Previous message: %s</p>\n",
    "\n",
    "  <p>form\n",
    "\n",
    "  <form method=\"post\" action=\"index.cgi\">\n",
    "    <p>message: <input type=\"text\" name=\"message\"/></p>\n",
    "  </form>\n",
    "\n",
    "</body>\n",
    "\n",
    "</html>\n",
    "\"\"\" % cgi.escape(message)"
   ]
  },
  {
   "cell_type": "markdown",
   "metadata": {},
   "source": [
    "#### FastCGI"
   ]
  },
  {
   "cell_type": "markdown",
   "metadata": {},
   "source": [
    "FastCGI mitigates the main issues of CGI by specifying an interface protocol to be used via local sockets or TCP connections. Instead of creating a new process for each request, FastCGI uses persistent processes to handle a series of requests. These processes are owned by the FastCGI server, not the web server."
   ]
  },
  {
   "cell_type": "markdown",
   "metadata": {},
   "source": [
    "![fast](https://www.electricmonk.nl/docs/apache_fastcgi_python/flow_fastcgi.png)"
   ]
  },
  {
   "cell_type": "code",
   "execution_count": null,
   "metadata": {
    "collapsed": true
   },
   "outputs": [],
   "source": [
    "location ~ \\.py$ {\n",
    "    include /etc/nginx/fcgi_params;\n",
    "    fastcgi_pass  127.0.0.1:9000;\n",
    "}"
   ]
  },
  {
   "cell_type": "code",
   "execution_count": null,
   "metadata": {
    "collapsed": true
   },
   "outputs": [],
   "source": [
    "#!/usr/bin/env python\n",
    "# -*- coding: UTF-8 -*-\n",
    "\n",
    "from cgi import escape\n",
    "import sys, os\n",
    "from flup.server.fcgi import WSGIServer\n",
    "\n",
    "def app(environ, start_response):\n",
    "    start_response('200 OK', [('Content-Type', 'text/html')])\n",
    "\n",
    "    yield '<h1>FastCGI Environment</h1>'\n",
    "    yield '<table>'\n",
    "    for k, v in sorted(environ.items()):\n",
    "        yield '<tr><th>%s</th><td>%s</td></tr>' % (escape(k), escape(v))\n",
    "    yield '</table>'\n",
    "\n",
    "WSGIServer(app).run()"
   ]
  },
  {
   "cell_type": "markdown",
   "metadata": {},
   "source": [
    "#### WSGI"
   ]
  },
  {
   "cell_type": "markdown",
   "metadata": {},
   "source": [
    "![wsgi](https://ruslanspivak.com/lsbaws-part2/lsbaws_part2_wsgi_interface.png)"
   ]
  },
  {
   "cell_type": "code",
   "execution_count": 6,
   "metadata": {
    "collapsed": true
   },
   "outputs": [],
   "source": [
    "# The application interface is a callable object\n",
    "def application ( # It accepts two arguments:\n",
    "    # environ points to a dictionary containing CGI like environment\n",
    "    # variables which is populated by the server for each\n",
    "    # received request from the client\n",
    "    environ,\n",
    "    # start_response is a callback function supplied by the server\n",
    "    # which takes the HTTP status and headers as arguments\n",
    "    start_response\n",
    "):\n",
    "\n",
    "    # Build the response body possibly\n",
    "    # using the supplied environ dictionary\n",
    "    response_body = 'Request method: %s' % environ['REQUEST_METHOD']\n",
    "\n",
    "    # HTTP response code and message\n",
    "    status = '200 OK'\n",
    "\n",
    "    # HTTP headers expected by the client\n",
    "    # They must be wrapped as a list of tupled pairs:\n",
    "    # [(Header name, Header value)].\n",
    "    response_headers = [\n",
    "        ('Content-Type', 'text/plain'),\n",
    "        ('Content-Length', str(len(response_body)))\n",
    "    ]\n",
    "\n",
    "    # Send them to the server using the supplied function\n",
    "    start_response(status, response_headers)\n",
    "\n",
    "    # Return the response body. Notice it is wrapped\n",
    "    # in a list although it could be any iterable.\n",
    "    return [response_body]"
   ]
  },
  {
   "cell_type": "code",
   "execution_count": 13,
   "metadata": {
    "collapsed": true
   },
   "outputs": [],
   "source": [
    "# Tested with Python 2.7.9, Linux & Mac OS X\n",
    "import socket\n",
    "import StringIO\n",
    "import sys\n",
    "\n",
    "\n",
    "class WSGIServer(object):\n",
    "\n",
    "    address_family = socket.AF_INET\n",
    "    socket_type = socket.SOCK_STREAM\n",
    "    request_queue_size = 1\n",
    "\n",
    "    def __init__(self, server_address):\n",
    "        # Create a listening socket\n",
    "        self.listen_socket = listen_socket = socket.socket(\n",
    "            self.address_family,\n",
    "            self.socket_type\n",
    "        )\n",
    "        # Allow to reuse the same address\n",
    "        listen_socket.setsockopt(socket.SOL_SOCKET, socket.SO_REUSEADDR, 1)\n",
    "        # Bind\n",
    "        listen_socket.bind(server_address)\n",
    "        # Activate\n",
    "        listen_socket.listen(self.request_queue_size)\n",
    "        # Get server host name and port\n",
    "        host, port = self.listen_socket.getsockname()[:2]\n",
    "        self.server_name = socket.getfqdn(host)\n",
    "        self.server_port = port\n",
    "        # Return headers set by Web framework/Web application\n",
    "        self.headers_set = []\n",
    "\n",
    "    def set_app(self, application):\n",
    "        self.application = application\n",
    "\n",
    "    def serve_forever(self):\n",
    "        listen_socket = self.listen_socket\n",
    "        while True:\n",
    "            # New client connection\n",
    "            self.client_connection, client_address = listen_socket.accept()\n",
    "            # Handle one request and close the client connection. Then\n",
    "            # loop over to wait for another client connection\n",
    "            self.handle_one_request()\n",
    "\n",
    "    def handle_one_request(self):\n",
    "        self.request_data = request_data = self.client_connection.recv(1024)\n",
    "        # Print formatted request data a la 'curl -v'\n",
    "        print(''.join(\n",
    "            '< {line}\\n'.format(line=line)\n",
    "            for line in request_data.splitlines()\n",
    "        ))\n",
    "\n",
    "        self.parse_request(request_data)\n",
    "\n",
    "        # Construct environment dictionary using request data\n",
    "        env = self.get_environ()\n",
    "\n",
    "        # It's time to call our application callable and get\n",
    "        # back a result that will become HTTP response body\n",
    "        result = self.application(env, self.start_response)\n",
    "\n",
    "        # Construct a response and send it back to the client\n",
    "        self.finish_response(result)\n",
    "\n",
    "    def parse_request(self, text):\n",
    "        request_line = text.splitlines()[0]\n",
    "        request_line = request_line.rstrip('\\r\\n')\n",
    "        # Break down the request line into components\n",
    "        (self.request_method,  # GET\n",
    "         self.path,            # /hello\n",
    "         self.request_version  # HTTP/1.1\n",
    "         ) = request_line.split()\n",
    "\n",
    "    def get_environ(self):\n",
    "        env = {}\n",
    "        # The following code snippet does not follow PEP8 conventions\n",
    "        # but it's formatted the way it is for demonstration purposes\n",
    "        # to emphasize the required variables and their values\n",
    "        #\n",
    "        # Required WSGI variables\n",
    "        env['wsgi.version']      = (1, 0)\n",
    "        env['wsgi.url_scheme']   = 'http'\n",
    "        env['wsgi.input']        = StringIO.StringIO(self.request_data)\n",
    "        env['wsgi.errors']       = sys.stderr\n",
    "        env['wsgi.multithread']  = False\n",
    "        env['wsgi.multiprocess'] = False\n",
    "        env['wsgi.run_once']     = False\n",
    "        # Required CGI variables\n",
    "        env['REQUEST_METHOD']    = self.request_method    # GET\n",
    "        env['PATH_INFO']         = self.path              # /hello\n",
    "        env['SERVER_NAME']       = self.server_name       # localhost\n",
    "        env['SERVER_PORT']       = str(self.server_port)  # 8888\n",
    "        return env\n",
    "\n",
    "    def start_response(self, status, response_headers, exc_info=None):\n",
    "        # Add necessary server headers\n",
    "        server_headers = [\n",
    "            ('Date', 'Tue, 31 Mar 2015 12:54:48 GMT'),\n",
    "            ('Server', 'WSGIServer 0.2'),\n",
    "        ]\n",
    "        self.headers_set = [status, response_headers + server_headers]\n",
    "        # To adhere to WSGI specification the start_response must return\n",
    "        # a 'write' callable. For simplicity's sake we'll ignore that detail\n",
    "        # for now.\n",
    "        # return self.finish_response\n",
    "\n",
    "    def finish_response(self, result):\n",
    "        try:\n",
    "            status, response_headers = self.headers_set\n",
    "            response = 'HTTP/1.1 {status}\\r\\n'.format(status=status)\n",
    "            for header in response_headers:\n",
    "                response += '{0}: {1}\\r\\n'.format(*header)\n",
    "            response += '\\r\\n'\n",
    "            for data in result:\n",
    "                response += data\n",
    "            # Print formatted response data a la 'curl -v'\n",
    "            print(''.join(\n",
    "                '> {line}\\n'.format(line=line)\n",
    "                for line in response.splitlines()\n",
    "            ))\n",
    "            self.client_connection.sendall(response)\n",
    "        finally:\n",
    "            self.client_connection.close()\n",
    "\n",
    "\n",
    "SERVER_ADDRESS = (HOST, PORT) = '', 8888\n",
    "\n",
    "\n",
    "def make_server(server_address, application):\n",
    "    server = WSGIServer(server_address)\n",
    "    server.set_app(application)\n",
    "    return server\n",
    "\n",
    "\n",
    "if __name__ == '__main__':\n",
    "    if len(sys.argv) < 2:\n",
    "        sys.exit('Provide a WSGI application object as module:callable')\n",
    "    app_path = sys.argv[1]\n",
    "    module, application = app_path.split(':')\n",
    "    module = __import__(module)\n",
    "    application = getattr(module, application)\n",
    "    httpd = make_server(SERVER_ADDRESS, application)\n",
    "    print('WSGIServer: Serving HTTP on port {port} ...\\n'.format(port=PORT))\n",
    "    httpd.serve_forever()"
   ]
  },
  {
   "cell_type": "markdown",
   "metadata": {},
   "source": [
    "* WSGI stands for (Web Server Gateway Inteface)\n",
    "* WSGI container is a separate running process that runs on a different port than your web server\n",
    "* web server is configured to pass requests to the WSGI container which runs web application, then pass the response (in the form of HTML) back to the requester"
   ]
  },
  {
   "cell_type": "markdown",
   "metadata": {},
   "source": [
    "![wsgi2](https://ruslanspivak.com/lsbaws-part2/lsbaws_part2_server_summary.png)"
   ]
  },
  {
   "cell_type": "code",
   "execution_count": 9,
   "metadata": {},
   "outputs": [],
   "source": [
    "#! /usr/bin/env python\n",
    "\n",
    "from wsgiref.simple_server import make_server\n",
    "\n",
    "def application(environ, start_response):\n",
    "\n",
    "    response_body = [\n",
    "        '%s: %s' % (key, value) for key, value in sorted(environ.items())\n",
    "    ]\n",
    "    response_body = '\\n'.join(response_body)\n",
    "\n",
    "    # Adding strings to the response body\n",
    "    response_body = [\n",
    "        'The Beggining\\n',\n",
    "        '*' * 30 + '\\n',\n",
    "        response_body,\n",
    "        '\\n' + '*' * 30 ,\n",
    "        '\\nThe End'\n",
    "    ]\n",
    "\n",
    "    # So the content-lenght is the sum of all string's lengths\n",
    "    content_length = sum([len(s) for s in response_body])\n",
    "\n",
    "    status = '200 OK'\n",
    "    response_headers = [\n",
    "        ('Content-Type', 'text/plain'),\n",
    "        ('Content-Length', str(content_length))\n",
    "    ]\n",
    "\n",
    "    start_response(status, response_headers)\n",
    "    return [response_body]\n",
    "\n",
    "httpd = make_server('localhost', 8042, application)\n",
    "httpd.handle_request()"
   ]
  },
  {
   "cell_type": "code",
   "execution_count": 11,
   "metadata": {},
   "outputs": [
    {
     "name": "stdout",
     "output_type": "stream",
     "text": [
      "The Beggining\r\n",
      "******************************\r\n",
      "Apple_PubSub_Socket_Render: /private/tmp/com.apple.launchd.n0Zz34ihUb/Render\r\n",
      "CLICOLOR: 1\r\n",
      "COLORFGBG: 7;0\r\n",
      "COMMAND_MODE: unix2003\r\n",
      "CONTENT_LENGTH: \r\n",
      "CONTENT_TYPE: text/plain\r\n",
      "GATEWAY_INTERFACE: CGI/1.1\r\n",
      "HOME: /Users/s.stupnikov\r\n",
      "HTTP_ACCEPT: */*\r\n",
      "HTTP_HOST: localhost:8042\r\n",
      "HTTP_USER_AGENT: curl/7.54.0\r\n",
      "IRC_CLIENT: irssi\r\n",
      "ITERM_PROFILE: s.stupnikov\r\n",
      "ITERM_SESSION_ID: w0t1p0:636D6600-1F7B-4ABA-AF12-59DDDF2CE23F\r\n",
      "LANG: ru_RU.UTF-8\r\n",
      "LOGNAME: s.stupnikov\r\n",
      "LSCOLORS: GxFxCxDxBxegedabagaced\r\n",
      "PATH: /opt/local/bin:/opt/local/sbin:/usr/bin:/bin:/usr/sbin:/sbin:/usr/local/bin\r\n",
      "PATH_INFO: /\r\n",
      "PS1: \\[\\033[01;32m\\]\\u@\\h\\[\\033[00m\\]:\\[\\033[01;34m\\]\\w\\[\\033[00m\\]\\$ \r\n",
      "PWD: /Users/s.stupnikov/Coding\r\n",
      "QUERY_STRING: \r\n",
      "REMOTE_ADDR: 127.0.0.1\r\n",
      "REMOTE_HOST: 1.0.0.127.in-addr.arpa\r\n",
      "REQUEST_METHOD: GET\r\n",
      "SCRIPT_NAME: \r\n",
      "SECURITYSESSIONID: 186a7\r\n",
      "SERVER_NAME: 1.0.0.127.in-addr.arpa\r\n",
      "SERVER_PORT: 8042\r\n",
      "SERVER_PROTOCOL: HTTP/1.1\r\n",
      "SERVER_SOFTWARE: WSGIServer/0.1 Python/2.7.10\r\n",
      "SHELL: /bin/bash\r\n",
      "SHLVL: 1\r\n",
      "SSH_AUTH_SOCK: /private/tmp/com.apple.launchd.LW3a7PqFat/Listeners\r\n",
      "TERM: xterm-256color\r\n",
      "TERM_PROGRAM: iTerm.app\r\n",
      "TERM_PROGRAM_VERSION: 3.0.12\r\n",
      "TERM_SESSION_ID: w0t1p0:636D6600-1F7B-4ABA-AF12-59DDDF2CE23F\r\n",
      "TMPDIR: /var/folders/z_/q84rlcxj553cmpbd9lr1hypw0000gp/T/\r\n",
      "TODO: t\r\n",
      "USER: s.stupnikov\r\n",
      "VERSIONER_PYTHON_PREFER_32_BIT: no\r\n",
      "VERSIONER_PYTHON_VERSION: 2.7\r\n",
      "XPC_FLAGS: 0x0\r\n",
      "XPC_SERVICE_NAME: 0\r\n",
      "_: /usr/bin/python\r\n",
      "__CF_USER_TEXT_ENCODING: 0x1F6:0x7:0x31\r\n",
      "wsgi.errors: <open file '<stderr>', mode 'w' at 0x10694c1e0>\r\n",
      "wsgi.file_wrapper: wsgiref.util.FileWrapper\r\n",
      "wsgi.input: <socket._fileobject object at 0x106a843d0>\r\n",
      "wsgi.multiprocess: False\r\n",
      "wsgi.multithread: True\r\n",
      "wsgi.run_once: False\r\n",
      "wsgi.url_scheme: http\r\n",
      "wsgi.version: (1, 0)\r\n",
      "******************************\r\n",
      "The End"
     ]
    }
   ],
   "source": [
    "! curl http://localhost:8042/"
   ]
  },
  {
   "cell_type": "code",
   "execution_count": 12,
   "metadata": {
    "collapsed": true
   },
   "outputs": [],
   "source": [
    "from cgi import parse_qs, escape\n",
    "\n",
    "def application(environ, start_response):\n",
    "\n",
    "    # the environment variable CONTENT_LENGTH may be empty or missing\n",
    "    try:\n",
    "        request_body_size = int(environ.get('CONTENT_LENGTH', 0))\n",
    "    except (ValueError):\n",
    "        request_body_size = 0\n",
    "\n",
    "    # When the method is POST the variable will be sent\n",
    "    # in the HTTP request body which is passed by the WSGI server\n",
    "    # in the file like wsgi.input environment variable.\n",
    "    request_body = environ['wsgi.input'].read(request_body_size)\n",
    "    d = parse_qs(request_body)\n",
    "\n",
    "    age = d.get('age', [''])[0] # Returns the first age value.\n",
    "    hobbies = d.get('hobbies', []) # Returns a list of hobbies.\n",
    "\n",
    "    # Always escape user input to avoid script injection\n",
    "    age = escape(age)\n",
    "    hobbies = [escape(hobby) for hobby in hobbies]\n",
    "\n",
    "    response_body = html % { # Fill the above html template in\n",
    "        'checked-software': ('', 'checked')['software' in hobbies],\n",
    "        'checked-tunning': ('', 'checked')['tunning' in hobbies],\n",
    "        'age': age or 'Empty',\n",
    "        'hobbies': ', '.join(hobbies or ['No Hobbies?'])\n",
    "    }\n",
    "\n",
    "    status = '200 OK'\n",
    "\n",
    "    response_headers = [\n",
    "        ('Content-Type', 'text/html'),\n",
    "        ('Content-Length', str(len(response_body)))\n",
    "    ]\n",
    "\n",
    "    start_response(status, response_headers)\n",
    "    return [response_body]"
   ]
  },
  {
   "cell_type": "markdown",
   "metadata": {},
   "source": [
    "Middleware is an application that calls \"the next\" application; functional composition forms a \"pipeline\"."
   ]
  },
  {
   "cell_type": "code",
   "execution_count": null,
   "metadata": {
    "collapsed": true
   },
   "outputs": [],
   "source": [
    "class LowercaseMiddleware:\n",
    "    def __init__(self, application):\n",
    "        self.application = application   # A WSGI application callable.\n",
    "\n",
    "    def __call__(self, environ, start_response):\n",
    "        pass  # We could set an item in 'environ' or a local variable.\n",
    "        for chunk in self.application(environ, start_response):\n",
    "            yield chunk.lower()\n",
    "\n",
    "app = LowercaseMiddleware(application)"
   ]
  },
  {
   "cell_type": "code",
   "execution_count": null,
   "metadata": {
    "collapsed": true
   },
   "outputs": [],
   "source": [
    "from raven import Client\n",
    "from raven.middleware import Sentry\n",
    "\n",
    "application = Sentry(\n",
    "    application,\n",
    "    Client('https://<key>:<secret>@sentry.io/<project>')\n",
    ")"
   ]
  },
  {
   "cell_type": "markdown",
   "metadata": {},
   "source": [
    "#### Gunicorn"
   ]
  },
  {
   "cell_type": "markdown",
   "metadata": {},
   "source": [
    "Gunicorn is based on the pre-fork worker model. This means that there is a central master process that manages a set of worker processes. The master never knows anything about individual clients. All requests and responses are handled completely by worker processes."
   ]
  },
  {
   "cell_type": "markdown",
   "metadata": {},
   "source": [
    "Workers:\n",
    "* sync\n",
    "* async\n",
    "* tornado"
   ]
  },
  {
   "cell_type": "code",
   "execution_count": null,
   "metadata": {
    "collapsed": true
   },
   "outputs": [],
   "source": [
    "gunicorn -b 0.0.0.0:8080 --workers=5 --name my_application --log-file error_logs.log --access-logfile acclogs wsgi"
   ]
  },
  {
   "cell_type": "code",
   "execution_count": null,
   "metadata": {},
   "outputs": [],
   "source": [
    "worker_processes 1;\n",
    "\n",
    "events {\n",
    "\n",
    "    worker_connections 1024;\n",
    "\n",
    "}\n",
    "\n",
    "http {\n",
    "\n",
    "    sendfile on;\n",
    "\n",
    "    gzip              on;\n",
    "\n",
    "    # Configuration containing list of application servers\n",
    "    upstream app_servers {\n",
    "\n",
    "        server 127.0.0.1:8080;\n",
    "        # server 127.0.0.1:8081;\n",
    "        # ..\n",
    "        # .\n",
    "\n",
    "    }\n",
    "\n",
    "    # Configuration for Nginx\n",
    "    server {\n",
    "\n",
    "        # Running port\n",
    "        listen 80;\n",
    "\n",
    "        # Settings to serve static files \n",
    "        location ^~ /static/  {\n",
    "            root /app/static/;\n",
    "\n",
    "        }\n",
    "\n",
    "        # Proxy connections to the application servers\n",
    "        # app_servers\n",
    "        location / {\n",
    "\n",
    "            proxy_pass         http://app_servers;\n",
    "            proxy_redirect     off;\n",
    "            proxy_set_header   Host $host;\n",
    "            proxy_set_header   X-Real-IP $remote_addr;\n",
    "            proxy_set_header   X-Forwarded-For $proxy_add_x_forwarded_for;\n",
    "            proxy_set_header   X-Forwarded-Host $server_name;\n",
    "\n",
    "        }\n",
    "    }\n",
    "}"
   ]
  },
  {
   "cell_type": "markdown",
   "metadata": {},
   "source": [
    "#### uWSGI"
   ]
  },
  {
   "cell_type": "markdown",
   "metadata": {},
   "source": [
    "![uwsgi1](http://zarnovican.github.io/static/2016/02/15/pre-fork.png)"
   ]
  },
  {
   "cell_type": "markdown",
   "metadata": {},
   "source": [
    "Emperor"
   ]
  },
  {
   "cell_type": "markdown",
   "metadata": {},
   "source": [
    "![uwsgi2](http://zarnovican.github.io/static/2016/02/15/emperor-mode.png)"
   ]
  },
  {
   "cell_type": "markdown",
   "metadata": {},
   "source": [
    "Chain-restart\n",
    "* master will gracefully shutdown one worker at a time (ordered by id apparently)\n",
    "* when a worker dies, it is immediately re-spawned\n",
    "* until all workers are re-spawned\n",
    "* not compatible with pre-fork\n",
    "* no downtime!"
   ]
  },
  {
   "cell_type": "markdown",
   "metadata": {},
   "source": [
    "![uwsgi3](http://zarnovican.github.io/static/2016/02/15/reload-c.png)"
   ]
  },
  {
   "cell_type": "markdown",
   "metadata": {},
   "source": [
    "Fastrouter"
   ]
  },
  {
   "cell_type": "code",
   "execution_count": null,
   "metadata": {
    "collapsed": true
   },
   "outputs": [],
   "source": [
    "        location / {\n",
    "            set $route \"common\";\n",
    "\n",
    "            if ($uri ~ ^/api/) {\n",
    "                set $route \"api\";\n",
    "            }\n",
    "\n",
    "            if ($uri ~ ^/(forecast|service/stat)/) {\n",
    "                set $route \"slow\";\n",
    "            }\n",
    "\n",
    "            if ($cookie_rb_stage) {\n",
    "                set $route $cookie_rb_stage;\n",
    "            }\n",
    "\n",
    "            include uwsgi_params;\n",
    "            uwsgi_param UWSGI_FASTROUTER_KEY $route;\n",
    "            uwsgi_read_timeout 1800;\n",
    "            uwsgi_pass backend_servers;  # rbui1\n",
    "        }"
   ]
  },
  {
   "cell_type": "markdown",
   "metadata": {},
   "source": [
    "### References"
   ]
  },
  {
   "cell_type": "markdown",
   "metadata": {},
   "source": [
    "* https://tools.ietf.org/html/draft-robinson-www-interface-00\n",
    "* http://www.nongnu.org/fastcgi/\n",
    "* http://www.mit.edu/~yandros/doc/specs/fcgi-spec.html\n",
    "* https://docs.python.org/2/howto/webservers.html\n",
    "* http://www.dabeaz.com/python/PythonNetBinder.pdf\n",
    "* http://berb.github.io/diploma-thesis/original/031_tradwebarch.html\n",
    "* https://www.python.org/dev/peps/pep-0333/\n",
    "* https://www.fullstackpython.com/wsgi-servers.html\n",
    "* http://wsgi.tutorial.codepoint.net/intro\n",
    "* https://ruslanspivak.com/lsbaws-part2/\n",
    "* http://zarnovican.github.io/2016/02/15/uwsgi-graceful-reload/\n",
    "* https://www.haproxy.com/blog/truly-seamless-reloads-with-haproxy-no-more-hacks/"
   ]
  },
  {
   "cell_type": "markdown",
   "metadata": {},
   "source": [
    "### Summary"
   ]
  },
  {
   "cell_type": "markdown",
   "metadata": {},
   "source": [
    "* for Python use WSGI\n",
    "* use Nginx\n",
    "* study uWSGI doc"
   ]
  },
  {
   "cell_type": "markdown",
   "metadata": {},
   "source": [
    "## Tiered architecture"
   ]
  },
  {
   "cell_type": "markdown",
   "metadata": {},
   "source": [
    "![arch](http://berb.github.io/diploma-thesis/original/resources/web_arch.svg)"
   ]
  },
  {
   "cell_type": "markdown",
   "metadata": {},
   "source": [
    "![arch2](https://www.sayonetech.com/media/2016/09/22/instagram.jpg)"
   ]
  },
  {
   "cell_type": "markdown",
   "metadata": {},
   "source": [
    "![arch4](https://www.sayonetech.com/media/2016/09/20/disqus.jpg)"
   ]
  },
  {
   "cell_type": "markdown",
   "metadata": {},
   "source": [
    "![arch3](https://www.sayonetech.com/media/2016/09/20/pinterest.jpg)"
   ]
  },
  {
   "cell_type": "markdown",
   "metadata": {},
   "source": [
    "Start point\n",
    "![simple](https://i.onthe.io/shpzkl4gjvlbac0l3.1d52a7d7.jpg)"
   ]
  },
  {
   "cell_type": "markdown",
   "metadata": {},
   "source": [
    "### References"
   ]
  },
  {
   "cell_type": "markdown",
   "metadata": {},
   "source": [
    "* http://berb.github.io/diploma-thesis/original/033_archmodel.html\n",
    "* https://www.sayonetech.com/blog/software-stack-five-hot-startups-running-django/#.WX-DP9PyjdQ\n",
    "* https://www.insight-it.ru/highload/2012/arkhitektura-instagram/\n",
    "* https://stackshare.io/stacks\n",
    "* http://highload.guide/\n",
    "* https://park.mail.ru/materials/video/#31"
   ]
  },
  {
   "cell_type": "markdown",
   "metadata": {},
   "source": [
    "### Summary"
   ]
  },
  {
   "cell_type": "markdown",
   "metadata": {},
   "source": [
    "* Tiered acrchitecture is a current best practice"
   ]
  },
  {
   "cell_type": "markdown",
   "metadata": {},
   "source": [
    "## Django"
   ]
  },
  {
   "cell_type": "markdown",
   "metadata": {},
   "source": [
    "__Design philosophies__"
   ]
  },
  {
   "cell_type": "markdown",
   "metadata": {},
   "source": [
    "* Loose coupling\n",
    "* Less code\n",
    "* Quick development\n",
    "* DRY\n",
    "* Explicit is better than implicit\n",
    "* Consistency"
   ]
  },
  {
   "cell_type": "markdown",
   "metadata": {},
   "source": [
    "#### MVC"
   ]
  },
  {
   "cell_type": "markdown",
   "metadata": {},
   "source": [
    "![mtv](http://www.thomaswhitton.com/django-presentation/images/432038560_9f8b830dfe_o.png)"
   ]
  },
  {
   "cell_type": "markdown",
   "metadata": {},
   "source": [
    "![cycle](http://rnevius.github.io/django_request_response_cycle.png)"
   ]
  },
  {
   "cell_type": "markdown",
   "metadata": {},
   "source": [
    "#### Coding style"
   ]
  },
  {
   "cell_type": "markdown",
   "metadata": {},
   "source": [
    "* PEP8\n",
    "    * Maximum line length\n",
    "* Imports order\n",
    "* Explicit relative imports"
   ]
  },
  {
   "cell_type": "code",
   "execution_count": null,
   "metadata": {
    "collapsed": true
   },
   "outputs": [],
   "source": [
    "# future\n",
    "from __future__ import unicode_literals\n",
    "\n",
    "# standard library\n",
    "import json\n",
    "from itertools import chain\n",
    "\n",
    "# third-party\n",
    "import bcrypt\n",
    "\n",
    "# Django\n",
    "from django.http import Http404\n",
    "from django.http.response import (\n",
    "    Http404, HttpResponse, HttpResponseNotAllowed, StreamingHttpResponse,\n",
    "    cookie,\n",
    ")\n",
    "\n",
    "# local Django\n",
    "from .models import LogEntry\n",
    "\n",
    "# try/except\n",
    "try:\n",
    "    import yaml\n",
    "except ImportError:\n",
    "    yaml = None\n",
    "\n",
    "CONSTANT = 'foo'"
   ]
  },
  {
   "cell_type": "code",
   "execution_count": null,
   "metadata": {
    "collapsed": true
   },
   "outputs": [],
   "source": [
    "# banners/views.py\n",
    "from django.views.generic import CreateView\n",
    "\n",
    "from .models import Banner\n",
    "from .forms import BannerForm\n",
    "from core.views import AdMixin\n",
    "\n",
    "class BannerCreateView(AdMixin, CreateView):\n",
    "    model = Banner\n",
    "    form_class = BannerForm"
   ]
  },
  {
   "cell_type": "markdown",
   "metadata": {},
   "source": [
    "Use underscore in URL pattern names"
   ]
  },
  {
   "cell_type": "code",
   "execution_count": null,
   "metadata": {
    "collapsed": true
   },
   "outputs": [],
   "source": [
    "patterns = [\n",
    "    url(regex='^add/$',\n",
    "        view=views.add_banner,\n",
    "        name='add_banner'),\n",
    "    ]"
   ]
  },
  {
   "cell_type": "markdown",
   "metadata": {},
   "source": [
    "#### Enviroment setup"
   ]
  },
  {
   "cell_type": "markdown",
   "metadata": {},
   "source": [
    "* keep the gap between development and production small\n",
    "    * example: dont use SQLite for dev and other DB for prod\n",
    "* never rely on implicit existence of system-wide packages\n",
    "    * declare all dependencies\n",
    "    * use dependency isolation"
   ]
  },
  {
   "cell_type": "code",
   "execution_count": null,
   "metadata": {
    "collapsed": true
   },
   "outputs": [],
   "source": [
    "pip install virtualenvwrapper\n",
    "export WORKON_HOME=~/Envs\n",
    "source /usr/local/bin/virtualenvwrapper.sh\n",
    "\n",
    "\n",
    "mkvirtualenv my_project\n",
    "workon my_project"
   ]
  },
  {
   "cell_type": "markdown",
   "metadata": {},
   "source": [
    "#### Project structure"
   ]
  },
  {
   "cell_type": "raw",
   "metadata": {},
   "source": [
    "otus_project # repository root\n",
    "├── config/\n",
    "│   ├── settings/\n",
    "│   ├── __init__.py\n",
    "│   ├── urls.py\n",
    "│   └── wsgi.py\n",
    "├── docs/\n",
    "├── otus/\n",
    "│   ├── media/  # Development only!\n",
    "│   ├── profiles/\n",
    "│   ├── courses/\n",
    "│   ├── static/\n",
    "│   └── templates/\n",
    "├── .gitignore\n",
    "├── Makefile\n",
    "├── README.md\n",
    "├── manage.py\n",
    "└── requirements.txt"
   ]
  },
  {
   "cell_type": "markdown",
   "metadata": {},
   "source": [
    "#### Configuration"
   ]
  },
  {
   "cell_type": "raw",
   "metadata": {},
   "source": [
    "settings/\n",
    "├── __init__.py\n",
    "├── base.py\n",
    "├── local.py\n",
    "├── staging.py\n",
    "├── test.py\n",
    "├── production.py"
   ]
  },
  {
   "cell_type": "code",
   "execution_count": null,
   "metadata": {
    "collapsed": true
   },
   "outputs": [],
   "source": [
    "# local.py\n",
    "\n",
    "from .base import *\n",
    "\n",
    "DEBUG = True\n",
    "\n",
    "EMAIL_BACKEND = 'django.core.mail.backends.console.EmailBackend'\n",
    "\n",
    "DATABASES = {\n",
    "    'default': {\n",
    "        'ENGINE': 'django.db.backends.postgresql_psycopg2',\n",
    "        'NAME': 'uber',\n",
    "        'HOST': 'localhost',\n",
    "    }\n",
    "}\n",
    "\n",
    "INSTALLED_APPS += ['debug_toolbar', ]"
   ]
  },
  {
   "cell_type": "code",
   "execution_count": null,
   "metadata": {
    "collapsed": true
   },
   "outputs": [],
   "source": [
    "export DJANGO_SETTINGS_MODULE=mysite.settings\n",
    "django-admin runserver\n",
    "\n",
    "DJANGO_SETTINGS_MODULE=mysite.settings django-admin runserver\n",
    "\n",
    "django-admin runserver --settings=mysite.settings"
   ]
  },
  {
   "cell_type": "markdown",
   "metadata": {},
   "source": [
    "__Secrets__"
   ]
  },
  {
   "cell_type": "code",
   "execution_count": null,
   "metadata": {
    "collapsed": true
   },
   "outputs": [],
   "source": [
    "# settings/base.py\n",
    "import os\n",
    "\n",
    "# Normally you should not import ANYTHING from Django directly\n",
    "# into your settings, but ImproperlyConfigured is an exception.\n",
    "from django.core.exceptions import ImproperlyConfigured\n",
    "\n",
    "def get_env_variable(var_name):\n",
    "    \"\"\"Get the environment variable or return exception.\"\"\"\n",
    "    try:\n",
    "        return os.environ[var_name]\n",
    "    except KeyError:\n",
    "        error_msg = 'Set the {} environment variable'.format(var_name)\n",
    "        raise ImproperlyConfigured(error_msg)\n"
   ]
  },
  {
   "cell_type": "code",
   "execution_count": null,
   "metadata": {
    "collapsed": true
   },
   "outputs": [],
   "source": [
    "# Top of settings/production.py\n",
    "import os\n",
    "SOME_SECRET_KEY = get_env_variable('SOME_SECRET_KEY')"
   ]
  },
  {
   "cell_type": "code",
   "execution_count": null,
   "metadata": {
    "collapsed": true
   },
   "outputs": [],
   "source": [
    "# settings/base.py\n",
    "import json\n",
    "\n",
    "from django.core.exceptions import ImproperlyConfigured\n",
    "\n",
    "# JSON-based secrets module\n",
    "with open('secrets.json') as f:\n",
    "    secrets = json.loads(f.read())\n",
    "\n",
    "def get_secret(setting, secrets=secrets):\n",
    "    '''Get the secret variable or return explicit exception.'''\n",
    "    try:\n",
    "        return secrets[setting]\n",
    "    except KeyError:\n",
    "        error_msg = 'Set the {0} environment variable'.format(setting)\n",
    "        raise ImproperlyConfigured(error_msg)\n",
    "\n",
    "SECRET_KEY = get_secret('SECRET_KEY')"
   ]
  },
  {
   "cell_type": "markdown",
   "metadata": {},
   "source": [
    "__Paths__"
   ]
  },
  {
   "cell_type": "code",
   "execution_count": null,
   "metadata": {
    "collapsed": true
   },
   "outputs": [],
   "source": [
    "# At the top of settings/base.py\n",
    "\n",
    "from os.path import abspath, dirname, join\n",
    "\n",
    "def root(*dirs):\n",
    "    base_dir = join(dirname(__file__), '..', '..')\n",
    "    return abspath(join(bas_dir, *dirs))\n",
    "\n",
    "\n",
    "BASE_DIR = root()\n",
    "MEDIA_ROOT = root('media')\n",
    "STATIC_ROOT = root('static_root')\n",
    "STATICFILES_DIRS = [root('static')]\n",
    "TEMPLATES = [\n",
    "    {\n",
    "        'BACKEND': 'django.template.backends.django.DjangoTemplates',\n",
    "        'DIRS': [root('templates')],\n",
    "    },\n",
    "]"
   ]
  },
  {
   "cell_type": "markdown",
   "metadata": {},
   "source": [
    "#### Dependencies"
   ]
  },
  {
   "cell_type": "raw",
   "metadata": {},
   "source": [
    "requirements/\n",
    "├── base.txt\n",
    "├── local.txt\n",
    "├── staging.txt\n",
    "├── production.txt"
   ]
  },
  {
   "cell_type": "raw",
   "metadata": {},
   "source": [
    "# base.txt\n",
    "cffi==1.5.2\n",
    "cryptography==1.2.2\n",
    "enum34==1.1.2\n",
    "gunicorn==19.4.5\n",
    "idna==2.0\n",
    "ipaddress==1.0.16\n",
    "itsdangerous==0.24\n",
    "Jinja2==2.8\n",
    "MarkupSafe==0.23\n",
    "ndg-httpsclient==0.4.0\n",
    "pyasn1==0.1.9\n",
    "pycparser==2.14\n",
    "pyOpenSSL==0.15.1\n",
    "requests==2.9.1\n",
    "six==1.10.0"
   ]
  },
  {
   "cell_type": "raw",
   "metadata": {},
   "source": [
    "# local.txt\n",
    "-r base.txt # includes the base.txt requirements file\n",
    "\n",
    "coverage==4.2\n",
    "django-debug-toolbar==1.5"
   ]
  },
  {
   "cell_type": "code",
   "execution_count": null,
   "metadata": {
    "collapsed": true
   },
   "outputs": [],
   "source": [
    "pip install -r requirements/local.txt"
   ]
  },
  {
   "cell_type": "markdown",
   "metadata": {},
   "source": [
    "#### URL dispatching"
   ]
  },
  {
   "cell_type": "markdown",
   "metadata": {},
   "source": [
    "* Django determines the root URLconf module to use. Ordinarily, this is the value of the ROOT_URLCONF setting\n",
    "* Django loads that Python module and looks for the variable urlpatterns.\n",
    "* Django runs through each URL pattern, in order, and stops at the first one that matches the requested URL.\n",
    "* Once one of the regexes matches, Django imports and calls the given view, which is a simple Python function (or a class-based view). The view gets passed the following arguments:\n",
    "    * An instance of HttpRequest.\n",
    "    * If the matched regular expression returned no named groups, then the matches from the regular expression are provided as positional arguments.\n",
    "    * The keyword arguments are made up of any named groups matched by the regular expression, overridden by any arguments specified in the optional kwargs argument to django.conf.urls.url().\n",
    "* If no regex matches, or if an exception is raised during any point in this process, Django invokes an appropriate error-handling view. "
   ]
  },
  {
   "cell_type": "code",
   "execution_count": null,
   "metadata": {
    "collapsed": true
   },
   "outputs": [],
   "source": [
    "# project urls.py\n",
    "\n",
    "from django.conf.urls import include, url\n",
    "\n",
    "urlpatterns = [\n",
    "    url(r'^author-polls/', include('polls.urls', namespace='author-polls')),\n",
    "    url(r'^publisher-polls/', include('polls.urls', namespace='publisher-polls')),\n",
    "]"
   ]
  },
  {
   "cell_type": "code",
   "execution_count": null,
   "metadata": {
    "collapsed": true
   },
   "outputs": [],
   "source": [
    "# polls/urls.py\n",
    "\n",
    "from django.conf.urls import url\n",
    "\n",
    "from . import views\n",
    "\n",
    "app_name = 'polls'\n",
    "urlpatterns = [\n",
    "    url(r'^$', views.IndexView.as_view(), name='index'),\n",
    "    url(r'^(?P<pk>\\d+)/$', views.DetailView.as_view(), name='detail'),\n",
    "]"
   ]
  },
  {
   "cell_type": "markdown",
   "metadata": {},
   "source": [
    "### References"
   ]
  },
  {
   "cell_type": "markdown",
   "metadata": {},
   "source": [
    "* https://docs.djangoproject.com/en/1.11/misc/design-philosophies/\n",
    "* https://docs.djangoproject.com/en/1.11/internals/contributing/writing-code/coding-style/\n",
    "* https://docs.djangoproject.com/en/1.11/internals/\n",
    "* https://www.python.org/dev/peps/pep-0328/\n",
    "* https://12factor.net/\n",
    "* http://python-guide-pt-br.readthedocs.io/en/latest/dev/virtualenvs/\n",
    "* http://cookiecutter-django.readthedocs.io/en/latest/developing-locally-docker.html\n",
    "* http://www.eidel.io/2017/07/10/dockerizing-django-uwsgi-postgres/\n",
    "* https://www.kennethreitz.org/essays/a-better-pip-workflow\n",
    "* https://github.com/pydanny/cookiecutter-django\n",
    "* https://docs.djangoproject.com/en/1.11/topics/http/urls/\n",
    "* http://klen.github.io/py-frameworks-bench/"
   ]
  },
  {
   "cell_type": "markdown",
   "metadata": {},
   "source": [
    "### Summary"
   ]
  },
  {
   "cell_type": "markdown",
   "metadata": {},
   "source": [
    "* Django follows MVC pattern\n",
    "* Isolate your enviroment\n",
    "* Split config\n",
    "* Use enviroment variables\n",
    "* Freeze dependencies"
   ]
  }
 ],
 "metadata": {
  "kernelspec": {
   "display_name": "Python 2",
   "language": "python",
   "name": "python2"
  },
  "language_info": {
   "codemirror_mode": {
    "name": "ipython",
    "version": 2
   },
   "file_extension": ".py",
   "mimetype": "text/x-python",
   "name": "python",
   "nbconvert_exporter": "python",
   "pygments_lexer": "ipython2",
   "version": "2.7.10"
  }
 },
 "nbformat": 4,
 "nbformat_minor": 1
}
